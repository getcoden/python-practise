{
 "cells": [
  {
   "cell_type": "code",
   "execution_count": 24,
   "metadata": {},
   "outputs": [
    {
     "data": {
      "text/plain": [
       "'join'"
      ]
     },
     "execution_count": 24,
     "metadata": {},
     "output_type": "execute_result"
    }
   ],
   "source": [
    "class Cla():\n",
    "    def __init__(self,name,score):\n",
    "        self.name = name\n",
    "        self.score = score\n",
    "    def ty(self):\n",
    "        print('{},{}'.format(self.name,self.score))\n",
    "c = Cla('join',13)\n",
    "c.name"
   ]
  },
  {
   "cell_type": "code",
   "execution_count": 25,
   "metadata": {},
   "outputs": [
    {
     "name": "stdout",
     "output_type": "stream",
     "text": [
      "join,13\n"
     ]
    }
   ],
   "source": [
    "c.ty()"
   ]
  },
  {
   "cell_type": "code",
   "execution_count": 55,
   "metadata": {},
   "outputs": [
    {
     "ename": "SyntaxError",
     "evalue": "invalid syntax (<ipython-input-55-17dd759dd120>, line 6)",
     "output_type": "error",
     "traceback": [
      "\u001b[1;36m  File \u001b[1;32m\"<ipython-input-55-17dd759dd120>\"\u001b[1;36m, line \u001b[1;32m6\u001b[0m\n\u001b[1;33m    print(f'{fake.date(start='2009-1-1',end='2010-1-1')}')\u001b[0m\n\u001b[1;37m                              ^\u001b[0m\n\u001b[1;31mSyntaxError\u001b[0m\u001b[1;31m:\u001b[0m invalid syntax\n"
     ]
    }
   ],
   "source": [
    "from faker import Faker\n",
    "fake=Faker('zh_CN')\n",
    "for i in range(5):\n",
    "    print(f'{fake.pyint(15000,17000):07}'+'.'+f'{fake.file_extension()}')\n",
    "#     print(f'{fake.profile()}')\n",
    "    print(f'{fake.date()}')\n",
    "    "
   ]
  },
  {
   "cell_type": "code",
   "execution_count": 62,
   "metadata": {},
   "outputs": [
    {
     "name": "stdout",
     "output_type": "stream",
     "text": [
      "车次: G11\n",
      "出发战: xian\n",
      "到达站: beijing\n",
      "出发时间: 2019-1-1\n",
      "出发时间: 13:00\n",
      "到达时间: 15:00\n",
      "车次: T11\n",
      "出发战: xian\n",
      "到达站: beijing\n",
      "出发时间: 2019-1-21\n",
      "出发时间: 16:00\n",
      "到达时间: 23:00\n"
     ]
    }
   ],
   "source": [
    "class Ticker():\n",
    "    def __init__(self,checi,fstation,tstation,fdate,ftime,ttime):\n",
    "        self.checi=checi\n",
    "        self.fstation=fstation\n",
    "        self.tstation=tstation\n",
    "        self.fdate=fdate\n",
    "        self.ftime=ftime\n",
    "        self.ttime=ttime\n",
    "    def printinfo(self):\n",
    "        print('车次:',self.checi)\n",
    "        print('出发战:',self.fstation)\n",
    "        print('到达站:',self.tstation)\n",
    "        print('出发时间:',self.fdate)\n",
    "        print('出发时间:',self.ftime)\n",
    "        print('到达时间:',self.ttime)\n",
    "a1=Ticker('G11','xian','beijing','2019-1-1','13:00','15:00')\n",
    "a2=Ticker('T11','xian','beijing','2019-1-21','16:00','23:00')\n",
    "a1.printinfo()\n",
    "a2.printinfo()"
   ]
  },
  {
   "cell_type": "code",
   "execution_count": 67,
   "metadata": {},
   "outputs": [
    {
     "name": "stdout",
     "output_type": "stream",
     "text": [
      "215.0\n",
      "430.0\n",
      "222.0\n",
      "444.0\n"
     ]
    }
   ],
   "source": [
    "class Hotel():\n",
    "    def __init__(self,room,cf=1.0,br=15):\n",
    "        self.room=room\n",
    "        self.cf=cf\n",
    "        self.br=br\n",
    "    def cacl_all(self,days=1):\n",
    "        return (self.room*self.cf+self.br)*days\n",
    "if __name__=='__main__':\n",
    "    stdroom=Hotel(200)\n",
    "    big_room=Hotel(230,0.9)\n",
    "    print(stdroom.cacl_all())\n",
    "    print(stdroom.cacl_all(2))\n",
    "    print(big_room.cacl_all())\n",
    "    print(big_room.cacl_all(2))"
   ]
  },
  {
   "cell_type": "code",
   "execution_count": 70,
   "metadata": {},
   "outputs": [
    {
     "name": "stdout",
     "output_type": "stream",
     "text": [
      "Core python\n",
      "Core python is written by wesley\n"
     ]
    }
   ],
   "source": [
    "class Books():\n",
    "    def __init__(self,title,author):\n",
    "        self.title=title\n",
    "        self.author=author\n",
    "    def __str__(self):\n",
    "        return self.title\n",
    "    def __repr__(self):\n",
    "        return self.title\n",
    "    def __call__(self):\n",
    "        print(\"%s is written by %s\" %(self.title,self.author))\n",
    "\n",
    "if __name__=='__main__':\n",
    "    pybook=Books('Core python','wesley')\n",
    "    print(pybook)\n",
    "    pybook()"
   ]
  },
  {
   "cell_type": "code",
   "execution_count": null,
   "metadata": {},
   "outputs": [],
   "source": []
  }
 ],
 "metadata": {
  "kernelspec": {
   "display_name": "Python 3",
   "language": "python",
   "name": "python3"
  },
  "language_info": {
   "codemirror_mode": {
    "name": "ipython",
    "version": 3
   },
   "file_extension": ".py",
   "mimetype": "text/x-python",
   "name": "python",
   "nbconvert_exporter": "python",
   "pygments_lexer": "ipython3",
   "version": "3.8.5"
  },
  "toc": {
   "base_numbering": 1,
   "nav_menu": {},
   "number_sections": true,
   "sideBar": true,
   "skip_h1_title": false,
   "title_cell": "Table of Contents",
   "title_sidebar": "Contents",
   "toc_cell": false,
   "toc_position": {},
   "toc_section_display": true,
   "toc_window_display": false
  }
 },
 "nbformat": 4,
 "nbformat_minor": 4
}
