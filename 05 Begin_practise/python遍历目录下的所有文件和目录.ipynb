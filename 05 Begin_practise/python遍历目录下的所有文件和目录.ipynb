{
 "cells": [
  {
   "cell_type": "code",
   "execution_count": 2,
   "metadata": {},
   "outputs": [
    {
     "name": "stdout",
     "output_type": "stream",
     "text": [
      "D:\\test\n",
      "D:\\test\\四（1）体侧数据.xls\n",
      "D:\\test\n",
      "D:\\test\\四（2）体侧数据.xls\n",
      "D:\\test\n",
      "D:\\test\\四（3）体侧数据.xls\n",
      "D:\\test\n",
      "D:\\test\\四（4）体侧数据.xls\n",
      "D:\\test\n",
      "D:\\test\\四（5）体侧数据.xls\n",
      "D:\\test\n",
      "D:\\test\\四（6）体侧数据.xls\n",
      "D:\\test\n",
      "D:\\test\\四（7）体侧数据.xls\n",
      "D:\\test\\1\n",
      "D:\\test\\1\\四（8）体侧数据.xls\n",
      "D:\\test\\1\n",
      "D:\\test\\1\\四（9）体侧数据.xls\n",
      "D:\\test\\1\\2\n",
      "D:\\test\\1\\2\\四（10）体侧数据.xls\n",
      "10\n"
     ]
    }
   ],
   "source": [
    "import os\n",
    "count=0\n",
    "path = r'D:\\test'\n",
    "for root,dirs,files in os.walk(path):\n",
    "    for file in files:\n",
    "        print(root)\n",
    "        print(os.path.join(root,file))\n",
    "        count+=1\n",
    "print(count)"
   ]
  },
  {
   "cell_type": "code",
   "execution_count": 4,
   "metadata": {},
   "outputs": [
    {
     "name": "stdout",
     "output_type": "stream",
     "text": [
      "1\n",
      "D:\\test\\1\n",
      "2\n",
      "D:\\test\\1\\2\n",
      "2\n"
     ]
    }
   ],
   "source": [
    "num =0\n",
    "for root,dirs,files in os.walk(path):\n",
    "    for dir in dirs:\n",
    "        print(dir)\n",
    "        print(os.path.join(root,dir))\n",
    "        num+=1\n",
    "print(num)"
   ]
  },
  {
   "cell_type": "markdown",
   "metadata": {},
   "source": [
    "Python遍历文件夹(超简单)"
   ]
  },
  {
   "cell_type": "code",
   "execution_count": 6,
   "metadata": {},
   "outputs": [
    {
     "name": "stdout",
     "output_type": "stream",
     "text": [
      ">>>:D:\\test\n",
      "D:\\test\\四（1）体侧数据.xls\n",
      "D:\\test\\四（2）体侧数据.xls\n",
      "D:\\test\\四（3）体侧数据.xls\n",
      "D:\\test\\四（4）体侧数据.xls\n",
      "D:\\test\\四（5）体侧数据.xls\n",
      "D:\\test\\四（6）体侧数据.xls\n",
      "D:\\test\\四（7）体侧数据.xls\n",
      "D:\\test\\1\\四（8）体侧数据.xls\n",
      "D:\\test\\1\\四（9）体侧数据.xls\n",
      "D:\\test\\1\\2\\四（10）体侧数据.xls\n"
     ]
    }
   ],
   "source": [
    "def bianli(rootDir):\n",
    "    for root,dirs,files in os.walk(rootDir):\n",
    "        for file in files:\n",
    "            print(os.path.join(root,file))\n",
    "#         for dir in dirs:\n",
    "#             bianli(dir)\n",
    "rootDir=input('>>>:')\n",
    "bianli(rootDir)"
   ]
  },
  {
   "cell_type": "markdown",
   "metadata": {},
   "source": [
    "os.listdir( ) --返回当前目录下所有文件列表"
   ]
  },
  {
   "cell_type": "code",
   "execution_count": 10,
   "metadata": {},
   "outputs": [
    {
     "name": "stdout",
     "output_type": "stream",
     "text": [
      "1\n",
      "四（1）体侧数据.xls\n",
      "四（2）体侧数据.xls\n",
      "四（3）体侧数据.xls\n",
      "四（4）体侧数据.xls\n",
      "四（5）体侧数据.xls\n",
      "四（6）体侧数据.xls\n",
      "四（7）体侧数据.xls\n"
     ]
    }
   ],
   "source": [
    "filenames=os.listdir(r'd:\\test')\n",
    "for filename in filenames:\n",
    "    print(filename)\n",
    "#     print(os.path.join('.',filename))"
   ]
  },
  {
   "cell_type": "markdown",
   "metadata": {},
   "source": [
    "os.listdir 简单暴力\n",
    "os.listdir(path)，返回path目录下的文件夹和文件，但不包含子文件夹里的文件夹和文件，并按照目录树结构的排序输出结果，即深度优先。\n",
    "\n",
    "递归遍历所有文件，代码实例："
   ]
  },
  {
   "cell_type": "code",
   "execution_count": 2,
   "metadata": {},
   "outputs": [
    {
     "name": "stdout",
     "output_type": "stream",
     "text": [
      "四（10）体侧数据.xls\n",
      "四（8）体侧数据.xls\n",
      "四（9）体侧数据.xls\n",
      "四（1）体侧数据.xls\n",
      "四（2）体侧数据.xls\n",
      "四（3）体侧数据.xls\n",
      "四（4）体侧数据.xls\n",
      "四（5）体侧数据.xls\n",
      "四（6）体侧数据.xls\n",
      "四（7）体侧数据.xls\n"
     ]
    }
   ],
   "source": [
    "import os\n",
    "def recursive_listdir(path):\n",
    "    files = os.listdir(path)\n",
    "    for file in files:\n",
    "        file_path = os.path.join(path,file)\n",
    "        if os.path.isfile(file_path):\n",
    "            print(file)\n",
    "        elif os.path.isdir(file_path):\n",
    "            recursive_listdir(file_path)\n",
    "recursive_listdir(r'D:\\test')"
   ]
  },
  {
   "cell_type": "markdown",
   "metadata": {},
   "source": [
    "os.walk 优雅\n",
    "os.walk(top, topdown=True, onerror=None, followlinks=False)，通过“自上而下”或“自下而上”来遍历目录，生成目录树中的文件夹名和文件名。\n",
    "\n",
    "top：根目录下的每一个文件夹（包含它自己）\n",
    "topdown：可选，为True时，则自上而下，而为False时，则自下而上\n",
    "onerror：可选，是一个函数，OSError实例\n",
    "followlinks：可选，通过软链接访问目录\n",
    "同时，结果是按照广度优先返回的，有三个结果，分布是文件夹路径、文件夹名称和文件名。\n",
    "\n",
    "显示所有子目录，代码实例："
   ]
  },
  {
   "cell_type": "code",
   "execution_count": 18,
   "metadata": {},
   "outputs": [
    {
     "name": "stdout",
     "output_type": "stream",
     "text": [
      "D:\\test\\1\n",
      "D:\\test\\1\\2\n"
     ]
    }
   ],
   "source": [
    "paths=os.walk(r'D:\\test')\n",
    "for path,dir_lst,file_lst in paths:\n",
    "    for dir_name in dir_lst:\n",
    "        print(os.path.join(path,dir_name))\n",
    "        "
   ]
  },
  {
   "cell_type": "markdown",
   "metadata": {},
   "source": [
    "显示目录下所有文件，代码实例："
   ]
  },
  {
   "cell_type": "code",
   "execution_count": 20,
   "metadata": {},
   "outputs": [
    {
     "name": "stdout",
     "output_type": "stream",
     "text": [
      "D:\\test\\四（1）体侧数据.xls\n",
      "D:\\test\\四（2）体侧数据.xls\n",
      "D:\\test\\四（3）体侧数据.xls\n",
      "D:\\test\\四（4）体侧数据.xls\n",
      "D:\\test\\四（5）体侧数据.xls\n",
      "D:\\test\\四（6）体侧数据.xls\n",
      "D:\\test\\四（7）体侧数据.xls\n",
      "D:\\test\\1\\四（8）体侧数据.xls\n",
      "D:\\test\\1\\四（9）体侧数据.xls\n",
      "D:\\test\\1\\2\\四（10）体侧数据.xls\n"
     ]
    }
   ],
   "source": [
    "paths=os.walk('D:\\\\test')\n",
    "for path,dir_lst,file_lst in paths:\n",
    "    for file_name in file_lst:\n",
    "        print(os.path.join(path,file_name))"
   ]
  },
  {
   "cell_type": "markdown",
   "metadata": {},
   "source": [
    "os.scandir 高效\n",
    "os.scandir(path)，返回path目录树中对应的os.DirEntry对象的迭代器（文件夹或文件），不包含子文件夹里的文件夹和文件，但运行效率比os.walk高，Python官方推荐使用os.scandir来遍历目录树。\n",
    "\n",
    "遍历目录树，代码实例"
   ]
  },
  {
   "cell_type": "code",
   "execution_count": 21,
   "metadata": {},
   "outputs": [
    {
     "name": "stdout",
     "output_type": "stream",
     "text": [
      "dirs:\n",
      "d:\\test\\1\n",
      "\n",
      "files:\n",
      "四（10）体侧数据.xls\n",
      "d:\\test\\四（1）体侧数据.xls\n",
      "d:\\test\\四（2）体侧数据.xls\n",
      "d:\\test\\四（3）体侧数据.xls\n",
      "d:\\test\\四（4）体侧数据.xls\n",
      "d:\\test\\四（5）体侧数据.xls\n",
      "d:\\test\\四（6）体侧数据.xls\n",
      "d:\\test\\四（7）体侧数据.xls\n"
     ]
    }
   ],
   "source": [
    "def traversal_files(path):\n",
    "    for item in os.scandir(path):\n",
    "        if item.is_dir():\n",
    "            dirs.append(item.path)\n",
    "        elif item.is_file():\n",
    "            files.append(item.path)\n",
    "    print('dirs:')\n",
    "    print('\\n'.join(dirs))\n",
    "    print()\n",
    "    print('files:')\n",
    "    print('\\n'.join(files))\n",
    "traversal_files('d:\\\\test')"
   ]
  },
  {
   "cell_type": "code",
   "execution_count": 26,
   "metadata": {},
   "outputs": [
    {
     "name": "stdout",
     "output_type": "stream",
     "text": [
      "是.xls的文件名 D:\\test\n",
      "文件路径: d:\\test\n",
      "文件夹名字: ['1']\n",
      "文件路径: 1\n",
      "文件路径: 四（1）体侧数据.xls\n",
      "文件路径: 四（2）体侧数据.xls\n",
      "文件路径: 四（3）体侧数据.xls\n",
      "文件路径: 四（4）体侧数据.xls\n",
      "文件路径: 四（5）体侧数据.xls\n",
      "文件路径: 四（6）体侧数据.xls\n",
      "文件路径: 四（7）体侧数据.xls\n",
      "文件路径: d:\\test\\1\n",
      "文件夹名字: ['2']\n",
      "文件路径: 1\n",
      "文件路径: 四（1）体侧数据.xls\n",
      "文件路径: 四（2）体侧数据.xls\n",
      "文件路径: 四（3）体侧数据.xls\n",
      "文件路径: 四（4）体侧数据.xls\n",
      "文件路径: 四（5）体侧数据.xls\n",
      "文件路径: 四（6）体侧数据.xls\n",
      "文件路径: 四（7）体侧数据.xls\n",
      "文件路径: d:\\test\\1\\2\n",
      "文件夹名字: []\n",
      "文件路径: 1\n",
      "文件路径: 四（1）体侧数据.xls\n",
      "文件路径: 四（2）体侧数据.xls\n",
      "文件路径: 四（3）体侧数据.xls\n",
      "文件路径: 四（4）体侧数据.xls\n",
      "文件路径: 四（5）体侧数据.xls\n",
      "文件路径: 四（6）体侧数据.xls\n",
      "文件路径: 四（7）体侧数据.xls\n"
     ]
    }
   ],
   "source": [
    "# for filename in os.listdir('d:\\\\test'):\n",
    "#     print('文件夹名字:',filename)\n",
    "import glob   \n",
    "for filename in glob.glob('D:\\\\test'):\n",
    "    print('是.xls的文件名',filename)\n",
    "for dirpath,dirnames,filenams in os.walk('d:\\\\test'):\n",
    "    print('文件路径:',dirpath)\n",
    "    print('文件夹名字:',dirnames)\n",
    "    for filename in filenames:\n",
    "        print('文件路径:',filename)\n",
    "    \n",
    "    \n",
    "    \n",
    "    \n",
    "    \n"
   ]
  },
  {
   "cell_type": "code",
   "execution_count": null,
   "metadata": {},
   "outputs": [],
   "source": []
  }
 ],
 "metadata": {
  "kernelspec": {
   "display_name": "Python 3",
   "language": "python",
   "name": "python3"
  },
  "language_info": {
   "codemirror_mode": {
    "name": "ipython",
    "version": 3
   },
   "file_extension": ".py",
   "mimetype": "text/x-python",
   "name": "python",
   "nbconvert_exporter": "python",
   "pygments_lexer": "ipython3",
   "version": "3.8.5"
  },
  "toc": {
   "base_numbering": 1,
   "nav_menu": {},
   "number_sections": true,
   "sideBar": true,
   "skip_h1_title": false,
   "title_cell": "Table of Contents",
   "title_sidebar": "Contents",
   "toc_cell": false,
   "toc_position": {},
   "toc_section_display": true,
   "toc_window_display": false
  }
 },
 "nbformat": 4,
 "nbformat_minor": 4
}
