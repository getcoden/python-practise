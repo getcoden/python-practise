{
 "cells": [
  {
   "cell_type": "code",
   "execution_count": 6,
   "metadata": {
    "ExecuteTime": {
     "end_time": "2020-10-16T01:10:59.217129Z",
     "start_time": "2020-10-16T01:10:59.203128Z"
    }
   },
   "outputs": [
    {
     "data": {
      "text/plain": [
       "'D:\\\\Wowode\\\\jupyterlab'"
      ]
     },
     "execution_count": 6,
     "metadata": {},
     "output_type": "execute_result"
    }
   ],
   "source": [
    "import pandas as pd \n",
    "import numpy as np\n",
    "import os\n",
    "a = 1\n",
    "b = 3\n",
    "c = a + b\n",
    "os.getcwd()"
   ]
  },
  {
   "cell_type": "code",
   "execution_count": 11,
   "metadata": {},
   "outputs": [
    {
     "name": "stdout",
     "output_type": "stream",
     "text": [
      "Enter some word:this is a dog\n",
      "this is a dog \n",
      "dog a is this "
     ]
    }
   ],
   "source": [
    "str=input('Enter some word:').split()\n",
    "for i in str:\n",
    "    print(i,end=' ')\n",
    "print()\n",
    "stri = str[-1::-1]\n",
    "for j in stri:\n",
    "    print(j,end=' ')"
   ]
  },
  {
   "cell_type": "code",
   "execution_count": 25,
   "metadata": {},
   "outputs": [
    {
     "name": "stdout",
     "output_type": "stream",
     "text": [
      "1 * 1 = 1\t\n",
      "1 * 2 = 2\t2 * 2 = 4\t\n",
      "1 * 3 = 3\t2 * 3 = 6\t3 * 3 = 9\t\n",
      "1 * 4 = 4\t2 * 4 = 8\t3 * 4 = 12\t4 * 4 = 16\t\n",
      "1 * 5 = 5\t2 * 5 = 10\t3 * 5 = 15\t4 * 5 = 20\t5 * 5 = 25\t\n",
      "1 * 6 = 6\t2 * 6 = 12\t3 * 6 = 18\t4 * 6 = 24\t5 * 6 = 30\t6 * 6 = 36\t\n",
      "1 * 7 = 7\t2 * 7 = 14\t3 * 7 = 21\t4 * 7 = 28\t5 * 7 = 35\t6 * 7 = 42\t7 * 7 = 49\t\n",
      "1 * 8 = 8\t2 * 8 = 16\t3 * 8 = 24\t4 * 8 = 32\t5 * 8 = 40\t6 * 8 = 48\t7 * 8 = 56\t8 * 8 = 64\t\n",
      "1 * 9 = 9\t2 * 9 = 18\t3 * 9 = 27\t4 * 9 = 36\t5 * 9 = 45\t6 * 9 = 54\t7 * 9 = 63\t8 * 9 = 72\t9 * 9 = 81\t\n"
     ]
    }
   ],
   "source": [
    "row = 1\n",
    "while row <= 9:\n",
    "    col = 1\n",
    "    while col <= row:\n",
    "        print('%d * %d = %d' % (col, row, col*row), end='\\t')\n",
    "        col += 1\n",
    "    print('')\n",
    "    row += 1"
   ]
  },
  {
   "cell_type": "code",
   "execution_count": 8,
   "metadata": {},
   "outputs": [
    {
     "name": "stdout",
     "output_type": "stream",
     "text": [
      "Enter a number:2\n",
      "Enter anthor number:3\n",
      "最大公约数为: 1 最小公倍数为: 6\n"
     ]
    }
   ],
   "source": [
    "num1=int(input('Enter a number:'))\n",
    "num2=int(input('Enter anthor number:'))\n",
    "max_1=0\n",
    "min_1=0\n",
    "for i in range(1,num1*num2+1):\n",
    "    if (num1%i==0)and (num2%i==0):\n",
    "        max_1=i\n",
    "        min_1=int(num1*num2/max_1)\n",
    "print('最大公约数为:',max_1,'最小公倍数为:',min_1)"
   ]
  },
  {
   "cell_type": "code",
   "execution_count": 22,
   "metadata": {},
   "outputs": [
    {
     "name": "stdout",
     "output_type": "stream",
     "text": [
      "请输入一个数字:2\n",
      "请输入次数n:3\n",
      "2+22+222 = 272\n"
     ]
    }
   ],
   "source": [
    "a = eval(input('请输入一个数字:'))\n",
    "n = eval(input('请输入次数n:'))\n",
    "sum = []\n",
    "sum2 = 0\n",
    "s1 = 0\n",
    "i = 0\n",
    "while i <= n-1:\n",
    "    s1 =s1+(a*(10**i))\n",
    "    sum.append(s1)\n",
    "    i += 1\n",
    "    sum1 = [str(i) for i in sum]\n",
    "    for j in sum:\n",
    "        sum2 += j\n",
    "print('+'.join(sum1),'=',sum2)"
   ]
  },
  {
   "cell_type": "code",
   "execution_count": 1,
   "metadata": {
    "scrolled": true
   },
   "outputs": [
    {
     "name": "stdout",
     "output_type": "stream",
     "text": [
      "输入数字>>>2\n",
      "几个数字相加>>>3\n",
      "2+22+222 = 246\n"
     ]
    }
   ],
   "source": [
    "a = input('输入数字>>>')\n",
    "count = int(input('几个数字相加>>>'))\n",
    "ret = []\n",
    "for i in range(1,count+1):\n",
    "    ret.append(int(a*i))\n",
    "sum1 = [str(j) for j in ret]\n",
    "print('+'.join(sum1),'=',sum(ret))"
   ]
  },
  {
   "cell_type": "code",
   "execution_count": 2,
   "metadata": {},
   "outputs": [
    {
     "name": "stdout",
     "output_type": "stream",
     "text": [
      "输入基数字:3\n",
      "几个数字相加>>>:4\n",
      "4+4+4+4 = 3702\n"
     ]
    }
   ],
   "source": [
    "ret=[]\n",
    "# sum=0\n",
    "a = input('输入基数字:')\n",
    "count=int(input('几个数字相加>>>:'))\n",
    "\n",
    "for i in range(1,count+1):\n",
    "    ret.append(int(a*i))\n",
    "sum1=[str(i) for j in ret]\n",
    "print('+'.join(sum1),'=',sum(ret))"
   ]
  },
  {
   "cell_type": "code",
   "execution_count": 3,
   "metadata": {},
   "outputs": [
    {
     "name": "stdout",
     "output_type": "stream",
     "text": [
      "[2, 7, 14]\n"
     ]
    }
   ],
   "source": [
    "answer=[]\n",
    "for x in range(2,46):\n",
    "    for y in range(2,60):\n",
    "        for z in range(2,102):\n",
    "            if x == y==z and (45%x==59%y==101%z):\n",
    "                answer.append(x)\n",
    "print(answer)"
   ]
  },
  {
   "cell_type": "code",
   "execution_count": 4,
   "metadata": {},
   "outputs": [
    {
     "name": "stdout",
     "output_type": "stream",
     "text": [
      "1986 年在列表中的下标是 2 !\n",
      "(2019-1986)/12 的余数是 9。\n",
      "2019年是 猪 年\n"
     ]
    }
   ],
   "source": [
    "years = [\"鼠\", \"牛\", \"虎\", \"兔\", \"龙\", \"蛇\",\n",
    "             \"马\", \"羊\", \"猴\", \"鸡\", \"狗\", \"猪\"]\n",
    "year_1986 = \"虎\"\n",
    "index_1986 = years.index(year_1986)\n",
    "print(\"1986 年在列表中的下标是 %s !\" % index_1986)\n",
    "remainder = (2019-1986) % len(years)\n",
    "print(\"(2019-1986)/12 的余数是 %s。\" % remainder)\n",
    "year_2019 = years[index_1986 + remainder]    \n",
    "print(\"2019年是 %s 年\" % year_2019)"
   ]
  },
  {
   "cell_type": "code",
   "execution_count": 5,
   "metadata": {},
   "outputs": [
    {
     "name": "stdout",
     "output_type": "stream",
     "text": [
      "请输入学生姓名，用“，”（中文逗号）分隔：张飞，李三，张力上\n",
      "['Actors', '张飞', '李三', '张力上']\n",
      "请输入学生姓名进行查询：李三\n",
      "学生李三是第 2 个到达的。\n",
      "请输入学生姓名进行查询：张力上\n",
      "学生张力上是第 3 个到达的。\n",
      "请输入学生姓名进行查询：Actors\n",
      "学生Actors是第 0 个到达的。\n",
      "请输入学生姓名进行查询：q\n"
     ]
    }
   ],
   "source": [
    "\"\"\" 记录名单。学生参加演出，请设计一段程序，按照到达的先后，输入所有参加演出的学生姓名，\n",
    "    存放到一个列表中，输入时姓名之间用 “，”（中文逗号）分隔。然后在列表中插入开始标记：\n",
    "    “Actors”。演出结束后，输入名字可以查找某个学生是第几个到达的。\n",
    "\"\"\"\n",
    "students = [\"Actors\"]\n",
    "\n",
    "letters = input(\"请输入学生姓名，用“，”（中文逗号）分隔：\")\n",
    "students.extend(letters.split(\"，\"))\n",
    "print(students)\n",
    "\n",
    "name = input(\"请输入学生姓名进行查询：\")\n",
    "while True:\n",
    "    if name == \"q\": # 输入 q 退出\n",
    "        break    \n",
    "    print(\"学生{}是第 {} 个到达的。\".format(name, students.index(name)))\n",
    "    name = input(\"请输入学生姓名进行查询：\")"
   ]
  },
  {
   "cell_type": "code",
   "execution_count": 11,
   "metadata": {},
   "outputs": [
    {
     "name": "stdout",
     "output_type": "stream",
     "text": [
      "1    3\n",
      "a    2\n",
      "2    2\n",
      "3    1\n",
      "c    1\n",
      "b    1\n",
      "dtype: int64\n"
     ]
    }
   ],
   "source": [
    "import pandas as pd \n",
    "a =[1,2,3,1,1,2,'b','c','a','a']\n",
    "result = pd.value_counts(a)\n",
    "print(result)"
   ]
  },
  {
   "cell_type": "code",
   "execution_count": 12,
   "metadata": {},
   "outputs": [
    {
     "name": "stdout",
     "output_type": "stream",
     "text": [
      "{1: 3, 2: 2, 3: 1}\n"
     ]
    }
   ],
   "source": [
    "b = a =[1,2,3,1,1,2]\n",
    "dict={}\n",
    "for key in b:\n",
    "    dict[key]=dict.get(key,0)+1\n",
    "print(dict)"
   ]
  },
  {
   "cell_type": "code",
   "execution_count": 13,
   "metadata": {},
   "outputs": [
    {
     "name": "stdout",
     "output_type": "stream",
     "text": [
      "{'python': 2, 'java': 1, 'flask': 2, 'django': 1}\n"
     ]
    }
   ],
   "source": [
    "result=['python','java','python','flask','django','flask']\n",
    "result_dic={}\n",
    "for item_str in result:\n",
    "    if item_str not in result_dic:\n",
    "        result_dic[item_str]=1\n",
    "    else:\n",
    "        result_dic[item_str]+=1\n",
    "print(result_dic)"
   ]
  },
  {
   "cell_type": "code",
   "execution_count": 20,
   "metadata": {},
   "outputs": [
    {
     "name": "stdout",
     "output_type": "stream",
     "text": [
      "{'django': 1, 'flask': 2, 'java': 1, 'python': 2}\n"
     ]
    }
   ],
   "source": [
    "result=['python','java','python','flask','django','flask']\n",
    "test_stat = {}\n",
    "for i in set(result):\n",
    "    test_stat[i]=result.count(i)\n",
    "print(test_stat)"
   ]
  },
  {
   "cell_type": "code",
   "execution_count": 21,
   "metadata": {},
   "outputs": [
    {
     "name": "stdout",
     "output_type": "stream",
     "text": [
      "the 1 has found 1\n",
      "the 2 has found 4\n",
      "the 3 has found 3\n",
      "the 4 has found 4\n"
     ]
    }
   ],
   "source": [
    "mylist = [1,2,2,2,2,3,3,3,4,4,4,4]\n",
    "myset=set(mylist)\n",
    "for item in myset:\n",
    "    print('the %d has found %d' %(item,mylist.count(item)))"
   ]
  },
  {
   "cell_type": "code",
   "execution_count": 22,
   "metadata": {},
   "outputs": [
    {
     "name": "stdout",
     "output_type": "stream",
     "text": [
      "{2: 4, 3: 3, 4: 4}\n"
     ]
    }
   ],
   "source": [
    "List=[1,2,2,2,2,3,3,3,4,4,4,4]\n",
    "a ={}\n",
    "for i in List:\n",
    "    if List.count(i)>1:\n",
    "        a[i]=List.count(i)\n",
    "print(a)"
   ]
  },
  {
   "cell_type": "code",
   "execution_count": 12,
   "metadata": {},
   "outputs": [
    {
     "data": {
      "text/html": [
       "<div>\n",
       "<style scoped>\n",
       "    .dataframe tbody tr th:only-of-type {\n",
       "        vertical-align: middle;\n",
       "    }\n",
       "\n",
       "    .dataframe tbody tr th {\n",
       "        vertical-align: top;\n",
       "    }\n",
       "\n",
       "    .dataframe thead th {\n",
       "        text-align: right;\n",
       "    }\n",
       "</style>\n",
       "<table border=\"1\" class=\"dataframe\">\n",
       "  <thead>\n",
       "    <tr style=\"text-align: right;\">\n",
       "      <th></th>\n",
       "      <th>gender</th>\n",
       "      <th>color</th>\n",
       "      <th>age</th>\n",
       "    </tr>\n",
       "  </thead>\n",
       "  <tbody>\n",
       "    <tr>\n",
       "      <th>0</th>\n",
       "      <td>male</td>\n",
       "      <td>red</td>\n",
       "      <td>25</td>\n",
       "    </tr>\n",
       "    <tr>\n",
       "      <th>1</th>\n",
       "      <td>female</td>\n",
       "      <td>green</td>\n",
       "      <td>30</td>\n",
       "    </tr>\n",
       "    <tr>\n",
       "      <th>2</th>\n",
       "      <td>male</td>\n",
       "      <td>blue</td>\n",
       "      <td>15</td>\n",
       "    </tr>\n",
       "    <tr>\n",
       "      <th>3</th>\n",
       "      <td>female</td>\n",
       "      <td>green</td>\n",
       "      <td>32</td>\n",
       "    </tr>\n",
       "  </tbody>\n",
       "</table>\n",
       "</div>"
      ],
      "text/plain": [
       "   gender  color  age\n",
       "0    male    red   25\n",
       "1  female  green   30\n",
       "2    male   blue   15\n",
       "3  female  green   32"
      ]
     },
     "execution_count": 12,
     "metadata": {},
     "output_type": "execute_result"
    }
   ],
   "source": [
    "import pandas as pd \n",
    "\n",
    "d = {\n",
    "\"gender\":[\"male\", \"female\", \"male\",\"female\"],\n",
    "\"color\":[\"red\", \"green\", \"blue\",\"green\"],\n",
    "\"age\":[25, 30, 15, 32]\n",
    "}\n",
    "\n",
    "df = pd.DataFrame(d)\n",
    "df"
   ]
  },
  {
   "cell_type": "code",
   "execution_count": 14,
   "metadata": {},
   "outputs": [],
   "source": [
    "d = {'male':0,'female':1}\n",
    "df['gender2'] = df['gender'].map(d)"
   ]
  },
  {
   "cell_type": "code",
   "execution_count": 15,
   "metadata": {},
   "outputs": [
    {
     "data": {
      "text/html": [
       "<div>\n",
       "<style scoped>\n",
       "    .dataframe tbody tr th:only-of-type {\n",
       "        vertical-align: middle;\n",
       "    }\n",
       "\n",
       "    .dataframe tbody tr th {\n",
       "        vertical-align: top;\n",
       "    }\n",
       "\n",
       "    .dataframe thead th {\n",
       "        text-align: right;\n",
       "    }\n",
       "</style>\n",
       "<table border=\"1\" class=\"dataframe\">\n",
       "  <thead>\n",
       "    <tr style=\"text-align: right;\">\n",
       "      <th></th>\n",
       "      <th>gender</th>\n",
       "      <th>color</th>\n",
       "      <th>age</th>\n",
       "      <th>gender2</th>\n",
       "    </tr>\n",
       "  </thead>\n",
       "  <tbody>\n",
       "    <tr>\n",
       "      <th>0</th>\n",
       "      <td>male</td>\n",
       "      <td>red</td>\n",
       "      <td>25</td>\n",
       "      <td>0</td>\n",
       "    </tr>\n",
       "    <tr>\n",
       "      <th>1</th>\n",
       "      <td>female</td>\n",
       "      <td>green</td>\n",
       "      <td>30</td>\n",
       "      <td>1</td>\n",
       "    </tr>\n",
       "    <tr>\n",
       "      <th>2</th>\n",
       "      <td>male</td>\n",
       "      <td>blue</td>\n",
       "      <td>15</td>\n",
       "      <td>0</td>\n",
       "    </tr>\n",
       "    <tr>\n",
       "      <th>3</th>\n",
       "      <td>female</td>\n",
       "      <td>green</td>\n",
       "      <td>32</td>\n",
       "      <td>1</td>\n",
       "    </tr>\n",
       "  </tbody>\n",
       "</table>\n",
       "</div>"
      ],
      "text/plain": [
       "   gender  color  age  gender2\n",
       "0    male    red   25        0\n",
       "1  female  green   30        1\n",
       "2    male   blue   15        0\n",
       "3  female  green   32        1"
      ]
     },
     "execution_count": 15,
     "metadata": {},
     "output_type": "execute_result"
    }
   ],
   "source": [
    "df"
   ]
  },
  {
   "cell_type": "code",
   "execution_count": 16,
   "metadata": {},
   "outputs": [
    {
     "data": {
      "text/html": [
       "<div>\n",
       "<style scoped>\n",
       "    .dataframe tbody tr th:only-of-type {\n",
       "        vertical-align: middle;\n",
       "    }\n",
       "\n",
       "    .dataframe tbody tr th {\n",
       "        vertical-align: top;\n",
       "    }\n",
       "\n",
       "    .dataframe thead th {\n",
       "        text-align: right;\n",
       "    }\n",
       "</style>\n",
       "<table border=\"1\" class=\"dataframe\">\n",
       "  <thead>\n",
       "    <tr style=\"text-align: right;\">\n",
       "      <th></th>\n",
       "      <th>customer</th>\n",
       "      <th>sales</th>\n",
       "    </tr>\n",
       "  </thead>\n",
       "  <tbody>\n",
       "    <tr>\n",
       "      <th>0</th>\n",
       "      <td>A</td>\n",
       "      <td>11</td>\n",
       "    </tr>\n",
       "    <tr>\n",
       "      <th>1</th>\n",
       "      <td>B</td>\n",
       "      <td>950.5RMB</td>\n",
       "    </tr>\n",
       "    <tr>\n",
       "      <th>2</th>\n",
       "      <td>C</td>\n",
       "      <td>$400</td>\n",
       "    </tr>\n",
       "    <tr>\n",
       "      <th>3</th>\n",
       "      <td>D</td>\n",
       "      <td>$1250.75</td>\n",
       "    </tr>\n",
       "  </tbody>\n",
       "</table>\n",
       "</div>"
      ],
      "text/plain": [
       "  customer     sales\n",
       "0        A        11\n",
       "1        B  950.5RMB\n",
       "2        C      $400\n",
       "3        D  $1250.75"
      ]
     },
     "execution_count": 16,
     "metadata": {},
     "output_type": "execute_result"
    }
   ],
   "source": [
    "d={'customer':['A','B','C','D'],'sales':[11-00,'950.5RMB','$400','$1250.75']}\n",
    "df = pd.DataFrame(d)\n",
    "df"
   ]
  },
  {
   "cell_type": "code",
   "execution_count": 17,
   "metadata": {},
   "outputs": [],
   "source": [
    "df['sales']= df['sales'].replace(\"[$,RMB]\",\"\",regex = True).astype('float')"
   ]
  },
  {
   "cell_type": "code",
   "execution_count": 18,
   "metadata": {},
   "outputs": [
    {
     "data": {
      "text/html": [
       "<div>\n",
       "<style scoped>\n",
       "    .dataframe tbody tr th:only-of-type {\n",
       "        vertical-align: middle;\n",
       "    }\n",
       "\n",
       "    .dataframe tbody tr th {\n",
       "        vertical-align: top;\n",
       "    }\n",
       "\n",
       "    .dataframe thead th {\n",
       "        text-align: right;\n",
       "    }\n",
       "</style>\n",
       "<table border=\"1\" class=\"dataframe\">\n",
       "  <thead>\n",
       "    <tr style=\"text-align: right;\">\n",
       "      <th></th>\n",
       "      <th>customer</th>\n",
       "      <th>sales</th>\n",
       "    </tr>\n",
       "  </thead>\n",
       "  <tbody>\n",
       "    <tr>\n",
       "      <th>0</th>\n",
       "      <td>A</td>\n",
       "      <td>11.00</td>\n",
       "    </tr>\n",
       "    <tr>\n",
       "      <th>1</th>\n",
       "      <td>B</td>\n",
       "      <td>950.50</td>\n",
       "    </tr>\n",
       "    <tr>\n",
       "      <th>2</th>\n",
       "      <td>C</td>\n",
       "      <td>400.00</td>\n",
       "    </tr>\n",
       "    <tr>\n",
       "      <th>3</th>\n",
       "      <td>D</td>\n",
       "      <td>1250.75</td>\n",
       "    </tr>\n",
       "  </tbody>\n",
       "</table>\n",
       "</div>"
      ],
      "text/plain": [
       "  customer    sales\n",
       "0        A    11.00\n",
       "1        B   950.50\n",
       "2        C   400.00\n",
       "3        D  1250.75"
      ]
     },
     "execution_count": 18,
     "metadata": {},
     "output_type": "execute_result"
    }
   ],
   "source": [
    "df"
   ]
  },
  {
   "cell_type": "code",
   "execution_count": 36,
   "metadata": {},
   "outputs": [
    {
     "name": "stdout",
     "output_type": "stream",
     "text": [
      "一共有: ['四（1）体侧数据.xls', '四（2）体侧数据.xls', '四（3）体侧数据.xls', '四（4）体侧数据.xls', '四（5）体侧数据.xls', '四（6）体侧数据.xls', '四（7）体侧数据.xls', '四（8）体侧数据.xls', '四（9）体侧数据.xls', '四（10）体侧数据.xls']\n"
     ]
    }
   ],
   "source": [
    "L=[]\n",
    "def lj():\n",
    "    L=[]\n",
    "    paths=os.walk('D:\\\\test')\n",
    "    for path,dir_lst,file_lst in paths:\n",
    "        for file_name in file_lst:\n",
    "            L.append(file_name)\n",
    "    print('一共有:',L)\n",
    "#     return L\n",
    "lj()\n"
   ]
  },
  {
   "cell_type": "code",
   "execution_count": 42,
   "metadata": {},
   "outputs": [
    {
     "data": {
      "text/html": [
       "<div>\n",
       "<style scoped>\n",
       "    .dataframe tbody tr th:only-of-type {\n",
       "        vertical-align: middle;\n",
       "    }\n",
       "\n",
       "    .dataframe tbody tr th {\n",
       "        vertical-align: top;\n",
       "    }\n",
       "\n",
       "    .dataframe thead th {\n",
       "        text-align: right;\n",
       "    }\n",
       "</style>\n",
       "<table border=\"1\" class=\"dataframe\">\n",
       "  <thead>\n",
       "    <tr style=\"text-align: right;\">\n",
       "      <th></th>\n",
       "      <th>学号</th>\n",
       "      <th>姓名</th>\n",
       "      <th>成绩</th>\n",
       "    </tr>\n",
       "  </thead>\n",
       "  <tbody>\n",
       "    <tr>\n",
       "      <th>0</th>\n",
       "      <td>12904933</td>\n",
       "      <td>付子萌</td>\n",
       "      <td>96.0</td>\n",
       "    </tr>\n",
       "    <tr>\n",
       "      <th>1</th>\n",
       "      <td>12904931</td>\n",
       "      <td>闫康硕</td>\n",
       "      <td>85.0</td>\n",
       "    </tr>\n",
       "    <tr>\n",
       "      <th>2</th>\n",
       "      <td>12905270</td>\n",
       "      <td>胡靖梓</td>\n",
       "      <td>99.5</td>\n",
       "    </tr>\n",
       "    <tr>\n",
       "      <th>3</th>\n",
       "      <td>12905937</td>\n",
       "      <td>谭宇飞</td>\n",
       "      <td>85.0</td>\n",
       "    </tr>\n",
       "    <tr>\n",
       "      <th>4</th>\n",
       "      <td>12905445</td>\n",
       "      <td>丁秋雨</td>\n",
       "      <td>93.0</td>\n",
       "    </tr>\n",
       "    <tr>\n",
       "      <th>5</th>\n",
       "      <td>12905269</td>\n",
       "      <td>马佳旭</td>\n",
       "      <td>83.0</td>\n",
       "    </tr>\n",
       "    <tr>\n",
       "      <th>6</th>\n",
       "      <td>12905446</td>\n",
       "      <td>田歌</td>\n",
       "      <td>102.0</td>\n",
       "    </tr>\n",
       "    <tr>\n",
       "      <th>7</th>\n",
       "      <td>12905936</td>\n",
       "      <td>姜枫</td>\n",
       "      <td>72.0</td>\n",
       "    </tr>\n",
       "    <tr>\n",
       "      <th>8</th>\n",
       "      <td>12903287</td>\n",
       "      <td>张熙婕</td>\n",
       "      <td>86.0</td>\n",
       "    </tr>\n",
       "    <tr>\n",
       "      <th>9</th>\n",
       "      <td>12905264</td>\n",
       "      <td>任子硕</td>\n",
       "      <td>80.0</td>\n",
       "    </tr>\n",
       "    <tr>\n",
       "      <th>10</th>\n",
       "      <td>12903117</td>\n",
       "      <td>韩乐</td>\n",
       "      <td>85.0</td>\n",
       "    </tr>\n",
       "    <tr>\n",
       "      <th>11</th>\n",
       "      <td>12905272</td>\n",
       "      <td>蒋恩梦</td>\n",
       "      <td>74.5</td>\n",
       "    </tr>\n",
       "    <tr>\n",
       "      <th>12</th>\n",
       "      <td>12905079</td>\n",
       "      <td>王瑜涵</td>\n",
       "      <td>97.0</td>\n",
       "    </tr>\n",
       "    <tr>\n",
       "      <th>13</th>\n",
       "      <td>12905266</td>\n",
       "      <td>王硕鑫</td>\n",
       "      <td>102.0</td>\n",
       "    </tr>\n",
       "    <tr>\n",
       "      <th>14</th>\n",
       "      <td>12903115</td>\n",
       "      <td>张浩然</td>\n",
       "      <td>72.0</td>\n",
       "    </tr>\n",
       "    <tr>\n",
       "      <th>15</th>\n",
       "      <td>12905078</td>\n",
       "      <td>段贺翔</td>\n",
       "      <td>73.0</td>\n",
       "    </tr>\n",
       "    <tr>\n",
       "      <th>16</th>\n",
       "      <td>12904076</td>\n",
       "      <td>郑婷予</td>\n",
       "      <td>91.5</td>\n",
       "    </tr>\n",
       "    <tr>\n",
       "      <th>17</th>\n",
       "      <td>12906310</td>\n",
       "      <td>王大泽</td>\n",
       "      <td>83.0</td>\n",
       "    </tr>\n",
       "    <tr>\n",
       "      <th>18</th>\n",
       "      <td>12906114</td>\n",
       "      <td>刘依晨</td>\n",
       "      <td>88.0</td>\n",
       "    </tr>\n",
       "    <tr>\n",
       "      <th>19</th>\n",
       "      <td>12903288</td>\n",
       "      <td>陈俊臣</td>\n",
       "      <td>72.0</td>\n",
       "    </tr>\n",
       "    <tr>\n",
       "      <th>20</th>\n",
       "      <td>12904079</td>\n",
       "      <td>徐灿阳</td>\n",
       "      <td>87.5</td>\n",
       "    </tr>\n",
       "    <tr>\n",
       "      <th>21</th>\n",
       "      <td>12903683</td>\n",
       "      <td>陈珺</td>\n",
       "      <td>74.5</td>\n",
       "    </tr>\n",
       "    <tr>\n",
       "      <th>22</th>\n",
       "      <td>12905450</td>\n",
       "      <td>刘家诚</td>\n",
       "      <td>64.5</td>\n",
       "    </tr>\n",
       "    <tr>\n",
       "      <th>23</th>\n",
       "      <td>12905739</td>\n",
       "      <td>马富霖</td>\n",
       "      <td>80.0</td>\n",
       "    </tr>\n",
       "    <tr>\n",
       "      <th>24</th>\n",
       "      <td>12905741</td>\n",
       "      <td>李依诺</td>\n",
       "      <td>83.0</td>\n",
       "    </tr>\n",
       "    <tr>\n",
       "      <th>25</th>\n",
       "      <td>12903290</td>\n",
       "      <td>张文强</td>\n",
       "      <td>49.0</td>\n",
       "    </tr>\n",
       "    <tr>\n",
       "      <th>26</th>\n",
       "      <td>12905742</td>\n",
       "      <td>李朝阳</td>\n",
       "      <td>73.0</td>\n",
       "    </tr>\n",
       "    <tr>\n",
       "      <th>27</th>\n",
       "      <td>12904929</td>\n",
       "      <td>张怡霏</td>\n",
       "      <td>97.0</td>\n",
       "    </tr>\n",
       "    <tr>\n",
       "      <th>28</th>\n",
       "      <td>12902906</td>\n",
       "      <td>袁顺路</td>\n",
       "      <td>83.5</td>\n",
       "    </tr>\n",
       "    <tr>\n",
       "      <th>29</th>\n",
       "      <td>12905740</td>\n",
       "      <td>王宇轩</td>\n",
       "      <td>67.0</td>\n",
       "    </tr>\n",
       "    <tr>\n",
       "      <th>30</th>\n",
       "      <td>12904258</td>\n",
       "      <td>王永君</td>\n",
       "      <td>68.5</td>\n",
       "    </tr>\n",
       "    <tr>\n",
       "      <th>31</th>\n",
       "      <td>12906111</td>\n",
       "      <td>蔡静萱</td>\n",
       "      <td>73.0</td>\n",
       "    </tr>\n",
       "    <tr>\n",
       "      <th>32</th>\n",
       "      <td>12905268</td>\n",
       "      <td>吴杨</td>\n",
       "      <td>73.0</td>\n",
       "    </tr>\n",
       "    <tr>\n",
       "      <th>33</th>\n",
       "      <td>12905265</td>\n",
       "      <td>李豪杰</td>\n",
       "      <td>77.0</td>\n",
       "    </tr>\n",
       "    <tr>\n",
       "      <th>34</th>\n",
       "      <td>12905447</td>\n",
       "      <td>刘伟龙</td>\n",
       "      <td>34.5</td>\n",
       "    </tr>\n",
       "    <tr>\n",
       "      <th>35</th>\n",
       "      <td>12903682</td>\n",
       "      <td>石梦园</td>\n",
       "      <td>66.5</td>\n",
       "    </tr>\n",
       "    <tr>\n",
       "      <th>36</th>\n",
       "      <td>12906113</td>\n",
       "      <td>王艺梦</td>\n",
       "      <td>49.5</td>\n",
       "    </tr>\n",
       "    <tr>\n",
       "      <th>37</th>\n",
       "      <td>12903685</td>\n",
       "      <td>董子怡</td>\n",
       "      <td>51.0</td>\n",
       "    </tr>\n",
       "    <tr>\n",
       "      <th>38</th>\n",
       "      <td>12905448</td>\n",
       "      <td>石梦雅</td>\n",
       "      <td>35.5</td>\n",
       "    </tr>\n",
       "    <tr>\n",
       "      <th>39</th>\n",
       "      <td>12903681</td>\n",
       "      <td>卓紫玉</td>\n",
       "      <td>20.0</td>\n",
       "    </tr>\n",
       "  </tbody>\n",
       "</table>\n",
       "</div>"
      ],
      "text/plain": [
       "          学号   姓名     成绩\n",
       "0   12904933  付子萌   96.0\n",
       "1   12904931  闫康硕   85.0\n",
       "2   12905270  胡靖梓   99.5\n",
       "3   12905937  谭宇飞   85.0\n",
       "4   12905445  丁秋雨   93.0\n",
       "5   12905269  马佳旭   83.0\n",
       "6   12905446   田歌  102.0\n",
       "7   12905936   姜枫   72.0\n",
       "8   12903287  张熙婕   86.0\n",
       "9   12905264  任子硕   80.0\n",
       "10  12903117   韩乐   85.0\n",
       "11  12905272  蒋恩梦   74.5\n",
       "12  12905079  王瑜涵   97.0\n",
       "13  12905266  王硕鑫  102.0\n",
       "14  12903115  张浩然   72.0\n",
       "15  12905078  段贺翔   73.0\n",
       "16  12904076  郑婷予   91.5\n",
       "17  12906310  王大泽   83.0\n",
       "18  12906114  刘依晨   88.0\n",
       "19  12903288  陈俊臣   72.0\n",
       "20  12904079  徐灿阳   87.5\n",
       "21  12903683   陈珺   74.5\n",
       "22  12905450  刘家诚   64.5\n",
       "23  12905739  马富霖   80.0\n",
       "24  12905741  李依诺   83.0\n",
       "25  12903290  张文强   49.0\n",
       "26  12905742  李朝阳   73.0\n",
       "27  12904929  张怡霏   97.0\n",
       "28  12902906  袁顺路   83.5\n",
       "29  12905740  王宇轩   67.0\n",
       "30  12904258  王永君   68.5\n",
       "31  12906111  蔡静萱   73.0\n",
       "32  12905268   吴杨   73.0\n",
       "33  12905265  李豪杰   77.0\n",
       "34  12905447  刘伟龙   34.5\n",
       "35  12903682  石梦园   66.5\n",
       "36  12906113  王艺梦   49.5\n",
       "37  12903685  董子怡   51.0\n",
       "38  12905448  石梦雅   35.5\n",
       "39  12903681  卓紫玉   20.0"
      ]
     },
     "execution_count": 42,
     "metadata": {},
     "output_type": "execute_result"
    }
   ],
   "source": [
    "df = pd.read_excel('C:\\\\Users\\\\star\\\\Desktop\\\\test.xlsx',names= ['学号','姓名','成绩'])\n",
    "# df.columns \n",
    "df"
   ]
  },
  {
   "cell_type": "code",
   "execution_count": null,
   "metadata": {},
   "outputs": [],
   "source": []
  }
 ],
 "metadata": {
  "kernelspec": {
   "display_name": "Python 3",
   "language": "python",
   "name": "python3"
  },
  "language_info": {
   "codemirror_mode": {
    "name": "ipython",
    "version": 3
   },
   "file_extension": ".py",
   "mimetype": "text/x-python",
   "name": "python",
   "nbconvert_exporter": "python",
   "pygments_lexer": "ipython3",
   "version": "3.8.5"
  },
  "toc": {
   "base_numbering": 1,
   "nav_menu": {},
   "number_sections": true,
   "sideBar": true,
   "skip_h1_title": false,
   "title_cell": "Table of Contents",
   "title_sidebar": "Contents",
   "toc_cell": false,
   "toc_position": {},
   "toc_section_display": true,
   "toc_window_display": true
  }
 },
 "nbformat": 4,
 "nbformat_minor": 4
}
