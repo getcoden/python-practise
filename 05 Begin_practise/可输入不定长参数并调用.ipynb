{
 "cells": [
  {
   "cell_type": "code",
   "execution_count": 1,
   "metadata": {},
   "outputs": [
    {
     "name": "stdout",
     "output_type": "stream",
     "text": [
      ">>>:1 2 3\n",
      "参数个数: 3\n",
      "第0个参数1:\n",
      "第1个参数2:\n",
      "第2个参数3:\n",
      "[1, 2, 3]\n"
     ]
    }
   ],
   "source": [
    "def flist(args):\n",
    "    print('参数个数:',len(args))\n",
    "    for i,k in enumerate(args):\n",
    "        print(\"第{}个参数{}:\".format(i,k))\n",
    "    print(args)\n",
    "b=[]\n",
    "a = input('>>>:').split()\n",
    "for j in a:\n",
    "    b.append(int(j))\n",
    "flist(b)"
   ]
  },
  {
   "cell_type": "code",
   "execution_count": null,
   "metadata": {},
   "outputs": [],
   "source": []
  }
 ],
 "metadata": {
  "kernelspec": {
   "display_name": "Python 3",
   "language": "python",
   "name": "python3"
  },
  "language_info": {
   "codemirror_mode": {
    "name": "ipython",
    "version": 3
   },
   "file_extension": ".py",
   "mimetype": "text/x-python",
   "name": "python",
   "nbconvert_exporter": "python",
   "pygments_lexer": "ipython3",
   "version": "3.8.5"
  },
  "toc": {
   "base_numbering": 1,
   "nav_menu": {},
   "number_sections": true,
   "sideBar": true,
   "skip_h1_title": false,
   "title_cell": "Table of Contents",
   "title_sidebar": "Contents",
   "toc_cell": false,
   "toc_position": {},
   "toc_section_display": true,
   "toc_window_display": false
  }
 },
 "nbformat": 4,
 "nbformat_minor": 4
}
