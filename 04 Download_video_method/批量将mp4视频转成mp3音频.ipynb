{
 "cells": [
  {
   "cell_type": "markdown",
   "metadata": {},
   "source": [
    "我要做的就是在这个基础上改吧改吧："
   ]
  },
  {
   "cell_type": "code",
   "execution_count": null,
   "metadata": {},
   "outputs": [],
   "source": [
    "# 批量将mp4视频转换成mp3音频\n",
    "\n",
    "from pathlib import Path\t\t\t# 管理文件和文件夹的第三方模块\n",
    "from moviepy.editor import *\t\t# 视频处理模块\n",
    "\n",
    "p = Path('/Users/shiying/Documents/课堂外的读本/乡风市声')\n",
    "# p指向存放mp4视频的文件夹\n",
    "\n",
    "q = p.joinpath('mp3')\n",
    "q.mkdir(mode=0o777, exist_ok=True)\n",
    "# 在存放mp4视频的文件夹下建立一个叫做mp3的文件夹，赋予全部权限\n",
    "#（mode=0o777），即使mp3文件夹已经存在也不报错（exist_ok=True）\n",
    "\n",
    "for i in p.glob('*'):\n",
    "# 遍历p所指向的文件夹下的每个视频\n",
    "\n",
    "    audioName = i.stem + '.mp3'\n",
    "    # 音频文件名存放在变量audioName，i.stem得到文件i的扩展名\n",
    "    audioFile = q.joinpath(audioName)\n",
    "    # audioFile指向未来生成的音频文件\n",
    "\n",
    "    if i.suffix in ['.mp4','mov','webm','flv','avi'] and not audioFile.exists():\n",
    "    # 如果i指向的是列表内格式的视频并且它的mp3音频文件在mp3文件夹里不存在\n",
    "        video = VideoFileClip(str(i))\n",
    "        # 生成视频对象，参数是视频文件的路径字串+文件名\n",
    "\t   # 直接放路径对象i会报错，只好转成路径字串放进去\n",
    "        video.audio.write_audiofile(audioFile)\n",
    "        # 视频中的音频取出，保存成文件\n",
    "\t   # 若是在windows上，参数放文件对象audioFile会出错\n",
    "\t   # 需要str(audioFile) 转成字符串"
   ]
  },
  {
   "cell_type": "markdown",
   "metadata": {},
   "source": [
    "因为第一个搜索结果就是stackoverflow上老司机分享的完成这事儿的几行代码："
   ]
  },
  {
   "cell_type": "code",
   "execution_count": null,
   "metadata": {},
   "outputs": [],
   "source": [
    "import os\n",
    "from moviepy.editor import *\n",
    "video = VideoFileClip(os.path.join(\"path\",\"to\",\"movie.mp4\"))\n",
    "video.audio.write_audiofile(os.path.join(\"path\",\"to\",\"movie_sound.mp3\"))"
   ]
  }
 ],
 "metadata": {
  "kernelspec": {
   "display_name": "Python 3",
   "language": "python",
   "name": "python3"
  },
  "language_info": {
   "codemirror_mode": {
    "name": "ipython",
    "version": 3
   },
   "file_extension": ".py",
   "mimetype": "text/x-python",
   "name": "python",
   "nbconvert_exporter": "python",
   "pygments_lexer": "ipython3",
   "version": "3.8.5"
  },
  "toc": {
   "base_numbering": 1,
   "nav_menu": {},
   "number_sections": true,
   "sideBar": true,
   "skip_h1_title": false,
   "title_cell": "Table of Contents",
   "title_sidebar": "Contents",
   "toc_cell": false,
   "toc_position": {},
   "toc_section_display": true,
   "toc_window_display": false
  }
 },
 "nbformat": 4,
 "nbformat_minor": 4
}
