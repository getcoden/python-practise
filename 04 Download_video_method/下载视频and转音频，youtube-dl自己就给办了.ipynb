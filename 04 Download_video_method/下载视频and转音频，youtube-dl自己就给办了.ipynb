{
 "cells": [
  {
   "cell_type": "code",
   "execution_count": 1,
   "metadata": {},
   "outputs": [
    {
     "ename": "ModuleNotFoundError",
     "evalue": "No module named 'ffmpeg'",
     "output_type": "error",
     "traceback": [
      "\u001b[1;31m---------------------------------------------------------------------------\u001b[0m",
      "\u001b[1;31mModuleNotFoundError\u001b[0m                       Traceback (most recent call last)",
      "\u001b[1;32m<ipython-input-1-53f12b2659e2>\u001b[0m in \u001b[0;36m<module>\u001b[1;34m\u001b[0m\n\u001b[0;32m      2\u001b[0m \u001b[1;33m\u001b[0m\u001b[0m\n\u001b[0;32m      3\u001b[0m \u001b[1;32mimport\u001b[0m \u001b[0myoutube_dl\u001b[0m\u001b[1;33m\u001b[0m\u001b[1;33m\u001b[0m\u001b[0m\n\u001b[1;32m----> 4\u001b[1;33m \u001b[1;32mimport\u001b[0m \u001b[0mffmpeg\u001b[0m\u001b[1;33m\u001b[0m\u001b[1;33m\u001b[0m\u001b[0m\n\u001b[0m\u001b[0;32m      5\u001b[0m \u001b[1;33m\u001b[0m\u001b[0m\n\u001b[0;32m      6\u001b[0m \u001b[0maudioFile\u001b[0m \u001b[1;33m=\u001b[0m \u001b[1;34m'/Users/shiying/Documents/PythonABC_Book/bookProg/demo/tmp/'\u001b[0m\u001b[1;33m\u001b[0m\u001b[1;33m\u001b[0m\u001b[0m\n",
      "\u001b[1;31mModuleNotFoundError\u001b[0m: No module named 'ffmpeg'"
     ]
    }
   ],
   "source": [
    "# 给出视频链接，用youtube-dl下载视频，在ffmpeg帮助下将视频转换成音频\n",
    "\n",
    "import youtube_dl\n",
    "import ffmpeg\n",
    "\n",
    "audioFile = '/Users/shiying/Documents/PythonABC_Book/bookProg/demo/tmp/'\n",
    "# 音频文件存放的目标字串\n",
    "\n",
    "# 下载视频的链接\n",
    "videoPage = 'https://www.bilibili.com/video/BV1vW411X7nj'\n",
    "# videoPage = 'https://www.youtube.com/watch?v=FLhzB_DJQb4'\n",
    "\n",
    "ydl_opts = {            # ydl_opts很重要，是个字典，所有参数在这里设置\n",
    "            'outtmpl': audioFile+'%(title)s.%(ext)s',\n",
    "            # 定义输出模版\n",
    "\n",
    "            'postprocessors': [\n",
    "                {'key': 'FFmpegExtractAudio',\n",
    "                 # 指定用FFmpeg从视频中提取音频\n",
    "                 'preferredcodec': 'mp3',\n",
    "                 # 指定音频格式\n",
    "                 },\n",
    "            ],\n",
    "\n",
    "            'keepvideo': True,\n",
    "            # 默认视频转换成音频后删掉视频文件\n",
    "            # 设置为True后不删除视频，测试时反复运行，视频不必每次都下载\n",
    "            }\n",
    "ydl = youtube_dl.YoutubeDL(ydl_opts)        # 生产下载对象\n",
    "\n",
    "with ydl:\n",
    "    ydl.download([videoPage]) "
   ]
  },
  {
   "cell_type": "code",
   "execution_count": null,
   "metadata": {},
   "outputs": [],
   "source": []
  }
 ],
 "metadata": {
  "kernelspec": {
   "display_name": "Python 3",
   "language": "python",
   "name": "python3"
  },
  "language_info": {
   "codemirror_mode": {
    "name": "ipython",
    "version": 3
   },
   "file_extension": ".py",
   "mimetype": "text/x-python",
   "name": "python",
   "nbconvert_exporter": "python",
   "pygments_lexer": "ipython3",
   "version": "3.8.5"
  },
  "toc": {
   "base_numbering": 1,
   "nav_menu": {},
   "number_sections": true,
   "sideBar": true,
   "skip_h1_title": false,
   "title_cell": "Table of Contents",
   "title_sidebar": "Contents",
   "toc_cell": false,
   "toc_position": {},
   "toc_section_display": true,
   "toc_window_display": false
  }
 },
 "nbformat": 4,
 "nbformat_minor": 4
}
