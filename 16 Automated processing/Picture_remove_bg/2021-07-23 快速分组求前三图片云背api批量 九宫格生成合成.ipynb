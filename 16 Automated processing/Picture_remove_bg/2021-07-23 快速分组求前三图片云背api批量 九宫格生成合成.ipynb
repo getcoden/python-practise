{
 "cells": [
  {
   "cell_type": "code",
   "execution_count": 3,
   "metadata": {},
   "outputs": [],
   "source": [
    "import pandas  as pd \n",
    "\n",
    "dfs=pd.read_excel(r\"C:\\Users\\win\\Desktop\\2\\学生成绩表.xlsx\",sheet_name=None)\n",
    "df_all=pd.concat(dfs.values())\n",
    "df_all.groupby(['班级']).apply(lambda x:x.nlargest(3,'成绩')).to_excel(r\"C:\\Users\\win\\Desktop\\2\\学生成绩表前3排序.xlsx\",index=False)"
   ]
  },
  {
   "cell_type": "code",
   "execution_count": 7,
   "metadata": {},
   "outputs": [],
   "source": [
    "# encoding=utf-8\n",
    "from PIL import Image\n",
    "from removebg import RemoveBg\n",
    "\n",
    "# removebg涉及到api_key,需要到其官网申请  https://www.remove.bg/tools-api 我的是用google账号直接登录的\n",
    "api_key = 'qUtP3187uSbe8ghvckgZVvP3'\n",
    "\n",
    "def change_bgcolor(file_in, file_out, api_key, color):\n",
    "  '''\n",
    "      #必须为png格式\n",
    "  '''\n",
    "  p, s = file_in.split(\".\")\n",
    "  rmbg = RemoveBg(api_key, 'error.log')\n",
    "  rmbg.remove_background_from_img_file(file_in)\n",
    "  file_no_bg = \"{}.{}_no_bg.{}\".format(p, s, s)\n",
    "  no_bg_image = Image.open(file_no_bg)\n",
    "  x, y = no_bg_image.size\n",
    "  new_image = Image.new('RGBA', no_bg_image.size, color=color)\n",
    "  new_image.paste(no_bg_image, (0, 0, x, y), no_bg_image)\n",
    "  new_image.save(file_out)\n",
    "\n",
    "\n",
    "# 修改照片尺寸\n",
    "def change_size(file_in, file_out, width, height):\n",
    "  image = Image.open(file_in)\n",
    "  resized_image = image.resize((width, height), Image.ANTIALIAS)\n",
    "  resized_image.save(file_out)\n",
    "\n",
    "\n",
    "if __name__ == \"__main__\":\n",
    "  file_in = r\"C:\\Users\\win\\Desktop\\2\\原图.png\"\n",
    "  file_out =r\"C:\\Users\\win\\Desktop\\2\\原图修改.png\"\n",
    "  # 尺寸可按需求自修改\n",
    "  # change_size(file_in, file_out, width, height)\n",
    "  \n",
    "  # 换背景色\n",
    "  color = (0, 125, 255)\n",
    "  change_bgcolor(file_in, file_out, api_key, color)"
   ]
  },
  {
   "cell_type": "code",
   "execution_count": 6,
   "metadata": {},
   "outputs": [],
   "source": [
    "# 调用网页api\n",
    "\n",
    "import requests\n",
    "\n",
    "response = requests.post('https://api.remove.bg/v1.0/removebg',\n",
    "                         files={'image_file': open(\n",
    "                             r\"C:\\Users\\win\\Desktop\\2\\原图.png\", 'rb')},\n",
    "                         data={'size': 'auto'},\n",
    "                         headers={'X-Api-Key': 'qUtP3187uSbe8ghvckgZVvP3'},)\n",
    "if response.status_code == requests.codes.ok:\n",
    "    with open(r\"C:\\Users\\win\\Desktop\\2\\原图1.png\", 'wb') as out:\n",
    "        out.write(response.content)\n",
    "else:\n",
    "    print(\"Error:\", response.status_code, response.text)\n"
   ]
  },
  {
   "cell_type": "code",
   "execution_count": null,
   "metadata": {},
   "outputs": [],
   "source": [
    "# 单个图片抠图removebg_one.py\n",
    "# pip install removebg\n",
    "\n",
    "from removebg import RemoveBg\n",
    "rmbg = RemoveBg(\"DG2WMZrZNnU2oG8fb7mzv6Ja\", \"error.log\") # 引号内是你获取的API\n",
    "rmbg.remove_background_from_img_file(r\"E:\\Python项目\\总结复习\\抠图removebg_\\images\\1.jpg\",size=\"4k\") #图片地址"
   ]
  },
  {
   "cell_type": "code",
   "execution_count": null,
   "metadata": {},
   "outputs": [],
   "source": [
    "# 批量抠图removebg_more.py\n",
    "\n",
    "from removebg import RemoveBg\n",
    "import os\n",
    "\n",
    "rmbg = RemoveBg(\"DG2WMZrZNnU2oG8fb7mzv6Ja\", \"error.log\")# 引号内是你获取的API\n",
    "path = os.path.join(os.getcwd(),'images')#图片放到程序的同级文件夹images 里面\n",
    "# print(os.listdir(path))\n",
    "for pic in os.listdir(path):\n",
    "    rmbg.remove_background_from_img_file(f\"{path}\\{pic}\")"
   ]
  },
  {
   "cell_type": "code",
   "execution_count": 12,
   "metadata": {},
   "outputs": [
    {
     "name": "stdout",
     "output_type": "stream",
     "text": [
      "9\n"
     ]
    }
   ],
   "source": [
    "# 朋友圈九宫格图片制作\n",
    "# encoding=utf-8\n",
    "from PIL import Image\n",
    "import sys\n",
    "\n",
    "\n",
    "# 先将input image 填充为正方形\n",
    "def fill_image(image):\n",
    "    width, height = image.size\n",
    "    # 选取原图片长、宽中较大值作为新图片的九宫格半径\n",
    "    new_image_length = width if width > height else height\n",
    "    # 生产新图片【白底】\n",
    "    new_image = Image.new(image.mode, (new_image_length, new_image_length), color='white')\n",
    "    # 将原图粘贴在新图上，位置为居中\n",
    "    if width > height:\n",
    "        new_image.paste(image, (0, int((new_image_length - height) / 2)))\n",
    "    else:\n",
    "        new_image.paste(image, (int((new_image_length - width) / 2), 0))\n",
    "    return new_image\n",
    "\n",
    "\n",
    "# 将图片切割成九宫格\n",
    "def cut_image(image):\n",
    "    width, height = image.size\n",
    "    # 一行放3张图\n",
    "    item_width = int(width / 3)\n",
    "    box_list = []\n",
    "    for i in range(0, 3):\n",
    "        for j in range(0, 3):\n",
    "            box = (j * item_width, i * item_width, (j + 1) * item_width, (i + 1) * item_width)\n",
    "            box_list.append(box)\n",
    "    image_list = [image.crop(box) for box in box_list]\n",
    "    return image_list\n",
    "\n",
    "\n",
    "# 保存图片\n",
    "def save_images(image_list):\n",
    "    index = 1\n",
    "    for image in image_list:\n",
    "        image.save(\"C:\\\\Users\\\\win\\\\Desktop\\\\2\\\\\"+str(index) + '.png', 'PNG')\n",
    "        index += 1\n",
    "\n",
    "\n",
    "if __name__ == '__main__':\n",
    "    file_path = r\"C:\\Users\\win\\Desktop\\2\\原图.png\"\n",
    "    image = Image.open(file_path)\n",
    "    # image.show()\n",
    "    image = fill_image(image)\n",
    "    image_list = cut_image(image)\n",
    "    print(len(image_list))\n",
    "    save_images(image_list)\n",
    "    print(\"{}张图片全部生成\".format(len(image_list)))"
   ]
  },
  {
   "cell_type": "code",
   "execution_count": 42,
   "metadata": {},
   "outputs": [
    {
     "name": "stdout",
     "output_type": "stream",
     "text": [
      "[[0, 0], [0, 1], [0, 2], [1, 0], [1, 1], [1, 2], [2, 0], [2, 1], [2, 2]]\n",
      "九宫格图片创建完毕\n"
     ]
    },
    {
     "data": {
      "text/plain": [
       "'C:\\\\Users\\\\win\\\\Desktop\\\\2\\\\Squared.jpg'"
      ]
     },
     "execution_count": 42,
     "metadata": {},
     "output_type": "execute_result"
    }
   ],
   "source": [
    "# 九张图合成一张\n",
    "\n",
    "from PIL import Image, ImageDraw\n",
    "\n",
    "\n",
    "# 十字注视点（仅作为示例图片）\n",
    "# def cross():\n",
    "#     image = Image.new(mode=\"RGB\", size=(200, 200), color='white')\n",
    "#     draw = ImageDraw.Draw(image)\n",
    "#     draw.line((95, 100, 105, 100), 'black')\n",
    "#     draw.line((100, 95, 100, 105), 'black')\n",
    "#     image = image.resize((500, 500), )\n",
    "#     image.save(r\"C:\\Users\\win\\Desktop\\2\\原图.png_no_bg.png\")\n",
    "\n",
    "#   图片九宫格布局\n",
    "def fill_image():\n",
    "    img_list = []\n",
    "    # 按照九宫格规划，依次从左到右、从上到下添加目标图片名到九宫格图片列表img_list中\n",
    "    # 若要使用自定义图片，请自行修改file_path及img_list\n",
    "    cross()\n",
    "    for i in range(9):\n",
    "        img = Image.open(r\"C:\\Users\\win\\Desktop\\2\\原图修改.png\")  #此处默认使用十字注视点作为示例图片\n",
    "        img_list.append(img)\n",
    "\n",
    "    # 生产新图片【黑底以产生各格间分割线】\n",
    "    new_image = Image.new(mode=\"RGB\", size=(1000, 1000), color='white')     #从此处开始修改图片尺寸\n",
    "    # 将原图粘贴在新图上\n",
    "    order=[]\n",
    "    # 简单坐标--order\n",
    "    for i in range(3):\n",
    "        for j in range(3):\n",
    "            order.append([i,j])\n",
    "    print(order)\n",
    "    num=-1\n",
    "    # 若需修改图片尺寸，请自行调参\n",
    "    p_x,p_y=0,0\n",
    "    for i in range(3):\n",
    "        p_y=0\n",
    "        for j in range(3):\n",
    "            num+=1\n",
    "            img_x = img_list[num].resize((163, 198),Image.ANTIALIAS)  # resize调整图片尺寸 默认（300，300）\n",
    "            x=order[num][0]*220+p_x   # 默认（*300）\n",
    "            y=order[num][1]*190+p_y   # 默认（*300）\n",
    "            new_image.paste(img_x, (y,x))\n",
    "            p_y += 5\n",
    "        p_x += 5\n",
    "    new_image=new_image.crop((0,0,900,900))\n",
    "    #保存图片\n",
    "    new_image_name=r\"C:\\Users\\win\\Desktop\\2\\Squared\"+'.jpg'\n",
    "    new_image.save(new_image_name)\n",
    "    new_image.show()\n",
    "    print('九宫格图片创建完毕')\n",
    "    return new_image_name\n",
    "\n",
    "fill_image()\n"
   ]
  },
  {
   "cell_type": "code",
   "execution_count": 63,
   "metadata": {},
   "outputs": [
    {
     "name": "stdout",
     "output_type": "stream",
     "text": [
      "JPEG (1280, 720) RGB\n",
      "JPEG (1280, 720) RGB\n",
      "JPEG (1280, 720) RGB\n",
      "JPEG (1280, 720) RGB\n",
      "JPEG (1280, 720) RGB\n",
      "JPEG (1280, 720) RGB\n",
      "JPEG (1280, 720) RGB\n",
      "JPEG (1280, 720) RGB\n",
      "JPEG (1280, 720) RGB\n",
      "JPEG (1280, 720) RGB\n"
     ]
    }
   ],
   "source": [
    "# 批量修改文件大小\n",
    "\n",
    "# 导入需要的模块\n",
    "from glob import glob\n",
    "from PIL import Image\n",
    "import os\n",
    " \n",
    "# 图片路径\n",
    "# 使用 glob模块 获得文件夹内所有jpg图像\n",
    "img_path = glob(r\"C:\\Users\\win\\Desktop\\2\\17张程序员专属壁纸（后续将持续更新）\\*.jpg\")\n",
    "#存储（输出）路径\n",
    "path_save = r\"C:\\Users\\win\\Desktop\\2\\1\"\n",
    " \n",
    " \n",
    " \n",
    "for i,file in enumerate(img_path):\n",
    "    name = os.path.join(path_save, \"%d.jpg\"%i)\n",
    "    im = Image.open(file)\n",
    "    # im.thumbnail((720,1280))\n",
    "    reim = im.resize((1280,720))\n",
    "    print(im.format, reim.size, reim.mode)\n",
    "    reim.save(name,im.format)"
   ]
  },
  {
   "cell_type": "code",
   "execution_count": 64,
   "metadata": {},
   "outputs": [
    {
     "name": "stdout",
     "output_type": "stream",
     "text": [
      "JPEG (178, 218) RGB\n",
      "JPEG (178, 218) RGB\n",
      "JPEG (178, 218) RGB\n",
      "JPEG (178, 218) RGB\n",
      "JPEG (178, 218) RGB\n",
      "JPEG (178, 218) RGB\n",
      "JPEG (178, 218) RGB\n",
      "JPEG (178, 218) RGB\n",
      "JPEG (178, 218) RGB\n",
      "JPEG (178, 218) RGB\n"
     ]
    }
   ],
   "source": [
    "# 指量修改文件分辨率\n",
    "\n",
    "from glob import glob\n",
    "from PIL import Image\n",
    "import os\n",
    "img_path = glob(r\"C:\\Users\\win\\Desktop\\2\\17张程序员专属壁纸（后续将持续更新）\\*.jpg\")\n",
    "path_save = r\"C:\\Users\\win\\Desktop\\2\\1\"\n",
    "a = range(0,len(img_path))\n",
    "i = 0\n",
    "for file in img_path:\n",
    "    name = os.path.join(path_save, \"%d.jpg\"%a[i])\n",
    "    im = Image.open(file)\n",
    "    # im.thumbnail((178,218))\n",
    "    reim = im.resize((178,218))\n",
    "    print(im.format, reim.size, reim.mode)\n",
    "    im.save(name)\n",
    "    i+=1\n",
    " "
   ]
  },
  {
   "cell_type": "code",
   "execution_count": 69,
   "metadata": {},
   "outputs": [],
   "source": [
    "# -*- coding: utf-8 -*-\n",
    "import os\n",
    "import glob\n",
    "from PIL import Image\n",
    "import os.path\n",
    "\n",
    "# python 批量修改图片大小\n",
    "\n",
    "''' 修改图片文件大小 jpgfile：图片文件；savedir：修改后要保存的路径 '''\n",
    "\n",
    "def convertjpg(jpgfile,savedir,width=500,height=400):\n",
    "    img=Image.open(jpgfile)\n",
    "    new_img=img.resize((width,height),Image.BILINEAR)\n",
    "    new_img.save(os.path.join(savedir,os.path.basename(jpgfile)))\n",
    "\n",
    "''' 查找给定路径下图片文件，并修改其大小 '''\n",
    "def modifyjpgSize(file,saveDir):\n",
    "    for jpgfile in glob.glob(file):\n",
    "        convertjpg(jpgfile,saveDir)\n",
    "\n",
    "# 测试代码\n",
    "file = r\"C:\\Users\\win\\Desktop\\2\\17张程序员专属壁纸（后续将持续更新）\\*.jpg\"\n",
    "saveDir = r\"C:\\Users\\win\\Desktop\\2\\1\"\n",
    "modifyjpgSize(file,saveDir)"
   ]
  },
  {
   "cell_type": "code",
   "execution_count": null,
   "metadata": {},
   "outputs": [],
   "source": []
  }
 ],
 "metadata": {
  "kernelspec": {
   "display_name": "Python 3",
   "language": "python",
   "name": "python3"
  },
  "language_info": {
   "codemirror_mode": {
    "name": "ipython",
    "version": 3
   },
   "file_extension": ".py",
   "mimetype": "text/x-python",
   "name": "python",
   "nbconvert_exporter": "python",
   "pygments_lexer": "ipython3",
   "version": "3.8.5"
  },
  "toc": {
   "base_numbering": 1,
   "nav_menu": {},
   "number_sections": true,
   "sideBar": true,
   "skip_h1_title": false,
   "title_cell": "Table of Contents",
   "title_sidebar": "Contents",
   "toc_cell": false,
   "toc_position": {},
   "toc_section_display": true,
   "toc_window_display": false
  }
 },
 "nbformat": 4,
 "nbformat_minor": 4
}
