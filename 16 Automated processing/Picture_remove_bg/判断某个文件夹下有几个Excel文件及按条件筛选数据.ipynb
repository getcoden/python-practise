{
 "cells": [
  {
   "cell_type": "code",
   "execution_count": 3,
   "metadata": {
    "scrolled": true
   },
   "outputs": [],
   "source": [
    "import os,xlrd\n",
    " \n",
    "data_path = os.path.join('D:\\jupyter notebook','test')#os.path.join()函数：连接两个或更多的路径名\n",
    "print(data_path)\n",
    " \n",
    "#获取目录下所有Excel中sheet\n",
    "def getTables():\n",
    "    for excel in os.listdir(data_path):#os.listdir() 方法用于返回指定的文件夹包含的文件或文件夹的名字的列表\n",
    "        print(excel)\n",
    "        if excel.startswith('~'):\n",
    "            break\n",
    "        excelPath = os.path.join(data_path, excel)#拼接路径\n",
    "        excels = xlrd.open_workbook(excelPath)\n",
    "        sheetNames = excels.sheet_names()#获取目录下所有sheet的名字，sheetNames为list类型\n",
    "        print('sheetNames:',sheetNames)\n",
    "        # 循环从sheetNames中读取sheet表，返回的是sheet的内存地址\n",
    "        for sheet in sheetNames:\n",
    "            table = excels.sheet_by_name(sheet)\n",
    "        print('table:',table)\n",
    "        return table\n",
    "#从getTables()中返回的table中提取数据，sheet中的数据组成一个列表，Excel中的表头和数据分别组成key:value的格式\n",
    "def getData(sheets):\n",
    "    data = []\n",
    "    for i in range(2, sheets.nrows):\n",
    "        data.append(dict(zip(sheets.row_values(1), sheets.row_values(i))))\n",
    "    print('读取出的data:',data)\n",
    "\n",
    "for i in range(2):\n",
    "    getData(getTables())"
   ]
  },
  {
   "cell_type": "code",
   "execution_count": 42,
   "metadata": {},
   "outputs": [],
   "source": [
    "import pandas as pd\n",
    "def xlsx_to_csv_pd():\n",
    "    \n",
    "    #sheet_name=None 表示读取全部 sheet，或者 sheet_name=[0,10]，此处用 sheet_name，而不是用 sheetname\n",
    "    data_xls = pd.read_excel(r'D:\\jupyter notebook\\test\\21体侧数据模板.xls',sheet_name=None,index_col=0)\n",
    "    for key in data_xls:\n",
    "        data_xls[key].to_csv(r'D:\\jupyter notebook\\test\\key' +  '.csv',encoding='utf-8')\n",
    "                             \n",
    "if __name__=='__main__':\n",
    "                             \n",
    "    xlsx_to_csv_pd()"
   ]
  },
  {
   "cell_type": "code",
   "execution_count": 4,
   "metadata": {},
   "outputs": [],
   "source": [
    "\n",
    "# -*- coding:utf-8 -*-\n",
    "#模块功能：判断某个文件夹下有几个Excel文件，每个Excel有几个Sheet及Sheet Name\n",
    "import os\n",
    "import openpyxl\n",
    "\n",
    "def getFileNames(path):\n",
    "    filenames = os.listdir(path)\n",
    "    for i, filename in enumerate(filenames):\n",
    "         if i==0:\n",
    "            iSpecialFile=i+1\n",
    "            sFileName=filename\n",
    "\n",
    "         print('==================第%s个文件========================='%(i+1))\n",
    "         print('文件名：%s'%(filename))\n",
    "         getSheetNames(path,filename)\n",
    "    print('\\n')\n",
    "    print('--------------------选择指定的第几个文件-------------------------')\n",
    "    print('指定的是第%s个文件:'%iSpecialFile+sFileName )\n",
    "    print('----------------------------------------------------------------')\n",
    "\n",
    "def getSheetNames(path,sFileName):\n",
    "    wb = openpyxl.load_workbook(path+'\\\\'+sFileName)\n",
    "    # 获取workbook中所有的表格\n",
    "    sheets = wb.sheetnames\n",
    "\n",
    "    # 循环遍历所有sheet\n",
    "    for i in range(len(sheets)):\n",
    "        sheet = wb[sheets[i]]\n",
    "        print('第' + str(i + 1) + '个sheet Name: ' + sheet.title)\n",
    "\n",
    "if __name__=='__main__':\n",
    "    path=r'D:\\jupyter notebook\\xx'\n",
    "    getFileNames(path)\n"
   ]
  },
  {
   "cell_type": "code",
   "execution_count": 5,
   "metadata": {
    "scrolled": true
   },
   "outputs": [],
   "source": [
    "import pandas as pd \n",
    "import os \n",
    "students = pd.read_excel('./Students.xlsx')\n",
    "students"
   ]
  },
  {
   "cell_type": "code",
   "execution_count": 23,
   "metadata": {
    "collapsed": true
   },
   "outputs": [
    {
     "data": {
      "text/html": [
       "<div>\n",
       "<style scoped>\n",
       "    .dataframe tbody tr th:only-of-type {\n",
       "        vertical-align: middle;\n",
       "    }\n",
       "\n",
       "    .dataframe tbody tr th {\n",
       "        vertical-align: top;\n",
       "    }\n",
       "\n",
       "    .dataframe thead th {\n",
       "        text-align: right;\n",
       "    }\n",
       "</style>\n",
       "<table border=\"1\" class=\"dataframe\">\n",
       "  <thead>\n",
       "    <tr style=\"text-align: right;\">\n",
       "      <th></th>\n",
       "      <th>ID</th>\n",
       "      <th>Name</th>\n",
       "      <th>Age</th>\n",
       "      <th>Chinese</th>\n",
       "      <th>Math</th>\n",
       "      <th>English</th>\n",
       "    </tr>\n",
       "  </thead>\n",
       "  <tbody>\n",
       "    <tr>\n",
       "      <th>1</th>\n",
       "      <td>15519</td>\n",
       "      <td>韦玉英</td>\n",
       "      <td>26</td>\n",
       "      <td>96.0</td>\n",
       "      <td>104.0</td>\n",
       "      <td>68</td>\n",
       "    </tr>\n",
       "    <tr>\n",
       "      <th>3</th>\n",
       "      <td>15216</td>\n",
       "      <td>邵宁</td>\n",
       "      <td>27</td>\n",
       "      <td>99.5</td>\n",
       "      <td>105.0</td>\n",
       "      <td>100</td>\n",
       "    </tr>\n",
       "    <tr>\n",
       "      <th>5</th>\n",
       "      <td>15638</td>\n",
       "      <td>陈秀荣</td>\n",
       "      <td>20</td>\n",
       "      <td>93.0</td>\n",
       "      <td>105.0</td>\n",
       "      <td>46</td>\n",
       "    </tr>\n",
       "    <tr>\n",
       "      <th>7</th>\n",
       "      <td>16909</td>\n",
       "      <td>李娟</td>\n",
       "      <td>21</td>\n",
       "      <td>102.0</td>\n",
       "      <td>98.0</td>\n",
       "      <td>41</td>\n",
       "    </tr>\n",
       "  </tbody>\n",
       "</table>\n",
       "</div>"
      ],
      "text/plain": [
       "      ID Name  Age  Chinese   Math  English\n",
       "1  15519  韦玉英   26     96.0  104.0       68\n",
       "3  15216   邵宁   27     99.5  105.0      100\n",
       "5  15638  陈秀荣   20     93.0  105.0       46\n",
       "7  16909   李娟   21    102.0   98.0       41"
      ]
     },
     "execution_count": 23,
     "metadata": {},
     "output_type": "execute_result"
    }
   ],
   "source": [
    "\n",
    "students11 = students.loc[students.Age.apply(lambda a:18<=a<=30)].loc[students.Chinese.apply(lambda b:b>=90)]\n",
    "students11"
   ]
  },
  {
   "cell_type": "code",
   "execution_count": 6,
   "metadata": {},
   "outputs": [],
   "source": [
    "def score_85(b):\n",
    "    return b>=85\n",
    "students = students.loc[students.Chinese.apply(score_85)]\n",
    "students"
   ]
  },
  {
   "cell_type": "code",
   "execution_count": 7,
   "metadata": {
    "scrolled": true
   },
   "outputs": [],
   "source": [
    "students22 = students.loc[students.Math.apply(lambda b:b>=95)]\n",
    "students22"
   ]
  },
  {
   "cell_type": "code",
   "execution_count": 8,
   "metadata": {},
   "outputs": [],
   "source": [
    "st = pd.read_excel('./stu.xlsx')\n",
    "st"
   ]
  },
  {
   "cell_type": "code",
   "execution_count": 9,
   "metadata": {},
   "outputs": [],
   "source": [
    "stu1=st.loc[st.语文.apply(lambda x:x>=90)].loc[st.数学.apply(lambda y:80<=y<=120)]\n",
    "stu1"
   ]
  },
  {
   "cell_type": "code",
   "execution_count": 42,
   "metadata": {},
   "outputs": [
    {
     "data": {
      "text/html": [
       "<div>\n",
       "<style scoped>\n",
       "    .dataframe tbody tr th:only-of-type {\n",
       "        vertical-align: middle;\n",
       "    }\n",
       "\n",
       "    .dataframe tbody tr th {\n",
       "        vertical-align: top;\n",
       "    }\n",
       "\n",
       "    .dataframe thead th {\n",
       "        text-align: right;\n",
       "    }\n",
       "</style>\n",
       "<table border=\"1\" class=\"dataframe\">\n",
       "  <thead>\n",
       "    <tr style=\"text-align: right;\">\n",
       "      <th></th>\n",
       "      <th>序号</th>\n",
       "      <th>考号</th>\n",
       "      <th>班级</th>\n",
       "      <th>姓名</th>\n",
       "      <th>性别</th>\n",
       "      <th>语文</th>\n",
       "      <th>数学</th>\n",
       "      <th>英语</th>\n",
       "      <th>电话</th>\n",
       "    </tr>\n",
       "  </thead>\n",
       "  <tbody>\n",
       "    <tr>\n",
       "      <th>1</th>\n",
       "      <td>2</td>\n",
       "      <td>15519</td>\n",
       "      <td>五4班</td>\n",
       "      <td>韦玉英</td>\n",
       "      <td>F</td>\n",
       "      <td>96.0</td>\n",
       "      <td>104.0</td>\n",
       "      <td>68</td>\n",
       "      <td>15204988144</td>\n",
       "    </tr>\n",
       "    <tr>\n",
       "      <th>3</th>\n",
       "      <td>4</td>\n",
       "      <td>15216</td>\n",
       "      <td>五2班</td>\n",
       "      <td>邵宁</td>\n",
       "      <td>F</td>\n",
       "      <td>99.5</td>\n",
       "      <td>105.0</td>\n",
       "      <td>100</td>\n",
       "      <td>14557026347</td>\n",
       "    </tr>\n",
       "    <tr>\n",
       "      <th>14</th>\n",
       "      <td>15</td>\n",
       "      <td>15670</td>\n",
       "      <td>五4班</td>\n",
       "      <td>纪楠</td>\n",
       "      <td>F</td>\n",
       "      <td>102.0</td>\n",
       "      <td>85.5</td>\n",
       "      <td>63</td>\n",
       "      <td>18620979568</td>\n",
       "    </tr>\n",
       "    <tr>\n",
       "      <th>28</th>\n",
       "      <td>29</td>\n",
       "      <td>15538</td>\n",
       "      <td>五3班</td>\n",
       "      <td>单勇</td>\n",
       "      <td>F</td>\n",
       "      <td>97.0</td>\n",
       "      <td>88.5</td>\n",
       "      <td>61</td>\n",
       "      <td>13412151326</td>\n",
       "    </tr>\n",
       "  </tbody>\n",
       "</table>\n",
       "</div>"
      ],
      "text/plain": [
       "    序号     考号   班级   姓名 性别     语文     数学   英语           电话\n",
       "1    2  15519  五4班  韦玉英  F   96.0  104.0   68  15204988144\n",
       "3    4  15216  五2班   邵宁  F   99.5  105.0  100  14557026347\n",
       "14  15  15670  五4班   纪楠  F  102.0   85.5   63  18620979568\n",
       "28  29  15538  五3班   单勇  F   97.0   88.5   61  13412151326"
      ]
     },
     "execution_count": 42,
     "metadata": {},
     "output_type": "execute_result"
    }
   ],
   "source": [
    "stu2=st.loc[st.语文.apply(lambda x:x>=90)].loc[st.数学.apply(lambda y:80<=y<=120)].loc[st.英语.apply(lambda z:z>60)]\n",
    "stu2"
   ]
  },
  {
   "cell_type": "code",
   "execution_count": 10,
   "metadata": {},
   "outputs": [],
   "source": [
    "def score_60(c):\n",
    "    return c>90\n",
    "stu3=st.loc[st.英语.apply(score_60)]\n",
    "stu3"
   ]
  },
  {
   "cell_type": "code",
   "execution_count": 1,
   "metadata": {},
   "outputs": [],
   "source": [
    "import pandas as pd \n",
    "import os "
   ]
  },
  {
   "cell_type": "code",
   "execution_count": 11,
   "metadata": {},
   "outputs": [],
   "source": [
    "def read_excel(path):\n",
    "  df=pd.read_excel(path,None)\n",
    "  print(df.keys())\n",
    "  # for k,v in df.items():\n",
    "  #   print(k)\n",
    "  #   print(v)\n",
    "  #   print(type(v))\n",
    "  return df\n",
    "path = r'./stu.xlsx'\n",
    "read_excel(path)"
   ]
  },
  {
   "cell_type": "code",
   "execution_count": 12,
   "metadata": {},
   "outputs": [],
   "source": [
    "def read_excel1(path):\n",
    "  data_xls = pd.ExcelFile(path)\n",
    "  print(data_xls.sheet_names)\n",
    "  data={}\n",
    "  for name in data_xls.sheet_names:\n",
    "    df=data_xls.parse(sheetname=name,header=None)\n",
    "    data[name]=df\n",
    "    # print(df)\n",
    "    # print(name)\n",
    "  return data\n",
    "read_excel1(path)"
   ]
  },
  {
   "cell_type": "code",
   "execution_count": null,
   "metadata": {},
   "outputs": [],
   "source": []
  }
 ],
 "metadata": {
  "kernelspec": {
   "display_name": "Python 3",
   "language": "python",
   "name": "python3"
  },
  "language_info": {
   "codemirror_mode": {
    "name": "ipython",
    "version": 3
   },
   "file_extension": ".py",
   "mimetype": "text/x-python",
   "name": "python",
   "nbconvert_exporter": "python",
   "pygments_lexer": "ipython3",
   "version": "3.8.5"
  },
  "toc": {
   "base_numbering": 1,
   "nav_menu": {},
   "number_sections": true,
   "sideBar": true,
   "skip_h1_title": false,
   "title_cell": "Table of Contents",
   "title_sidebar": "Contents",
   "toc_cell": false,
   "toc_position": {},
   "toc_section_display": true,
   "toc_window_display": false
  }
 },
 "nbformat": 4,
 "nbformat_minor": 4
}
