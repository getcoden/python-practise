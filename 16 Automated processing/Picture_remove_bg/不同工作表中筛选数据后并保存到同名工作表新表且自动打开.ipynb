{
 "cells": [
  {
   "cell_type": "code",
   "execution_count": 48,
   "metadata": {
    "collapsed": true
   },
   "outputs": [
    {
     "name": "stdout",
     "output_type": "stream",
     "text": [
      "dict_keys(['Sheet1', 'Sheet2', 'Sheet3'])\n",
      "   code city\n",
      "0   111  NaN\n",
      "1   111  CA \n",
      "   code city\n",
      "0   111  NaN\n",
      "1   111  CA \n",
      "   code city\n",
      "0   111  NaN\n",
      "1   111  CA \n"
     ]
    }
   ],
   "source": [
    "import pandas as pd\n",
    "import numpy as np\n",
    "import openpyxl\n",
    "\n",
    "# 读取excel 某个sheet下的数据,将其转化为列表数据，方便操作\n",
    "\n",
    "\n",
    "def get_excel_sheet_data(filename, sheetname):\n",
    "    try:\n",
    "        df = pd.read_excel(filename, sheet_name=sheetname)\n",
    "        dataList = df.to_dict(orient='records')  # 转换为列表\n",
    "        return dataList\n",
    "    except:\n",
    "        print('未能打开此文件，请确认文件名及路径是否正确')\n",
    "        return []\n",
    "\n",
    "\n",
    "# 读取excel 所有sheet表名，并将其转化为列表返回\n",
    "def get_excel_sheet_list(filename):\n",
    "    try:\n",
    "        df = pd.read_excel(filename, sheet_name=None)\n",
    "        return df.keys()\n",
    "    except Exception as e:\n",
    "        print(e)\n",
    "        return []\n",
    "\n",
    "\n",
    "if __name__ == '__main__':\n",
    "    fileName = 'D:/test/xlsx/Notes_111.xlsx'\n",
    "    sheetList = get_excel_sheet_list(fileName)  # 获取sheet列表\n",
    "    print(sheetList)\n",
    "    writer = pd.ExcelWriter(\"D:/test/xlsx/新数据.xlsx\", engin='openpyxl')\n",
    "    for i in sheetList:  # 遍历每个sheet名称\n",
    "        sheetData = get_excel_sheet_data(fileName, i)   # 读取每个sheet下的数据\n",
    "        for j in sheetData:  # 取出每一项的数据\n",
    "            # do something\n",
    "            # 依次根据sheet名称对“新数据.xlsx”此文件多次写入Sheet\n",
    "            pd_look = pd.DataFrame(sheetData)\n",
    "            pd_look.to_excel(writer, sheet_name=i, index=False)\n",
    "        # 最后保存写入，并释放\n",
    "    writer.save()\n",
    "\n",
    "\n",
    "# 没有操作成功示例"
   ]
  },
  {
   "cell_type": "code",
   "execution_count": 64,
   "metadata": {},
   "outputs": [
    {
     "name": "stdout",
     "output_type": "stream",
     "text": [
      "dict_keys(['Sheet1'])\n",
      "   code       city\n",
      "0   111         NY\n",
      "1   111         CA\n"
     ]
    }
   ],
   "source": [
    "import pandas as pd\n",
    "import numpy as np\n",
    "from openpyxl import load_workbook \n",
    "import os \n",
    "import time \n",
    "\n",
    "# 根据时间创建工作表名子\n",
    "\n",
    "path = r\"D:\\test\\xlsx\"\n",
    "if not os.path.exists(path):\n",
    "    os.mkdir(path)\n",
    "\n",
    "# 工作表名字\n",
    "date_rand = time.strftime(\"%H-%M-%S\", time.localtime()) # \"%Y-%m-%d\" 按日期创建文件\n",
    "out_file_name = path+'\\%s.xlsx' % date_rand\n",
    "\n",
    "# 读取excel 某个sheet下的数据,将其转化为列表数据，方便操作\n",
    "def get_excel_sheet_data(filename, sheetname):\n",
    "    try:\n",
    "        df = pd.read_excel(filename, sheet_name=sheetname)\n",
    "        return df \n",
    "    except:\n",
    "        print('未能打开此文件，请确认文件名及路径是否正确')\n",
    "        return []\n",
    "\n",
    "\n",
    "# 读取excel 所有sheet表名，并将其转化为列表返回\n",
    "def get_excel_sheet_list(filename):\n",
    "    try:\n",
    "        df = pd.read_excel(filename, sheet_name=None)\n",
    "        return df.keys()\n",
    "    except Exception as e:\n",
    "        print(e)\n",
    "        return []\n",
    "\n",
    "\n",
    "if __name__ == '__main__':\n",
    "    fileName = 'D:/test/xlsx/Notes_222.xlsx'\n",
    "    sheetList = get_excel_sheet_list(fileName)  # 获取sheet列表\n",
    "    print(sheetList)\n",
    "    writer = pd.ExcelWriter(out_file_name,engine='openpyxl')\n",
    "    # 加上这一句是为了不覆盖掉原xlsx文件里的工作表,要加入 engine='openpyxl' 引擎\n",
    "#     book = load_workbook(writer.path)\n",
    "    # 加上这一句是为了不覆盖掉原xlsx文件里的工作表，同时也 import 入 from openpylx import load_workbook\n",
    "#     writer.book = book\n",
    "\n",
    "    for i in sheetList:  # 遍历每个sheet名称\n",
    "        sheetData = get_excel_sheet_data(fileName, i)   # 读取每个sheet下的数据\n",
    "        df=sheetData[sheetData['code']==111] # do something\n",
    "        print(df)\n",
    "        # 依次根据sheet名称对“新数据.xlsx”此文件多次写入Sheet\n",
    "        df.to_excel(writer, sheet_name=i, index=False)\n",
    "            \n",
    "    writer.save()  # 最后保存写入，并释放\n",
    "    os.system('explorer.exe ' + path) # 程序执行完后自动打开目标文件夹 "
   ]
  },
  {
   "cell_type": "code",
   "execution_count": 57,
   "metadata": {},
   "outputs": [
    {
     "data": {
      "text/plain": [
       "1"
      ]
     },
     "execution_count": 57,
     "metadata": {},
     "output_type": "execute_result"
    }
   ],
   "source": [
    "sPath=r'd:\\test1'\n",
    "os.system('explorer.exe ' + sPath)"
   ]
  },
  {
   "cell_type": "code",
   "execution_count": 65,
   "metadata": {},
   "outputs": [
    {
     "name": "stdout",
     "output_type": "stream",
     "text": [
      "time.struct_time(tm_year=2021, tm_mon=7, tm_mday=7, tm_hour=16, tm_min=30, tm_sec=37, tm_wday=2, tm_yday=188, tm_isdst=0)\n",
      "2021 年 7 月 7 日\n",
      "16 时 30 分 37 秒\n"
     ]
    }
   ],
   "source": [
    "def main():\n",
    "    print(time.localtime())\n",
    "\n",
    "    year = time.localtime().tm_year\n",
    "    month = time.localtime().tm_mon\n",
    "    day = time.localtime().tm_mday\n",
    "\n",
    "    hour = time.localtime().tm_hour\n",
    "    minute = time.localtime().tm_min\n",
    "    second = time.localtime().tm_sec\n",
    "    print(year, '年', month, '月', day, '日')\n",
    "    print(hour, '时', minute, '分', second, '秒')\n",
    "\n",
    "\n",
    "if __name__ == '__main__':\n",
    "    main()\n"
   ]
  },
  {
   "cell_type": "code",
   "execution_count": null,
   "metadata": {},
   "outputs": [],
   "source": []
  }
 ],
 "metadata": {
  "kernelspec": {
   "display_name": "Python 3",
   "language": "python",
   "name": "python3"
  },
  "language_info": {
   "codemirror_mode": {
    "name": "ipython",
    "version": 3
   },
   "file_extension": ".py",
   "mimetype": "text/x-python",
   "name": "python",
   "nbconvert_exporter": "python",
   "pygments_lexer": "ipython3",
   "version": "3.8.5"
  },
  "toc": {
   "base_numbering": 1,
   "nav_menu": {},
   "number_sections": true,
   "sideBar": true,
   "skip_h1_title": false,
   "title_cell": "Table of Contents",
   "title_sidebar": "Contents",
   "toc_cell": false,
   "toc_position": {},
   "toc_section_display": true,
   "toc_window_display": false
  }
 },
 "nbformat": 4,
 "nbformat_minor": 4
}
