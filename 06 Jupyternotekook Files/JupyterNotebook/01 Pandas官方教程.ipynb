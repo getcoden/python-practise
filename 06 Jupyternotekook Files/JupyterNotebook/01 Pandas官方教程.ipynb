{
 "cells": [
  {
   "cell_type": "code",
   "execution_count": 1,
   "metadata": {
    "ExecuteTime": {
     "end_time": "2021-03-30T07:40:01.308237Z",
     "start_time": "2021-03-30T07:40:01.291236Z"
    }
   },
   "outputs": [
    {
     "name": "stdout",
     "output_type": "stream",
     "text": [
      "2021-03-30 15:40:01.295236\n"
     ]
    }
   ],
   "source": [
    "import datetime\n",
    "\n",
    "a = datetime.datetime.now()\n",
    "print(a)"
   ]
  },
  {
   "cell_type": "code",
   "execution_count": 1,
   "metadata": {
    "ExecuteTime": {
     "end_time": "2021-05-18T01:02:59.524247Z",
     "start_time": "2021-05-18T01:02:58.387182Z"
    }
   },
   "outputs": [],
   "source": [
    "import pandas as pd\n",
    "import matplotlib\n",
    "import os\n",
    "import sys\n"
   ]
  },
  {
   "cell_type": "code",
   "execution_count": 2,
   "metadata": {
    "ExecuteTime": {
     "end_time": "2021-05-18T01:03:00.668313Z",
     "start_time": "2021-05-18T01:03:00.616310Z"
    }
   },
   "outputs": [
    {
     "data": {
      "text/html": [
       "<div>\n",
       "<style scoped>\n",
       "    .dataframe tbody tr th:only-of-type {\n",
       "        vertical-align: middle;\n",
       "    }\n",
       "\n",
       "    .dataframe tbody tr th {\n",
       "        vertical-align: top;\n",
       "    }\n",
       "\n",
       "    .dataframe thead th {\n",
       "        text-align: right;\n",
       "    }\n",
       "</style>\n",
       "<table border=\"1\" class=\"dataframe\">\n",
       "  <thead>\n",
       "    <tr style=\"text-align: right;\">\n",
       "      <th></th>\n",
       "      <th>Channel</th>\n",
       "      <th>Number</th>\n",
       "    </tr>\n",
       "  </thead>\n",
       "  <tbody>\n",
       "    <tr>\n",
       "      <th>0</th>\n",
       "      <td>1</td>\n",
       "      <td>255</td>\n",
       "    </tr>\n",
       "  </tbody>\n",
       "</table>\n",
       "</div>"
      ],
      "text/plain": [
       "   Channel  Number\n",
       "0        1     255"
      ]
     },
     "execution_count": 2,
     "metadata": {},
     "output_type": "execute_result"
    }
   ],
   "source": [
    "# 创建 DataFrame\n",
    "d = {'Channel':[1], 'Number':[255]}\n",
    "df = pd.DataFrame(d)\n",
    "df"
   ]
  },
  {
   "cell_type": "code",
   "execution_count": 3,
   "metadata": {
    "ExecuteTime": {
     "end_time": "2021-05-18T01:03:02.671427Z",
     "start_time": "2021-05-18T01:03:02.120396Z"
    }
   },
   "outputs": [
    {
     "name": "stdout",
     "output_type": "stream",
     "text": [
      "Done\n"
     ]
    }
   ],
   "source": [
    "# 导出到 Excel 文件中\n",
    "df.to_excel('test1.xlsx', sheet_name = 'test1', index = False)\n",
    "df.to_excel('test2.xlsx', sheet_name = 'test2', index = False)\n",
    "df.to_excel('test3.xlsx', sheet_name = 'test3', index = False)\n",
    "print('Done')\n"
   ]
  },
  {
   "cell_type": "code",
   "execution_count": 4,
   "metadata": {
    "ExecuteTime": {
     "end_time": "2021-05-18T01:03:05.376582Z",
     "start_time": "2021-05-18T01:03:05.359581Z"
    }
   },
   "outputs": [
    {
     "data": {
      "text/plain": [
       "['12.xlsx', 'shopping.xlsx', 'test1.xlsx', 'test2.xlsx', 'test3.xlsx']"
      ]
     },
     "execution_count": 4,
     "metadata": {},
     "output_type": "execute_result"
    }
   ],
   "source": [
    "# 放文件名的 list\n",
    "FileNames = []\n",
    "# 你存放Excel文件的路径可能不一样，需要修改。\n",
    "os.chdir(r\"./\")\n",
    "# 找到所有文件扩展名是 .xlsx 的文件\n",
    "for files in os.listdir(\".\"):\n",
    "    if files.endswith(\".xlsx\"):\n",
    "        FileNames.append(files)\n",
    "FileNames"
   ]
  },
  {
   "cell_type": "code",
   "execution_count": 5,
   "metadata": {
    "ExecuteTime": {
     "end_time": "2021-05-18T01:03:07.960730Z",
     "start_time": "2021-05-18T01:03:07.952729Z"
    }
   },
   "outputs": [],
   "source": [
    "def GetFile(fnombre):\n",
    "    # Excel 文件的路径\n",
    "    # 你存放Excel文件的路径可能不一样，需要修改。\n",
    "    location = r'./' + fnombre\n",
    "    # 读入 Excel 文件的数据\n",
    "    # 0 = 第一个页签\n",
    "    df = pd.read_excel(location, 0)\n",
    "    # 标记一下数据是从哪个文件来的\n",
    "    df['File'] = fnombre\n",
    "    # 把 'File' 列作为索引\n",
    "    return df"
   ]
  },
  {
   "cell_type": "code",
   "execution_count": 6,
   "metadata": {
    "ExecuteTime": {
     "end_time": "2021-05-18T01:03:12.583994Z",
     "start_time": "2021-05-18T01:03:12.391983Z"
    }
   },
   "outputs": [
    {
     "data": {
      "text/plain": [
       "[   Unnamed: 0   id       date     File\n",
       " 0           0  101 2020-03-10  12.xlsx\n",
       " 1           1  102 2020-03-11  12.xlsx\n",
       " 2           2  103 2020-03-12  12.xlsx\n",
       " 3           3  104 2020-03-13  12.xlsx\n",
       " 4           4  105 2020-03-14  12.xlsx\n",
       " 5           5  106 2020-03-15  12.xlsx\n",
       " 6           6  107 2020-03-16  12.xlsx\n",
       " 7           7  108 2020-03-17  12.xlsx\n",
       " 8           8  109 2020-03-18  12.xlsx\n",
       " 9           9  110 2020-03-19  12.xlsx,\n",
       "     id       date  money product department    origin           File\n",
       " 0  101 2020-03-10      5     苏打水         饮料     China  shopping.xlsx\n",
       " 1  102 2020-03-11      4      可乐         饮料     China  shopping.xlsx\n",
       " 2  103 2020-03-12     65     牛肉干         零食   America  shopping.xlsx\n",
       " 3  104 2020-03-13    -10     老干妈        调味品     China  shopping.xlsx\n",
       " 4  105 2020-03-14     15      菠萝         水果  Thailand  shopping.xlsx\n",
       " 5  106 2020-03-15     20     冰激凌        NaN     China  shopping.xlsx\n",
       " 6  107 2020-03-16     35     洗面奶        日用品   america  shopping.xlsx\n",
       " 7  108 2020-03-17     16      洋葱         蔬菜     China  shopping.xlsx\n",
       " 8  109 2020-03-18      6      牙膏        日用品     China  shopping.xlsx\n",
       " 9  110 2020-03-19     20      薯片         零食     Japan  shopping.xlsx,\n",
       "    Channel  Number        File\n",
       " 0        1     255  test1.xlsx,\n",
       "    Channel  Number        File\n",
       " 0        1     255  test2.xlsx,\n",
       "    Channel  Number        File\n",
       " 0        1     255  test3.xlsx]"
      ]
     },
     "execution_count": 6,
     "metadata": {},
     "output_type": "execute_result"
    }
   ],
   "source": [
    "# 创建一个 dataframe 的 list\n",
    "df_list = [GetFile(fname) for fname in FileNames]\n",
    "df_list\n"
   ]
  },
  {
   "cell_type": "code",
   "execution_count": 7,
   "metadata": {
    "ExecuteTime": {
     "end_time": "2021-05-18T01:03:49.330096Z",
     "start_time": "2021-05-18T01:03:49.241091Z"
    },
    "scrolled": true
   },
   "outputs": [
    {
     "data": {
      "text/html": [
       "<div>\n",
       "<style scoped>\n",
       "    .dataframe tbody tr th:only-of-type {\n",
       "        vertical-align: middle;\n",
       "    }\n",
       "\n",
       "    .dataframe tbody tr th {\n",
       "        vertical-align: top;\n",
       "    }\n",
       "\n",
       "    .dataframe thead th {\n",
       "        text-align: right;\n",
       "    }\n",
       "</style>\n",
       "<table border=\"1\" class=\"dataframe\">\n",
       "  <thead>\n",
       "    <tr style=\"text-align: right;\">\n",
       "      <th></th>\n",
       "      <th>Unnamed: 0</th>\n",
       "      <th>id</th>\n",
       "      <th>date</th>\n",
       "      <th>File</th>\n",
       "      <th>money</th>\n",
       "      <th>product</th>\n",
       "      <th>department</th>\n",
       "      <th>origin</th>\n",
       "      <th>Channel</th>\n",
       "      <th>Number</th>\n",
       "    </tr>\n",
       "  </thead>\n",
       "  <tbody>\n",
       "    <tr>\n",
       "      <th>0</th>\n",
       "      <td>0.0</td>\n",
       "      <td>101.0</td>\n",
       "      <td>2020-03-10</td>\n",
       "      <td>12.xlsx</td>\n",
       "      <td>NaN</td>\n",
       "      <td>NaN</td>\n",
       "      <td>NaN</td>\n",
       "      <td>NaN</td>\n",
       "      <td>NaN</td>\n",
       "      <td>NaN</td>\n",
       "    </tr>\n",
       "    <tr>\n",
       "      <th>1</th>\n",
       "      <td>1.0</td>\n",
       "      <td>102.0</td>\n",
       "      <td>2020-03-11</td>\n",
       "      <td>12.xlsx</td>\n",
       "      <td>NaN</td>\n",
       "      <td>NaN</td>\n",
       "      <td>NaN</td>\n",
       "      <td>NaN</td>\n",
       "      <td>NaN</td>\n",
       "      <td>NaN</td>\n",
       "    </tr>\n",
       "    <tr>\n",
       "      <th>2</th>\n",
       "      <td>2.0</td>\n",
       "      <td>103.0</td>\n",
       "      <td>2020-03-12</td>\n",
       "      <td>12.xlsx</td>\n",
       "      <td>NaN</td>\n",
       "      <td>NaN</td>\n",
       "      <td>NaN</td>\n",
       "      <td>NaN</td>\n",
       "      <td>NaN</td>\n",
       "      <td>NaN</td>\n",
       "    </tr>\n",
       "    <tr>\n",
       "      <th>3</th>\n",
       "      <td>3.0</td>\n",
       "      <td>104.0</td>\n",
       "      <td>2020-03-13</td>\n",
       "      <td>12.xlsx</td>\n",
       "      <td>NaN</td>\n",
       "      <td>NaN</td>\n",
       "      <td>NaN</td>\n",
       "      <td>NaN</td>\n",
       "      <td>NaN</td>\n",
       "      <td>NaN</td>\n",
       "    </tr>\n",
       "    <tr>\n",
       "      <th>4</th>\n",
       "      <td>4.0</td>\n",
       "      <td>105.0</td>\n",
       "      <td>2020-03-14</td>\n",
       "      <td>12.xlsx</td>\n",
       "      <td>NaN</td>\n",
       "      <td>NaN</td>\n",
       "      <td>NaN</td>\n",
       "      <td>NaN</td>\n",
       "      <td>NaN</td>\n",
       "      <td>NaN</td>\n",
       "    </tr>\n",
       "    <tr>\n",
       "      <th>5</th>\n",
       "      <td>5.0</td>\n",
       "      <td>106.0</td>\n",
       "      <td>2020-03-15</td>\n",
       "      <td>12.xlsx</td>\n",
       "      <td>NaN</td>\n",
       "      <td>NaN</td>\n",
       "      <td>NaN</td>\n",
       "      <td>NaN</td>\n",
       "      <td>NaN</td>\n",
       "      <td>NaN</td>\n",
       "    </tr>\n",
       "    <tr>\n",
       "      <th>6</th>\n",
       "      <td>6.0</td>\n",
       "      <td>107.0</td>\n",
       "      <td>2020-03-16</td>\n",
       "      <td>12.xlsx</td>\n",
       "      <td>NaN</td>\n",
       "      <td>NaN</td>\n",
       "      <td>NaN</td>\n",
       "      <td>NaN</td>\n",
       "      <td>NaN</td>\n",
       "      <td>NaN</td>\n",
       "    </tr>\n",
       "    <tr>\n",
       "      <th>7</th>\n",
       "      <td>7.0</td>\n",
       "      <td>108.0</td>\n",
       "      <td>2020-03-17</td>\n",
       "      <td>12.xlsx</td>\n",
       "      <td>NaN</td>\n",
       "      <td>NaN</td>\n",
       "      <td>NaN</td>\n",
       "      <td>NaN</td>\n",
       "      <td>NaN</td>\n",
       "      <td>NaN</td>\n",
       "    </tr>\n",
       "    <tr>\n",
       "      <th>8</th>\n",
       "      <td>8.0</td>\n",
       "      <td>109.0</td>\n",
       "      <td>2020-03-18</td>\n",
       "      <td>12.xlsx</td>\n",
       "      <td>NaN</td>\n",
       "      <td>NaN</td>\n",
       "      <td>NaN</td>\n",
       "      <td>NaN</td>\n",
       "      <td>NaN</td>\n",
       "      <td>NaN</td>\n",
       "    </tr>\n",
       "    <tr>\n",
       "      <th>9</th>\n",
       "      <td>9.0</td>\n",
       "      <td>110.0</td>\n",
       "      <td>2020-03-19</td>\n",
       "      <td>12.xlsx</td>\n",
       "      <td>NaN</td>\n",
       "      <td>NaN</td>\n",
       "      <td>NaN</td>\n",
       "      <td>NaN</td>\n",
       "      <td>NaN</td>\n",
       "      <td>NaN</td>\n",
       "    </tr>\n",
       "    <tr>\n",
       "      <th>0</th>\n",
       "      <td>NaN</td>\n",
       "      <td>101.0</td>\n",
       "      <td>2020-03-10</td>\n",
       "      <td>shopping.xlsx</td>\n",
       "      <td>5.0</td>\n",
       "      <td>苏打水</td>\n",
       "      <td>饮料</td>\n",
       "      <td>China</td>\n",
       "      <td>NaN</td>\n",
       "      <td>NaN</td>\n",
       "    </tr>\n",
       "    <tr>\n",
       "      <th>1</th>\n",
       "      <td>NaN</td>\n",
       "      <td>102.0</td>\n",
       "      <td>2020-03-11</td>\n",
       "      <td>shopping.xlsx</td>\n",
       "      <td>4.0</td>\n",
       "      <td>可乐</td>\n",
       "      <td>饮料</td>\n",
       "      <td>China</td>\n",
       "      <td>NaN</td>\n",
       "      <td>NaN</td>\n",
       "    </tr>\n",
       "    <tr>\n",
       "      <th>2</th>\n",
       "      <td>NaN</td>\n",
       "      <td>103.0</td>\n",
       "      <td>2020-03-12</td>\n",
       "      <td>shopping.xlsx</td>\n",
       "      <td>65.0</td>\n",
       "      <td>牛肉干</td>\n",
       "      <td>零食</td>\n",
       "      <td>America</td>\n",
       "      <td>NaN</td>\n",
       "      <td>NaN</td>\n",
       "    </tr>\n",
       "    <tr>\n",
       "      <th>3</th>\n",
       "      <td>NaN</td>\n",
       "      <td>104.0</td>\n",
       "      <td>2020-03-13</td>\n",
       "      <td>shopping.xlsx</td>\n",
       "      <td>-10.0</td>\n",
       "      <td>老干妈</td>\n",
       "      <td>调味品</td>\n",
       "      <td>China</td>\n",
       "      <td>NaN</td>\n",
       "      <td>NaN</td>\n",
       "    </tr>\n",
       "    <tr>\n",
       "      <th>4</th>\n",
       "      <td>NaN</td>\n",
       "      <td>105.0</td>\n",
       "      <td>2020-03-14</td>\n",
       "      <td>shopping.xlsx</td>\n",
       "      <td>15.0</td>\n",
       "      <td>菠萝</td>\n",
       "      <td>水果</td>\n",
       "      <td>Thailand</td>\n",
       "      <td>NaN</td>\n",
       "      <td>NaN</td>\n",
       "    </tr>\n",
       "    <tr>\n",
       "      <th>5</th>\n",
       "      <td>NaN</td>\n",
       "      <td>106.0</td>\n",
       "      <td>2020-03-15</td>\n",
       "      <td>shopping.xlsx</td>\n",
       "      <td>20.0</td>\n",
       "      <td>冰激凌</td>\n",
       "      <td>NaN</td>\n",
       "      <td>China</td>\n",
       "      <td>NaN</td>\n",
       "      <td>NaN</td>\n",
       "    </tr>\n",
       "    <tr>\n",
       "      <th>6</th>\n",
       "      <td>NaN</td>\n",
       "      <td>107.0</td>\n",
       "      <td>2020-03-16</td>\n",
       "      <td>shopping.xlsx</td>\n",
       "      <td>35.0</td>\n",
       "      <td>洗面奶</td>\n",
       "      <td>日用品</td>\n",
       "      <td>america</td>\n",
       "      <td>NaN</td>\n",
       "      <td>NaN</td>\n",
       "    </tr>\n",
       "    <tr>\n",
       "      <th>7</th>\n",
       "      <td>NaN</td>\n",
       "      <td>108.0</td>\n",
       "      <td>2020-03-17</td>\n",
       "      <td>shopping.xlsx</td>\n",
       "      <td>16.0</td>\n",
       "      <td>洋葱</td>\n",
       "      <td>蔬菜</td>\n",
       "      <td>China</td>\n",
       "      <td>NaN</td>\n",
       "      <td>NaN</td>\n",
       "    </tr>\n",
       "    <tr>\n",
       "      <th>8</th>\n",
       "      <td>NaN</td>\n",
       "      <td>109.0</td>\n",
       "      <td>2020-03-18</td>\n",
       "      <td>shopping.xlsx</td>\n",
       "      <td>6.0</td>\n",
       "      <td>牙膏</td>\n",
       "      <td>日用品</td>\n",
       "      <td>China</td>\n",
       "      <td>NaN</td>\n",
       "      <td>NaN</td>\n",
       "    </tr>\n",
       "    <tr>\n",
       "      <th>9</th>\n",
       "      <td>NaN</td>\n",
       "      <td>110.0</td>\n",
       "      <td>2020-03-19</td>\n",
       "      <td>shopping.xlsx</td>\n",
       "      <td>20.0</td>\n",
       "      <td>薯片</td>\n",
       "      <td>零食</td>\n",
       "      <td>Japan</td>\n",
       "      <td>NaN</td>\n",
       "      <td>NaN</td>\n",
       "    </tr>\n",
       "    <tr>\n",
       "      <th>0</th>\n",
       "      <td>NaN</td>\n",
       "      <td>NaN</td>\n",
       "      <td>NaT</td>\n",
       "      <td>test1.xlsx</td>\n",
       "      <td>NaN</td>\n",
       "      <td>NaN</td>\n",
       "      <td>NaN</td>\n",
       "      <td>NaN</td>\n",
       "      <td>1.0</td>\n",
       "      <td>255.0</td>\n",
       "    </tr>\n",
       "    <tr>\n",
       "      <th>0</th>\n",
       "      <td>NaN</td>\n",
       "      <td>NaN</td>\n",
       "      <td>NaT</td>\n",
       "      <td>test2.xlsx</td>\n",
       "      <td>NaN</td>\n",
       "      <td>NaN</td>\n",
       "      <td>NaN</td>\n",
       "      <td>NaN</td>\n",
       "      <td>1.0</td>\n",
       "      <td>255.0</td>\n",
       "    </tr>\n",
       "    <tr>\n",
       "      <th>0</th>\n",
       "      <td>NaN</td>\n",
       "      <td>NaN</td>\n",
       "      <td>NaT</td>\n",
       "      <td>test3.xlsx</td>\n",
       "      <td>NaN</td>\n",
       "      <td>NaN</td>\n",
       "      <td>NaN</td>\n",
       "      <td>NaN</td>\n",
       "      <td>1.0</td>\n",
       "      <td>255.0</td>\n",
       "    </tr>\n",
       "  </tbody>\n",
       "</table>\n",
       "</div>"
      ],
      "text/plain": [
       "   Unnamed: 0     id       date           File  money product department  \\\n",
       "0         0.0  101.0 2020-03-10        12.xlsx    NaN     NaN        NaN   \n",
       "1         1.0  102.0 2020-03-11        12.xlsx    NaN     NaN        NaN   \n",
       "2         2.0  103.0 2020-03-12        12.xlsx    NaN     NaN        NaN   \n",
       "3         3.0  104.0 2020-03-13        12.xlsx    NaN     NaN        NaN   \n",
       "4         4.0  105.0 2020-03-14        12.xlsx    NaN     NaN        NaN   \n",
       "5         5.0  106.0 2020-03-15        12.xlsx    NaN     NaN        NaN   \n",
       "6         6.0  107.0 2020-03-16        12.xlsx    NaN     NaN        NaN   \n",
       "7         7.0  108.0 2020-03-17        12.xlsx    NaN     NaN        NaN   \n",
       "8         8.0  109.0 2020-03-18        12.xlsx    NaN     NaN        NaN   \n",
       "9         9.0  110.0 2020-03-19        12.xlsx    NaN     NaN        NaN   \n",
       "0         NaN  101.0 2020-03-10  shopping.xlsx    5.0     苏打水         饮料   \n",
       "1         NaN  102.0 2020-03-11  shopping.xlsx    4.0      可乐         饮料   \n",
       "2         NaN  103.0 2020-03-12  shopping.xlsx   65.0     牛肉干         零食   \n",
       "3         NaN  104.0 2020-03-13  shopping.xlsx  -10.0     老干妈        调味品   \n",
       "4         NaN  105.0 2020-03-14  shopping.xlsx   15.0      菠萝         水果   \n",
       "5         NaN  106.0 2020-03-15  shopping.xlsx   20.0     冰激凌        NaN   \n",
       "6         NaN  107.0 2020-03-16  shopping.xlsx   35.0     洗面奶        日用品   \n",
       "7         NaN  108.0 2020-03-17  shopping.xlsx   16.0      洋葱         蔬菜   \n",
       "8         NaN  109.0 2020-03-18  shopping.xlsx    6.0      牙膏        日用品   \n",
       "9         NaN  110.0 2020-03-19  shopping.xlsx   20.0      薯片         零食   \n",
       "0         NaN    NaN        NaT     test1.xlsx    NaN     NaN        NaN   \n",
       "0         NaN    NaN        NaT     test2.xlsx    NaN     NaN        NaN   \n",
       "0         NaN    NaN        NaT     test3.xlsx    NaN     NaN        NaN   \n",
       "\n",
       "     origin  Channel  Number  \n",
       "0       NaN      NaN     NaN  \n",
       "1       NaN      NaN     NaN  \n",
       "2       NaN      NaN     NaN  \n",
       "3       NaN      NaN     NaN  \n",
       "4       NaN      NaN     NaN  \n",
       "5       NaN      NaN     NaN  \n",
       "6       NaN      NaN     NaN  \n",
       "7       NaN      NaN     NaN  \n",
       "8       NaN      NaN     NaN  \n",
       "9       NaN      NaN     NaN  \n",
       "0     China      NaN     NaN  \n",
       "1     China      NaN     NaN  \n",
       "2   America      NaN     NaN  \n",
       "3     China      NaN     NaN  \n",
       "4  Thailand      NaN     NaN  \n",
       "5     China      NaN     NaN  \n",
       "6   america      NaN     NaN  \n",
       "7     China      NaN     NaN  \n",
       "8     China      NaN     NaN  \n",
       "9     Japan      NaN     NaN  \n",
       "0       NaN      1.0   255.0  \n",
       "0       NaN      1.0   255.0  \n",
       "0       NaN      1.0   255.0  "
      ]
     },
     "execution_count": 7,
     "metadata": {},
     "output_type": "execute_result"
    }
   ],
   "source": [
    "big_df = pd.concat(df_list)\n",
    "big_df\n"
   ]
  },
  {
   "cell_type": "markdown",
   "metadata": {},
   "source": [
    "## 数据预处理的 10 个小技能，附 Pandas 实现"
   ]
  },
  {
   "cell_type": "code",
   "execution_count": 8,
   "metadata": {
    "ExecuteTime": {
     "end_time": "2021-05-18T01:12:59.172545Z",
     "start_time": "2021-05-18T01:12:59.133543Z"
    }
   },
   "outputs": [
    {
     "data": {
      "application/javascript": [
       "\n",
       "        if (window._pyforest_update_imports_cell) { window._pyforest_update_imports_cell('import numpy as np'); }\n",
       "    "
      ],
      "text/plain": [
       "<IPython.core.display.Javascript object>"
      ]
     },
     "metadata": {},
     "output_type": "display_data"
    },
    {
     "data": {
      "application/javascript": [
       "\n",
       "        if (window._pyforest_update_imports_cell) { window._pyforest_update_imports_cell('import numpy as np'); }\n",
       "    "
      ],
      "text/plain": [
       "<IPython.core.display.Javascript object>"
      ]
     },
     "metadata": {},
     "output_type": "display_data"
    },
    {
     "data": {
      "application/javascript": [
       "\n",
       "        if (window._pyforest_update_imports_cell) { window._pyforest_update_imports_cell('import numpy as np'); }\n",
       "    "
      ],
      "text/plain": [
       "<IPython.core.display.Javascript object>"
      ]
     },
     "metadata": {},
     "output_type": "display_data"
    },
    {
     "data": {
      "text/html": [
       "<div>\n",
       "<style scoped>\n",
       "    .dataframe tbody tr th:only-of-type {\n",
       "        vertical-align: middle;\n",
       "    }\n",
       "\n",
       "    .dataframe tbody tr th {\n",
       "        vertical-align: top;\n",
       "    }\n",
       "\n",
       "    .dataframe thead th {\n",
       "        text-align: right;\n",
       "    }\n",
       "</style>\n",
       "<table border=\"1\" class=\"dataframe\">\n",
       "  <thead>\n",
       "    <tr style=\"text-align: right;\">\n",
       "      <th></th>\n",
       "      <th>a</th>\n",
       "      <th>b</th>\n",
       "    </tr>\n",
       "  </thead>\n",
       "  <tbody>\n",
       "    <tr>\n",
       "      <th>0</th>\n",
       "      <td>1.0</td>\n",
       "      <td>4.0</td>\n",
       "    </tr>\n",
       "    <tr>\n",
       "      <th>1</th>\n",
       "      <td>3.0</td>\n",
       "      <td>NaN</td>\n",
       "    </tr>\n",
       "    <tr>\n",
       "      <th>2</th>\n",
       "      <td>NaN</td>\n",
       "      <td>NaN</td>\n",
       "    </tr>\n",
       "  </tbody>\n",
       "</table>\n",
       "</div>"
      ],
      "text/plain": [
       "     a    b\n",
       "0  1.0  4.0\n",
       "1  3.0  NaN\n",
       "2  NaN  NaN"
      ]
     },
     "execution_count": 8,
     "metadata": {},
     "output_type": "execute_result"
    }
   ],
   "source": [
    "import pandas as pd\n",
    "\n",
    "df = pd.DataFrame({'a':[1,3,np.nan],'b':[4,np.nan,np.nan]})\n",
    "df"
   ]
  },
  {
   "cell_type": "code",
   "execution_count": 9,
   "metadata": {
    "ExecuteTime": {
     "end_time": "2021-05-18T01:13:17.288581Z",
     "start_time": "2021-05-18T01:13:16.496536Z"
    }
   },
   "outputs": [
    {
     "data": {
      "text/html": [
       "<div>\n",
       "<style scoped>\n",
       "    .dataframe tbody tr th:only-of-type {\n",
       "        vertical-align: middle;\n",
       "    }\n",
       "\n",
       "    .dataframe tbody tr th {\n",
       "        vertical-align: top;\n",
       "    }\n",
       "\n",
       "    .dataframe thead th {\n",
       "        text-align: right;\n",
       "    }\n",
       "</style>\n",
       "<table border=\"1\" class=\"dataframe\">\n",
       "  <thead>\n",
       "    <tr style=\"text-align: right;\">\n",
       "      <th></th>\n",
       "      <th>a</th>\n",
       "      <th>b</th>\n",
       "    </tr>\n",
       "  </thead>\n",
       "  <tbody>\n",
       "    <tr>\n",
       "      <th>0</th>\n",
       "      <td>1.0</td>\n",
       "      <td>4.0</td>\n",
       "    </tr>\n",
       "    <tr>\n",
       "      <th>1</th>\n",
       "      <td>3.0</td>\n",
       "      <td>NaN</td>\n",
       "    </tr>\n",
       "    <tr>\n",
       "      <th>2</th>\n",
       "      <td>NaN</td>\n",
       "      <td>NaN</td>\n",
       "    </tr>\n",
       "  </tbody>\n",
       "</table>\n",
       "</div>"
      ],
      "text/plain": [
       "     a    b\n",
       "0  1.0  4.0\n",
       "1  3.0  NaN\n",
       "2  NaN  NaN"
      ]
     },
     "execution_count": 9,
     "metadata": {},
     "output_type": "execute_result"
    }
   ],
   "source": [
    "# 异常值平均值上下1.96个标准差区间以外的值\n",
    "meangrade = df['a'].mean()\n",
    "stdgrade = df['a'].std()\n",
    "toprange = meangrade + stdgrade * 1.96\n",
    "botrange = meangrade - stdgrade * 1.96\n",
    "\n",
    "# 过滤区间外的值\n",
    "copydf = df\n",
    "copydf = copydf.drop(copydf[copydf['a']\n",
    "        > toprange].index)\n",
    "copydf = copydf.drop(copydf[copydf['a']\n",
    "        < botrange].index)\n",
    "copydf"
   ]
  },
  {
   "cell_type": "code",
   "execution_count": 13,
   "metadata": {
    "ExecuteTime": {
     "end_time": "2021-05-18T01:14:45.635635Z",
     "start_time": "2021-05-18T01:14:45.594632Z"
    },
    "scrolled": true
   },
   "outputs": [
    {
     "data": {
      "text/html": [
       "<div>\n",
       "<style scoped>\n",
       "    .dataframe tbody tr th:only-of-type {\n",
       "        vertical-align: middle;\n",
       "    }\n",
       "\n",
       "    .dataframe tbody tr th {\n",
       "        vertical-align: top;\n",
       "    }\n",
       "\n",
       "    .dataframe thead th {\n",
       "        text-align: right;\n",
       "    }\n",
       "</style>\n",
       "<table border=\"1\" class=\"dataframe\">\n",
       "  <thead>\n",
       "    <tr style=\"text-align: right;\">\n",
       "      <th></th>\n",
       "      <th>a</th>\n",
       "      <th>b</th>\n",
       "    </tr>\n",
       "  </thead>\n",
       "  <tbody>\n",
       "    <tr>\n",
       "      <th>0</th>\n",
       "      <td>1.0</td>\n",
       "      <td>4.0</td>\n",
       "    </tr>\n",
       "    <tr>\n",
       "      <th>1</th>\n",
       "      <td>3.0</td>\n",
       "      <td>NaN</td>\n",
       "    </tr>\n",
       "    <tr>\n",
       "      <th>2</th>\n",
       "      <td>NaN</td>\n",
       "      <td>NaN</td>\n",
       "    </tr>\n",
       "  </tbody>\n",
       "</table>\n",
       "</div>"
      ],
      "text/plain": [
       "     a    b\n",
       "0  1.0  4.0\n",
       "1  3.0  NaN\n",
       "2  NaN  NaN"
      ]
     },
     "execution_count": 13,
     "metadata": {},
     "output_type": "execute_result"
    }
   ],
   "source": [
    "q1 = df['a'].quantile(.25)\n",
    "q3 = df['a'].quantile(.75)\n",
    "iqr = q3-q1\n",
    "toprange = q3 + iqr * 1.5\n",
    "botrange = q1 - iqr * 1.5\n",
    "\n",
    "copydf = df\n",
    "copydf = copydf.drop(copydf[copydf['a']\n",
    "        > toprange].index)\n",
    "copydf = copydf.drop(copydf[copydf['a']\n",
    "        < botrange].index)\n",
    "copydf"
   ]
  },
  {
   "cell_type": "code",
   "execution_count": 14,
   "metadata": {
    "ExecuteTime": {
     "end_time": "2021-05-18T01:15:07.027858Z",
     "start_time": "2021-05-18T01:15:07.001857Z"
    }
   },
   "outputs": [
    {
     "data": {
      "text/html": [
       "<div>\n",
       "<style scoped>\n",
       "    .dataframe tbody tr th:only-of-type {\n",
       "        vertical-align: middle;\n",
       "    }\n",
       "\n",
       "    .dataframe tbody tr th {\n",
       "        vertical-align: top;\n",
       "    }\n",
       "\n",
       "    .dataframe thead th {\n",
       "        text-align: right;\n",
       "    }\n",
       "</style>\n",
       "<table border=\"1\" class=\"dataframe\">\n",
       "  <thead>\n",
       "    <tr style=\"text-align: right;\">\n",
       "      <th></th>\n",
       "      <th>a</th>\n",
       "      <th>b</th>\n",
       "    </tr>\n",
       "  </thead>\n",
       "  <tbody>\n",
       "    <tr>\n",
       "      <th>0</th>\n",
       "      <td>1.0</td>\n",
       "      <td>4.0</td>\n",
       "    </tr>\n",
       "    <tr>\n",
       "      <th>1</th>\n",
       "      <td>3.0</td>\n",
       "      <td>NaN</td>\n",
       "    </tr>\n",
       "  </tbody>\n",
       "</table>\n",
       "</div>"
      ],
      "text/plain": [
       "     a    b\n",
       "0  1.0  4.0\n",
       "1  3.0  NaN"
      ]
     },
     "execution_count": 14,
     "metadata": {},
     "output_type": "execute_result"
    }
   ],
   "source": [
    "# axis 0 表示按照行，all 此行所有值都为 nan\n",
    "df.dropna(axis=0, how='all')"
   ]
  },
  {
   "cell_type": "code",
   "execution_count": 15,
   "metadata": {
    "ExecuteTime": {
     "end_time": "2021-05-18T01:15:22.296731Z",
     "start_time": "2021-05-18T01:15:22.287731Z"
    }
   },
   "outputs": [],
   "source": [
    "# 使用a列平均数填充列的空值，inplace true表示就地填充\n",
    "df[\"a\"].fillna(df[\"a\"].mean(), inplace=True)"
   ]
  },
  {
   "cell_type": "code",
   "execution_count": 16,
   "metadata": {
    "ExecuteTime": {
     "end_time": "2021-05-18T01:15:28.093063Z",
     "start_time": "2021-05-18T01:15:28.072062Z"
    }
   },
   "outputs": [
    {
     "data": {
      "text/html": [
       "<div>\n",
       "<style scoped>\n",
       "    .dataframe tbody tr th:only-of-type {\n",
       "        vertical-align: middle;\n",
       "    }\n",
       "\n",
       "    .dataframe tbody tr th {\n",
       "        vertical-align: top;\n",
       "    }\n",
       "\n",
       "    .dataframe thead th {\n",
       "        text-align: right;\n",
       "    }\n",
       "</style>\n",
       "<table border=\"1\" class=\"dataframe\">\n",
       "  <thead>\n",
       "    <tr style=\"text-align: right;\">\n",
       "      <th></th>\n",
       "      <th>a</th>\n",
       "      <th>b</th>\n",
       "    </tr>\n",
       "  </thead>\n",
       "  <tbody>\n",
       "    <tr>\n",
       "      <th>0</th>\n",
       "      <td>1.0</td>\n",
       "      <td>4.0</td>\n",
       "    </tr>\n",
       "    <tr>\n",
       "      <th>1</th>\n",
       "      <td>3.0</td>\n",
       "      <td>NaN</td>\n",
       "    </tr>\n",
       "    <tr>\n",
       "      <th>2</th>\n",
       "      <td>2.0</td>\n",
       "      <td>NaN</td>\n",
       "    </tr>\n",
       "  </tbody>\n",
       "</table>\n",
       "</div>"
      ],
      "text/plain": [
       "     a    b\n",
       "0  1.0  4.0\n",
       "1  3.0  NaN\n",
       "2  2.0  NaN"
      ]
     },
     "execution_count": 16,
     "metadata": {},
     "output_type": "execute_result"
    }
   ],
   "source": [
    "df"
   ]
  },
  {
   "cell_type": "code",
   "execution_count": 17,
   "metadata": {
    "ExecuteTime": {
     "end_time": "2021-05-18T01:15:56.244673Z",
     "start_time": "2021-05-18T01:15:56.232672Z"
    }
   },
   "outputs": [],
   "source": [
    "df.loc[(df['a'] < -2,'a')] = 0\n",
    "df.loc[(df['a'] >= 100,'a')] = 100"
   ]
  },
  {
   "cell_type": "code",
   "execution_count": 18,
   "metadata": {
    "ExecuteTime": {
     "end_time": "2021-05-18T01:16:00.492916Z",
     "start_time": "2021-05-18T01:16:00.471915Z"
    }
   },
   "outputs": [
    {
     "data": {
      "text/html": [
       "<div>\n",
       "<style scoped>\n",
       "    .dataframe tbody tr th:only-of-type {\n",
       "        vertical-align: middle;\n",
       "    }\n",
       "\n",
       "    .dataframe tbody tr th {\n",
       "        vertical-align: top;\n",
       "    }\n",
       "\n",
       "    .dataframe thead th {\n",
       "        text-align: right;\n",
       "    }\n",
       "</style>\n",
       "<table border=\"1\" class=\"dataframe\">\n",
       "  <thead>\n",
       "    <tr style=\"text-align: right;\">\n",
       "      <th></th>\n",
       "      <th>a</th>\n",
       "      <th>b</th>\n",
       "    </tr>\n",
       "  </thead>\n",
       "  <tbody>\n",
       "    <tr>\n",
       "      <th>0</th>\n",
       "      <td>1.0</td>\n",
       "      <td>4.0</td>\n",
       "    </tr>\n",
       "    <tr>\n",
       "      <th>1</th>\n",
       "      <td>3.0</td>\n",
       "      <td>NaN</td>\n",
       "    </tr>\n",
       "    <tr>\n",
       "      <th>2</th>\n",
       "      <td>2.0</td>\n",
       "      <td>NaN</td>\n",
       "    </tr>\n",
       "  </tbody>\n",
       "</table>\n",
       "</div>"
      ],
      "text/plain": [
       "     a    b\n",
       "0  1.0  4.0\n",
       "1  3.0  NaN\n",
       "2  2.0  NaN"
      ]
     },
     "execution_count": 18,
     "metadata": {},
     "output_type": "execute_result"
    }
   ],
   "source": [
    "df"
   ]
  },
  {
   "cell_type": "code",
   "execution_count": 23,
   "metadata": {
    "ExecuteTime": {
     "end_time": "2021-05-18T01:19:38.857406Z",
     "start_time": "2021-05-18T01:19:38.848405Z"
    }
   },
   "outputs": [],
   "source": [
    "import string\n",
    "exclude = set(string.punctuation)\n",
    "\n",
    "def remove_punctuation(x):\n",
    "    x = ''.join(ch for ch in x if ch not in exclude)\n",
    "    return x"
   ]
  },
  {
   "cell_type": "code",
   "execution_count": 27,
   "metadata": {
    "ExecuteTime": {
     "end_time": "2021-05-18T01:20:33.466529Z",
     "start_time": "2021-05-18T01:20:33.441528Z"
    }
   },
   "outputs": [
    {
     "data": {
      "text/html": [
       "<div>\n",
       "<style scoped>\n",
       "    .dataframe tbody tr th:only-of-type {\n",
       "        vertical-align: middle;\n",
       "    }\n",
       "\n",
       "    .dataframe tbody tr th {\n",
       "        vertical-align: top;\n",
       "    }\n",
       "\n",
       "    .dataframe thead th {\n",
       "        text-align: right;\n",
       "    }\n",
       "</style>\n",
       "<table border=\"1\" class=\"dataframe\">\n",
       "  <thead>\n",
       "    <tr style=\"text-align: right;\">\n",
       "      <th></th>\n",
       "      <th>a</th>\n",
       "      <th>b</th>\n",
       "    </tr>\n",
       "  </thead>\n",
       "  <tbody>\n",
       "    <tr>\n",
       "      <th>0</th>\n",
       "      <td>c,d</td>\n",
       "      <td>edc.rc</td>\n",
       "    </tr>\n",
       "    <tr>\n",
       "      <th>1</th>\n",
       "      <td>3</td>\n",
       "      <td>3</td>\n",
       "    </tr>\n",
       "    <tr>\n",
       "      <th>2</th>\n",
       "      <td>d ef</td>\n",
       "      <td>4</td>\n",
       "    </tr>\n",
       "  </tbody>\n",
       "</table>\n",
       "</div>"
      ],
      "text/plain": [
       "      a       b\n",
       "0   c,d  edc.rc\n",
       "1     3       3\n",
       "2  d ef       4"
      ]
     },
     "execution_count": 27,
     "metadata": {},
     "output_type": "execute_result"
    }
   ],
   "source": [
    "df1=pd.DataFrame({'a':['c,d','3','d ef'],'b':['edc.rc','3','4']})\n",
    "df1"
   ]
  },
  {
   "cell_type": "code",
   "execution_count": 28,
   "metadata": {
    "ExecuteTime": {
     "end_time": "2021-05-18T01:20:34.124567Z",
     "start_time": "2021-05-18T01:20:34.113566Z"
    }
   },
   "outputs": [],
   "source": [
    "df1.a = df1.a.apply(remove_punctuation) "
   ]
  },
  {
   "cell_type": "code",
   "execution_count": 29,
   "metadata": {
    "ExecuteTime": {
     "end_time": "2021-05-18T01:20:39.020847Z",
     "start_time": "2021-05-18T01:20:39.000846Z"
    }
   },
   "outputs": [
    {
     "data": {
      "text/html": [
       "<div>\n",
       "<style scoped>\n",
       "    .dataframe tbody tr th:only-of-type {\n",
       "        vertical-align: middle;\n",
       "    }\n",
       "\n",
       "    .dataframe tbody tr th {\n",
       "        vertical-align: top;\n",
       "    }\n",
       "\n",
       "    .dataframe thead th {\n",
       "        text-align: right;\n",
       "    }\n",
       "</style>\n",
       "<table border=\"1\" class=\"dataframe\">\n",
       "  <thead>\n",
       "    <tr style=\"text-align: right;\">\n",
       "      <th></th>\n",
       "      <th>a</th>\n",
       "      <th>b</th>\n",
       "    </tr>\n",
       "  </thead>\n",
       "  <tbody>\n",
       "    <tr>\n",
       "      <th>0</th>\n",
       "      <td>cd</td>\n",
       "      <td>edc.rc</td>\n",
       "    </tr>\n",
       "    <tr>\n",
       "      <th>1</th>\n",
       "      <td>3</td>\n",
       "      <td>3</td>\n",
       "    </tr>\n",
       "    <tr>\n",
       "      <th>2</th>\n",
       "      <td>d ef</td>\n",
       "      <td>4</td>\n",
       "    </tr>\n",
       "  </tbody>\n",
       "</table>\n",
       "</div>"
      ],
      "text/plain": [
       "      a       b\n",
       "0    cd  edc.rc\n",
       "1     3       3\n",
       "2  d ef       4"
      ]
     },
     "execution_count": 29,
     "metadata": {},
     "output_type": "execute_result"
    }
   ],
   "source": [
    "df1"
   ]
  },
  {
   "cell_type": "code",
   "execution_count": 37,
   "metadata": {
    "ExecuteTime": {
     "end_time": "2021-05-18T01:23:43.310388Z",
     "start_time": "2021-05-18T01:23:43.290387Z"
    },
    "scrolled": true
   },
   "outputs": [
    {
     "data": {
      "text/html": [
       "<div>\n",
       "<style scoped>\n",
       "    .dataframe tbody tr th:only-of-type {\n",
       "        vertical-align: middle;\n",
       "    }\n",
       "\n",
       "    .dataframe tbody tr th {\n",
       "        vertical-align: top;\n",
       "    }\n",
       "\n",
       "    .dataframe thead th {\n",
       "        text-align: right;\n",
       "    }\n",
       "</style>\n",
       "<table border=\"1\" class=\"dataframe\">\n",
       "  <thead>\n",
       "    <tr style=\"text-align: right;\">\n",
       "      <th></th>\n",
       "      <th>a</th>\n",
       "    </tr>\n",
       "  </thead>\n",
       "  <tbody>\n",
       "    <tr>\n",
       "      <th>0</th>\n",
       "      <td>46</td>\n",
       "    </tr>\n",
       "    <tr>\n",
       "      <th>1</th>\n",
       "      <td>98</td>\n",
       "    </tr>\n",
       "    <tr>\n",
       "      <th>2</th>\n",
       "      <td>99</td>\n",
       "    </tr>\n",
       "    <tr>\n",
       "      <th>3</th>\n",
       "      <td>60</td>\n",
       "    </tr>\n",
       "    <tr>\n",
       "      <th>4</th>\n",
       "      <td>43</td>\n",
       "    </tr>\n",
       "  </tbody>\n",
       "</table>\n",
       "</div>"
      ],
      "text/plain": [
       "    a\n",
       "0  46\n",
       "1  98\n",
       "2  99\n",
       "3  60\n",
       "4  43"
      ]
     },
     "execution_count": 37,
     "metadata": {},
     "output_type": "execute_result"
    }
   ],
   "source": [
    "df2 = pd.DataFrame({'a':[46, 98,99, 60, 43]})\n",
    "df2"
   ]
  },
  {
   "cell_type": "code",
   "execution_count": 40,
   "metadata": {
    "ExecuteTime": {
     "end_time": "2021-05-18T01:25:52.736791Z",
     "start_time": "2021-05-18T01:25:52.721790Z"
    }
   },
   "outputs": [
    {
     "data": {
      "text/plain": [
       "0    4.0\n",
       "1    2.0\n",
       "2    1.0\n",
       "3    3.0\n",
       "4    5.0\n",
       "Name: a, dtype: float64"
      ]
     },
     "execution_count": 40,
     "metadata": {},
     "output_type": "execute_result"
    }
   ],
   "source": [
    "df2['a'].rank(ascending=False)\n"
   ]
  },
  {
   "cell_type": "code",
   "execution_count": 63,
   "metadata": {
    "ExecuteTime": {
     "end_time": "2021-05-18T03:13:51.655364Z",
     "start_time": "2021-05-18T03:13:51.489354Z"
    },
    "scrolled": true
   },
   "outputs": [
    {
     "data": {
      "application/javascript": [
       "\n",
       "        if (window._pyforest_update_imports_cell) { window._pyforest_update_imports_cell('import numpy as np'); }\n",
       "    "
      ],
      "text/plain": [
       "<IPython.core.display.Javascript object>"
      ]
     },
     "metadata": {},
     "output_type": "display_data"
    },
    {
     "data": {
      "application/javascript": [
       "\n",
       "        if (window._pyforest_update_imports_cell) { window._pyforest_update_imports_cell('import numpy as np'); }\n",
       "    "
      ],
      "text/plain": [
       "<IPython.core.display.Javascript object>"
      ]
     },
     "metadata": {},
     "output_type": "display_data"
    },
    {
     "data": {
      "application/javascript": [
       "\n",
       "        if (window._pyforest_update_imports_cell) { window._pyforest_update_imports_cell('import numpy as np'); }\n",
       "    "
      ],
      "text/plain": [
       "<IPython.core.display.Javascript object>"
      ]
     },
     "metadata": {},
     "output_type": "display_data"
    }
   ],
   "source": [
    "df=pd.DataFrame([[1.4,np.nan],[7,-4],[np.nan,np.nan],[0.75,-1.3]],index=['a','b','c','d'],columns=['one','two'])"
   ]
  },
  {
   "cell_type": "code",
   "execution_count": 64,
   "metadata": {
    "ExecuteTime": {
     "end_time": "2021-05-18T03:14:00.028842Z",
     "start_time": "2021-05-18T03:14:00.007841Z"
    }
   },
   "outputs": [
    {
     "data": {
      "text/html": [
       "<div>\n",
       "<style scoped>\n",
       "    .dataframe tbody tr th:only-of-type {\n",
       "        vertical-align: middle;\n",
       "    }\n",
       "\n",
       "    .dataframe tbody tr th {\n",
       "        vertical-align: top;\n",
       "    }\n",
       "\n",
       "    .dataframe thead th {\n",
       "        text-align: right;\n",
       "    }\n",
       "</style>\n",
       "<table border=\"1\" class=\"dataframe\">\n",
       "  <thead>\n",
       "    <tr style=\"text-align: right;\">\n",
       "      <th></th>\n",
       "      <th>one</th>\n",
       "      <th>two</th>\n",
       "    </tr>\n",
       "  </thead>\n",
       "  <tbody>\n",
       "    <tr>\n",
       "      <th>a</th>\n",
       "      <td>1.40</td>\n",
       "      <td>NaN</td>\n",
       "    </tr>\n",
       "    <tr>\n",
       "      <th>b</th>\n",
       "      <td>7.00</td>\n",
       "      <td>-4.0</td>\n",
       "    </tr>\n",
       "    <tr>\n",
       "      <th>c</th>\n",
       "      <td>NaN</td>\n",
       "      <td>NaN</td>\n",
       "    </tr>\n",
       "    <tr>\n",
       "      <th>d</th>\n",
       "      <td>0.75</td>\n",
       "      <td>-1.3</td>\n",
       "    </tr>\n",
       "  </tbody>\n",
       "</table>\n",
       "</div>"
      ],
      "text/plain": [
       "    one  two\n",
       "a  1.40  NaN\n",
       "b  7.00 -4.0\n",
       "c   NaN  NaN\n",
       "d  0.75 -1.3"
      ]
     },
     "execution_count": 64,
     "metadata": {},
     "output_type": "execute_result"
    }
   ],
   "source": [
    "df"
   ]
  },
  {
   "cell_type": "code",
   "execution_count": 72,
   "metadata": {
    "ExecuteTime": {
     "end_time": "2021-05-18T06:45:08.409582Z",
     "start_time": "2021-05-18T06:45:08.400582Z"
    }
   },
   "outputs": [],
   "source": [
    "from pandas import DataFrame\n",
    "\n",
    "import pandas as pd\n",
    "\n",
    "import numpy as np\n",
    "\n",
    "# pandas.DataFrame对行和列求和及添加新行和列\n"
   ]
  },
  {
   "cell_type": "code",
   "execution_count": 74,
   "metadata": {
    "ExecuteTime": {
     "end_time": "2021-05-18T06:45:42.443529Z",
     "start_time": "2021-05-18T06:45:42.407527Z"
    }
   },
   "outputs": [
    {
     "data": {
      "text/html": [
       "<div>\n",
       "<style scoped>\n",
       "    .dataframe tbody tr th:only-of-type {\n",
       "        vertical-align: middle;\n",
       "    }\n",
       "\n",
       "    .dataframe tbody tr th {\n",
       "        vertical-align: top;\n",
       "    }\n",
       "\n",
       "    .dataframe thead th {\n",
       "        text-align: right;\n",
       "    }\n",
       "</style>\n",
       "<table border=\"1\" class=\"dataframe\">\n",
       "  <thead>\n",
       "    <tr style=\"text-align: right;\">\n",
       "      <th></th>\n",
       "      <th>A</th>\n",
       "      <th>B</th>\n",
       "      <th>C</th>\n",
       "      <th>D</th>\n",
       "      <th>E</th>\n",
       "    </tr>\n",
       "  </thead>\n",
       "  <tbody>\n",
       "    <tr>\n",
       "      <th>0</th>\n",
       "      <td>-0.023734</td>\n",
       "      <td>1.139584</td>\n",
       "      <td>0.080877</td>\n",
       "      <td>-0.605554</td>\n",
       "      <td>0.822139</td>\n",
       "    </tr>\n",
       "    <tr>\n",
       "      <th>1</th>\n",
       "      <td>-0.663751</td>\n",
       "      <td>-0.350450</td>\n",
       "      <td>0.774261</td>\n",
       "      <td>-0.367813</td>\n",
       "      <td>-1.793594</td>\n",
       "    </tr>\n",
       "    <tr>\n",
       "      <th>2</th>\n",
       "      <td>-0.702938</td>\n",
       "      <td>0.638868</td>\n",
       "      <td>-0.668093</td>\n",
       "      <td>-0.301774</td>\n",
       "      <td>1.532207</td>\n",
       "    </tr>\n",
       "    <tr>\n",
       "      <th>3</th>\n",
       "      <td>-0.494267</td>\n",
       "      <td>-2.342808</td>\n",
       "      <td>-0.006981</td>\n",
       "      <td>0.004955</td>\n",
       "      <td>0.000681</td>\n",
       "    </tr>\n",
       "  </tbody>\n",
       "</table>\n",
       "</div>"
      ],
      "text/plain": [
       "          A         B         C         D         E\n",
       "0 -0.023734  1.139584  0.080877 -0.605554  0.822139\n",
       "1 -0.663751 -0.350450  0.774261 -0.367813 -1.793594\n",
       "2 -0.702938  0.638868 -0.668093 -0.301774  1.532207\n",
       "3 -0.494267 -2.342808 -0.006981  0.004955  0.000681"
      ]
     },
     "execution_count": 74,
     "metadata": {},
     "output_type": "execute_result"
    }
   ],
   "source": [
    "# 生成DataFrame数据\n",
    "\n",
    "df = DataFrame(np.random.randn(4, 5), columns=['A', 'B', 'C', 'D', 'E'])\n",
    "df\n"
   ]
  },
  {
   "cell_type": "code",
   "execution_count": 75,
   "metadata": {
    "ExecuteTime": {
     "end_time": "2021-05-18T06:45:47.580822Z",
     "start_time": "2021-05-18T06:45:47.455815Z"
    }
   },
   "outputs": [],
   "source": [
    "# 计算各列数据总和并作为新列添加到末尾\n",
    "\n",
    "df['Col_sum'] = df.apply(lambda x: x.sum(), axis=1)"
   ]
  },
  {
   "cell_type": "code",
   "execution_count": 76,
   "metadata": {
    "ExecuteTime": {
     "end_time": "2021-05-18T06:45:57.357382Z",
     "start_time": "2021-05-18T06:45:57.327380Z"
    }
   },
   "outputs": [
    {
     "data": {
      "text/html": [
       "<div>\n",
       "<style scoped>\n",
       "    .dataframe tbody tr th:only-of-type {\n",
       "        vertical-align: middle;\n",
       "    }\n",
       "\n",
       "    .dataframe tbody tr th {\n",
       "        vertical-align: top;\n",
       "    }\n",
       "\n",
       "    .dataframe thead th {\n",
       "        text-align: right;\n",
       "    }\n",
       "</style>\n",
       "<table border=\"1\" class=\"dataframe\">\n",
       "  <thead>\n",
       "    <tr style=\"text-align: right;\">\n",
       "      <th></th>\n",
       "      <th>A</th>\n",
       "      <th>B</th>\n",
       "      <th>C</th>\n",
       "      <th>D</th>\n",
       "      <th>E</th>\n",
       "      <th>Col_sum</th>\n",
       "    </tr>\n",
       "  </thead>\n",
       "  <tbody>\n",
       "    <tr>\n",
       "      <th>0</th>\n",
       "      <td>-0.023734</td>\n",
       "      <td>1.139584</td>\n",
       "      <td>0.080877</td>\n",
       "      <td>-0.605554</td>\n",
       "      <td>0.822139</td>\n",
       "      <td>1.413311</td>\n",
       "    </tr>\n",
       "    <tr>\n",
       "      <th>1</th>\n",
       "      <td>-0.663751</td>\n",
       "      <td>-0.350450</td>\n",
       "      <td>0.774261</td>\n",
       "      <td>-0.367813</td>\n",
       "      <td>-1.793594</td>\n",
       "      <td>-2.401347</td>\n",
       "    </tr>\n",
       "    <tr>\n",
       "      <th>2</th>\n",
       "      <td>-0.702938</td>\n",
       "      <td>0.638868</td>\n",
       "      <td>-0.668093</td>\n",
       "      <td>-0.301774</td>\n",
       "      <td>1.532207</td>\n",
       "      <td>0.498271</td>\n",
       "    </tr>\n",
       "    <tr>\n",
       "      <th>3</th>\n",
       "      <td>-0.494267</td>\n",
       "      <td>-2.342808</td>\n",
       "      <td>-0.006981</td>\n",
       "      <td>0.004955</td>\n",
       "      <td>0.000681</td>\n",
       "      <td>-2.838420</td>\n",
       "    </tr>\n",
       "  </tbody>\n",
       "</table>\n",
       "</div>"
      ],
      "text/plain": [
       "          A         B         C         D         E   Col_sum\n",
       "0 -0.023734  1.139584  0.080877 -0.605554  0.822139  1.413311\n",
       "1 -0.663751 -0.350450  0.774261 -0.367813 -1.793594 -2.401347\n",
       "2 -0.702938  0.638868 -0.668093 -0.301774  1.532207  0.498271\n",
       "3 -0.494267 -2.342808 -0.006981  0.004955  0.000681 -2.838420"
      ]
     },
     "execution_count": 76,
     "metadata": {},
     "output_type": "execute_result"
    }
   ],
   "source": [
    "df\n"
   ]
  },
  {
   "cell_type": "code",
   "execution_count": 77,
   "metadata": {
    "ExecuteTime": {
     "end_time": "2021-05-18T06:47:21.362186Z",
     "start_time": "2021-05-18T06:47:21.304183Z"
    }
   },
   "outputs": [
    {
     "data": {
      "text/html": [
       "<div>\n",
       "<style scoped>\n",
       "    .dataframe tbody tr th:only-of-type {\n",
       "        vertical-align: middle;\n",
       "    }\n",
       "\n",
       "    .dataframe tbody tr th {\n",
       "        vertical-align: top;\n",
       "    }\n",
       "\n",
       "    .dataframe thead th {\n",
       "        text-align: right;\n",
       "    }\n",
       "</style>\n",
       "<table border=\"1\" class=\"dataframe\">\n",
       "  <thead>\n",
       "    <tr style=\"text-align: right;\">\n",
       "      <th></th>\n",
       "      <th>A</th>\n",
       "      <th>B</th>\n",
       "      <th>C</th>\n",
       "      <th>D</th>\n",
       "      <th>E</th>\n",
       "      <th>Col_sum</th>\n",
       "    </tr>\n",
       "  </thead>\n",
       "  <tbody>\n",
       "    <tr>\n",
       "      <th>0</th>\n",
       "      <td>-0.023734</td>\n",
       "      <td>1.139584</td>\n",
       "      <td>0.080877</td>\n",
       "      <td>-0.605554</td>\n",
       "      <td>0.822139</td>\n",
       "      <td>1.413311</td>\n",
       "    </tr>\n",
       "    <tr>\n",
       "      <th>1</th>\n",
       "      <td>-0.663751</td>\n",
       "      <td>-0.350450</td>\n",
       "      <td>0.774261</td>\n",
       "      <td>-0.367813</td>\n",
       "      <td>-1.793594</td>\n",
       "      <td>-2.401347</td>\n",
       "    </tr>\n",
       "    <tr>\n",
       "      <th>2</th>\n",
       "      <td>-0.702938</td>\n",
       "      <td>0.638868</td>\n",
       "      <td>-0.668093</td>\n",
       "      <td>-0.301774</td>\n",
       "      <td>1.532207</td>\n",
       "      <td>0.498271</td>\n",
       "    </tr>\n",
       "    <tr>\n",
       "      <th>3</th>\n",
       "      <td>-0.494267</td>\n",
       "      <td>-2.342808</td>\n",
       "      <td>-0.006981</td>\n",
       "      <td>0.004955</td>\n",
       "      <td>0.000681</td>\n",
       "      <td>-2.838420</td>\n",
       "    </tr>\n",
       "    <tr>\n",
       "      <th>Row_sum</th>\n",
       "      <td>-1.884691</td>\n",
       "      <td>-0.914806</td>\n",
       "      <td>0.180064</td>\n",
       "      <td>-1.270186</td>\n",
       "      <td>0.561434</td>\n",
       "      <td>-3.328185</td>\n",
       "    </tr>\n",
       "  </tbody>\n",
       "</table>\n",
       "</div>"
      ],
      "text/plain": [
       "                A         B         C         D         E   Col_sum\n",
       "0       -0.023734  1.139584  0.080877 -0.605554  0.822139  1.413311\n",
       "1       -0.663751 -0.350450  0.774261 -0.367813 -1.793594 -2.401347\n",
       "2       -0.702938  0.638868 -0.668093 -0.301774  1.532207  0.498271\n",
       "3       -0.494267 -2.342808 -0.006981  0.004955  0.000681 -2.838420\n",
       "Row_sum -1.884691 -0.914806  0.180064 -1.270186  0.561434 -3.328185"
      ]
     },
     "execution_count": 77,
     "metadata": {},
     "output_type": "execute_result"
    }
   ],
   "source": [
    "# 计算各行数据总和并作为新行添加到末尾\n",
    "\n",
    "df.loc['Row_sum'] = df.apply(lambda x: x.sum())\n",
    "df "
   ]
  },
  {
   "cell_type": "markdown",
   "metadata": {},
   "source": [
    "## pandas.DataFrame排除特定行\n",
    "使用Python进行数据分析时，经常要使用到的一个数据结构就是pandas的DataFrame\n",
    "\n",
    "如果我们想要像Excel的筛选那样，只要其中的一行或某几行，可以使用isin()方法，将需要的行的值以列表方式传入，还可以传入字典，指定列进行筛选。\n",
    "\n",
    "但是如果我们只想要所有内容中不包含特定行的内容，却并没有一个isnotin()方法。我今天的工作就遇到了这样的需求，经常查找之后，发现只能换种方式使用isin()来实现这个需求。\n",
    "\n",
    "示例如下：\n",
    "\n"
   ]
  },
  {
   "cell_type": "code",
   "execution_count": 79,
   "metadata": {
    "ExecuteTime": {
     "end_time": "2021-05-18T07:11:19.002415Z",
     "start_time": "2021-05-18T07:11:18.972413Z"
    }
   },
   "outputs": [
    {
     "data": {
      "text/html": [
       "<div>\n",
       "<style scoped>\n",
       "    .dataframe tbody tr th:only-of-type {\n",
       "        vertical-align: middle;\n",
       "    }\n",
       "\n",
       "    .dataframe tbody tr th {\n",
       "        vertical-align: top;\n",
       "    }\n",
       "\n",
       "    .dataframe thead th {\n",
       "        text-align: right;\n",
       "    }\n",
       "</style>\n",
       "<table border=\"1\" class=\"dataframe\">\n",
       "  <thead>\n",
       "    <tr style=\"text-align: right;\">\n",
       "      <th></th>\n",
       "      <th>p1</th>\n",
       "      <th>p2</th>\n",
       "      <th>p3</th>\n",
       "    </tr>\n",
       "  </thead>\n",
       "  <tbody>\n",
       "    <tr>\n",
       "      <th>0</th>\n",
       "      <td>GD</td>\n",
       "      <td>GX</td>\n",
       "      <td>FJ</td>\n",
       "    </tr>\n",
       "    <tr>\n",
       "      <th>1</th>\n",
       "      <td>SD</td>\n",
       "      <td>SX</td>\n",
       "      <td>BJ</td>\n",
       "    </tr>\n",
       "    <tr>\n",
       "      <th>2</th>\n",
       "      <td>HN</td>\n",
       "      <td>HB</td>\n",
       "      <td>AH</td>\n",
       "    </tr>\n",
       "    <tr>\n",
       "      <th>3</th>\n",
       "      <td>HEN</td>\n",
       "      <td>HEN</td>\n",
       "      <td>HLJ</td>\n",
       "    </tr>\n",
       "    <tr>\n",
       "      <th>4</th>\n",
       "      <td>SH</td>\n",
       "      <td>TJ</td>\n",
       "      <td>CQ</td>\n",
       "    </tr>\n",
       "  </tbody>\n",
       "</table>\n",
       "</div>"
      ],
      "text/plain": [
       "    p1   p2   p3\n",
       "0   GD   GX   FJ\n",
       "1   SD   SX   BJ\n",
       "2   HN   HB   AH\n",
       "3  HEN  HEN  HLJ\n",
       "4   SH   TJ   CQ"
      ]
     },
     "execution_count": 79,
     "metadata": {},
     "output_type": "execute_result"
    }
   ],
   "source": [
    "list1=['GD', 'GX', 'FJ']\n",
    "df = pd.DataFrame([list1, ['SD', 'SX', 'BJ'], ['HN', 'HB', 'AH'], ['HEN', 'HEN', 'HLJ'], ['SH', 'TJ', 'CQ']], columns=['p1', 'p2', 'p3'])\n",
    "df"
   ]
  },
  {
   "cell_type": "code",
   "execution_count": 81,
   "metadata": {
    "ExecuteTime": {
     "end_time": "2021-05-18T07:12:13.626539Z",
     "start_time": "2021-05-18T07:12:13.601538Z"
    }
   },
   "outputs": [
    {
     "data": {
      "text/html": [
       "<div>\n",
       "<style scoped>\n",
       "    .dataframe tbody tr th:only-of-type {\n",
       "        vertical-align: middle;\n",
       "    }\n",
       "\n",
       "    .dataframe tbody tr th {\n",
       "        vertical-align: top;\n",
       "    }\n",
       "\n",
       "    .dataframe thead th {\n",
       "        text-align: right;\n",
       "    }\n",
       "</style>\n",
       "<table border=\"1\" class=\"dataframe\">\n",
       "  <thead>\n",
       "    <tr style=\"text-align: right;\">\n",
       "      <th></th>\n",
       "      <th>p1</th>\n",
       "      <th>p2</th>\n",
       "      <th>p3</th>\n",
       "    </tr>\n",
       "  </thead>\n",
       "  <tbody>\n",
       "    <tr>\n",
       "      <th>0</th>\n",
       "      <td>GD</td>\n",
       "      <td>GX</td>\n",
       "      <td>FJ</td>\n",
       "    </tr>\n",
       "    <tr>\n",
       "      <th>2</th>\n",
       "      <td>HN</td>\n",
       "      <td>HB</td>\n",
       "      <td>AH</td>\n",
       "    </tr>\n",
       "  </tbody>\n",
       "</table>\n",
       "</div>"
      ],
      "text/plain": [
       "   p1  p2  p3\n",
       "0  GD  GX  FJ\n",
       "2  HN  HB  AH"
      ]
     },
     "execution_count": 81,
     "metadata": {},
     "output_type": "execute_result"
    }
   ],
   "source": [
    "# 如果只想要p1为GD和HN的两行，可以这么做：\n",
    "df[df.p1.isin(['GD','HN'])]"
   ]
  },
  {
   "cell_type": "code",
   "execution_count": 82,
   "metadata": {
    "ExecuteTime": {
     "end_time": "2021-05-18T07:14:00.437648Z",
     "start_time": "2021-05-18T07:14:00.425648Z"
    }
   },
   "outputs": [
    {
     "data": {
      "text/plain": [
       "['SD', 'HEN', 'SH']"
      ]
     },
     "execution_count": 82,
     "metadata": {},
     "output_type": "execute_result"
    }
   ],
   "source": [
    "# 但是如果我们想要除了这两行之外的数据，就需要绕点路了。\n",
    "# 原理是先把p1取出并转换为列表，然后再从列表中去不需要的行（值）去除，然后再在DataFrame中使用isin()\n",
    "ex_list=list(df.p1)\n",
    "ex_list.remove('GD')\n",
    "ex_list.remove('HN')\n",
    "ex_list"
   ]
  },
  {
   "cell_type": "code",
   "execution_count": 84,
   "metadata": {
    "ExecuteTime": {
     "end_time": "2021-05-18T07:14:30.099345Z",
     "start_time": "2021-05-18T07:14:30.073343Z"
    }
   },
   "outputs": [
    {
     "data": {
      "text/html": [
       "<div>\n",
       "<style scoped>\n",
       "    .dataframe tbody tr th:only-of-type {\n",
       "        vertical-align: middle;\n",
       "    }\n",
       "\n",
       "    .dataframe tbody tr th {\n",
       "        vertical-align: top;\n",
       "    }\n",
       "\n",
       "    .dataframe thead th {\n",
       "        text-align: right;\n",
       "    }\n",
       "</style>\n",
       "<table border=\"1\" class=\"dataframe\">\n",
       "  <thead>\n",
       "    <tr style=\"text-align: right;\">\n",
       "      <th></th>\n",
       "      <th>p1</th>\n",
       "      <th>p2</th>\n",
       "      <th>p3</th>\n",
       "    </tr>\n",
       "  </thead>\n",
       "  <tbody>\n",
       "    <tr>\n",
       "      <th>1</th>\n",
       "      <td>SD</td>\n",
       "      <td>SX</td>\n",
       "      <td>BJ</td>\n",
       "    </tr>\n",
       "    <tr>\n",
       "      <th>3</th>\n",
       "      <td>HEN</td>\n",
       "      <td>HEN</td>\n",
       "      <td>HLJ</td>\n",
       "    </tr>\n",
       "    <tr>\n",
       "      <th>4</th>\n",
       "      <td>SH</td>\n",
       "      <td>TJ</td>\n",
       "      <td>CQ</td>\n",
       "    </tr>\n",
       "  </tbody>\n",
       "</table>\n",
       "</div>"
      ],
      "text/plain": [
       "    p1   p2   p3\n",
       "1   SD   SX   BJ\n",
       "3  HEN  HEN  HLJ\n",
       "4   SH   TJ   CQ"
      ]
     },
     "execution_count": 84,
     "metadata": {},
     "output_type": "execute_result"
    }
   ],
   "source": [
    "df[df.p1.isin(ex_list)]"
   ]
  },
  {
   "cell_type": "code",
   "execution_count": null,
   "metadata": {},
   "outputs": [],
   "source": [
    "# 在对读入的数据进行必要的行列修剪以及整体描述后，接下来我再进一步，对数据进行一些简单的行列计算。今天就讲一讲简单的行列计算方法。\n",
    "\n",
    "# 首先还是把数据读进来，并做适当的修剪：\n",
    "import pandas as pd\n",
    "\n",
    "# 读入数据\n",
    "data=pd.read_excel('D:/temp/员工综合绩效分析.xlsx',sheet_name='综合绩效分析')\n",
    "\n",
    "# 修改列名\n",
    "data1=data[['班组','姓名','性别','平均处理时长','月度接听量','质检成绩']]\n"
   ]
  },
  {
   "cell_type": "markdown",
   "metadata": {},
   "source": [
    "## 然后我们在数据集的最右侧增加一列，数据来自已有数据的列计算：\n"
   ]
  },
  {
   "cell_type": "code",
   "execution_count": null,
   "metadata": {},
   "outputs": [],
   "source": [
    "data1['月度有效工时']=data1['平均处理时长']*data1['月度接听量']"
   ]
  },
  {
   "cell_type": "markdown",
   "metadata": {},
   "source": [
    "## 那么我们如何想要把计算列插入到指定位置而不是最后面应该如何操作呢？这就用到了Pandas的insert插入命令。先看代码："
   ]
  },
  {
   "cell_type": "code",
   "execution_count": null,
   "metadata": {},
   "outputs": [],
   "source": [
    "data1.insert(1,column='月度有效工时',value=data1['平均处理时长'] * data1['月度接听量'])"
   ]
  },
  {
   "cell_type": "markdown",
   "metadata": {},
   "source": [
    "## 那么行计算呢？对于纵向每行数据的计算(其实本质上还是列计算)，Pandas也有着一系列简单直白的命令。先把代码放在这里："
   ]
  },
  {
   "cell_type": "code",
   "execution_count": null,
   "metadata": {},
   "outputs": [],
   "source": [
    "# 第一行是直接对数据集data1中所有的数值型数据进行求均值操作。\n",
    "data1.mean()\n",
    "# 第二行是对data1数据集中的“平均处理时长”列进行求均值操作。\n",
    "data1.平均处理时长.mean()\n",
    "# 第三行是对data1数据集中的“平均处理时长”列进行计数、求和、最小、最大以及均值的批量求值操作。\n",
    "data1.平均处理时长.agg(['count','sum','min','max','mean'])\n",
    "# 懂了这三行代码，就可以举一反三，灵活地对目标数据列进行基本的统计分析操作了。"
   ]
  },
  {
   "cell_type": "code",
   "execution_count": 85,
   "metadata": {
    "ExecuteTime": {
     "end_time": "2021-05-18T07:35:03.316881Z",
     "start_time": "2021-05-18T07:35:03.280879Z"
    }
   },
   "outputs": [
    {
     "data": {
      "text/html": [
       "<div>\n",
       "<style scoped>\n",
       "    .dataframe tbody tr th:only-of-type {\n",
       "        vertical-align: middle;\n",
       "    }\n",
       "\n",
       "    .dataframe tbody tr th {\n",
       "        vertical-align: top;\n",
       "    }\n",
       "\n",
       "    .dataframe thead th {\n",
       "        text-align: right;\n",
       "    }\n",
       "</style>\n",
       "<table border=\"1\" class=\"dataframe\">\n",
       "  <thead>\n",
       "    <tr style=\"text-align: right;\">\n",
       "      <th></th>\n",
       "      <th>fruits</th>\n",
       "      <th>source</th>\n",
       "      <th>prices</th>\n",
       "    </tr>\n",
       "  </thead>\n",
       "  <tbody>\n",
       "    <tr>\n",
       "      <th>0</th>\n",
       "      <td>banana</td>\n",
       "      <td>[brazil, algeria, nigera]</td>\n",
       "      <td>2</td>\n",
       "    </tr>\n",
       "    <tr>\n",
       "      <th>1</th>\n",
       "      <td>apple</td>\n",
       "      <td>[brazil, morocco, iran, france]</td>\n",
       "      <td>3</td>\n",
       "    </tr>\n",
       "    <tr>\n",
       "      <th>2</th>\n",
       "      <td>pear</td>\n",
       "      <td>[china, india, mexico]</td>\n",
       "      <td>7</td>\n",
       "    </tr>\n",
       "  </tbody>\n",
       "</table>\n",
       "</div>"
      ],
      "text/plain": [
       "   fruits                           source  prices\n",
       "0  banana        [brazil, algeria, nigera]       2\n",
       "1   apple  [brazil, morocco, iran, france]       3\n",
       "2    pear           [china, india, mexico]       7"
      ]
     },
     "execution_count": 85,
     "metadata": {},
     "output_type": "execute_result"
    }
   ],
   "source": [
    "data = {'fruits': ['banana', 'apple', 'pear'], \n",
    "    'source' : (['brazil', 'algeria', 'nigera'], ['brazil', 'morocco', 'iran', 'france'], ['china', 'india', 'mexico']),\n",
    "    'prices' : [2, 3, 7]}\n",
    "df = pd.DataFrame(data, columns = ['fruits', 'source', 'prices'])\n",
    "df"
   ]
  },
  {
   "cell_type": "markdown",
   "metadata": {},
   "source": [
    "## 创建Series"
   ]
  },
  {
   "cell_type": "code",
   "execution_count": 1,
   "metadata": {
    "ExecuteTime": {
     "end_time": "2021-05-19T07:50:53.155506Z",
     "start_time": "2021-05-19T07:50:51.955437Z"
    }
   },
   "outputs": [
    {
     "data": {
      "application/javascript": [
       "\n",
       "        if (window._pyforest_update_imports_cell) { window._pyforest_update_imports_cell('import pandas as pd'); }\n",
       "    "
      ],
      "text/plain": [
       "<IPython.core.display.Javascript object>"
      ]
     },
     "metadata": {},
     "output_type": "display_data"
    },
    {
     "data": {
      "application/javascript": [
       "\n",
       "        if (window._pyforest_update_imports_cell) { window._pyforest_update_imports_cell('import pandas as pd'); }\n",
       "    "
      ],
      "text/plain": [
       "<IPython.core.display.Javascript object>"
      ]
     },
     "metadata": {},
     "output_type": "display_data"
    },
    {
     "data": {
      "application/javascript": [
       "\n",
       "        if (window._pyforest_update_imports_cell) { window._pyforest_update_imports_cell('import pandas as pd'); }\n",
       "    "
      ],
      "text/plain": [
       "<IPython.core.display.Javascript object>"
      ]
     },
     "metadata": {},
     "output_type": "display_data"
    },
    {
     "data": {
      "application/javascript": [
       "\n",
       "        if (window._pyforest_update_imports_cell) { window._pyforest_update_imports_cell('import pandas as pd\\nimport numpy as np'); }\n",
       "    "
      ],
      "text/plain": [
       "<IPython.core.display.Javascript object>"
      ]
     },
     "metadata": {},
     "output_type": "display_data"
    },
    {
     "data": {
      "application/javascript": [
       "\n",
       "        if (window._pyforest_update_imports_cell) { window._pyforest_update_imports_cell('import pandas as pd\\nimport numpy as np'); }\n",
       "    "
      ],
      "text/plain": [
       "<IPython.core.display.Javascript object>"
      ]
     },
     "metadata": {},
     "output_type": "display_data"
    }
   ],
   "source": [
    "#1.通过list创建\n",
    "a = pd.Series([1,2,3,4,3,3,4])\n",
    "b = pd.Series([1,2,4,5], index = [\"a\",\"b\",\"c\",\"d\"])\n",
    "#2.通过数组创建\n",
    "a = pd.Series(np.arange(6))\n",
    "#3.通过字典生成，key ==>index\n",
    "a = pd.Series({\"a\":1,\"b\":2,\"c\":3})"
   ]
  },
  {
   "cell_type": "markdown",
   "metadata": {},
   "source": [
    "## 创建DataFrame"
   ]
  },
  {
   "cell_type": "code",
   "execution_count": null,
   "metadata": {},
   "outputs": [],
   "source": [
    "#1.通过字典创建\n",
    "d = {'col1': [1, 2], 'col2': [3, 4]}\n",
    "df = pd.DataFrame(data=d，dtype=np.int8)\n",
    "#2.通过包含Series创建字典"
   ]
  },
  {
   "cell_type": "code",
   "execution_count": 90,
   "metadata": {
    "ExecuteTime": {
     "end_time": "2021-05-18T07:43:37.951316Z",
     "start_time": "2021-05-18T07:43:37.942316Z"
    }
   },
   "outputs": [],
   "source": [
    "df = DataFrame(np.random.randn(4, 5), columns=['A', 'B', 'C', 'D', 'E'])"
   ]
  },
  {
   "cell_type": "code",
   "execution_count": 91,
   "metadata": {
    "ExecuteTime": {
     "end_time": "2021-05-18T08:42:25.271067Z",
     "start_time": "2021-05-18T08:42:25.255067Z"
    }
   },
   "outputs": [
    {
     "data": {
      "text/plain": [
       "leo     90\n",
       "kate    86\n",
       "john    70\n",
       "dtype: int64"
      ]
     },
     "execution_count": 91,
     "metadata": {},
     "output_type": "execute_result"
    }
   ],
   "source": [
    "s1=pd.Series([90,86,70],index=['leo','kate','john'])\n",
    "s1"
   ]
  },
  {
   "cell_type": "code",
   "execution_count": 94,
   "metadata": {
    "ExecuteTime": {
     "end_time": "2021-05-18T08:43:40.969397Z",
     "start_time": "2021-05-18T08:43:40.951396Z"
    }
   },
   "outputs": [
    {
     "data": {
      "text/plain": [
       "leo      [90, 909]\n",
       "katea           45\n",
       "johnn           30\n",
       "dtype: object"
      ]
     },
     "execution_count": 94,
     "metadata": {},
     "output_type": "execute_result"
    }
   ],
   "source": [
    "dict={'leo':[90,909],'katea':45,'johnn':30}\n",
    "s2=pd.Series(dict)\n",
    "s2"
   ]
  },
  {
   "cell_type": "code",
   "execution_count": 96,
   "metadata": {
    "ExecuteTime": {
     "end_time": "2021-05-18T08:44:48.733273Z",
     "start_time": "2021-05-18T08:44:48.718272Z"
    }
   },
   "outputs": [
    {
     "data": {
      "text/plain": [
       "a    3\n",
       "b   -5\n",
       "c    7\n",
       "d    4\n",
       "dtype: int64"
      ]
     },
     "execution_count": 96,
     "metadata": {},
     "output_type": "execute_result"
    }
   ],
   "source": [
    "s3=pd.Series([3,-5,7,4],index=list('abcd'))\n",
    "s3"
   ]
  },
  {
   "cell_type": "code",
   "execution_count": 97,
   "metadata": {
    "ExecuteTime": {
     "end_time": "2021-05-18T08:47:46.447438Z",
     "start_time": "2021-05-18T08:47:46.410436Z"
    }
   },
   "outputs": [
    {
     "name": "stdout",
     "output_type": "stream",
     "text": [
      "---------案例1:--------------\n",
      "     name gender  age\n",
      "0    Snow      M   22\n",
      "1  Tyrion      M   32\n",
      "2   Sansa      F   18\n",
      "3    Arya      F   14\n",
      "---------案例2:--------------\n",
      "   Country    Capital  Population\n",
      "1  Belglum   Brussels    11190846\n",
      "2    Indla  New Delhi  1303171035\n",
      "3   Brazil   Brasilia   207847528\n"
     ]
    }
   ],
   "source": [
    "import pandas as pd\n",
    "\n",
    "print(\"---------案例1:--------------\")\n",
    "# 创建DataFrame，列名是：'name'、'gender'、'age'\n",
    "df = pd.DataFrame([['Snow','M',22],\n",
    "                   ['Tyrion','M',32],\n",
    "                   ['Sansa','F',18],\n",
    "                   ['Arya','F',14]], columns=['name','gender','age'])\n",
    "print(df)\n",
    "\n",
    "print(\"---------案例2:--------------\")\n",
    "# DataFrame创建,列名是：'Country'、'Capital'、'Population'\n",
    "data=[['Belglum','Brussels',11190846],\n",
    "      ['Indla','New Delhi',1303171035],\n",
    "      ['Brazil','Brasilia',207847528]]\n",
    "\n",
    "# index如果不写，默认从0开始序列，下面设置了从1开始序列\n",
    "df1=pd.DataFrame(data=data,index=[1,2,3],columns=['Country','Capital','Population'])\n",
    "print(df1)"
   ]
  },
  {
   "cell_type": "code",
   "execution_count": null,
   "metadata": {},
   "outputs": [],
   "source": []
  }
 ],
 "metadata": {
  "kernelspec": {
   "display_name": "Python 3",
   "language": "python",
   "name": "python3"
  },
  "language_info": {
   "codemirror_mode": {
    "name": "ipython",
    "version": 3
   },
   "file_extension": ".py",
   "mimetype": "text/x-python",
   "name": "python",
   "nbconvert_exporter": "python",
   "pygments_lexer": "ipython3",
   "version": "3.8.5"
  },
  "toc": {
   "base_numbering": 1,
   "nav_menu": {},
   "number_sections": true,
   "sideBar": true,
   "skip_h1_title": false,
   "title_cell": "Table of Contents",
   "title_sidebar": "Contents",
   "toc_cell": false,
   "toc_position": {},
   "toc_section_display": true,
   "toc_window_display": false
  }
 },
 "nbformat": 4,
 "nbformat_minor": 4
}
