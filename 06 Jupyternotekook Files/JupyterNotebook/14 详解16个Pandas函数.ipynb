{
 "cells": [
  {
   "cell_type": "code",
   "execution_count": 1,
   "metadata": {
    "ExecuteTime": {
     "end_time": "2021-06-11T02:03:33.870620Z",
     "start_time": "2021-06-11T02:03:25.760156Z"
    }
   },
   "outputs": [
    {
     "data": {
      "text/html": [
       "<div>\n",
       "<style scoped>\n",
       "    .dataframe tbody tr th:only-of-type {\n",
       "        vertical-align: middle;\n",
       "    }\n",
       "\n",
       "    .dataframe tbody tr th {\n",
       "        vertical-align: top;\n",
       "    }\n",
       "\n",
       "    .dataframe thead th {\n",
       "        text-align: right;\n",
       "    }\n",
       "</style>\n",
       "<table border=\"1\" class=\"dataframe\">\n",
       "  <thead>\n",
       "    <tr style=\"text-align: right;\">\n",
       "      <th></th>\n",
       "      <th>姓名</th>\n",
       "      <th>英文名</th>\n",
       "      <th>性别</th>\n",
       "      <th>身份证</th>\n",
       "      <th>身高</th>\n",
       "      <th>家庭住址</th>\n",
       "      <th>电话号码</th>\n",
       "      <th>收入</th>\n",
       "    </tr>\n",
       "  </thead>\n",
       "  <tbody>\n",
       "    <tr>\n",
       "      <th>0</th>\n",
       "      <td>黄同学</td>\n",
       "      <td>Huang tong_xue</td>\n",
       "      <td>男</td>\n",
       "      <td>463895200003128433</td>\n",
       "      <td>mid:175_good</td>\n",
       "      <td>湖北广水</td>\n",
       "      <td>13434813546</td>\n",
       "      <td>1.1万</td>\n",
       "    </tr>\n",
       "    <tr>\n",
       "      <th>1</th>\n",
       "      <td>黄至尊</td>\n",
       "      <td>huang zhi_zun</td>\n",
       "      <td>women</td>\n",
       "      <td>429475199912122345</td>\n",
       "      <td>low:165_bad</td>\n",
       "      <td>河南信阳</td>\n",
       "      <td>19748672895</td>\n",
       "      <td>8.5千</td>\n",
       "    </tr>\n",
       "    <tr>\n",
       "      <th>2</th>\n",
       "      <td>黄老邪</td>\n",
       "      <td>Huang Lao_xie</td>\n",
       "      <td>men</td>\n",
       "      <td>420934199110102311</td>\n",
       "      <td>low:159_bad</td>\n",
       "      <td>广西桂林</td>\n",
       "      <td>16728613064</td>\n",
       "      <td>0.9万</td>\n",
       "    </tr>\n",
       "    <tr>\n",
       "      <th>3</th>\n",
       "      <td>陈大美</td>\n",
       "      <td>Chen Da_mei</td>\n",
       "      <td>女</td>\n",
       "      <td>431085200005230122</td>\n",
       "      <td>high:180_verygood</td>\n",
       "      <td>湖北孝感</td>\n",
       "      <td>14561586431</td>\n",
       "      <td>6.5千</td>\n",
       "    </tr>\n",
       "    <tr>\n",
       "      <th>4</th>\n",
       "      <td>孙尚香</td>\n",
       "      <td>sun shang_xiang</td>\n",
       "      <td>男</td>\n",
       "      <td>420953199509082345</td>\n",
       "      <td>low:172_bad</td>\n",
       "      <td>广东广州</td>\n",
       "      <td>19384683910</td>\n",
       "      <td>2.0万</td>\n",
       "    </tr>\n",
       "  </tbody>\n",
       "</table>\n",
       "</div>"
      ],
      "text/plain": [
       "     姓名              英文名     性别                 身份证                 身高  家庭住址  \\\n",
       "0   黄同学   Huang tong_xue      男  463895200003128433       mid:175_good  湖北广水   \n",
       "1   黄至尊    huang zhi_zun  women  429475199912122345        low:165_bad  河南信阳   \n",
       "2  黄老邪     Huang Lao_xie    men  420934199110102311        low:159_bad  广西桂林   \n",
       "3   陈大美      Chen Da_mei      女  431085200005230122  high:180_verygood  湖北孝感   \n",
       "4   孙尚香  sun shang_xiang      男  420953199509082345        low:172_bad  广东广州   \n",
       "\n",
       "          电话号码    收入  \n",
       "0  13434813546  1.1万  \n",
       "1  19748672895  8.5千  \n",
       "2  16728613064  0.9万  \n",
       "3  14561586431  6.5千  \n",
       "4  19384683910  2.0万  "
      ]
     },
     "execution_count": 1,
     "metadata": {},
     "output_type": "execute_result"
    }
   ],
   "source": [
    "import pandas as pd\n",
    "\n",
    "df ={'姓名':[' 黄同学','黄至尊','黄老邪 ','陈大美','孙尚香'],\n",
    "     '英文名':['Huang tong_xue','huang zhi_zun','Huang Lao_xie','Chen Da_mei','sun shang_xiang'],\n",
    "     '性别':['男','women','men','女','男'],\n",
    "     '身份证':['463895200003128433','429475199912122345','420934199110102311','431085200005230122','420953199509082345'],\n",
    "     '身高':['mid:175_good','low:165_bad','low:159_bad','high:180_verygood','low:172_bad'],\n",
    "     '家庭住址':['湖北广水','河南信阳','广西桂林','湖北孝感','广东广州'],\n",
    "     '电话号码':['13434813546','19748672895','16728613064','14561586431','19384683910'],\n",
    "     '收入':['1.1万','8.5千','0.9万','6.5千','2.0万']}\n",
    "df = pd.DataFrame(df)\n",
    "df"
   ]
  },
  {
   "cell_type": "code",
   "execution_count": 3,
   "metadata": {
    "ExecuteTime": {
     "end_time": "2021-06-11T02:05:43.607040Z",
     "start_time": "2021-06-11T02:05:43.591039Z"
    }
   },
   "outputs": [
    {
     "data": {
      "text/plain": [
       "0     黄同学---湖北广水\n",
       "1     黄至尊---河南信阳\n",
       "2    黄老邪 ---广西桂林\n",
       "3     陈大美---湖北孝感\n",
       "4     孙尚香---广东广州\n",
       "Name: 姓名, dtype: object"
      ]
     },
     "execution_count": 3,
     "metadata": {},
     "output_type": "execute_result"
    }
   ],
   "source": [
    "#① cat函数：用于字符串的拼接\n",
    "df['姓名'].str.cat(df['家庭住址'],sep='-'*3)"
   ]
  },
  {
   "cell_type": "code",
   "execution_count": 4,
   "metadata": {
    "ExecuteTime": {
     "end_time": "2021-06-11T02:06:47.084671Z",
     "start_time": "2021-06-11T02:06:47.070670Z"
    }
   },
   "outputs": [
    {
     "data": {
      "text/plain": [
       "0     True\n",
       "1    False\n",
       "2     True\n",
       "3    False\n",
       "4     True\n",
       "Name: 家庭住址, dtype: bool"
      ]
     },
     "execution_count": 4,
     "metadata": {},
     "output_type": "execute_result"
    }
   ],
   "source": [
    "#② contains：判断某个字符串是否包含给定字符\n",
    "df['家庭住址'].str.contains('广')"
   ]
  },
  {
   "cell_type": "code",
   "execution_count": 12,
   "metadata": {
    "ExecuteTime": {
     "end_time": "2021-06-11T02:09:50.959188Z",
     "start_time": "2021-06-11T02:09:50.943187Z"
    }
   },
   "outputs": [
    {
     "data": {
      "text/plain": [
       "0     True\n",
       "1    False\n",
       "2     True\n",
       "3    False\n",
       "4    False\n",
       "Name: 英文名, dtype: bool"
      ]
     },
     "execution_count": 12,
     "metadata": {},
     "output_type": "execute_result"
    }
   ],
   "source": [
    "#③ startswith/endswith：判断某个字符串是否以…开头/结尾\n",
    "df['姓名'].str.startswith('黄')\n",
    "df['英文名'].str.endswith('e')"
   ]
  },
  {
   "cell_type": "code",
   "execution_count": 14,
   "metadata": {
    "ExecuteTime": {
     "end_time": "2021-06-11T02:10:35.833755Z",
     "start_time": "2021-06-11T02:10:35.818754Z"
    }
   },
   "outputs": [
    {
     "data": {
      "text/plain": [
       "0    3\n",
       "1    0\n",
       "2    1\n",
       "3    1\n",
       "4    2\n",
       "Name: 电话号码, dtype: int64"
      ]
     },
     "execution_count": 14,
     "metadata": {},
     "output_type": "execute_result"
    }
   ],
   "source": [
    "#④ count：计算给定字符在字符串中出现的次数\n",
    "df['电话号码'].str.count('3')"
   ]
  },
  {
   "cell_type": "code",
   "execution_count": 18,
   "metadata": {
    "ExecuteTime": {
     "end_time": "2021-06-11T02:11:21.150347Z",
     "start_time": "2021-06-11T02:11:21.135346Z"
    }
   },
   "outputs": [
    {
     "data": {
      "text/plain": [
       "0     mid\n",
       "1     low\n",
       "2     low\n",
       "3    high\n",
       "4     low\n",
       "Name: 身高, dtype: object"
      ]
     },
     "execution_count": 18,
     "metadata": {},
     "output_type": "execute_result"
    }
   ],
   "source": [
    "#⑤ get：获取指定位置的字符串\n",
    "# df[\"姓名\"].str.get(-1)\n",
    "# df[\"身高\"].str.split(\":\")\n",
    "df[\"身高\"].str.split(\":\").str.get(0)"
   ]
  },
  {
   "cell_type": "code",
   "execution_count": 19,
   "metadata": {
    "ExecuteTime": {
     "end_time": "2021-06-11T02:12:04.490826Z",
     "start_time": "2021-06-11T02:12:04.471824Z"
    }
   },
   "outputs": [
    {
     "data": {
      "text/plain": [
       "0    ***湖北广水***\n",
       "1    ***河南信阳***\n",
       "2    ***广西桂林***\n",
       "3    ***湖北孝感***\n",
       "4    ***广东广州***\n",
       "Name: 家庭住址, dtype: object"
      ]
     },
     "execution_count": 19,
     "metadata": {},
     "output_type": "execute_result"
    }
   ],
   "source": [
    "#⑧ pad+side参数/center：在字符串的左边、右边或左右两边添加给定字符\n",
    "df[\"家庭住址\"].str.pad(10,fillchar=\"*\")      # 相当于ljust()\n",
    "df[\"家庭住址\"].str.pad(10,side=\"right\",fillchar=\"*\")    # 相当于rjust()\n",
    "df[\"家庭住址\"].str.center(10,fillchar=\"*\")\n"
   ]
  },
  {
   "cell_type": "code",
   "execution_count": 21,
   "metadata": {
    "ExecuteTime": {
     "end_time": "2021-06-11T02:12:45.724184Z",
     "start_time": "2021-06-11T02:12:45.710183Z"
    }
   },
   "outputs": [
    {
     "data": {
      "text/plain": [
       "0    1343****546\n",
       "1    1974****895\n",
       "2    1672****064\n",
       "3    1456****431\n",
       "4    1938****910\n",
       "Name: 电话号码, dtype: object"
      ]
     },
     "execution_count": 21,
     "metadata": {},
     "output_type": "execute_result"
    }
   ],
   "source": [
    "#⑩ slice_replace：使用给定的字符串，替换指定的位置的字符\n",
    "df[\"电话号码\"].str.slice_replace(4,8,\"*\"*4)"
   ]
  },
  {
   "cell_type": "code",
   "execution_count": 22,
   "metadata": {
    "ExecuteTime": {
     "end_time": "2021-06-11T02:13:20.548176Z",
     "start_time": "2021-06-11T02:13:20.535175Z"
    }
   },
   "outputs": [
    {
     "data": {
      "text/plain": [
       "0         mid-175_good\n",
       "1          low-165_bad\n",
       "2          low-159_bad\n",
       "3    high-180_verygood\n",
       "4          low-172_bad\n",
       "Name: 身高, dtype: object"
      ]
     },
     "execution_count": 22,
     "metadata": {},
     "output_type": "execute_result"
    }
   ],
   "source": [
    "#⑪ replace：将指定位置的字符，替换为给定的字符串\n",
    "df[\"身高\"].str.replace(\":\",\"-\")"
   ]
  },
  {
   "cell_type": "code",
   "execution_count": 24,
   "metadata": {
    "ExecuteTime": {
     "end_time": "2021-06-11T02:13:47.607723Z",
     "start_time": "2021-06-11T02:13:47.592723Z"
    }
   },
   "outputs": [
    {
     "data": {
      "text/plain": [
       "0    正则万\n",
       "1    正则千\n",
       "2    正则万\n",
       "3    正则千\n",
       "4    正则万\n",
       "Name: 收入, dtype: object"
      ]
     },
     "execution_count": 24,
     "metadata": {},
     "output_type": "execute_result"
    }
   ],
   "source": [
    "# ⑫ replace：将指定位置的字符，替换为给定的字符串(接受正则表达式)\n",
    "\n",
    "# replace中传入正则表达式，才叫好用；\n",
    "# 先不要管下面这个案例有没有用，你只需要知道，使用正则做数据清洗多好用；\n",
    "\n",
    "df[\"收入\"].str.replace(\"\\d+\\.\\d*\",\"正则\")"
   ]
  },
  {
   "cell_type": "code",
   "execution_count": 26,
   "metadata": {
    "ExecuteTime": {
     "end_time": "2021-06-11T02:14:51.622385Z",
     "start_time": "2021-06-11T02:14:51.566382Z"
    }
   },
   "outputs": [
    {
     "data": {
      "text/html": [
       "<div>\n",
       "<style scoped>\n",
       "    .dataframe tbody tr th:only-of-type {\n",
       "        vertical-align: middle;\n",
       "    }\n",
       "\n",
       "    .dataframe tbody tr th {\n",
       "        vertical-align: top;\n",
       "    }\n",
       "\n",
       "    .dataframe thead th {\n",
       "        text-align: right;\n",
       "    }\n",
       "</style>\n",
       "<table border=\"1\" class=\"dataframe\">\n",
       "  <thead>\n",
       "    <tr style=\"text-align: right;\">\n",
       "      <th></th>\n",
       "      <th>姓名</th>\n",
       "      <th>英文名</th>\n",
       "      <th>性别</th>\n",
       "      <th>身份证</th>\n",
       "      <th>身高</th>\n",
       "      <th>家庭住址</th>\n",
       "      <th>电话号码</th>\n",
       "      <th>收入</th>\n",
       "      <th>身高描述</th>\n",
       "      <th>final身高</th>\n",
       "    </tr>\n",
       "  </thead>\n",
       "  <tbody>\n",
       "    <tr>\n",
       "      <th>0</th>\n",
       "      <td>黄同学</td>\n",
       "      <td>Huang tong_xue</td>\n",
       "      <td>男</td>\n",
       "      <td>463895200003128433</td>\n",
       "      <td>mid:175_good</td>\n",
       "      <td>湖北广水</td>\n",
       "      <td>13434813546</td>\n",
       "      <td>1.1万</td>\n",
       "      <td>mid</td>\n",
       "      <td>175_good</td>\n",
       "    </tr>\n",
       "    <tr>\n",
       "      <th>1</th>\n",
       "      <td>黄至尊</td>\n",
       "      <td>huang zhi_zun</td>\n",
       "      <td>women</td>\n",
       "      <td>429475199912122345</td>\n",
       "      <td>low:165_bad</td>\n",
       "      <td>河南信阳</td>\n",
       "      <td>19748672895</td>\n",
       "      <td>8.5千</td>\n",
       "      <td>low</td>\n",
       "      <td>165_bad</td>\n",
       "    </tr>\n",
       "    <tr>\n",
       "      <th>2</th>\n",
       "      <td>黄老邪</td>\n",
       "      <td>Huang Lao_xie</td>\n",
       "      <td>men</td>\n",
       "      <td>420934199110102311</td>\n",
       "      <td>low:159_bad</td>\n",
       "      <td>广西桂林</td>\n",
       "      <td>16728613064</td>\n",
       "      <td>0.9万</td>\n",
       "      <td>low</td>\n",
       "      <td>159_bad</td>\n",
       "    </tr>\n",
       "    <tr>\n",
       "      <th>3</th>\n",
       "      <td>陈大美</td>\n",
       "      <td>Chen Da_mei</td>\n",
       "      <td>女</td>\n",
       "      <td>431085200005230122</td>\n",
       "      <td>high:180_verygood</td>\n",
       "      <td>湖北孝感</td>\n",
       "      <td>14561586431</td>\n",
       "      <td>6.5千</td>\n",
       "      <td>high</td>\n",
       "      <td>180_verygood</td>\n",
       "    </tr>\n",
       "    <tr>\n",
       "      <th>4</th>\n",
       "      <td>孙尚香</td>\n",
       "      <td>sun shang_xiang</td>\n",
       "      <td>男</td>\n",
       "      <td>420953199509082345</td>\n",
       "      <td>low:172_bad</td>\n",
       "      <td>广东广州</td>\n",
       "      <td>19384683910</td>\n",
       "      <td>2.0万</td>\n",
       "      <td>low</td>\n",
       "      <td>172_bad</td>\n",
       "    </tr>\n",
       "  </tbody>\n",
       "</table>\n",
       "</div>"
      ],
      "text/plain": [
       "     姓名              英文名     性别                 身份证                 身高  家庭住址  \\\n",
       "0   黄同学   Huang tong_xue      男  463895200003128433       mid:175_good  湖北广水   \n",
       "1   黄至尊    huang zhi_zun  women  429475199912122345        low:165_bad  河南信阳   \n",
       "2  黄老邪     Huang Lao_xie    men  420934199110102311        low:159_bad  广西桂林   \n",
       "3   陈大美      Chen Da_mei      女  431085200005230122  high:180_verygood  湖北孝感   \n",
       "4   孙尚香  sun shang_xiang      男  420953199509082345        low:172_bad  广东广州   \n",
       "\n",
       "          电话号码    收入  身高描述       final身高  \n",
       "0  13434813546  1.1万   mid      175_good  \n",
       "1  19748672895  8.5千   low       165_bad  \n",
       "2  16728613064  0.9万   low       159_bad  \n",
       "3  14561586431  6.5千  high  180_verygood  \n",
       "4  19384683910  2.0万   low       172_bad  "
      ]
     },
     "execution_count": 26,
     "metadata": {},
     "output_type": "execute_result"
    }
   ],
   "source": [
    "#⑬ split方法+expand参数：搭配join方法功能很强大\n",
    "# 普通用法\n",
    "df[\"身高\"].str.split(\":\")\n",
    "# split方法，搭配expand参数\n",
    "df[[\"身高描述\",\"final身高\"]] = df[\"身高\"].str.split(\":\",expand=True)\n",
    "df\n",
    "# split方法搭配join方法\n",
    "# df[\"身高\"].str.split(\":\").str.join(\"?\"*5)"
   ]
  },
  {
   "cell_type": "code",
   "execution_count": 27,
   "metadata": {
    "ExecuteTime": {
     "end_time": "2021-06-11T02:15:17.377858Z",
     "start_time": "2021-06-11T02:15:17.358857Z"
    }
   },
   "outputs": [
    {
     "data": {
      "text/plain": [
       "0    3\n",
       "1    3\n",
       "2    3\n",
       "3    3\n",
       "4    3\n",
       "Name: 姓名, dtype: int64"
      ]
     },
     "execution_count": 27,
     "metadata": {},
     "output_type": "execute_result"
    }
   ],
   "source": [
    "#⑭ strip/rstrip/lstrip：去除空白符、换行符\n",
    "\n",
    "df[\"姓名\"].str.len()\n",
    "df[\"姓名\"] = df[\"姓名\"].str.strip()\n",
    "df[\"姓名\"].str.len()"
   ]
  },
  {
   "cell_type": "code",
   "execution_count": 28,
   "metadata": {
    "ExecuteTime": {
     "end_time": "2021-06-11T02:16:08.065757Z",
     "start_time": "2021-06-11T02:16:08.048756Z"
    }
   },
   "outputs": [
    {
     "data": {
      "text/plain": [
       "0         [mid, good]\n",
       "1          [low, bad]\n",
       "2          [low, bad]\n",
       "3    [high, verygood]\n",
       "4          [low, bad]\n",
       "Name: 身高, dtype: object"
      ]
     },
     "execution_count": 28,
     "metadata": {},
     "output_type": "execute_result"
    }
   ],
   "source": [
    "# ⑮ findall：利用正则表达式，去字符串中匹配，返回查找结果的列表\n",
    "\n",
    "# findall使用正则表达式，做数据清洗，真的很香！\n",
    "\n",
    "df[\"身高\"]\n",
    "df[\"身高\"].str.findall(\"[a-zA-Z]+\")"
   ]
  },
  {
   "cell_type": "code",
   "execution_count": 33,
   "metadata": {
    "ExecuteTime": {
     "end_time": "2021-06-11T02:18:20.455329Z",
     "start_time": "2021-06-11T02:18:20.425328Z"
    }
   },
   "outputs": [
    {
     "data": {
      "text/html": [
       "<div>\n",
       "<style scoped>\n",
       "    .dataframe tbody tr th:only-of-type {\n",
       "        vertical-align: middle;\n",
       "    }\n",
       "\n",
       "    .dataframe tbody tr th {\n",
       "        vertical-align: top;\n",
       "    }\n",
       "\n",
       "    .dataframe thead th {\n",
       "        text-align: right;\n",
       "    }\n",
       "</style>\n",
       "<table border=\"1\" class=\"dataframe\">\n",
       "  <thead>\n",
       "    <tr style=\"text-align: right;\">\n",
       "      <th></th>\n",
       "      <th>0</th>\n",
       "      <th>1</th>\n",
       "    </tr>\n",
       "  </thead>\n",
       "  <tbody>\n",
       "    <tr>\n",
       "      <th>0</th>\n",
       "      <td>mid</td>\n",
       "      <td>good</td>\n",
       "    </tr>\n",
       "    <tr>\n",
       "      <th>1</th>\n",
       "      <td>low</td>\n",
       "      <td>bad</td>\n",
       "    </tr>\n",
       "    <tr>\n",
       "      <th>2</th>\n",
       "      <td>low</td>\n",
       "      <td>bad</td>\n",
       "    </tr>\n",
       "    <tr>\n",
       "      <th>3</th>\n",
       "      <td>high</td>\n",
       "      <td>verygood</td>\n",
       "    </tr>\n",
       "    <tr>\n",
       "      <th>4</th>\n",
       "      <td>low</td>\n",
       "      <td>bad</td>\n",
       "    </tr>\n",
       "  </tbody>\n",
       "</table>\n",
       "</div>"
      ],
      "text/plain": [
       "      0         1\n",
       "0   mid      good\n",
       "1   low       bad\n",
       "2   low       bad\n",
       "3  high  verygood\n",
       "4   low       bad"
      ]
     },
     "execution_count": 33,
     "metadata": {},
     "output_type": "execute_result"
    }
   ],
   "source": [
    "#⑯ extract/extractall：接受正则表达式，抽取匹配的字符串(一定要加上括号)\n",
    "\n",
    "df[\"身高\"].str.extract(\"([a-zA-Z]+)\")\n",
    "# extractall提取得到复合索引\n",
    "df[\"身高\"].str.extractall(\"([a-zA-Z]+)\")\n",
    "# extract搭配expand参数\n",
    "df[\"身高\"].str.extract(\"([a-zA-Z]+).*?([a-zA-Z]+)\",expand=True)"
   ]
  },
  {
   "cell_type": "code",
   "execution_count": null,
   "metadata": {},
   "outputs": [],
   "source": []
  }
 ],
 "metadata": {
  "kernelspec": {
   "display_name": "Python 3",
   "language": "python",
   "name": "python3"
  },
  "language_info": {
   "codemirror_mode": {
    "name": "ipython",
    "version": 3
   },
   "file_extension": ".py",
   "mimetype": "text/x-python",
   "name": "python",
   "nbconvert_exporter": "python",
   "pygments_lexer": "ipython3",
   "version": "3.8.5"
  },
  "toc": {
   "base_numbering": 1,
   "nav_menu": {},
   "number_sections": true,
   "sideBar": true,
   "skip_h1_title": false,
   "title_cell": "Table of Contents",
   "title_sidebar": "Contents",
   "toc_cell": false,
   "toc_position": {},
   "toc_section_display": true,
   "toc_window_display": false
  }
 },
 "nbformat": 4,
 "nbformat_minor": 4
}
