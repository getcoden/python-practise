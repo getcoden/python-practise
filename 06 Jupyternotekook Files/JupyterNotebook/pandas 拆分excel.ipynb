{
 "cells": [
  {
   "cell_type": "code",
   "execution_count": 9,
   "metadata": {},
   "outputs": [
    {
     "name": "stdout",
     "output_type": "stream",
     "text": [
      "EXCEL表中共有 15 个班级，正在拆分第 15 个的数据，拆分进度：100.00%\n",
      "15个名称已经全部拆分完毕，请前往SplitExcel文件夹下查看拆分后的各文件数据.\n"
     ]
    }
   ],
   "source": [
    "#-*- coding = utf-8 -*-\n",
    "#@Time:2020/4/24 19:02\n",
    "#@Author:OULA-WANG\n",
    "#@File:SplitExcel.PY\n",
    "import pandas as pd\n",
    "import os\n",
    "data = pd.read_excel('./五年级账号和密码.xls')#读取数据\n",
    "data_list = list(data['班级'].drop_duplicates())#去重处理\n",
    "longth = len(data_list)#计算共有多少数量\n",
    "path = './SplitExcel'\n",
    "if not os.path.exists(path):#当前文件夹下是否有此文件夹\n",
    "    os.mkdir(path)#创建此文件夹\n",
    "count = 0\n",
    "for item in data_list:\n",
    "    data_select = data[data['班级']==item]#选出item对应的行\n",
    "    Bigzone = data_select.iat[0,0]#需要参与文件命名的值\n",
    "    Smallzone = data_select.iat[0,1]\n",
    "    service_code = data_select.iat[0,2]\n",
    "    data_select.to_excel('./SplitExcel/{0:}-{1:}.xlsx'.format(Bigzone,Smallzone),index=False)#按照对应的值生成EXCEL文件\n",
    "    count += 1\n",
    "    print('\\rEXCEL表中共有 {} 个班级，正在拆分第 {} 个的数据，拆分进度：{:.2%}'.format(longth, count, count / longth),end=\"\")   \n",
    "print('\\n{}个名称已经全部拆分完毕，请前往SplitExcel文件夹下查看拆分后的各文件数据.'.format(longth))\n"
   ]
  },
  {
   "cell_type": "code",
   "execution_count": 10,
   "metadata": {},
   "outputs": [
    {
     "data": {
      "text/html": [
       "<div>\n",
       "<style scoped>\n",
       "    .dataframe tbody tr th:only-of-type {\n",
       "        vertical-align: middle;\n",
       "    }\n",
       "\n",
       "    .dataframe tbody tr th {\n",
       "        vertical-align: top;\n",
       "    }\n",
       "\n",
       "    .dataframe thead th {\n",
       "        text-align: right;\n",
       "    }\n",
       "</style>\n",
       "<table border=\"1\" class=\"dataframe\">\n",
       "  <thead>\n",
       "    <tr style=\"text-align: right;\">\n",
       "      <th></th>\n",
       "      <th>姓名</th>\n",
       "      <th>成绩</th>\n",
       "    </tr>\n",
       "  </thead>\n",
       "  <tbody>\n",
       "    <tr>\n",
       "      <th>0</th>\n",
       "      <td>张三</td>\n",
       "      <td>85</td>\n",
       "    </tr>\n",
       "    <tr>\n",
       "      <th>1</th>\n",
       "      <td>李四</td>\n",
       "      <td>59</td>\n",
       "    </tr>\n",
       "    <tr>\n",
       "      <th>2</th>\n",
       "      <td>王五</td>\n",
       "      <td>76</td>\n",
       "    </tr>\n",
       "  </tbody>\n",
       "</table>\n",
       "</div>"
      ],
      "text/plain": [
       "   姓名  成绩\n",
       "0  张三  85\n",
       "1  李四  59\n",
       "2  王五  76"
      ]
     },
     "execution_count": 10,
     "metadata": {},
     "output_type": "execute_result"
    }
   ],
   "source": [
    "import pandas as pd\n",
    "df = pd.DataFrame({'姓名':['张三','李四','王五'],'成绩':[85,59,76]})\n",
    "df"
   ]
  },
  {
   "cell_type": "code",
   "execution_count": 21,
   "metadata": {},
   "outputs": [
    {
     "data": {
      "text/plain": [
       "85"
      ]
     },
     "execution_count": 21,
     "metadata": {},
     "output_type": "execute_result"
    }
   ],
   "source": [
    "df.loc[2]\n",
    "df.loc[:,'姓名']\n",
    "df.iloc[:2,:]\n",
    "df.at[1,'成绩']\n",
    "df.iat[0,1]"
   ]
  },
  {
   "cell_type": "code",
   "execution_count": null,
   "metadata": {},
   "outputs": [],
   "source": []
  }
 ],
 "metadata": {
  "kernelspec": {
   "display_name": "Python 3",
   "language": "python",
   "name": "python3"
  },
  "language_info": {
   "codemirror_mode": {
    "name": "ipython",
    "version": 3
   },
   "file_extension": ".py",
   "mimetype": "text/x-python",
   "name": "python",
   "nbconvert_exporter": "python",
   "pygments_lexer": "ipython3",
   "version": "3.8.5"
  },
  "toc": {
   "base_numbering": 1,
   "nav_menu": {},
   "number_sections": true,
   "sideBar": true,
   "skip_h1_title": false,
   "title_cell": "Table of Contents",
   "title_sidebar": "Contents",
   "toc_cell": false,
   "toc_position": {},
   "toc_section_display": true,
   "toc_window_display": false
  }
 },
 "nbformat": 4,
 "nbformat_minor": 4
}
