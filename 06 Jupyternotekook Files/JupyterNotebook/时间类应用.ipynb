{
 "cells": [
  {
   "cell_type": "code",
   "execution_count": 2,
   "metadata": {
    "ExecuteTime": {
     "end_time": "2021-03-18T01:39:40.550427Z",
     "start_time": "2021-03-18T01:39:40.533426Z"
    }
   },
   "outputs": [
    {
     "name": "stdout",
     "output_type": "stream",
     "text": [
      "2021 3 18\n"
     ]
    }
   ],
   "source": [
    "import datetime\n",
    "\n",
    "dt = datetime.datetime.now()\n",
    "print(dt.year,dt.month,dt.day)"
   ]
  },
  {
   "cell_type": "code",
   "execution_count": 3,
   "metadata": {
    "ExecuteTime": {
     "end_time": "2021-03-18T01:43:52.087814Z",
     "start_time": "2021-03-18T01:43:52.078813Z"
    }
   },
   "outputs": [
    {
     "name": "stdout",
     "output_type": "stream",
     "text": [
      "时间:(%Y-%m-%d %H:%M:%S %f) 2021-03-18 09:43:52 081813\n"
     ]
    }
   ],
   "source": [
    "dt = datetime.datetime.now()\n",
    "print('时间:(%Y-%m-%d %H:%M:%S %f)',dt.strftime('%Y-%m-%d %H:%M:%S %f'))"
   ]
  },
  {
   "cell_type": "code",
   "execution_count": 4,
   "metadata": {
    "ExecuteTime": {
     "end_time": "2021-03-18T01:44:50.519156Z",
     "start_time": "2021-03-18T01:44:50.510155Z"
    }
   },
   "outputs": [
    {
     "name": "stdout",
     "output_type": "stream",
     "text": [
      "时间:(%Y-%m-%d %H:%M:%S %f) 2021-03-18\n"
     ]
    }
   ],
   "source": [
    "print('时间:(%Y-%m-%d %H:%M:%S %f)',dt.strftime('%Y-%m-%d'))"
   ]
  },
  {
   "cell_type": "code",
   "execution_count": 16,
   "metadata": {
    "ExecuteTime": {
     "end_time": "2021-03-18T01:47:42.430989Z",
     "start_time": "2021-03-18T01:47:42.423988Z"
    }
   },
   "outputs": [
    {
     "name": "stdout",
     "output_type": "stream",
     "text": [
      "03/18/21\n"
     ]
    }
   ],
   "source": [
    "print(dt.strftime('%x'))"
   ]
  },
  {
   "cell_type": "code",
   "execution_count": 41,
   "metadata": {
    "ExecuteTime": {
     "end_time": "2021-03-18T02:34:14.044660Z",
     "start_time": "2021-03-18T02:34:08.968369Z"
    }
   },
   "outputs": [
    {
     "name": "stdout",
     "output_type": "stream",
     "text": [
      ">>>:2016-09-01\n",
      "2016-09-01\n"
     ]
    }
   ],
   "source": [
    "from datetime import datetime\n",
    "\n",
    "_input = input('>>>:')\n",
    "t = datetime.strptime(_input, '%Y-%m-%d')\n",
    "print(t.strftime('%Y-%m-%d'))"
   ]
  },
  {
   "cell_type": "code",
   "execution_count": 36,
   "metadata": {
    "ExecuteTime": {
     "end_time": "2021-03-18T02:28:25.862745Z",
     "start_time": "2021-03-18T02:28:25.850744Z"
    }
   },
   "outputs": [
    {
     "name": "stdout",
     "output_type": "stream",
     "text": [
      "2016-10-1\n"
     ]
    }
   ],
   "source": [
    "_input = '2016-10-1'\n",
    "\n",
    "_year1 = int(_input.split('-')[0])\n",
    "\n",
    "_month1 = int(_input.split('-')[1])\n",
    "\n",
    "_day1 = int(_input.split('-')[2])\n",
    "print(f'{_year1}-{_month1}-{_day1}')"
   ]
  },
  {
   "cell_type": "code",
   "execution_count": 42,
   "metadata": {
    "ExecuteTime": {
     "end_time": "2021-03-18T05:33:01.391030Z",
     "start_time": "2021-03-18T05:32:50.426403Z"
    }
   },
   "outputs": [
    {
     "name": "stdout",
     "output_type": "stream",
     "text": [
      "请输入日期，如:2021-03-18:2021-3-28\n",
      "87\n"
     ]
    }
   ],
   "source": [
    "# -*- coding: UTF-8 -*-\n",
    "import time\n",
    "def What_day_of_the_year(inputTime):\n",
    "\n",
    "#函数，判断字符串是否为数字\n",
    "    def is_number(s):\n",
    "        try:\n",
    "            float(s)\n",
    "            return True\n",
    "        except ValueError:\n",
    "            pass\n",
    "\n",
    "        try:\n",
    "            import unicodedata\n",
    "            unicodedata.numeric(s)\n",
    "            return True\n",
    "        except (TypeError, ValueError):\n",
    "            pass\n",
    "\n",
    "        return False\n",
    "\n",
    "#判断字符串是否含有“-”分割符（是否按格式输入）\n",
    "    if inputTime.find('-') != -1:\n",
    "        #if '' in inputTime != 'False' or ' ' in inputTime != 'False': #想判断是否含空格（含空格不符合格式）,效果不佳，已废弃;改用Python异常处理\n",
    "            timeList = inputTime.split('-') #以“-”符分割字符串，赋值为列表\n",
    "    \n",
    "#通过for循环+自定义的is_number函数判断列表是否含有字母（含有字母不符合格式）\n",
    "            trueList = []\n",
    "            for numberValue in timeList:\n",
    "                trueList.append(is_number(numberValue))\n",
    "            if trueList.count('False') == 0:\n",
    "\n",
    "                timeList = list(map(int, timeList)) #将列表从字符串转换为int整数\n",
    "                if timeList[0] % 4 == 0 or timeList[0] % 400 == 0: #判断是否为闰年。\n",
    "                    timeTotal = (7 * 31) + (4 * 30) + 29\n",
    "\n",
    "                    exceptSameMonthDay = 0\n",
    "                    for monthValue in range(1,timeList[1]): #计算除当月在内的，已过天数；如：2009-11-14，不算第11月。仅算1～10月\n",
    "                        if monthValue == 1 or monthValue == 3 or monthValue == 5 or monthValue == 7 or monthValue == 8 or monthValue == 10 or monthValue == 12:\n",
    "                            exceptSameMonthDay += 31\n",
    "                        elif monthValue == 4 or monthValue == 6 or monthValue == 9 or monthValue == 11:\n",
    "                            exceptSameMonthDay += 30\n",
    "                        elif monthValue == 2:\n",
    "                            exceptSameMonthDay += 29\n",
    "                    return exceptSameMonthDay + timeList[2]\n",
    "                else:\n",
    "                    timeTotal = (7 * 31) + (4 * 30) + 28\n",
    "\n",
    "                    exceptSameMonthDay = 0\n",
    "                    for monthValue in range(1,timeList[1]):\n",
    "                        if monthValue == 1 or monthValue == 3 or monthValue == 5 or monthValue == 7 or monthValue == 8 or monthValue == 10 or monthValue == 12:\n",
    "                            exceptSameMonthDay += 31\n",
    "                        elif monthValue == 4 or monthValue == 6 or monthValue == 9 or monthValue == 11:\n",
    "                            exceptSameMonthDay += 30\n",
    "                        elif monthValue == 2:\n",
    "                            exceptSameMonthDay += 28\n",
    "                    return exceptSameMonthDay + timeList[2]\n",
    "            else:\n",
    "                return 1\n",
    "        #else:\n",
    "            #return 1\n",
    "    else:\n",
    "        return 1\n",
    "timeValue = time.strftime(\"%Y-%m-%d\", time.localtime()) #获取当前日期，并格式化\n",
    "# 格式化成2020-02-26形式\n",
    "\n",
    "tipsValue = '请输入日期，如:' + timeValue + ':'\n",
    "inputTime = input(tipsValue)\n",
    "try:\n",
    "    inputTime = What_day_of_the_year(inputTime)\n",
    "    if inputTime == 1:\n",
    "        print('您的输入有误!')\n",
    "    else:\n",
    "        print(inputTime)\n",
    "except :\n",
    "    print('您的输入有误!')\n"
   ]
  },
  {
   "cell_type": "code",
   "execution_count": 44,
   "metadata": {
    "ExecuteTime": {
     "end_time": "2021-03-18T05:34:19.133477Z",
     "start_time": "2021-03-18T05:34:18.671451Z"
    }
   },
   "outputs": [
    {
     "data": {
      "text/plain": [
       "87"
      ]
     },
     "execution_count": 44,
     "metadata": {},
     "output_type": "execute_result"
    }
   ],
   "source": [
    "def which_day(date_str):\n",
    "    year = int(date_str.split(\"-\")[0])\n",
    "    month = int(date_str.split(\"-\")[1])\n",
    "    day = int(date_str.split(\"-\")[2])\n",
    "    total = 365\n",
    "    is_special_year = False\n",
    "    max_month = [1, 3, 5, 7, 8, 10, 12]\n",
    "    normal_month = [4, 6, 9, 11]\n",
    "    special_day = 28\n",
    "    result = 0\n",
    "\n",
    "    if year % 100 == 0:\n",
    "        is_special_year = True\n",
    "\n",
    "    if is_special_year and year % 400 == 0:\n",
    "        total = 366\n",
    "\n",
    "    if not is_special_year and year % 4 == 0 and year % 100 != 0:\n",
    "        total = 366\n",
    "\n",
    "    if total == 366:\n",
    "        special_day = 29\n",
    "\n",
    "    count_month = month\n",
    "    while count_month != 0:\n",
    "        if count_month in max_month:\n",
    "            result = result + 31\n",
    "\n",
    "        if count_month in normal_month:\n",
    "            result = result + 30\n",
    "\n",
    "        if count_month == 2:\n",
    "            result = result + special_day\n",
    "\n",
    "        count_month = count_month - 1\n",
    "\n",
    "    if month in max_month:\n",
    "        result = result + (day - 31)\n",
    "    if month in normal_month:\n",
    "        result = result + (day - 30)\n",
    "    if month == 2:\n",
    "        result = result + (day - special_day)\n",
    "\n",
    "    return result\n",
    "which_day('2021-3-28')"
   ]
  },
  {
   "cell_type": "code",
   "execution_count": 49,
   "metadata": {
    "ExecuteTime": {
     "end_time": "2021-03-18T05:37:38.070856Z",
     "start_time": "2021-03-18T05:37:38.049854Z"
    }
   },
   "outputs": [
    {
     "ename": "AttributeError",
     "evalue": "'datetime.datetime' object has no attribute 'dtyp'",
     "output_type": "error",
     "traceback": [
      "\u001b[1;31m---------------------------------------------------------------------------\u001b[0m",
      "\u001b[1;31mAttributeError\u001b[0m                            Traceback (most recent call last)",
      "\u001b[1;32m<ipython-input-49-51a685a93890>\u001b[0m in \u001b[0;36m<module>\u001b[1;34m\u001b[0m\n\u001b[0;32m      3\u001b[0m \u001b[0mdatetime\u001b[0m\u001b[1;33m.\u001b[0m\u001b[0mstrptime\u001b[0m\u001b[1;33m(\u001b[0m\u001b[1;34m'09:30:50'\u001b[0m\u001b[1;33m,\u001b[0m\u001b[1;34m'%H:%M:%S'\u001b[0m\u001b[1;33m)\u001b[0m\u001b[1;33m\u001b[0m\u001b[1;33m\u001b[0m\u001b[0m\n\u001b[0;32m      4\u001b[0m \u001b[1;31m# 输出 : datetime.datetime(1900, 1, 1, 9, 30, 50)\u001b[0m\u001b[1;33m\u001b[0m\u001b[1;33m\u001b[0m\u001b[1;33m\u001b[0m\u001b[0m\n\u001b[1;32m----> 5\u001b[1;33m \u001b[0mdatetime\u001b[0m\u001b[1;33m.\u001b[0m\u001b[0mstrptime\u001b[0m\u001b[1;33m(\u001b[0m\u001b[1;34m'2019-11-05 09:30:50'\u001b[0m\u001b[1;33m,\u001b[0m\u001b[1;34m'%Y-%m-%d %H:%M:%S'\u001b[0m\u001b[1;33m)\u001b[0m\u001b[1;33m.\u001b[0m\u001b[0mdtyp\u001b[0m\u001b[1;33m\u001b[0m\u001b[1;33m\u001b[0m\u001b[0m\n\u001b[0m\u001b[0;32m      6\u001b[0m \u001b[1;31m# 输出 : datetime.datetime(2019, 11, 5, 9, 30, 50)\u001b[0m\u001b[1;33m\u001b[0m\u001b[1;33m\u001b[0m\u001b[1;33m\u001b[0m\u001b[0m\n",
      "\u001b[1;31mAttributeError\u001b[0m: 'datetime.datetime' object has no attribute 'dtyp'"
     ]
    }
   ],
   "source": [
    "datetime.strptime('2019-11-05','%Y-%m-%d')\n",
    "# 输出 : datetime.datetime(2019, 11, 5, 0, 0)\n",
    "datetime.strptime('09:30:50','%H:%M:%S')\n",
    "# 输出 : datetime.datetime(1900, 1, 1, 9, 30, 50)\n",
    "datetime.strptime('2019-11-05 09:30:50','%Y-%m-%d %H:%M:%S')\n",
    "# 输出 : datetime.datetime(2019, 11, 5, 9, 30, 50)"
   ]
  },
  {
   "cell_type": "code",
   "execution_count": 5,
   "metadata": {
    "ExecuteTime": {
     "end_time": "2021-03-19T02:35:06.685072Z",
     "start_time": "2021-03-19T02:35:06.669071Z"
    }
   },
   "outputs": [
    {
     "name": "stdout",
     "output_type": "stream",
     "text": [
      "0.21\n",
      "0.243\n",
      "0.221\n",
      "0.209\n",
      "0.185\n",
      "0.229\n",
      "0.188\n",
      "0.278\n",
      "0.293\n",
      "0.177\n"
     ]
    }
   ],
   "source": [
    "import numpy as np \n",
    "\n",
    "random = np.random.RandomState(0)\n",
    "for i in range(10):\n",
    "    a = random.uniform(0.1,0.3)\n",
    "    print(round(a,3))"
   ]
  },
  {
   "cell_type": "code",
   "execution_count": 6,
   "metadata": {
    "ExecuteTime": {
     "end_time": "2021-03-19T06:02:14.464900Z",
     "start_time": "2021-03-19T06:02:14.454900Z"
    }
   },
   "outputs": [
    {
     "name": "stdout",
     "output_type": "stream",
     "text": [
      "[datetime.date(2021, 3, 19)]\n"
     ]
    }
   ],
   "source": [
    "import datetime as dt\n",
    "\n",
    "mylist=[]\n",
    "today = dt.date.today()\n",
    "mylist.append(today)\n",
    "print(mylist)"
   ]
  },
  {
   "cell_type": "code",
   "execution_count": 8,
   "metadata": {
    "ExecuteTime": {
     "end_time": "2021-03-19T06:04:08.107400Z",
     "start_time": "2021-03-19T06:04:08.095399Z"
    }
   },
   "outputs": [
    {
     "data": {
      "text/plain": [
       "'2008-11-22 19:53:42'"
      ]
     },
     "execution_count": 8,
     "metadata": {},
     "output_type": "execute_result"
    }
   ],
   "source": [
    "str(dt.datetime(2008,11,22,19,53,42))"
   ]
  },
  {
   "cell_type": "code",
   "execution_count": 11,
   "metadata": {
    "ExecuteTime": {
     "end_time": "2021-03-19T06:05:48.614149Z",
     "start_time": "2021-03-19T06:05:48.606148Z"
    }
   },
   "outputs": [
    {
     "name": "stdout",
     "output_type": "stream",
     "text": [
      "2021-03-19\n"
     ]
    }
   ],
   "source": [
    "for date in mylist:\n",
    "    print(str(date))\n"
   ]
  },
  {
   "cell_type": "code",
   "execution_count": 15,
   "metadata": {
    "ExecuteTime": {
     "end_time": "2021-03-19T06:07:46.832910Z",
     "start_time": "2021-03-19T06:07:46.823910Z"
    }
   },
   "outputs": [
    {
     "name": "stdout",
     "output_type": "stream",
     "text": [
      "we are the 19,Mar,2021\n"
     ]
    }
   ],
   "source": [
    "print(today.strftime('we are the %d,%b,%Y'))"
   ]
  },
  {
   "cell_type": "code",
   "execution_count": 18,
   "metadata": {
    "ExecuteTime": {
     "end_time": "2021-03-19T06:09:28.440722Z",
     "start_time": "2021-03-19T06:09:28.430722Z"
    }
   },
   "outputs": [
    {
     "data": {
      "text/plain": [
       "'2021-03-19'"
      ]
     },
     "execution_count": 18,
     "metadata": {},
     "output_type": "execute_result"
    }
   ],
   "source": [
    "f\"{dt.datetime.now():%Y-%m-%d}\""
   ]
  },
  {
   "cell_type": "code",
   "execution_count": 20,
   "metadata": {
    "ExecuteTime": {
     "end_time": "2021-03-19T06:14:08.849761Z",
     "start_time": "2021-03-19T06:14:08.831760Z"
    }
   },
   "outputs": [
    {
     "name": "stdout",
     "output_type": "stream",
     "text": [
      "19-Mar-2021\n"
     ]
    }
   ],
   "source": [
    "import datetime\n",
    "import time\n",
    "\n",
    "months = [\"Unknown\",\"January\",\"Febuary\",\"Marchh\",\"April\",\"May\",\"June\",\"July\",\"August\",\"September\",\"October\",\"November\",\"December\"]\n",
    "datetimeWrite = (time.strftime(\"%d-%m-%Y\"))\n",
    "date = time.strftime(\"%d\")\n",
    "month= time.strftime(\"%m\")\n",
    "choices = {'01': 'Jan', '02':'Feb','03':'Mar','04':'Apr','05':'May','06': 'Jun','07':'Jul','08':'Aug','09':'Sep','10':'Oct','11':'Nov','12':'Dec'}\n",
    "result = choices.get(month, 'default')\n",
    "year = time.strftime(\"%Y\")\n",
    "Date = date+\"-\"+result+\"-\"+year\n",
    "print (Date)"
   ]
  },
  {
   "cell_type": "code",
   "execution_count": null,
   "metadata": {},
   "outputs": [],
   "source": []
  }
 ],
 "metadata": {
  "kernelspec": {
   "display_name": "Python 3",
   "language": "python",
   "name": "python3"
  },
  "language_info": {
   "codemirror_mode": {
    "name": "ipython",
    "version": 3
   },
   "file_extension": ".py",
   "mimetype": "text/x-python",
   "name": "python",
   "nbconvert_exporter": "python",
   "pygments_lexer": "ipython3",
   "version": "3.8.5"
  },
  "toc": {
   "base_numbering": 1,
   "nav_menu": {},
   "number_sections": true,
   "sideBar": true,
   "skip_h1_title": false,
   "title_cell": "Table of Contents",
   "title_sidebar": "Contents",
   "toc_cell": false,
   "toc_position": {},
   "toc_section_display": true,
   "toc_window_display": false
  }
 },
 "nbformat": 4,
 "nbformat_minor": 4
}
