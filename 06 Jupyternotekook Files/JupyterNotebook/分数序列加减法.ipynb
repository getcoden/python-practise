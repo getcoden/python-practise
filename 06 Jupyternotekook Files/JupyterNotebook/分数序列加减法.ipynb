{
 "cells": [
  {
   "cell_type": "code",
   "execution_count": 1,
   "metadata": {
    "ExecuteTime": {
     "end_time": "2021-03-04T02:22:52.185102Z",
     "start_time": "2021-03-04T02:22:52.151100Z"
    }
   },
   "outputs": [
    {
     "data": {
      "text/plain": [
       "14.148373554"
      ]
     },
     "execution_count": 1,
     "metadata": {},
     "output_type": "execute_result"
    }
   ],
   "source": [
    "import time #导入 time 模块,以用来计算程序运行的时间,可忽视\n",
    "time.perf_counter() #与 time 模块中计算时间有关,可忽视"
   ]
  },
  {
   "cell_type": "code",
   "execution_count": 3,
   "metadata": {
    "ExecuteTime": {
     "end_time": "2021-03-04T02:25:51.452355Z",
     "start_time": "2021-03-04T02:25:43.519902Z"
    }
   },
   "outputs": [
    {
     "name": "stdout",
     "output_type": "stream",
     "text": [
      "请输入年份，格式为1900:1900\n",
      "请输入月份，格式为01:2\n",
      "请输入日期，格式为1:3\n",
      "这一天是晒网\n",
      "193.439389872\n"
     ]
    }
   ],
   "source": [
    "try:\n",
    "    year=int(input('请输入年份，格式为1900:'))\n",
    "    month=int(input('请输入月份，格式为01:').strip('0'))\n",
    "    day=int(input('请输入日期，格式为1:'))\n",
    "    i=0\n",
    "    daymonth=0\n",
    "    dayear = (year - 1900) * 365\n",
    "    for oneyear in range(1900,year+1):\n",
    "        if (oneyear % 4 == 0 and oneyear % 100 != 0) or oneyear % 400 == 0:\n",
    "            dayear+=1\n",
    "    for i in range(1,month):\n",
    "        if i in [1,3,5,7,8,10,12]:\n",
    "            daymonth = daymonth + 31\n",
    "        elif i == 2:\n",
    "            if (year % 4 == 0 and year % 100 != 0) or year % 400 == 0:\n",
    "                daymonth = daymonth + 28\n",
    "            else:\n",
    "                daymonth = daymonth + 29\n",
    "        else:\n",
    "            daymonth = daymonth + 30\n",
    "    totalday = dayear + daymonth + day\n",
    "    if totalday % 5 in [1,2,3]:\n",
    "        print('这一天是打鱼')\n",
    "    else:\n",
    "        print('这一天是晒网')\n",
    "except:\n",
    "    print('输入的类型有误')\n",
    "\n",
    "\n",
    "print(time.perf_counter())  #打印出程序运行的时间,可忽视"
   ]
  },
  {
   "cell_type": "code",
   "execution_count": 6,
   "metadata": {
    "ExecuteTime": {
     "end_time": "2021-03-04T02:40:15.509777Z",
     "start_time": "2021-03-04T02:40:13.907685Z"
    }
   },
   "outputs": [
    {
     "name": "stdout",
     "output_type": "stream",
     "text": [
      "请输入需要手成姓名的数量:\n",
      "9\n",
      "生成的虚拟姓名列表为:\n",
      "朱广\n",
      "秦可\n",
      "李友霆\n",
      "杨近\n",
      "吴可荣\n",
      "秦友嘉\n",
      "赵立\n",
      "钱伟\n",
      "王斯路\n"
     ]
    }
   ],
   "source": [
    "import random\n",
    "\n",
    "firstname = '赵钱孙李周吴郑王冯陈褚卫蒋沈韩杨朱秦尤许'\n",
    "second = '中万斯近元伟丽利国士文连百宏可立成海友南广云基'\n",
    "third = '隆智渝顺乐天杰夫煜兵思霆炜祺亮剀炫翔维瑞韬嘉林庆玮勤栋源路焕霖彩明邦闻朵皓瀚荣奕涓艺'\n",
    "namelist = []\n",
    "many = input('请输入需要手成姓名的数量:\\n')\n",
    "for i in range(int(many)):\n",
    "    data = [2,3]\n",
    "    namelen = random.choice(data)\n",
    "    if namelen==2:\n",
    "        newname = random.choice(firstname)+random.choice(second)\n",
    "    else:\n",
    "        newname = random.choice(firstname)+random.choice(second)+random.choice(third)\n",
    "    namelist.append(newname)\n",
    "print('生成的虚拟姓名列表为:\\n' + '\\n'.join(namelist))\n",
    "            "
   ]
  },
  {
   "cell_type": "code",
   "execution_count": 17,
   "metadata": {
    "ExecuteTime": {
     "end_time": "2021-03-05T06:04:41.318645Z",
     "start_time": "2021-03-05T06:04:36.129348Z"
    },
    "scrolled": true
   },
   "outputs": [
    {
     "name": "stdout",
     "output_type": "stream",
     "text": [
      "1/2,3/4\n",
      "5/4\n"
     ]
    }
   ],
   "source": [
    "\n",
    " \n",
    "def eu(a,b):\n",
    "    if a < b:\n",
    "        a, b = b, a\n",
    "    r = 1\n",
    "    while r != 0:\n",
    "        r = a % b\n",
    "        a = b\n",
    "        b = r\n",
    "    return a\n",
    "\n",
    "a = input()\n",
    "b = a.split(',')\n",
    "num1 = b[0].split('/')\n",
    "num2 = b[1].split('/')\n",
    "sum1 = int(num1[0])*int(num2[1]) + int(num2[0])*int(num1[1])\n",
    "sum2 = int(num1[1])*int(num2[1])\n",
    "GCD = eu(sum1,sum2)\n",
    " \n",
    "c = int(sum1/GCD)\n",
    "d = int(sum2/GCD)\n",
    " \n",
    "if c%d == 0:\n",
    "    print(int(c/d))\n",
    "else:\n",
    "    print(str(c)+ '/'+str(d))"
   ]
  },
  {
   "cell_type": "code",
   "execution_count": 14,
   "metadata": {
    "ExecuteTime": {
     "end_time": "2021-03-05T02:34:43.801252Z",
     "start_time": "2021-03-05T02:34:34.918744Z"
    }
   },
   "outputs": [
    {
     "name": "stdout",
     "output_type": "stream",
     "text": [
      "1/2,3/4\n",
      "5/4\n"
     ]
    }
   ],
   "source": [
    "from fractions import Fraction\n",
    "a,b = (input().split(','))\n",
    "sum=Fraction(a)+Fraction(b)\n",
    "print(sum)"
   ]
  },
  {
   "cell_type": "code",
   "execution_count": 8,
   "metadata": {
    "ExecuteTime": {
     "end_time": "2021-03-05T02:16:49.105427Z",
     "start_time": "2021-03-05T02:16:49.072425Z"
    }
   },
   "outputs": [
    {
     "name": "stdout",
     "output_type": "stream",
     "text": [
      "in constuctor\n",
      "in constuctor\n",
      " in add\n",
      "3\n",
      "2\n",
      "1\n",
      "in constuctor\n",
      "in str\n",
      "14/15\n"
     ]
    }
   ],
   "source": [
    "#目的求lcm\n",
    "class Rational1(object):\n",
    "     def __init__(self):#初始化程序\n",
    "         pass\n",
    "\n",
    "     def gcd(a,b):#判断最大公约数\n",
    "         if not a > b:\n",
    "             a,b = b,a\n",
    "         while b != 0 :\n",
    "             remider = a%b\n",
    "             a,b = b,remider\n",
    "             print(\"%s\" %a)\n",
    "         return a\n",
    "\n",
    "     def lcm(a,b):#返回最小公倍数\n",
    "         lcm = a*b /Rational1.gcd(a,b)\n",
    "         return lcm\n",
    "\n",
    "class Rational(object):#以1/3,3/5为例，输出加法\n",
    "\n",
    "     #初始化类\n",
    "     def __init__(self,numer,denom = 1):\n",
    "         print(\"in constuctor\")\n",
    "         self.numer = numer\n",
    "         self.deom = denom\n",
    "\n",
    "     def __str__(self):\n",
    "         print(\"in str\")\n",
    "         return str(self.numer) + \"/\" + str(self.deom)\n",
    "\n",
    "     def __repr__(self):\n",
    "         print(\"in repr\")\n",
    "         return self.__str__()\n",
    "\n",
    "     #定义分数的加法\n",
    "     def __add__(self, f):\n",
    "         print(\" in add\")\n",
    "         thelcm = int(Rational1.lcm(self.deom,f.deom))\n",
    "         numeratorSum = int((thelcm/self.deom*self.numer)+(thelcm/f.deom*f.numer))\n",
    "         return Rational(numeratorSum,thelcm)\n",
    "\n",
    "     #定义分数的减法\n",
    "     def __sub__(self, f):\n",
    "         print(\"in sub\")\n",
    "         thelcm = Rational1.lcm(self.deom,f.deom)\n",
    "         numeratorSub = (thelcm/self.deom*self.numer)-(thelcm/f.deom*f.numer)\n",
    "         return Rational(numeratorSub,thelcm)\n",
    "\n",
    "onehalf = Rational(1,3)\n",
    "threefive = Rational(3,5)\n",
    "thesum = onehalf + threefive\n",
    "print(thesum)"
   ]
  },
  {
   "cell_type": "code",
   "execution_count": 6,
   "metadata": {
    "ExecuteTime": {
     "end_time": "2021-03-05T02:05:35.152795Z",
     "start_time": "2021-03-05T02:05:35.077791Z"
    }
   },
   "outputs": [
    {
     "name": "stdout",
     "output_type": "stream",
     "text": [
      "32.66026079864164\n"
     ]
    }
   ],
   "source": [
    "def g(n):\n",
    "  if n <= 2:\n",
    "    return n\n",
    "  else:\n",
    "    return g(n-1) + g(n-2)\n",
    "sum = 0\n",
    "for i in range(1,21):\n",
    "  sum += g(i+1)/g(i)\n",
    "print(sum)"
   ]
  },
  {
   "cell_type": "code",
   "execution_count": 16,
   "metadata": {
    "ExecuteTime": {
     "end_time": "2021-03-05T05:58:46.242336Z",
     "start_time": "2021-03-05T05:58:44.711248Z"
    }
   },
   "outputs": [
    {
     "name": "stdout",
     "output_type": "stream",
     "text": [
      "请输入一个整数：22\n",
      "35.89632877702256\n"
     ]
    }
   ],
   "source": [
    "numerator = 2\n",
    "denominator = 1\n",
    "sum = 0\n",
    "while True:\n",
    "  try:\n",
    "    n = int(input(\"请输入一个整数：\"))\n",
    "  except ValueError:\n",
    "    print(\"输入错误，请输入整数\")\n",
    "  else:\n",
    "    for i in range(n):\n",
    "      sum += numerator / denominator\n",
    "      numerator, denominator = numerator + denominator, numerator\n",
    "  \n",
    "    print(sum)\n",
    "    break"
   ]
  },
  {
   "cell_type": "code",
   "execution_count": null,
   "metadata": {},
   "outputs": [],
   "source": []
  }
 ],
 "metadata": {
  "kernelspec": {
   "display_name": "Python 3",
   "language": "python",
   "name": "python3"
  },
  "language_info": {
   "codemirror_mode": {
    "name": "ipython",
    "version": 3
   },
   "file_extension": ".py",
   "mimetype": "text/x-python",
   "name": "python",
   "nbconvert_exporter": "python",
   "pygments_lexer": "ipython3",
   "version": "3.8.5"
  },
  "toc": {
   "base_numbering": 1,
   "nav_menu": {},
   "number_sections": true,
   "sideBar": true,
   "skip_h1_title": false,
   "title_cell": "Table of Contents",
   "title_sidebar": "Contents",
   "toc_cell": false,
   "toc_position": {},
   "toc_section_display": true,
   "toc_window_display": false
  }
 },
 "nbformat": 4,
 "nbformat_minor": 4
}
