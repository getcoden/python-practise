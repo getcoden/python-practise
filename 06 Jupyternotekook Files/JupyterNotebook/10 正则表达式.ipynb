{
 "cells": [
  {
   "cell_type": "code",
   "execution_count": 13,
   "metadata": {
    "ExecuteTime": {
     "end_time": "2021-06-04T01:21:44.703863Z",
     "start_time": "2021-06-04T01:21:44.664861Z"
    }
   },
   "outputs": [
    {
     "data": {
      "text/html": [
       "<div>\n",
       "<style scoped>\n",
       "    .dataframe tbody tr th:only-of-type {\n",
       "        vertical-align: middle;\n",
       "    }\n",
       "\n",
       "    .dataframe tbody tr th {\n",
       "        vertical-align: top;\n",
       "    }\n",
       "\n",
       "    .dataframe thead th {\n",
       "        text-align: right;\n",
       "    }\n",
       "</style>\n",
       "<table border=\"1\" class=\"dataframe\">\n",
       "  <thead>\n",
       "    <tr style=\"text-align: right;\">\n",
       "      <th></th>\n",
       "      <th>id</th>\n",
       "      <th>text</th>\n",
       "    </tr>\n",
       "  </thead>\n",
       "  <tbody>\n",
       "    <tr>\n",
       "      <th>0</th>\n",
       "      <td>1</td>\n",
       "      <td>This is Bella. She hopes her smile made you sm...</td>\n",
       "    </tr>\n",
       "    <tr>\n",
       "      <th>1</th>\n",
       "      <td>2</td>\n",
       "      <td>This is Logan, the Chow who lived. He solemnly...</td>\n",
       "    </tr>\n",
       "    <tr>\n",
       "      <th>2</th>\n",
       "      <td>3</td>\n",
       "      <td>This is Sophie. She's a Jubilant Bush Pupper. ...</td>\n",
       "    </tr>\n",
       "    <tr>\n",
       "      <th>3</th>\n",
       "      <td>4</td>\n",
       "      <td>Here we have uncovered an entire battalion of ...</td>\n",
       "    </tr>\n",
       "  </tbody>\n",
       "</table>\n",
       "</div>"
      ],
      "text/plain": [
       "   id                                               text\n",
       "0   1  This is Bella. She hopes her smile made you sm...\n",
       "1   2  This is Logan, the Chow who lived. He solemnly...\n",
       "2   3  This is Sophie. She's a Jubilant Bush Pupper. ...\n",
       "3   4  Here we have uncovered an entire battalion of ..."
      ]
     },
     "execution_count": 13,
     "metadata": {},
     "output_type": "execute_result"
    }
   ],
   "source": [
    "# pandas 从文本中提取数字（正则表达式）\n",
    "# 需要从text特征中提取形如 13.5/10 这样的字符串，再分别提取分子分母。\n",
    "# 1）可以利用 str.extract() 方法。\n",
    "# 2）利用正则表达式 \\d+.?\\d/\\d+* 进行匹配\n",
    "# 3）再利用 .split() 方法提取分子分母\n",
    "\n",
    "# 代码：\n",
    "\n",
    "import pandas as pd \n",
    "\n",
    "test=pd.read_excel(r\"D:\\test1\\text.xlsx\")\n",
    "test"
   ]
  },
  {
   "cell_type": "code",
   "execution_count": 14,
   "metadata": {
    "ExecuteTime": {
     "end_time": "2021-06-04T01:21:45.202891Z",
     "start_time": "2021-06-04T01:21:45.190891Z"
    }
   },
   "outputs": [
    {
     "data": {
      "text/plain": [
       "['This is Bella. She hopes her smile made you smile. If not, she is also offering you her favorite monkey. 13.5/10 https://t.co/qjrljjt948',\n",
       " \"This is Logan, the Chow who lived. He solemnly swears he's up to lots of good. H*ckin magical af 9.75/10 https://t.co/yBO5wuqaPS\",\n",
       " \"This is Sophie. She's a Jubilant Bush Pupper. Super h*ckin rare. Appears at random just to smile at the locals. 11.27/10 would smile back https://t.co/QFaUiIHxHq\",\n",
       " 'Here we have uncovered an entire battalion of holiday puppers. Average of 11.26/10 https://t.co/eNm2S6p9BD']"
      ]
     },
     "execution_count": 14,
     "metadata": {},
     "output_type": "execute_result"
    }
   ],
   "source": [
    "test.text.tolist()"
   ]
  },
  {
   "cell_type": "code",
   "execution_count": 15,
   "metadata": {
    "ExecuteTime": {
     "end_time": "2021-06-04T01:21:45.850928Z",
     "start_time": "2021-06-04T01:21:45.829927Z"
    }
   },
   "outputs": [],
   "source": [
    "test['rating']=test['text'].str.extract(r'(\\d+\\.?\\d*\\/\\d+)', expand=False)\n",
    "test['rating_numerator'] = test.rating.apply(lambda x: eval(x.split('/')[0]))\n",
    "# 提取分母\n",
    "test['rating_denominator_fix'] = test.rating.apply(lambda x: eval(x.split('/')[1]))\n",
    "# 删除中间量\n",
    "# test.drop(['rating'], axis=1, inplace=True)"
   ]
  },
  {
   "cell_type": "code",
   "execution_count": 16,
   "metadata": {
    "ExecuteTime": {
     "end_time": "2021-06-04T01:21:46.521967Z",
     "start_time": "2021-06-04T01:21:46.494965Z"
    }
   },
   "outputs": [
    {
     "data": {
      "text/html": [
       "<div>\n",
       "<style scoped>\n",
       "    .dataframe tbody tr th:only-of-type {\n",
       "        vertical-align: middle;\n",
       "    }\n",
       "\n",
       "    .dataframe tbody tr th {\n",
       "        vertical-align: top;\n",
       "    }\n",
       "\n",
       "    .dataframe thead th {\n",
       "        text-align: right;\n",
       "    }\n",
       "</style>\n",
       "<table border=\"1\" class=\"dataframe\">\n",
       "  <thead>\n",
       "    <tr style=\"text-align: right;\">\n",
       "      <th></th>\n",
       "      <th>id</th>\n",
       "      <th>text</th>\n",
       "      <th>rating</th>\n",
       "      <th>rating_numerator</th>\n",
       "      <th>rating_denominator_fix</th>\n",
       "    </tr>\n",
       "  </thead>\n",
       "  <tbody>\n",
       "    <tr>\n",
       "      <th>0</th>\n",
       "      <td>1</td>\n",
       "      <td>This is Bella. She hopes her smile made you sm...</td>\n",
       "      <td>13.5/10</td>\n",
       "      <td>13.50</td>\n",
       "      <td>10</td>\n",
       "    </tr>\n",
       "    <tr>\n",
       "      <th>1</th>\n",
       "      <td>2</td>\n",
       "      <td>This is Logan, the Chow who lived. He solemnly...</td>\n",
       "      <td>9.75/10</td>\n",
       "      <td>9.75</td>\n",
       "      <td>10</td>\n",
       "    </tr>\n",
       "    <tr>\n",
       "      <th>2</th>\n",
       "      <td>3</td>\n",
       "      <td>This is Sophie. She's a Jubilant Bush Pupper. ...</td>\n",
       "      <td>11.27/10</td>\n",
       "      <td>11.27</td>\n",
       "      <td>10</td>\n",
       "    </tr>\n",
       "    <tr>\n",
       "      <th>3</th>\n",
       "      <td>4</td>\n",
       "      <td>Here we have uncovered an entire battalion of ...</td>\n",
       "      <td>11.26/10</td>\n",
       "      <td>11.26</td>\n",
       "      <td>10</td>\n",
       "    </tr>\n",
       "  </tbody>\n",
       "</table>\n",
       "</div>"
      ],
      "text/plain": [
       "   id                                               text    rating  \\\n",
       "0   1  This is Bella. She hopes her smile made you sm...   13.5/10   \n",
       "1   2  This is Logan, the Chow who lived. He solemnly...   9.75/10   \n",
       "2   3  This is Sophie. She's a Jubilant Bush Pupper. ...  11.27/10   \n",
       "3   4  Here we have uncovered an entire battalion of ...  11.26/10   \n",
       "\n",
       "   rating_numerator  rating_denominator_fix  \n",
       "0             13.50                      10  \n",
       "1              9.75                      10  \n",
       "2             11.27                      10  \n",
       "3             11.26                      10  "
      ]
     },
     "execution_count": 16,
     "metadata": {},
     "output_type": "execute_result"
    }
   ],
   "source": [
    "test"
   ]
  },
  {
   "cell_type": "markdown",
   "metadata": {},
   "source": [
    "使用正则表达式，用法如下：\n",
    "\n",
    "## 总结\n",
    "## ^ 匹配字符串的开始。\n",
    "## $ 匹配字符串的结尾。\n",
    "## \\b 匹配一个单词的边界。\n",
    "## \\d 匹配任意数字。\n",
    "## \\D 匹配任意非数字字符。\n",
    "## x? 匹配一个可选的 x 字符 (换言之，它匹配 1 次或者 0 次 x 字符)。\n",
    "## x* 匹配0次或者多次 x 字符。\n",
    "## x+ 匹配1次或者多次 x 字符。\n",
    "## x{n,m} 匹配 x 字符，至少 n 次，至多 m 次。\n",
    "## (a|b|c) 要么匹配 a，要么匹配 b，要么匹配 c。\n",
    "## (x) 一般情况下表示一个记忆组 (remembered group)。你可以利用 re.search 函数返回对象的 groups() 函数获取它的值。\n",
    "## 正则表达式中的点号通常意味着 “匹配任意单字符”\n",
    "解题思路：\n",
    "\n",
    "2.1 既然是提取数字，那么数字的形式一般是：整数，小数，整数加小数；\n",
    "\n",
    "2.2 所以一般是形如：----.-----；\n",
    "\n",
    "2.3 根据上述正则表达式的含义，可写出如下的表达式：\"\\d+\\.?\\d*\"；\n",
    "\n",
    "2.4 \\d+匹配1次或者多次数字，注意这里不要写成*，因为即便是小数，小数点之前也得有一个数字；\\.?这个是匹配小数点的，可能有，也可能没有；\\d*这个是匹配小数点之后的数字的，所以是0个或者多个；\n",
    "\n",
    "代码如下：\n",
    "\n"
   ]
  },
  {
   "cell_type": "code",
   "execution_count": 90,
   "metadata": {
    "ExecuteTime": {
     "end_time": "2021-06-04T02:35:39.164499Z",
     "start_time": "2021-06-04T02:35:39.154499Z"
    }
   },
   "outputs": [
    {
     "name": "stdout",
     "output_type": "stream",
     "text": [
      "['1.45', '5', '6.45', '8.82', '56.236']\n"
     ]
    }
   ],
   "source": [
    "\n",
    "# -*- coding: cp936 -*-\n",
    "import re\n",
    "\n",
    "string=\"A1.45，b5，6.45，8.82,56.236\"\n",
    "print(re.findall(r\"\\d+\\.?\\d*\",string))\n"
   ]
  },
  {
   "cell_type": "markdown",
   "metadata": {},
   "source": [
    "0. python库函数\n",
    "\n",
    "常用的正则表达式包是re，其中使用最多的几个函数为：\n",
    "\n",
    "re.match 尝试从字符串的起始位置匹配一个模式，如果不是起始位置匹配成功的话，match()就返回none。\n",
    "\n",
    "re.search 扫描整个字符串并返回第一个成功的匹配。\n",
    "\n",
    "re.findall 在字符串中找到正则表达式所匹配的所有子串，并返回一个列表，如果没有找到匹配的，则返回空列表。\n",
    "\n",
    "本文将使用其中的函数，简单封装成一个便于输出的接口调用"
   ]
  },
  {
   "cell_type": "code",
   "execution_count": 20,
   "metadata": {
    "ExecuteTime": {
     "end_time": "2021-06-04T01:26:33.496381Z",
     "start_time": "2021-06-04T01:26:33.487380Z"
    }
   },
   "outputs": [],
   "source": [
    "import re#python常用的正则表达式包\n",
    "def get_res(regex,text):\n",
    "    res=re.findall(regex,text)\n",
    "    print('findall res:',res)\n",
    "    res=re.search(regex,text)\n",
    "    print('search res:',res)"
   ]
  },
  {
   "cell_type": "code",
   "execution_count": 34,
   "metadata": {
    "ExecuteTime": {
     "end_time": "2021-06-04T01:35:54.489468Z",
     "start_time": "2021-06-04T01:35:54.479467Z"
    }
   },
   "outputs": [
    {
     "name": "stdout",
     "output_type": "stream",
     "text": [
      "findall res: ['zhihu']\n",
      "search res: <re.Match object; span=(62, 67), match='zhihu'>\n"
     ]
    }
   ],
   "source": [
    "text=\"Hello, my name is Van. Please visit my website at https://www.zhihu.com/people/le-yifan-35.\"\n",
    "get_res(r'zhihu',text)"
   ]
  },
  {
   "cell_type": "code",
   "execution_count": 44,
   "metadata": {
    "ExecuteTime": {
     "end_time": "2021-06-04T01:38:38.062824Z",
     "start_time": "2021-06-04T01:38:38.054823Z"
    }
   },
   "outputs": [
    {
     "name": "stdout",
     "output_type": "stream",
     "text": [
      "findall res: ['sales1', 'sales2', 'sales3']\n",
      "search res: <re.Match object; span=(0, 6), match='sales1'>\n"
     ]
    }
   ],
   "source": [
    "text=\"sales1.xls\\\n",
    "orders3.xls\\\n",
    "sales2.xls\\\n",
    "sales3.xls\\\n",
    "apac1.xls\\\n",
    "europe2.xls\"\n",
    "get_res(r'sales.',text)"
   ]
  },
  {
   "cell_type": "code",
   "execution_count": 45,
   "metadata": {
    "ExecuteTime": {
     "end_time": "2021-06-04T01:39:42.734523Z",
     "start_time": "2021-06-04T01:39:42.727522Z"
    }
   },
   "outputs": [
    {
     "name": "stdout",
     "output_type": "stream",
     "text": [
      "findall res: ['na1.xls', 'na2.xls', 'sa1.xls']\n",
      "search res: <re.Match object; span=(61, 68), match='na1.xls'>\n"
     ]
    }
   ],
   "source": [
    "text=\"sales1.xls\\\n",
    "orders3.xls\\\n",
    "sales2.xls\\\n",
    "sales3.xls\\\n",
    "apac1.xls\\\n",
    "europe2.xls\\\n",
    "na1.xls\\\n",
    "na2.xls\\\n",
    "sa1.xls\\\n",
    "ca1.xls\"\n",
    "get_res(r'[ns]a.\\.xls',text)"
   ]
  },
  {
   "cell_type": "code",
   "execution_count": 46,
   "metadata": {
    "ExecuteTime": {
     "end_time": "2021-06-04T01:42:19.873511Z",
     "start_time": "2021-06-04T01:42:19.864510Z"
    }
   },
   "outputs": [
    {
     "name": "stdout",
     "output_type": "stream",
     "text": [
      "findall res: ['RegEx', 'regex']\n",
      "search res: <re.Match object; span=(56, 61), match='RegEx'>\n"
     ]
    }
   ],
   "source": [
    "text=\"The phrase “regular expression” is often abbreviated as RegEx or regex.\"\n",
    "get_res(r'[Rr]eg[Ee]x',text)"
   ]
  },
  {
   "cell_type": "code",
   "execution_count": 91,
   "metadata": {
    "ExecuteTime": {
     "end_time": "2021-06-04T02:36:04.419944Z",
     "start_time": "2021-06-04T02:36:04.410944Z"
    }
   },
   "outputs": [
    {
     "name": "stdout",
     "output_type": "stream",
     "text": [
      "findall res: ['http://www.forta.com/', 'https://www.forta.com/']\n",
      "search res: <re.Match object; span=(11, 32), match='http://www.forta.com/'>\n"
     ]
    }
   ],
   "source": [
    "text=\"The URL is http://www.forta.com/, to connect securely use https://www.forta.com/ instead.\"\n",
    "get_res(r\"https?://[\\w./]+\",text)"
   ]
  },
  {
   "cell_type": "code",
   "execution_count": 95,
   "metadata": {
    "ExecuteTime": {
     "end_time": "2021-06-04T08:38:14.005887Z",
     "start_time": "2021-06-04T08:38:13.973885Z"
    }
   },
   "outputs": [
    {
     "name": "stdout",
     "output_type": "stream",
     "text": [
      "user@test.com\n"
     ]
    }
   ],
   "source": [
    "import re\n",
    "\n",
    "str = 'user<user@test.com>'\n",
    "print(re.search('<(.+)>', str).group(1))"
   ]
  },
  {
   "cell_type": "code",
   "execution_count": 97,
   "metadata": {
    "ExecuteTime": {
     "end_time": "2021-06-04T08:39:54.931660Z",
     "start_time": "2021-06-04T08:39:54.888657Z"
    }
   },
   "outputs": [
    {
     "name": "stdout",
     "output_type": "stream",
     "text": [
      "['user@test.com']\n"
     ]
    }
   ],
   "source": [
    "# coding: utf8\n",
    "import re\n",
    "string = 'user<user@test.com>'\n",
    "print(re.findall(r'<([^>]+)', string))\n"
   ]
  },
  {
   "cell_type": "code",
   "execution_count": 104,
   "metadata": {
    "ExecuteTime": {
     "end_time": "2021-06-04T08:47:55.177128Z",
     "start_time": "2021-06-04T08:47:55.158127Z"
    }
   },
   "outputs": [
    {
     "data": {
      "text/plain": [
       "['https://www.baidu.com/1.pngxxx']"
      ]
     },
     "execution_count": 104,
     "metadata": {},
     "output_type": "execute_result"
    }
   ],
   "source": [
    "# 既然只要双引号之间的内容，那就把只给双引号里面的分组。\n",
    "p= re.compile(r\"\\(\\\"([^\\\"]*)\\\"\\)\")\n",
    "p.findall('xxx(\"https://www.baidu.com/1.pngxxx\")')\n",
    "# p.findall('jh2kn as.12an sss g2gs.Abc(\"xxx\")asdf;njkasahsda ng2gs.Abc(\"yyy\")')"
   ]
  },
  {
   "cell_type": "code",
   "execution_count": 107,
   "metadata": {
    "ExecuteTime": {
     "end_time": "2021-06-04T08:50:43.680766Z",
     "start_time": "2021-06-04T08:50:43.669765Z"
    }
   },
   "outputs": [
    {
     "data": {
      "text/plain": [
       "'hello'"
      ]
     },
     "execution_count": 107,
     "metadata": {},
     "output_type": "execute_result"
    }
   ],
   "source": [
    "# python怎么用正则表达式提取出小括号里面的内容\n",
    "# 比如从abc(hello)casdf提取出hello\n",
    "\n",
    "import re\n",
    "s = \"abc(hello)casdf\"\n",
    "re.findall(r'[^()]+', s)[1]"
   ]
  },
  {
   "cell_type": "code",
   "execution_count": 108,
   "metadata": {
    "ExecuteTime": {
     "end_time": "2021-06-04T08:51:01.410780Z",
     "start_time": "2021-06-04T08:51:01.364777Z"
    }
   },
   "outputs": [
    {
     "name": "stdout",
     "output_type": "stream",
     "text": [
      "hello\n"
     ]
    }
   ],
   "source": [
    "import re\n",
    "\n",
    "s = \"abc(hello)casdf\"\n",
    "\n",
    "m = re.match(\".*\\((.*)\\).*\", s)\n",
    "print(m.group(1))"
   ]
  },
  {
   "cell_type": "code",
   "execution_count": 109,
   "metadata": {
    "ExecuteTime": {
     "end_time": "2021-06-04T08:51:18.143737Z",
     "start_time": "2021-06-04T08:51:18.117736Z"
    }
   },
   "outputs": [
    {
     "data": {
      "text/plain": [
       "['hello', 'world']"
      ]
     },
     "execution_count": 109,
     "metadata": {},
     "output_type": "execute_result"
    }
   ],
   "source": [
    "import re\n",
    "s = \"abc(hello)casdf(world)\"\n",
    "re.findall(r\"[(](.*?)[)]\",s)\n",
    "\n",
    "#['hello', 'world']"
   ]
  },
  {
   "cell_type": "code",
   "execution_count": 117,
   "metadata": {
    "ExecuteTime": {
     "end_time": "2021-06-04T09:13:34.859193Z",
     "start_time": "2021-06-04T09:13:34.815190Z"
    }
   },
   "outputs": [
    {
     "name": "stdout",
     "output_type": "stream",
     "text": [
      "[['153', '2313'], ['512313'], ['123']]\n",
      "['153', '2313', '512313', '123']\n"
     ]
    }
   ],
   "source": [
    "import re\n",
    "\n",
    "nums = []\n",
    "allnums=[]\n",
    "with open(r'F:\\123\\python-practise\\Pyhon100Cases\\1.txt', encoding='gbk') as f:\n",
    "    for f1 in f:\n",
    "        num = re.findall(r\"\\d+\\d*\", f1)\n",
    "        nums.append(num)\n",
    "print(nums)\n",
    "for i in nums:\n",
    "    for j in i:\n",
    "        allnums.append(j)\n",
    "print(allnums)"
   ]
  },
  {
   "cell_type": "code",
   "execution_count": 1,
   "metadata": {
    "ExecuteTime": {
     "end_time": "2021-06-07T02:27:11.951211Z",
     "start_time": "2021-06-07T02:27:11.905209Z"
    }
   },
   "outputs": [
    {
     "name": "stdout",
     "output_type": "stream",
     "text": [
      "我是速度发中国人\n"
     ]
    }
   ],
   "source": [
    "# 题主给定的输出是\"齐天大圣孙悟空20160917六学家Zhang第1张.jpg\"，包含了倒数第4个字符’.’，但是没有包含’2016.09.17’中的’.’。\n",
    "\n",
    "# 这里我暂且假定正确的输出为：‘齐天大圣孙悟空20160917六学家Zhang第1张jpg’，即’.'作为字符，是需要去掉的。\n",
    "\n",
    "# 采用正则表达式的方法对字符串进行处理。\n",
    "\n",
    "str1 = \"｛我%$是，《速$@.度\\发》中 /国、人\" \n",
    "str2 = \"[齐天大圣/孙悟空] 2016.09.17 六学家Zhang ~ 第1张.jpg\"\n",
    "\n",
    "# 1）提取汉字\n",
    "# 汉字的范围为”\\u4e00-\\u9fa5“，这个是用Unicode表示的\n",
    "import re\n",
    "res1 = ''.join(re.findall('[\\u4e00-\\u9fa5]',str1))\n",
    "print(res1)"
   ]
  },
  {
   "cell_type": "code",
   "execution_count": 2,
   "metadata": {
    "ExecuteTime": {
     "end_time": "2021-06-07T02:27:28.082134Z",
     "start_time": "2021-06-07T02:27:28.060133Z"
    }
   },
   "outputs": [
    {
     "name": "stdout",
     "output_type": "stream",
     "text": [
      "齐天大圣孙悟空20160917六学家Zhang第1张jpg\n"
     ]
    }
   ],
   "source": [
    "# 2）去除所有符号。采用清理数据，仅保留字母、数字、中文的方法\n",
    "\n",
    "res2 = re.sub(\"[^a-zA-Z0-9\\u4e00-\\u9fa5]\", '', str2) \n",
    "print(res2)"
   ]
  },
  {
   "cell_type": "code",
   "execution_count": 4,
   "metadata": {
    "ExecuteTime": {
     "end_time": "2021-06-07T02:29:56.088599Z",
     "start_time": "2021-06-07T02:29:56.076599Z"
    }
   },
   "outputs": [
    {
     "name": "stdout",
     "output_type": "stream",
     "text": [
      "我是速度发中国人\n",
      "齐天大圣孙悟空六学家第张第1张.jpg\n"
     ]
    }
   ],
   "source": [
    "import re\n",
    "str1 = \"｛我%$是，《速$@.度\\发》中 /国、人\"\n",
    "str2 = \"[齐天大圣/孙悟空] 2016.09.17 六学家Zhang ~ 第1张.jpg\"\n",
    "res = ''.join(re.findall('[\\u4e00-\\u9fa5]',str1))\n",
    "print(res)\n",
    "res2 = ''.join(re.findall('[\\u4e00-\\u9fa5]',str2))+ str2[-7:]\n",
    "print(res2)\n"
   ]
  },
  {
   "cell_type": "code",
   "execution_count": 5,
   "metadata": {
    "ExecuteTime": {
     "end_time": "2021-06-07T02:31:31.929081Z",
     "start_time": "2021-06-07T02:31:31.909080Z"
    }
   },
   "outputs": [
    {
     "name": "stdout",
     "output_type": "stream",
     "text": [
      "帮会建了徽信群没在群里的加下徽信晚上群里有活动通知大家抢资源争地盘谢谢配合\n"
     ]
    }
   ],
   "source": [
    "# python 提取字符串中的中文字符\n",
    "# 仅仅提取汉字字符\n",
    "p1='帮会建了徽信群 没在群里的加下徽信:[30109552300]，晚上群里有活动通知大家，(抢资源)，争地盘，谢谢配合。i love you '\n",
    "pre = re.compile(u'[\\u4e00-\\u9fa5]')\n",
    "res = re.findall(pre, p1)\n",
    "res1=''.join(res)\n",
    "print(res1)"
   ]
  },
  {
   "cell_type": "code",
   "execution_count": 6,
   "metadata": {
    "ExecuteTime": {
     "end_time": "2021-06-07T02:31:56.366479Z",
     "start_time": "2021-06-07T02:31:56.341477Z"
    }
   },
   "outputs": [
    {
     "name": "stdout",
     "output_type": "stream",
     "text": [
      "帮会建了徽信群没在群里的加下徽信，晚上群里有活动通知大家，抢资源，争地盘，谢谢配合。\n"
     ]
    }
   ],
   "source": [
    "# 提取汉字和标点\n",
    "p1='帮会建了徽信群 没在群里的加下徽信:[30109552300]，晚上群里有活动通知大家，(抢资源)，争地盘，谢谢配合。i love you '\n",
    "pre = re.compile(u'[\\u4e00-\\u9fa5-\\，\\。]')\n",
    "res = re.findall(pre, p1)\n",
    "res1=''.join(res)\n",
    "print(res1)"
   ]
  },
  {
   "cell_type": "code",
   "execution_count": 7,
   "metadata": {
    "ExecuteTime": {
     "end_time": "2021-06-07T02:32:50.903598Z",
     "start_time": "2021-06-07T02:32:50.885597Z"
    }
   },
   "outputs": [
    {
     "name": "stdout",
     "output_type": "stream",
     "text": [
      "你好完全额\n",
      "100\n",
      "helloworld\n"
     ]
    }
   ],
   "source": [
    "#\\d 匹配一个数字字符。等价于 [0-9]\n",
    "#\\D 匹配一个非数字字符。等价于 [^0-9]\n",
    "\n",
    "#提取汉字\n",
    "import re\n",
    "string = \"hello,world!!%[545]你好234asd完全额。。。\"\n",
    "str = re.sub(\"[A-Za-z0-9\\!\\%\\[\\]\\,\\。]\", \"\", string)\n",
    "print(str)\n",
    "\n",
    "#从字符串中提取数字\n",
    "totalCount = '100abcdef'\n",
    "totalCount = re.sub(\"\\D\", \"\", totalCount) \n",
    "print(totalCount)\n",
    "\n",
    "#提取字母字符串\n",
    "import re\n",
    "string = \"hello,world!!%[545]爱迪生234世界。。。\"\n",
    "result = ''.join(re.findall(r'[A-Za-z]', string)) \n",
    "print(result)"
   ]
  },
  {
   "cell_type": "code",
   "execution_count": 8,
   "metadata": {
    "ExecuteTime": {
     "end_time": "2021-06-07T02:34:14.879401Z",
     "start_time": "2021-06-07T02:34:14.869401Z"
    }
   },
   "outputs": [
    {
     "name": "stdout",
     "output_type": "stream",
     "text": [
      "今天是：2018-11-28\n",
      "今天是：11/28/2018\n"
     ]
    }
   ],
   "source": [
    "import re\n",
    "text='今天是：11/28/2018'\n",
    "print(re.sub(r'(\\d+)/(\\d+)/(\\d+)',r'\\3-\\1-\\2',text))\n",
    "print(text)"
   ]
  },
  {
   "cell_type": "code",
   "execution_count": 9,
   "metadata": {
    "ExecuteTime": {
     "end_time": "2021-06-07T02:35:07.751425Z",
     "start_time": "2021-06-07T02:35:07.740425Z"
    }
   },
   "outputs": [
    {
     "name": "stdout",
     "output_type": "stream",
     "text": [
      "今天是：2018-11-28\n",
      "今天是：11/28/2018\n"
     ]
    }
   ],
   "source": [
    "# sub()的第一个参数是要匹配的模式，第二个参数是要替换的模式。类似的“3”这样的反斜线加数字表示模式中捕获组的编号。\n",
    "\n",
    "# 如果打算用相同的模式执行重复替换，可以考虑先将模式编译以获得更好的性能。\n",
    "\n",
    "# 实例：\n",
    "\n",
    "import re\n",
    "text='今天是：11/28/2018'\n",
    "datepat=re.compile(r'(\\d+)/(\\d+)/(\\d+)')\n",
    "print(datepat.sub(r'\\3-\\1-\\2',text))\n",
    "print(text)"
   ]
  },
  {
   "cell_type": "code",
   "execution_count": 10,
   "metadata": {
    "ExecuteTime": {
     "end_time": "2021-06-07T02:35:49.073789Z",
     "start_time": "2021-06-07T02:35:49.052788Z"
    }
   },
   "outputs": [
    {
     "name": "stdout",
     "output_type": "stream",
     "text": [
      "今天是：2018 Nov 28\n",
      "今天是：11/28/2018\n"
     ]
    }
   ],
   "source": [
    "# 对于更加复杂的情况，可以指定一个替换回调函数。\n",
    "\n",
    "# 示例：\n",
    "import re\n",
    "from calendar import month_abbr\n",
    "text='今天是：11/28/2018'\n",
    "datepat=re.compile(r'(\\d+)/(\\d+)/(\\d+)')\n",
    "\n",
    "def change_date(m):\n",
    "  mon_name=month_abbr[int(m.group(1))]\n",
    "  return '{} {} {}'.format(m.group(3),mon_name,m.group(2))\n",
    "print(datepat.sub(change_date,text))\n",
    "print(text)"
   ]
  },
  {
   "cell_type": "code",
   "execution_count": 11,
   "metadata": {
    "ExecuteTime": {
     "end_time": "2021-06-07T02:37:04.538105Z",
     "start_time": "2021-06-07T02:37:04.526105Z"
    }
   },
   "outputs": [
    {
     "name": "stdout",
     "output_type": "stream",
     "text": [
      "['湖南', '长沙市岳麓区麓山南路麓山门']\n",
      "['长沙', '岳麓区麓山南路麓山门']\n",
      "{'省份': '湖南', '城市': '长沙'}\n"
     ]
    }
   ],
   "source": [
    "address = '湖南省长沙市岳麓区麓山南路麓山门'\n",
    "\n",
    "address1 = address.split('省')  # 用“省”字划分字符串，返回一个列表\n",
    "address2 = address1[1].split('市')  # 用“市”字划分address1列表的第二个元素，返回一个列表\n",
    "\n",
    "print(address1)  # 输出 ['湖南', '长沙市岳麓区麓山南路麓山门'] \n",
    "print(address2)  # 输出 ['长沙', '岳麓区麓山南路麓山门']\n",
    "\n",
    "data = {  \n",
    "    '省份': address1[0],\n",
    "    '城市': address2[0]\n",
    "}\n",
    "\n",
    "print(data) # 输出 {'省份': '湖南', '城市': '长沙'}"
   ]
  },
  {
   "cell_type": "markdown",
   "metadata": {},
   "source": [
    "### python正则表达式替换字符串"
   ]
  },
  {
   "cell_type": "code",
   "execution_count": 17,
   "metadata": {
    "ExecuteTime": {
     "end_time": "2021-06-07T07:21:58.173102Z",
     "start_time": "2021-06-07T07:21:58.156101Z"
    }
   },
   "outputs": [
    {
     "name": "stdout",
     "output_type": "stream",
     "text": [
      "['url(\"http://www.baidu.com\")']\n",
      "test,&nbsp;url('http://www.baidu.com')&amp;,dddddd  <svg:svg></svg:svg><svg:path></svg:path><img src=\"http://www.baidu.com\"></img>ininnnin<img src=\"http://www.dd.com\"></img>\n"
     ]
    }
   ],
   "source": [
    "# 1、[&]转为[&amp;](但是不能把[&nbsp;]转了);\n",
    "# 2、把代码中的[\"=\"\"]去掉;\n",
    "# 3、把[svg]和[path]标签都改为[svg:svg]和[svg:path];\n",
    "# 4、关闭[img]标签;\n",
    "# 5、将url()中的[\"]转为[']\n",
    "\n",
    "import re\n",
    "str_url = 'test,&nbsp;url(\"http://www.baidu.com\")&,dddddd \"=\"\" <svg></svg><path></path><img src=\"http://www.baidu.com\">ininnnin<img src=\"http://www.dd.com\">'\n",
    "#2、把代码中的[\"=\"\"]去掉;\n",
    "#3、把[svg]和[path]标签都改为[svg:svg]和[svg:path];\n",
    "str_url = str_url.replace('\"=\"\"','')\n",
    "str_url = str_url.replace('svg','svg:svg')\n",
    "str_url = str_url.replace('path', 'svg:path')\n",
    "\n",
    "#1、[&]转为[&amp;](但是不能把[&nbsp;]转了);\n",
    "url_re = re.compile('&(?!\\w{4};)')\n",
    "str_result = url_re.sub('&amp;', str_url)\n",
    "\n",
    "#4、关闭[img]标签;\n",
    "img_list = re.findall('<img.*?>',str_result)\n",
    "\n",
    "for img_r in img_list:\n",
    "    str_result = str_result.replace(img_r,img_r + '</img>')\n",
    "\n",
    "#5、将url()中的[\"]转为[']\n",
    "url_list = re.findall('url\\(\".*?\"\\)',str_result)\n",
    "print(url_list)\n",
    "for url_r in url_list:\n",
    "    url_new = url_r.replace('\"','\\'')\n",
    "    str_result = str_result.replace(url_r,url_new)\n",
    "print(str_result)"
   ]
  },
  {
   "cell_type": "code",
   "execution_count": null,
   "metadata": {},
   "outputs": [],
   "source": [
    "# python从字符串中提取数字\n",
    "# 使用正则表达式，用法如下：\n",
    "\n",
    "## 总结\n",
    "## ^ 匹配字符串的开始。\n",
    "## $ 匹配字符串的结尾。\n",
    "## \\b 匹配一个单词的边界。\n",
    "## \\d 匹配任意数字。\n",
    "## \\D 匹配任意非数字字符。\n",
    "## x? 匹配一个可选的 x 字符 (换言之，它匹配 1 次或者 0 次 x 字符)。\n",
    "## x* 匹配0次或者多次 x 字符。\n",
    "## x+ 匹配1次或者多次 x 字符。\n",
    "## x{n,m} 匹配 x 字符，至少 n 次，至多 m 次。\n",
    "## (a|b|c) 要么匹配 a，要么匹配 b，要么匹配 c。\n",
    "## (x) 一般情况下表示一个记忆组 (remembered group)。你可以利用 re.search 函数返回对象的 groups() 函数获取它的值。\n",
    "## 正则表达式中的点号通常意味着 “匹配任意单字符”\n"
   ]
  },
  {
   "cell_type": "code",
   "execution_count": null,
   "metadata": {},
   "outputs": [],
   "source": [
    "# 解题思路：\n",
    "\n",
    "# 1.既然是提取数字，那么数字的形式一般是：整数，小数，整数加小数；\n",
    "\n",
    "# 2.所以一般是形如：----.-----；\n",
    "\n",
    "# 3.根据上述正则表达式的含义，可写出如下的表达式：\"\\d+\\.?\\d*\"；\n",
    "\n",
    "# 4.\\d+匹配1次或者多次数字，注意这里不要写成*，因为即便是小数，小数点之前也得有一个数字；\n",
    "\n",
    "# \\.?这个是匹配小数点的，可能有，也可能没有；\\d*这个是匹配小数点之后的数字的，所以是0个或者多个；\n",
    "\n",
    "# 代码如下："
   ]
  },
  {
   "cell_type": "code",
   "execution_count": null,
   "metadata": {},
   "outputs": [],
   "source": [
    "import re\n",
    "\n",
    "string=\"A1.45，b5，6.45，8.82\"\n",
    "print re.findall(r\"\\d+\\.?\\d*\",string)\n",
    "\n",
    "# ['1.45', '5', '6.45', '8.82']\n"
   ]
  },
  {
   "cell_type": "code",
   "execution_count": 24,
   "metadata": {
    "ExecuteTime": {
     "end_time": "2021-06-07T07:29:12.298932Z",
     "start_time": "2021-06-07T07:29:12.291932Z"
    },
    "scrolled": true
   },
   "outputs": [],
   "source": [
    "# 匹配指定字符串开头的数字\n",
    "# 例如下面的string：\n",
    "\n",
    "string='tensorflow:Final best valid 0 loss=0.20478513836860657 norm_loss=0.767241849151384c=0.8262403011322021 pr=0.39401692152023315 calibration=0.9863265752792358 rate=0.0'\n",
    "\n",
    "# 提取 calibration=0.9863265752792358 ."
   ]
  },
  {
   "cell_type": "code",
   "execution_count": 25,
   "metadata": {
    "ExecuteTime": {
     "end_time": "2021-06-07T07:29:14.048032Z",
     "start_time": "2021-06-07T07:29:14.038032Z"
    }
   },
   "outputs": [
    {
     "data": {
      "text/plain": [
       "['0.9863265752792358']"
      ]
     },
     "execution_count": 25,
     "metadata": {},
     "output_type": "execute_result"
    }
   ],
   "source": [
    "# 匹配“calibration=”后面的数字\n",
    "pattern = re.compile(r'(?<=calibration=)\\d+\\.?\\d*')\n",
    "pattern.findall(string)\n",
    "\n",
    "# ['0.9863265752792358']\n"
   ]
  },
  {
   "cell_type": "code",
   "execution_count": 26,
   "metadata": {
    "ExecuteTime": {
     "end_time": "2021-06-07T07:30:00.913713Z",
     "start_time": "2021-06-07T07:30:00.900712Z"
    }
   },
   "outputs": [
    {
     "data": {
      "text/plain": [
       "['loss=0.20478513836860657', 'loss=0.767241849151384']"
      ]
     },
     "execution_count": 26,
     "metadata": {},
     "output_type": "execute_result"
    }
   ],
   "source": [
    "# 匹配包含指定字符串开头的数字\n",
    "pattern = re.compile(r'(?:loss=)\\d+\\.?\\d*')\n",
    "pattern.findall(string)\n",
    "\n",
    "# ['loss=0.20478513836860657', 'loss=0.767241849151384']"
   ]
  },
  {
   "cell_type": "code",
   "execution_count": 27,
   "metadata": {
    "ExecuteTime": {
     "end_time": "2021-06-07T07:30:40.584982Z",
     "start_time": "2021-06-07T07:30:40.573981Z"
    }
   },
   "outputs": [
    {
     "data": {
      "text/plain": [
       "['15:28:39']"
      ]
     },
     "execution_count": 27,
     "metadata": {},
     "output_type": "execute_result"
    }
   ],
   "source": [
    "# 匹配时间，17:35:24\n",
    "string = \"WARNING:tensorflow: 20181011 15:28:39 Initialize training\"\n",
    "pattern = re.compile(r'\\d{2}:\\d{2}:\\d{2}')\n",
    "pattern.findall(string)\n",
    "\n",
    "# ['15:28:39']\n"
   ]
  },
  {
   "cell_type": "code",
   "execution_count": 28,
   "metadata": {
    "ExecuteTime": {
     "end_time": "2021-06-07T07:30:57.464947Z",
     "start_time": "2021-06-07T07:30:57.452947Z"
    }
   },
   "outputs": [
    {
     "data": {
      "text/plain": [
       "['20181011 15:28:39']"
      ]
     },
     "execution_count": 28,
     "metadata": {},
     "output_type": "execute_result"
    }
   ],
   "source": [
    "# 匹配时间，20181011 15:28:39\n",
    "string = \"WARNING:tensorflow: 20181011 15:28:39 Initialize training\"\n",
    "pattern = re.compile(r'\\d{4}\\d{2}\\d{2}\\s\\d{2}:\\d{2}:\\d{2}')\n",
    "pattern.findall(string)\n",
    "\n",
    "# ['20181011 15:28:39']"
   ]
  },
  {
   "cell_type": "code",
   "execution_count": 40,
   "metadata": {
    "ExecuteTime": {
     "end_time": "2021-06-07T07:57:46.510979Z",
     "start_time": "2021-06-07T07:57:46.496979Z"
    }
   },
   "outputs": [],
   "source": [
    "# 综合修改版本\n",
    "\n",
    "import re\n",
    "\n",
    "nums = []\n",
    "allnums=[]\n",
    "with open(r\"F:\\p\\12.txt\", encoding='gbk') as f,open(r'F:p\\122.txt','w+') as f2:\n",
    "    for f1 in f:\n",
    "        res2 = ''.join(re.findall('[\\u4e00-\\u9fa5]',f1))+ f1[-8:] # 因txt文件每一行的最后有一个换行符（\\n），所以又多加一个数字即-8\n",
    "#         num = re.findall(r\"\\d+\\d*\", f1)\n",
    "        nums.append(res2 )\n",
    "        f2.write(res2)\n",
    "        \n",
    "# print(nums)\n",
    "# for i in nums:\n",
    "#     allnums.append(i)\n",
    "# print(allnums)\n",
    "\n"
   ]
  },
  {
   "cell_type": "markdown",
   "metadata": {},
   "source": [
    "##  字符串的基本操"
   ]
  },
  {
   "cell_type": "code",
   "execution_count": 6,
   "metadata": {
    "ExecuteTime": {
     "end_time": "2021-06-10T08:42:32.599791Z",
     "start_time": "2021-06-10T08:42:32.588790Z"
    }
   },
   "outputs": [
    {
     "data": {
      "text/plain": [
       "'nohtyp'"
      ]
     },
     "execution_count": 6,
     "metadata": {},
     "output_type": "execute_result"
    }
   ],
   "source": [
    "##反转操作有两种方式\n",
    "s='python'\n",
    "r=''.join(reversed(s))\n",
    "r1=s[::-1]\n",
    "r1"
   ]
  },
  {
   "cell_type": "code",
   "execution_count": 7,
   "metadata": {
    "ExecuteTime": {
     "end_time": "2021-06-10T08:43:31.597165Z",
     "start_time": "2021-06-10T08:43:31.581164Z"
    }
   },
   "outputs": [
    {
     "data": {
      "text/plain": [
       "['1',\n",
       " '2',\n",
       " 'fizz',\n",
       " '4',\n",
       " 'buzz',\n",
       " 'fizz',\n",
       " '7',\n",
       " '8',\n",
       " 'fizz',\n",
       " 'buzz',\n",
       " '11',\n",
       " 'fizz',\n",
       " '13',\n",
       " '14',\n",
       " 'fizzbuzz',\n",
       " '16',\n",
       " '17',\n",
       " 'fizz',\n",
       " '19']"
      ]
     },
     "execution_count": 7,
     "metadata": {},
     "output_type": "execute_result"
    }
   ],
   "source": [
    "# 字符串的切片操作   \n",
    "# 在指定的索引处生成字符串\n",
    "# FizzBuzz是一个简单的小游戏。游戏规则如下：从1开始往上数数，\n",
    "# 当遇到3的倍数的时候，说fizz，当遇到5的倍数，说buzz，当遇到15的倍数，就说fizzbuzz，其他情况下则正常数数。\n",
    "\n",
    "java, python = 'fizz', 'buzz'\n",
    "\n",
    "jl, pl = len(java), len(python)\n",
    "\n",
    "[str(java[i%3*jl:]+python[i%5*pl:] or i) for i in range(1, 20)]    # 这个写法牛逼"
   ]
  },
  {
   "cell_type": "code",
   "execution_count": 8,
   "metadata": {
    "ExecuteTime": {
     "end_time": "2021-06-10T08:45:34.978222Z",
     "start_time": "2021-06-10T08:45:34.967222Z"
    }
   },
   "outputs": [
    {
     "data": {
      "text/plain": [
       "'I_love_python'"
      ]
     },
     "execution_count": 8,
     "metadata": {},
     "output_type": "execute_result"
    }
   ],
   "source": [
    "# 字符串的串联与分割， join和split可以看做一对互逆操作。\n",
    "mystr=['I','love','python']\n",
    "res='_'.join(mystr)\n",
    "res"
   ]
  },
  {
   "cell_type": "code",
   "execution_count": 9,
   "metadata": {
    "ExecuteTime": {
     "end_time": "2021-06-10T08:46:02.631804Z",
     "start_time": "2021-06-10T08:46:02.622804Z"
    }
   },
   "outputs": [
    {
     "data": {
      "text/plain": [
       "['I', 'love', 'python']"
      ]
     },
     "execution_count": 9,
     "metadata": {},
     "output_type": "execute_result"
    }
   ],
   "source": [
    "rs=res.split('_')\n",
    "rs"
   ]
  },
  {
   "cell_type": "code",
   "execution_count": 10,
   "metadata": {
    "ExecuteTime": {
     "end_time": "2021-06-10T08:46:44.766214Z",
     "start_time": "2021-06-10T08:46:44.757214Z"
    }
   },
   "outputs": [
    {
     "data": {
      "text/plain": [
       "'i lOve pythOn'"
      ]
     },
     "execution_count": 10,
     "metadata": {},
     "output_type": "execute_result"
    }
   ],
   "source": [
    "s='i love python'.replace('o','O')\n",
    "s"
   ]
  },
  {
   "cell_type": "code",
   "execution_count": 4,
   "metadata": {
    "ExecuteTime": {
     "end_time": "2021-06-11T01:24:14.027644Z",
     "start_time": "2021-06-11T01:24:14.015644Z"
    }
   },
   "outputs": [
    {
     "data": {
      "text/plain": [
       "['13.59']"
      ]
     },
     "execution_count": 4,
     "metadata": {},
     "output_type": "execute_result"
    }
   ],
   "source": [
    "import re\n",
    "\n",
    "s='一共20行代码运行时间13.59s'\n",
    "\n",
    "pat=r'\\d+\\.?\\d+'\n",
    "\n",
    "r=re.findall(pat,s)\n",
    "r"
   ]
  },
  {
   "cell_type": "code",
   "execution_count": 6,
   "metadata": {
    "ExecuteTime": {
     "end_time": "2021-06-11T01:24:54.037933Z",
     "start_time": "2021-06-11T01:24:54.026932Z"
    }
   },
   "outputs": [
    {
     "data": {
      "text/plain": [
       "['2', '09', '13.59']"
      ]
     },
     "execution_count": 6,
     "metadata": {},
     "output_type": "execute_result"
    }
   ],
   "source": [
    "import re\n",
    "\n",
    "s='一共2行代码运行09时间13.59s'\n",
    "\n",
    "pat=r'\\d+\\.?\\d*'\n",
    "\n",
    "r=re.findall(pat,s)\n",
    "r"
   ]
  },
  {
   "cell_type": "code",
   "execution_count": 7,
   "metadata": {
    "ExecuteTime": {
     "end_time": "2021-06-11T01:25:42.038678Z",
     "start_time": "2021-06-11T01:25:42.024678Z"
    }
   },
   "outputs": [
    {
     "data": {
      "text/plain": [
       "[10, 5]"
      ]
     },
     "execution_count": 7,
     "metadata": {},
     "output_type": "execute_result"
    }
   ],
   "source": [
    "s = [-16, 1.5, 11.43, 10, 5]\n",
    "pat = r'^[1-9]\\d*$'\n",
    "[i for i in s if re.match(pat, str(i))]   # [10, 5]"
   ]
  },
  {
   "cell_type": "code",
   "execution_count": 8,
   "metadata": {
    "ExecuteTime": {
     "end_time": "2021-06-11T01:33:38.108908Z",
     "start_time": "2021-06-11T01:33:38.097907Z"
    }
   },
   "outputs": [
    {
     "data": {
      "text/plain": [
       "['id', 'name', 'address']"
      ]
     },
     "execution_count": 8,
     "metadata": {},
     "output_type": "execute_result"
    }
   ],
   "source": [
    "s = 'id\\tname\\taddress'\n",
    "\n",
    "# 根据字符串\\t分割\n",
    "s.split('\\t')      # ['id', 'name', 'address']\n"
   ]
  },
  {
   "cell_type": "code",
   "execution_count": 13,
   "metadata": {
    "ExecuteTime": {
     "end_time": "2021-06-11T01:40:07.436176Z",
     "start_time": "2021-06-11T01:40:07.425176Z"
    }
   },
   "outputs": [
    {
     "data": {
      "text/plain": [
       "'hello,hello'"
      ]
     },
     "execution_count": 13,
     "metadata": {},
     "output_type": "execute_result"
    }
   ],
   "source": [
    "content='hello    1234,hello    1234'\n",
    "pat=re.compile(r'[\\d+\\s+]')\n",
    "m=pat.sub('',content)\n",
    "m"
   ]
  },
  {
   "cell_type": "code",
   "execution_count": 16,
   "metadata": {
    "ExecuteTime": {
     "end_time": "2021-06-11T01:46:20.800531Z",
     "start_time": "2021-06-11T01:46:20.770530Z"
    }
   },
   "outputs": [
    {
     "data": {
      "text/plain": [
       "123.456"
      ]
     },
     "execution_count": 16,
     "metadata": {},
     "output_type": "execute_result"
    }
   ],
   "source": [
    "from functools import reduce\n",
    "\n",
    "l1 = [str(i) for i in range(10)]\n",
    "l2 = [x for x in range(10)]\n",
    "DIGITS = {key: value for key, value in zip(l1, l2)}\n",
    "\n",
    "def char2num(s):\n",
    "    return DIGITS[s]\n",
    "\n",
    "def str2int(s):\n",
    "    return reduce(lambda x,y:x*10+y, map(char2num, s))\n",
    "\n",
    "str2int(\"12345\")     # 12345\n",
    "\n",
    "\n",
    "\n",
    "def str2float(s):\n",
    "    i = s.find('.')\n",
    "    L1 = reduce(lambda x, y: x*10+y, map(char2num, s[:i]))\n",
    "    L2 = reduce(lambda x, y: x/10+y, map(char2num, s[:i:-1])) / 10\n",
    "    return L1 + L2\n",
    "\n",
    "str2float('123.456')\n",
    "\n",
    "def str2float1(s):\n",
    "    return eval(s)\n",
    "\n",
    "str2float1('123.456')\n"
   ]
  },
  {
   "cell_type": "code",
   "execution_count": null,
   "metadata": {},
   "outputs": [],
   "source": []
  }
 ],
 "metadata": {
  "kernelspec": {
   "display_name": "Python 3",
   "language": "python",
   "name": "python3"
  },
  "language_info": {
   "codemirror_mode": {
    "name": "ipython",
    "version": 3
   },
   "file_extension": ".py",
   "mimetype": "text/x-python",
   "name": "python",
   "nbconvert_exporter": "python",
   "pygments_lexer": "ipython3",
   "version": "3.8.5"
  },
  "toc": {
   "base_numbering": 1,
   "nav_menu": {},
   "number_sections": true,
   "sideBar": true,
   "skip_h1_title": false,
   "title_cell": "Table of Contents",
   "title_sidebar": "Contents",
   "toc_cell": false,
   "toc_position": {},
   "toc_section_display": true,
   "toc_window_display": false
  }
 },
 "nbformat": 4,
 "nbformat_minor": 4
}
