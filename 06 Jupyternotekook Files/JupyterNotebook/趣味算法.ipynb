{
 "cells": [
  {
   "cell_type": "code",
   "execution_count": null,
   "metadata": {},
   "outputs": [],
   "source": []
  },
  {
   "cell_type": "code",
   "execution_count": 2,
   "metadata": {
    "ExecuteTime": {
     "end_time": "2021-03-11T08:20:57.013421Z",
     "start_time": "2021-03-11T08:20:47.887899Z"
    }
   },
   "outputs": [
    {
     "data": {
      "application/javascript": [
       "\n",
       "        if (window._pyforest_update_imports_cell) { window._pyforest_update_imports_cell('import pandas as pd'); }\n",
       "    "
      ],
      "text/plain": [
       "<IPython.core.display.Javascript object>"
      ]
     },
     "metadata": {},
     "output_type": "display_data"
    }
   ],
   "source": [
    "df=pd.read_excel('shopping.xlsx',usecols=['id','date'])\n"
   ]
  },
  {
   "cell_type": "code",
   "execution_count": 3,
   "metadata": {
    "ExecuteTime": {
     "end_time": "2021-03-11T08:20:57.144429Z",
     "start_time": "2021-03-11T08:20:57.018421Z"
    },
    "scrolled": true
   },
   "outputs": [
    {
     "data": {
      "text/html": [
       "<div>\n",
       "<style scoped>\n",
       "    .dataframe tbody tr th:only-of-type {\n",
       "        vertical-align: middle;\n",
       "    }\n",
       "\n",
       "    .dataframe tbody tr th {\n",
       "        vertical-align: top;\n",
       "    }\n",
       "\n",
       "    .dataframe thead th {\n",
       "        text-align: right;\n",
       "    }\n",
       "</style>\n",
       "<table border=\"1\" class=\"dataframe\">\n",
       "  <thead>\n",
       "    <tr style=\"text-align: right;\">\n",
       "      <th></th>\n",
       "      <th>id</th>\n",
       "      <th>date</th>\n",
       "    </tr>\n",
       "  </thead>\n",
       "  <tbody>\n",
       "    <tr>\n",
       "      <th>0</th>\n",
       "      <td>101</td>\n",
       "      <td>2020-03-10</td>\n",
       "    </tr>\n",
       "    <tr>\n",
       "      <th>1</th>\n",
       "      <td>102</td>\n",
       "      <td>2020-03-11</td>\n",
       "    </tr>\n",
       "    <tr>\n",
       "      <th>2</th>\n",
       "      <td>103</td>\n",
       "      <td>2020-03-12</td>\n",
       "    </tr>\n",
       "    <tr>\n",
       "      <th>3</th>\n",
       "      <td>104</td>\n",
       "      <td>2020-03-13</td>\n",
       "    </tr>\n",
       "    <tr>\n",
       "      <th>4</th>\n",
       "      <td>105</td>\n",
       "      <td>2020-03-14</td>\n",
       "    </tr>\n",
       "    <tr>\n",
       "      <th>5</th>\n",
       "      <td>106</td>\n",
       "      <td>2020-03-15</td>\n",
       "    </tr>\n",
       "    <tr>\n",
       "      <th>6</th>\n",
       "      <td>107</td>\n",
       "      <td>2020-03-16</td>\n",
       "    </tr>\n",
       "    <tr>\n",
       "      <th>7</th>\n",
       "      <td>108</td>\n",
       "      <td>2020-03-17</td>\n",
       "    </tr>\n",
       "    <tr>\n",
       "      <th>8</th>\n",
       "      <td>109</td>\n",
       "      <td>2020-03-18</td>\n",
       "    </tr>\n",
       "    <tr>\n",
       "      <th>9</th>\n",
       "      <td>110</td>\n",
       "      <td>2020-03-19</td>\n",
       "    </tr>\n",
       "  </tbody>\n",
       "</table>\n",
       "</div>"
      ],
      "text/plain": [
       "    id       date\n",
       "0  101 2020-03-10\n",
       "1  102 2020-03-11\n",
       "2  103 2020-03-12\n",
       "3  104 2020-03-13\n",
       "4  105 2020-03-14\n",
       "5  106 2020-03-15\n",
       "6  107 2020-03-16\n",
       "7  108 2020-03-17\n",
       "8  109 2020-03-18\n",
       "9  110 2020-03-19"
      ]
     },
     "execution_count": 3,
     "metadata": {},
     "output_type": "execute_result"
    }
   ],
   "source": [
    "df"
   ]
  },
  {
   "cell_type": "code",
   "execution_count": 4,
   "metadata": {
    "ExecuteTime": {
     "end_time": "2021-03-11T08:20:57.274436Z",
     "start_time": "2021-03-11T08:20:57.149429Z"
    }
   },
   "outputs": [
    {
     "data": {
      "text/plain": [
       "dtype('int64')"
      ]
     },
     "execution_count": 4,
     "metadata": {},
     "output_type": "execute_result"
    }
   ],
   "source": [
    "df['id'].dtype"
   ]
  },
  {
   "cell_type": "code",
   "execution_count": 9,
   "metadata": {
    "ExecuteTime": {
     "end_time": "2021-03-11T08:24:44.823451Z",
     "start_time": "2021-03-11T08:24:44.801450Z"
    }
   },
   "outputs": [
    {
     "data": {
      "text/html": [
       "<div>\n",
       "<style scoped>\n",
       "    .dataframe tbody tr th:only-of-type {\n",
       "        vertical-align: middle;\n",
       "    }\n",
       "\n",
       "    .dataframe tbody tr th {\n",
       "        vertical-align: top;\n",
       "    }\n",
       "\n",
       "    .dataframe thead th {\n",
       "        text-align: right;\n",
       "    }\n",
       "</style>\n",
       "<table border=\"1\" class=\"dataframe\">\n",
       "  <thead>\n",
       "    <tr style=\"text-align: right;\">\n",
       "      <th></th>\n",
       "      <th>id</th>\n",
       "      <th>date</th>\n",
       "    </tr>\n",
       "  </thead>\n",
       "  <tbody>\n",
       "    <tr>\n",
       "      <th>0</th>\n",
       "      <td>101</td>\n",
       "      <td>2020-03-10</td>\n",
       "    </tr>\n",
       "  </tbody>\n",
       "</table>\n",
       "</div>"
      ],
      "text/plain": [
       "    id       date\n",
       "0  101 2020-03-10"
      ]
     },
     "execution_count": 9,
     "metadata": {},
     "output_type": "execute_result"
    }
   ],
   "source": [
    "df.loc[df['id']==101]"
   ]
  },
  {
   "cell_type": "code",
   "execution_count": 8,
   "metadata": {
    "ExecuteTime": {
     "end_time": "2021-03-11T08:23:47.719185Z",
     "start_time": "2021-03-11T08:23:47.696184Z"
    }
   },
   "outputs": [
    {
     "data": {
      "text/html": [
       "<div>\n",
       "<style scoped>\n",
       "    .dataframe tbody tr th:only-of-type {\n",
       "        vertical-align: middle;\n",
       "    }\n",
       "\n",
       "    .dataframe tbody tr th {\n",
       "        vertical-align: top;\n",
       "    }\n",
       "\n",
       "    .dataframe thead th {\n",
       "        text-align: right;\n",
       "    }\n",
       "</style>\n",
       "<table border=\"1\" class=\"dataframe\">\n",
       "  <thead>\n",
       "    <tr style=\"text-align: right;\">\n",
       "      <th></th>\n",
       "      <th>id</th>\n",
       "      <th>date</th>\n",
       "    </tr>\n",
       "  </thead>\n",
       "  <tbody>\n",
       "    <tr>\n",
       "      <th>7</th>\n",
       "      <td>108</td>\n",
       "      <td>2020-03-17</td>\n",
       "    </tr>\n",
       "    <tr>\n",
       "      <th>8</th>\n",
       "      <td>109</td>\n",
       "      <td>2020-03-18</td>\n",
       "    </tr>\n",
       "    <tr>\n",
       "      <th>9</th>\n",
       "      <td>110</td>\n",
       "      <td>2020-03-19</td>\n",
       "    </tr>\n",
       "  </tbody>\n",
       "</table>\n",
       "</div>"
      ],
      "text/plain": [
       "    id       date\n",
       "7  108 2020-03-17\n",
       "8  109 2020-03-18\n",
       "9  110 2020-03-19"
      ]
     },
     "execution_count": 8,
     "metadata": {},
     "output_type": "execute_result"
    }
   ],
   "source": [
    "df[df['date']>'2020-03-16']"
   ]
  },
  {
   "cell_type": "code",
   "execution_count": null,
   "metadata": {
    "ExecuteTime": {
     "start_time": "2021-03-12T01:48:50.821Z"
    },
    "scrolled": false
   },
   "outputs": [
    {
     "name": "stdout",
     "output_type": "stream",
     "text": [
      "请输入年份，格式为1900?:2000\n",
      "请输入月份，格式为01:03\n",
      "请输入日期，格式为1:23\n",
      "这一天是打鱼\n",
      "62888.700017385\n",
      "请输入年份，格式为1900?:1900\n",
      "请输入月份，格式为01:03\n",
      "请输入日期，格式为1:22\n",
      "这一天是打鱼\n",
      "62910.395594726\n",
      "请输入年份，格式为1900?:1900\n",
      "请输入月份，格式为01:03\n",
      "请输入日期，格式为1:21\n",
      "这一天是晒网\n",
      "62916.850554367\n",
      "请输入年份，格式为1900?:1900\n",
      "请输入月份，格式为01:03\n",
      "请输入日期，格式为1:20\n",
      "这一天是晒网\n",
      "62930.434124772\n",
      "请输入年份，格式为1900?:1900\n",
      "请输入月份，格式为01:03\n",
      "请输入日期，格式为1:19\n",
      "这一天是打鱼\n",
      "62936.194002829\n",
      "请输入年份，格式为1900?:1900\n",
      "请输入月份，格式为01:03\n",
      "请输入日期，格式为1:18\n",
      "这一天是打鱼\n",
      "62946.836812498\n",
      "请输入年份，格式为1900?:1900\n",
      "请输入月份，格式为01:03\n",
      "请输入日期，格式为1:17\n",
      "这一天是打鱼\n",
      "62953.45058833\n",
      "请输入年份，格式为1900?:1900\n",
      "请输入月份，格式为01:03\n",
      "请输入日期，格式为1:16\n",
      "这一天是晒网\n",
      "62957.665719316\n",
      "输入的类型有误\n",
      "62962.920709001\n",
      "输入的类型有误\n",
      "62993.142958178\n",
      "输入的类型有误\n",
      "63005.993334956\n",
      "输入的类型有误\n",
      "63014.0694732\n",
      "输入的类型有误\n",
      "63015.684568667\n",
      "输入的类型有误\n",
      "63016.348578025\n",
      "输入的类型有误\n",
      "63017.243577003\n",
      "输入的类型有误\n",
      "63028.249134835\n",
      "输入的类型有误\n",
      "63621.919763516\n"
     ]
    }
   ],
   "source": [
    "import time #导入 time 模块,以用来计算程序运行的时间,可忽视\n",
    "\n",
    "time.perf_counter() #与 time 模块中计算时间有关,可忽视\n",
    "\n",
    "while 1:\n",
    "    try:\n",
    "        year=int(input('请输入年份，格式为1900?:'))\n",
    "        month=int(input('请输入月份，格式为01:').strip('0'))\n",
    "        day=int(input('请输入日期，格式为1:'))\n",
    "        i=0\n",
    "        daymonth=0\n",
    "        dayear = (year - 1900) * 365\n",
    "        for oneyear in range(1900,year+1):\n",
    "            if (oneyear % 4 == 0 and oneyear % 100 != 0) or oneyear % 400 == 0:\n",
    "                dayear+=1\n",
    "        for i in range(1,month):\n",
    "            if i in [1,3,5,7,8,10,12]:\n",
    "                daymonth = daymonth + 31\n",
    "            elif i == 2:\n",
    "                if (year % 4 == 0 and year % 100 != 0) or year % 400 == 0:\n",
    "                    daymonth = daymonth + 29\n",
    "                else:\n",
    "                    daymonth = daymonth + 28\n",
    "            else:\n",
    "                daymonth = daymonth + 30\n",
    "        totalday = dayear + daymonth + day\n",
    "        if totalday % 5 in [1,2,3]:\n",
    "            print('这一天是打鱼')\n",
    "        else:\n",
    "            print('这一天是晒网')\n",
    "    except:\n",
    "        print('输入的类型有误')\n",
    "\n",
    "\n",
    "    print(time.perf_counter())  #打印出程序运行的时间,可忽视\n"
   ]
  },
  {
   "cell_type": "code",
   "execution_count": 48,
   "metadata": {
    "ExecuteTime": {
     "end_time": "2021-03-12T01:44:41.594874Z",
     "start_time": "2021-03-12T01:44:36.434579Z"
    }
   },
   "outputs": [
    {
     "name": "stdout",
     "output_type": "stream",
     "text": [
      "please input the date you want to test with the form xxxx-xx-xx:1900-03-24\n",
      "1900-03-24  fishing\n",
      "the following is file test\n",
      "1900-03-23  webbing\n",
      "1900-03-24  fishing\n"
     ]
    }
   ],
   "source": [
    "from datetime import datetime\n",
    "import time\n",
    "import os\n",
    "\n",
    "# date input with the keyboard\n",
    "def get_days(date_input):\n",
    "    # get the days\n",
    "    date_base = '2010-01-01'\n",
    "    # date_input = input('please input the date you want to test with the form xxxx-xx-xx:')\n",
    "    # check its form and work out the answer\n",
    "    date_input = datetime.strptime(date_input, '%Y-%m-%d')\n",
    "    date_base = datetime.strptime(date_base, '%Y-%m-%d')\n",
    "    date_days = (date_input - date_base).days\n",
    "    return date_days\n",
    "\n",
    "# to work out the result into the file out.txt\n",
    "def work_result(date_days,date_input):\n",
    "    mod_day = date_days % 5\n",
    "    # date_input = datetime.strptime(date_input, '%Y-%m-%d')\n",
    "    with open('out.txt', 'a') as file_out:\n",
    "        if mod_day <= 3:\n",
    "            file_out.write(date_input + '  fishing\\n')\n",
    "            print(date_input + '  fishing')\n",
    "        else:\n",
    "            file_out.write(date_input + '  webbing\\n')\n",
    "            print(date_input + '  webbing')\n",
    "    file_out.close()\n",
    "\n",
    "# test the aoolication with file date\n",
    "def file_date_test():\n",
    "    print('the following is file test')\n",
    "    with open('in.txt') as file:\n",
    "        context_line = file.readline()\n",
    "        while context_line:\n",
    "            # remove the  character '\\n'\n",
    "            context_line = context_line.rstrip('\\n')\n",
    "            # get the days\n",
    "            days_in_file = get_days(context_line)\n",
    "            # work out into the file out.txt\n",
    "            work_result(days_in_file,context_line)\n",
    "            context_line = file.readline()\n",
    "    file.close()\n",
    "\n",
    "# check the date\n",
    "def isVaildDate(date):\n",
    "    try:\n",
    "        time.strptime(date, \"%Y-%m-%d\")\n",
    "        return True\n",
    "    except:\n",
    "        return False\n",
    "\n",
    "if __name__ == \"__main__\":\n",
    "    date_input = input('please input the date you want to test with the form xxxx-xx-xx:')\n",
    "    while not isVaildDate(date_input):\n",
    "        date_input =input('date is illegal,please check and input it again:')\n",
    "\n",
    "    # expand ths test file use the input\n",
    "    with open('in.txt', 'a') as file_input:\n",
    "        size = os.path.getsize('in.txt')\n",
    "        if size==0:\n",
    "            file_input.write(date_input)\n",
    "        else:\n",
    "            file_input.write('\\n'+ date_input)\n",
    "    file_input.close()\n",
    "\n",
    "    # test the application\n",
    "    date_days = get_days(date_input)\n",
    "    work_result(date_days,date_input)\n",
    "    # test the file input and output\n",
    "    file_date_test()"
   ]
  },
  {
   "cell_type": "code",
   "execution_count": 53,
   "metadata": {
    "ExecuteTime": {
     "end_time": "2021-03-12T01:48:25.338672Z",
     "start_time": "2021-03-12T01:47:34.080740Z"
    },
    "collapsed": true
   },
   "outputs": [
    {
     "name": "stdout",
     "output_type": "stream",
     "text": [
      "请输入要判断的年份（例如：2000）：2000\n",
      "2000年是闰年\n",
      "请输入要判断的年份（例如：2000）：2001\n",
      "2001年不是闰年\n",
      "请输入要判断的年份（例如：2000）：2003\n",
      "2003年不是闰年\n",
      "请输入要判断的年份（例如：2000）：2004\n",
      "2004年是闰年\n",
      "请输入要判断的年份（例如：2000）：2008\n",
      "2008年是闰年\n",
      "请输入要判断的年份（例如：2000）：2009\n",
      "2009年不是闰年\n",
      "请输入要判断的年份（例如：2000）：2000\n",
      "2000年是闰年\n",
      "请输入要判断的年份（例如：2000）：2000\n",
      "2000年是闰年\n",
      "请输入要判断的年份（例如：2000）：20009\n",
      "20009年不是闰年\n"
     ]
    },
    {
     "ename": "KeyboardInterrupt",
     "evalue": "Interrupted by user",
     "output_type": "error",
     "traceback": [
      "\u001b[1;31m---------------------------------------------------------------------------\u001b[0m",
      "\u001b[1;31mKeyboardInterrupt\u001b[0m                         Traceback (most recent call last)",
      "\u001b[1;32m<ipython-input-53-3b1c4f16361b>\u001b[0m in \u001b[0;36m<module>\u001b[1;34m\u001b[0m\n\u001b[0;32m      1\u001b[0m \u001b[1;32mwhile\u001b[0m \u001b[1;32mTrue\u001b[0m\u001b[1;33m:\u001b[0m\u001b[1;33m\u001b[0m\u001b[1;33m\u001b[0m\u001b[0m\n\u001b[1;32m----> 2\u001b[1;33m     \u001b[0myear\u001b[0m \u001b[1;33m=\u001b[0m \u001b[0minput\u001b[0m\u001b[1;33m(\u001b[0m\u001b[1;34m\"请输入要判断的年份（例如：2000）：\"\u001b[0m\u001b[1;33m)\u001b[0m\u001b[1;33m\u001b[0m\u001b[1;33m\u001b[0m\u001b[0m\n\u001b[0m\u001b[0;32m      3\u001b[0m     \u001b[1;32mif\u001b[0m \u001b[0myear\u001b[0m\u001b[1;33m.\u001b[0m\u001b[0misdigit\u001b[0m\u001b[1;33m(\u001b[0m\u001b[1;33m)\u001b[0m\u001b[1;33m:\u001b[0m\u001b[1;33m\u001b[0m\u001b[1;33m\u001b[0m\u001b[0m\n\u001b[0;32m      4\u001b[0m         \u001b[0myear\u001b[0m \u001b[1;33m=\u001b[0m \u001b[0mint\u001b[0m\u001b[1;33m(\u001b[0m\u001b[0myear\u001b[0m\u001b[1;33m)\u001b[0m\u001b[1;33m\u001b[0m\u001b[1;33m\u001b[0m\u001b[0m\n\u001b[0;32m      5\u001b[0m         \u001b[0mresult\u001b[0m \u001b[1;33m=\u001b[0m \u001b[1;33m(\u001b[0m\u001b[0myear\u001b[0m \u001b[1;33m%\u001b[0m \u001b[1;36m4\u001b[0m \u001b[1;33m==\u001b[0m \u001b[1;36m0\u001b[0m \u001b[1;32mand\u001b[0m \u001b[0myear\u001b[0m \u001b[1;33m%\u001b[0m \u001b[1;36m100\u001b[0m \u001b[1;33m!=\u001b[0m \u001b[1;36m0\u001b[0m\u001b[1;33m)\u001b[0m \u001b[1;32mor\u001b[0m \u001b[1;33m(\u001b[0m\u001b[0myear\u001b[0m \u001b[1;33m%\u001b[0m \u001b[1;36m400\u001b[0m \u001b[1;33m==\u001b[0m \u001b[1;36m0\u001b[0m\u001b[1;33m)\u001b[0m\u001b[1;33m\u001b[0m\u001b[1;33m\u001b[0m\u001b[0m\n",
      "\u001b[1;32mC:\\ProgramData\\Anaconda3\\lib\\site-packages\\ipykernel\\kernelbase.py\u001b[0m in \u001b[0;36mraw_input\u001b[1;34m(self, prompt)\u001b[0m\n\u001b[0;32m    858\u001b[0m                 \u001b[1;34m\"raw_input was called, but this frontend does not support input requests.\"\u001b[0m\u001b[1;33m\u001b[0m\u001b[1;33m\u001b[0m\u001b[0m\n\u001b[0;32m    859\u001b[0m             )\n\u001b[1;32m--> 860\u001b[1;33m         return self._input_request(str(prompt),\n\u001b[0m\u001b[0;32m    861\u001b[0m             \u001b[0mself\u001b[0m\u001b[1;33m.\u001b[0m\u001b[0m_parent_ident\u001b[0m\u001b[1;33m,\u001b[0m\u001b[1;33m\u001b[0m\u001b[1;33m\u001b[0m\u001b[0m\n\u001b[0;32m    862\u001b[0m             \u001b[0mself\u001b[0m\u001b[1;33m.\u001b[0m\u001b[0m_parent_header\u001b[0m\u001b[1;33m,\u001b[0m\u001b[1;33m\u001b[0m\u001b[1;33m\u001b[0m\u001b[0m\n",
      "\u001b[1;32mC:\\ProgramData\\Anaconda3\\lib\\site-packages\\ipykernel\\kernelbase.py\u001b[0m in \u001b[0;36m_input_request\u001b[1;34m(self, prompt, ident, parent, password)\u001b[0m\n\u001b[0;32m    902\u001b[0m             \u001b[1;32mexcept\u001b[0m \u001b[0mKeyboardInterrupt\u001b[0m\u001b[1;33m:\u001b[0m\u001b[1;33m\u001b[0m\u001b[1;33m\u001b[0m\u001b[0m\n\u001b[0;32m    903\u001b[0m                 \u001b[1;31m# re-raise KeyboardInterrupt, to truncate traceback\u001b[0m\u001b[1;33m\u001b[0m\u001b[1;33m\u001b[0m\u001b[1;33m\u001b[0m\u001b[0m\n\u001b[1;32m--> 904\u001b[1;33m                 \u001b[1;32mraise\u001b[0m \u001b[0mKeyboardInterrupt\u001b[0m\u001b[1;33m(\u001b[0m\u001b[1;34m\"Interrupted by user\"\u001b[0m\u001b[1;33m)\u001b[0m \u001b[1;32mfrom\u001b[0m \u001b[1;32mNone\u001b[0m\u001b[1;33m\u001b[0m\u001b[1;33m\u001b[0m\u001b[0m\n\u001b[0m\u001b[0;32m    905\u001b[0m             \u001b[1;32mexcept\u001b[0m \u001b[0mException\u001b[0m \u001b[1;32mas\u001b[0m \u001b[0me\u001b[0m\u001b[1;33m:\u001b[0m\u001b[1;33m\u001b[0m\u001b[1;33m\u001b[0m\u001b[0m\n\u001b[0;32m    906\u001b[0m                 \u001b[0mself\u001b[0m\u001b[1;33m.\u001b[0m\u001b[0mlog\u001b[0m\u001b[1;33m.\u001b[0m\u001b[0mwarning\u001b[0m\u001b[1;33m(\u001b[0m\u001b[1;34m\"Invalid Message:\"\u001b[0m\u001b[1;33m,\u001b[0m \u001b[0mexc_info\u001b[0m\u001b[1;33m=\u001b[0m\u001b[1;32mTrue\u001b[0m\u001b[1;33m)\u001b[0m\u001b[1;33m\u001b[0m\u001b[1;33m\u001b[0m\u001b[0m\n",
      "\u001b[1;31mKeyboardInterrupt\u001b[0m: Interrupted by user"
     ]
    }
   ],
   "source": [
    "while True:\n",
    "    year = input(\"请输入要判断的年份（例如：2000）：\")\n",
    "    if year.isdigit():\n",
    "        year = int(year)\n",
    "        result = (year % 4 == 0 and year % 100 != 0) or (year % 400 == 0)\n",
    "        if result:\n",
    "            s = \"是\"\n",
    "        else:\n",
    "            s = \"不是\"\n",
    "        print(\"{0}年{1}闰年\".format(year, s))\n",
    "    else:\n",
    "        print(\"请输入年份！\")"
   ]
  },
  {
   "cell_type": "markdown",
   "metadata": {},
   "source": [
    "# python str.isdigit() 有浮点数的判断"
   ]
  },
  {
   "cell_type": "code",
   "execution_count": 4,
   "metadata": {
    "ExecuteTime": {
     "end_time": "2021-03-12T02:15:40.125176Z",
     "start_time": "2021-03-12T02:15:38.195066Z"
    }
   },
   "outputs": [
    {
     "name": "stdout",
     "output_type": "stream",
     "text": [
      "请输入圆的半径:3.2\n",
      "3.2\n",
      "False\n",
      "圆的周长:20.11 \n",
      "圆的面积:32.17\n"
     ]
    }
   ],
   "source": [
    "# 提示用户输入圆的半径，计算出该圆的周长和面积。要求如下：\n",
    "# 圆周率 π 值取 3.1415926\n",
    "# 如果输入的是负数和零，提示半径不能负数或者零\n",
    "# 计算机的结果保留两位小数\n",
    "if __name__ == \"__main__\":\n",
    "    PI=3.1415926\n",
    "    radius = input('请输入圆的半径:')\n",
    "    print(radius)\n",
    "    print(radius.isdigit())\n",
    "    if radius.replace('.','').isdigit():\n",
    "        radius=float(radius)\n",
    "        circle_perimeter = 2*PI*radius\n",
    "        circle_area=PI*radius*radius\n",
    "        print('圆的周长:%.2f \\n圆的面积:%.2f'%(circle_perimeter,circle_area))\n",
    "    else:\n",
    "        print('半径不能负数或者零')"
   ]
  },
  {
   "cell_type": "code",
   "execution_count": 5,
   "metadata": {
    "ExecuteTime": {
     "end_time": "2021-03-12T02:16:38.795532Z",
     "start_time": "2021-03-12T02:16:37.236443Z"
    }
   },
   "outputs": [
    {
     "name": "stdout",
     "output_type": "stream",
     "text": [
      "请输入圆的半径：36\n",
      "36\n",
      "True\n",
      "圆的周长：226.19 \n",
      "圆的面积：4071.50\n"
     ]
    }
   ],
   "source": [
    "if __name__ == \"__main__\":\n",
    "    PI = 3.1415926\n",
    "    radius = input(\"请输入圆的半径：\")\n",
    "    print(radius)\n",
    "    print(radius.isdigit())\n",
    "    if radius.replace(\".\", \"\").isdigit():   # 替换为空即可。\n",
    "        radius = float(radius)\n",
    "        # 计算元的周长和面积\n",
    "        circle_perimeter = 2 * PI * radius\n",
    "        circle_area = PI * radius * radius\n",
    "        print(\"圆的周长：%.2f \\n圆的面积：%.2f\" % (circle_perimeter, circle_area))\n",
    "\n",
    "    else:\n",
    "        print(\"半径不能负数或者零\")"
   ]
  },
  {
   "cell_type": "code",
   "execution_count": 13,
   "metadata": {
    "ExecuteTime": {
     "end_time": "2021-03-12T02:25:07.085604Z",
     "start_time": "2021-03-12T02:25:07.075604Z"
    }
   },
   "outputs": [
    {
     "data": {
      "text/plain": [
       "'233323f r'"
      ]
     },
     "execution_count": 13,
     "metadata": {},
     "output_type": "execute_result"
    }
   ],
   "source": [
    "str = '3233323f r33'\n",
    "s =str.strip('3')\n",
    "s"
   ]
  },
  {
   "cell_type": "code",
   "execution_count": 15,
   "metadata": {
    "ExecuteTime": {
     "end_time": "2021-03-12T02:27:40.021352Z",
     "start_time": "2021-03-12T02:27:37.371200Z"
    }
   },
   "outputs": [
    {
     "name": "stdout",
     "output_type": "stream",
     "text": [
      "请输入一段内容:\n",
      "123kjlkj\n",
      "123\n"
     ]
    }
   ],
   "source": [
    "s = input('请输入一段内容:\\n')\n",
    "num = ''\n",
    "for i in s:\n",
    "    if i .isdigit():\n",
    "        num+=i\n",
    "print(num)"
   ]
  },
  {
   "cell_type": "code",
   "execution_count": 31,
   "metadata": {
    "ExecuteTime": {
     "end_time": "2021-03-12T07:05:12.439071Z",
     "start_time": "2021-03-12T07:05:12.423071Z"
    }
   },
   "outputs": [
    {
     "data": {
      "application/javascript": [
       "\n",
       "        if (window._pyforest_update_imports_cell) { window._pyforest_update_imports_cell('import re'); }\n",
       "    "
      ],
      "text/plain": [
       "<IPython.core.display.Javascript object>"
      ]
     },
     "metadata": {},
     "output_type": "display_data"
    },
    {
     "data": {
      "text/plain": [
       "['323']"
      ]
     },
     "execution_count": 31,
     "metadata": {},
     "output_type": "execute_result"
    }
   ],
   "source": [
    "str1 = 'aldkf;dfkl323'\n",
    "ss = re.findall(r'\\d+',str1)\n"
   ]
  },
  {
   "cell_type": "code",
   "execution_count": 37,
   "metadata": {
    "ExecuteTime": {
     "end_time": "2021-03-12T07:10:12.085210Z",
     "start_time": "2021-03-12T07:10:12.072210Z"
    }
   },
   "outputs": [
    {
     "name": "stdout",
     "output_type": "stream",
     "text": [
      "[42, 32, 30]\n",
      "104\n"
     ]
    }
   ],
   "source": [
    "import re\n",
    "s = re.findall(r'\\d+', 'hello 42 I\\'m a 32 string 30')\n",
    "list_ = []\n",
    "sum_=0\n",
    "for i in s:\n",
    "    s1=int(i)\n",
    "    list_.append(s1)\n",
    "print(list_)\n",
    "for i in list_:\n",
    "    sum_+=i\n",
    "print(sum_)"
   ]
  },
  {
   "cell_type": "code",
   "execution_count": 40,
   "metadata": {
    "ExecuteTime": {
     "end_time": "2021-03-12T07:29:45.259312Z",
     "start_time": "2021-03-12T07:29:45.242311Z"
    }
   },
   "outputs": [
    {
     "name": "stdout",
     "output_type": "stream",
     "text": [
      "defaultdict(<class 'list'>, {'小于66的元素': [18, 26, 36, 9, 36, 8, 36, 45, 17, 55, 34, 50, 12, 46, 48, 42, 59, 59, 40, 6, 55, 8, 9, 8, 33, 60, 46, 36, 28, 50], '大于66的元素': [79, 69, 85, 80, 69, 100, 76, 71, 83, 86, 99, 67, 98, 86, 78, 83, 92, 75, 83, 97]})\n"
     ]
    }
   ],
   "source": [
    "import random\n",
    "from collections import defaultdict\n",
    "\n",
    "nums = []\n",
    "for count in range(50):\n",
    "    nums.append(random.randint(1,100))\n",
    "sort_nums_dict=defaultdict(list)\n",
    "for num in nums:\n",
    "    if num>66:\n",
    "        sort_nums_dict['大于66的元素'].append(num)\n",
    "    else:\n",
    "        sort_nums_dict['小于66的元素'].append(num)\n",
    "print(sort_nums_dict)\n",
    "            "
   ]
  },
  {
   "cell_type": "code",
   "execution_count": 41,
   "metadata": {
    "ExecuteTime": {
     "end_time": "2021-03-12T07:31:48.124339Z",
     "start_time": "2021-03-12T07:31:48.089337Z"
    }
   },
   "outputs": [
    {
     "name": "stdout",
     "output_type": "stream",
     "text": [
      "[1, 2, 3, 4, 5, 6, 7, 8, 9, 0]\n"
     ]
    }
   ],
   "source": [
    "def ahead_one():\n",
    "    a = [i for i in range(10)]\n",
    "    b = a.pop(0)\n",
    "    a.append(b)\n",
    "    return a\n",
    "if __name__==\"__main__\":\n",
    "    print(ahead_one())"
   ]
  },
  {
   "cell_type": "code",
   "execution_count": 48,
   "metadata": {
    "ExecuteTime": {
     "end_time": "2021-03-12T07:40:06.792862Z",
     "start_time": "2021-03-12T07:40:06.778861Z"
    }
   },
   "outputs": [
    {
     "data": {
      "text/plain": [
       "[1, 2, 3, 4, 5, 6, 7, 8, 9]"
      ]
     },
     "execution_count": 48,
     "metadata": {},
     "output_type": "execute_result"
    }
   ],
   "source": [
    "c = [1, 2, 3, 4, 5, 6, 7, 8, 9, 0]\n",
    "c[:-1]"
   ]
  },
  {
   "cell_type": "code",
   "execution_count": 55,
   "metadata": {
    "ExecuteTime": {
     "end_time": "2021-03-12T07:45:56.197847Z",
     "start_time": "2021-03-12T07:45:56.185846Z"
    }
   },
   "outputs": [
    {
     "data": {
      "text/plain": [
       "[1]"
      ]
     },
     "execution_count": 55,
     "metadata": {},
     "output_type": "execute_result"
    }
   ],
   "source": [
    "aaa = [1, 3, 4]\n",
    "aaa[-3:-2]"
   ]
  },
  {
   "cell_type": "code",
   "execution_count": null,
   "metadata": {},
   "outputs": [],
   "source": []
  }
 ],
 "metadata": {
  "kernelspec": {
   "display_name": "Python 3",
   "language": "python",
   "name": "python3"
  },
  "language_info": {
   "codemirror_mode": {
    "name": "ipython",
    "version": 3
   },
   "file_extension": ".py",
   "mimetype": "text/x-python",
   "name": "python",
   "nbconvert_exporter": "python",
   "pygments_lexer": "ipython3",
   "version": "3.8.5"
  },
  "toc": {
   "base_numbering": 1,
   "nav_menu": {},
   "number_sections": true,
   "sideBar": true,
   "skip_h1_title": false,
   "title_cell": "Table of Contents",
   "title_sidebar": "Contents",
   "toc_cell": false,
   "toc_position": {},
   "toc_section_display": true,
   "toc_window_display": false
  }
 },
 "nbformat": 4,
 "nbformat_minor": 4
}
