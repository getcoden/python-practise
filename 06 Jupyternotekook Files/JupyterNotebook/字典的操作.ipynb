{
 "cells": [
  {
   "cell_type": "code",
   "execution_count": 2,
   "metadata": {
    "ExecuteTime": {
     "end_time": "2021-03-08T07:16:42.005649Z",
     "start_time": "2021-03-08T07:16:40.748577Z"
    }
   },
   "outputs": [
    {
     "data": {
      "text/html": [
       "<div>\n",
       "<style scoped>\n",
       "    .dataframe tbody tr th:only-of-type {\n",
       "        vertical-align: middle;\n",
       "    }\n",
       "\n",
       "    .dataframe tbody tr th {\n",
       "        vertical-align: top;\n",
       "    }\n",
       "\n",
       "    .dataframe thead th {\n",
       "        text-align: right;\n",
       "    }\n",
       "</style>\n",
       "<table border=\"1\" class=\"dataframe\">\n",
       "  <thead>\n",
       "    <tr style=\"text-align: right;\">\n",
       "      <th></th>\n",
       "      <th>1</th>\n",
       "      <th>Mickéy Mousé</th>\n",
       "      <th>56</th>\n",
       "      <th>70kgs</th>\n",
       "      <th>72</th>\n",
       "      <th>69</th>\n",
       "      <th>71</th>\n",
       "      <th>-</th>\n",
       "      <th>-.1</th>\n",
       "      <th>-.2</th>\n",
       "    </tr>\n",
       "  </thead>\n",
       "  <tbody>\n",
       "    <tr>\n",
       "      <th>0</th>\n",
       "      <td>2.0</td>\n",
       "      <td>Donald Duck</td>\n",
       "      <td>34.0</td>\n",
       "      <td>154.89lbs</td>\n",
       "      <td>-</td>\n",
       "      <td>-</td>\n",
       "      <td>-</td>\n",
       "      <td>85</td>\n",
       "      <td>84</td>\n",
       "      <td>76</td>\n",
       "    </tr>\n",
       "    <tr>\n",
       "      <th>1</th>\n",
       "      <td>3.0</td>\n",
       "      <td>Mini Mouse</td>\n",
       "      <td>16.0</td>\n",
       "      <td>NaN</td>\n",
       "      <td>-</td>\n",
       "      <td>-</td>\n",
       "      <td>-</td>\n",
       "      <td>65</td>\n",
       "      <td>69</td>\n",
       "      <td>72</td>\n",
       "    </tr>\n",
       "    <tr>\n",
       "      <th>2</th>\n",
       "      <td>4.0</td>\n",
       "      <td>Scrooge McDuck</td>\n",
       "      <td>NaN</td>\n",
       "      <td>78kgs</td>\n",
       "      <td>78</td>\n",
       "      <td>79</td>\n",
       "      <td>72</td>\n",
       "      <td>-</td>\n",
       "      <td>-</td>\n",
       "      <td>-</td>\n",
       "    </tr>\n",
       "    <tr>\n",
       "      <th>3</th>\n",
       "      <td>5.0</td>\n",
       "      <td>Pink Panther</td>\n",
       "      <td>54.0</td>\n",
       "      <td>198.658lbs</td>\n",
       "      <td>-</td>\n",
       "      <td>-</td>\n",
       "      <td>-</td>\n",
       "      <td>69</td>\n",
       "      <td>NaN</td>\n",
       "      <td>75</td>\n",
       "    </tr>\n",
       "    <tr>\n",
       "      <th>4</th>\n",
       "      <td>6.0</td>\n",
       "      <td>Huey McDuck</td>\n",
       "      <td>52.0</td>\n",
       "      <td>189lbs</td>\n",
       "      <td>-</td>\n",
       "      <td>-</td>\n",
       "      <td>-</td>\n",
       "      <td>68</td>\n",
       "      <td>75</td>\n",
       "      <td>72</td>\n",
       "    </tr>\n",
       "    <tr>\n",
       "      <th>5</th>\n",
       "      <td>7.0</td>\n",
       "      <td>Dewey McDuck</td>\n",
       "      <td>19.0</td>\n",
       "      <td>56kgs</td>\n",
       "      <td>-</td>\n",
       "      <td>-</td>\n",
       "      <td>-</td>\n",
       "      <td>71</td>\n",
       "      <td>78</td>\n",
       "      <td>75</td>\n",
       "    </tr>\n",
       "    <tr>\n",
       "      <th>6</th>\n",
       "      <td>8.0</td>\n",
       "      <td>Scööpy Doo</td>\n",
       "      <td>32.0</td>\n",
       "      <td>78kgs</td>\n",
       "      <td>78</td>\n",
       "      <td>76</td>\n",
       "      <td>75</td>\n",
       "      <td>-</td>\n",
       "      <td>-</td>\n",
       "      <td>-</td>\n",
       "    </tr>\n",
       "    <tr>\n",
       "      <th>7</th>\n",
       "      <td>NaN</td>\n",
       "      <td>NaN</td>\n",
       "      <td>NaN</td>\n",
       "      <td>NaN</td>\n",
       "      <td>NaN</td>\n",
       "      <td>NaN</td>\n",
       "      <td>NaN</td>\n",
       "      <td>NaN</td>\n",
       "      <td>NaN</td>\n",
       "      <td>NaN</td>\n",
       "    </tr>\n",
       "    <tr>\n",
       "      <th>8</th>\n",
       "      <td>9.0</td>\n",
       "      <td>Huey McDuck</td>\n",
       "      <td>52.0</td>\n",
       "      <td>189lbs</td>\n",
       "      <td>-</td>\n",
       "      <td>-</td>\n",
       "      <td>-</td>\n",
       "      <td>68</td>\n",
       "      <td>75</td>\n",
       "      <td>72</td>\n",
       "    </tr>\n",
       "    <tr>\n",
       "      <th>9</th>\n",
       "      <td>10.0</td>\n",
       "      <td>Louie McDuck</td>\n",
       "      <td>12.0</td>\n",
       "      <td>45kgs</td>\n",
       "      <td>-</td>\n",
       "      <td>-</td>\n",
       "      <td>-</td>\n",
       "      <td>92</td>\n",
       "      <td>95</td>\n",
       "      <td>87</td>\n",
       "    </tr>\n",
       "  </tbody>\n",
       "</table>\n",
       "</div>"
      ],
      "text/plain": [
       "      1    Mickéy Mousé    56       70kgs   72   69   71    -  -.1  -.2\n",
       "0   2.0     Donald Duck  34.0   154.89lbs    -    -    -   85   84   76\n",
       "1   3.0      Mini Mouse  16.0         NaN    -    -    -   65   69   72\n",
       "2   4.0  Scrooge McDuck   NaN       78kgs   78   79   72    -    -    -\n",
       "3   5.0    Pink Panther  54.0  198.658lbs    -    -    -   69  NaN   75\n",
       "4   6.0     Huey McDuck  52.0      189lbs    -    -    -   68   75   72\n",
       "5   7.0    Dewey McDuck  19.0       56kgs    -    -    -   71   78   75\n",
       "6   8.0      Scööpy Doo  32.0       78kgs   78   76   75    -    -    -\n",
       "7   NaN             NaN   NaN         NaN  NaN  NaN  NaN  NaN  NaN  NaN\n",
       "8   9.0     Huey McDuck  52.0      189lbs    -    -    -   68   75   72\n",
       "9  10.0    Louie McDuck  12.0       45kgs    -    -    -   92   95   87"
      ]
     },
     "execution_count": 2,
     "metadata": {},
     "output_type": "execute_result"
    }
   ],
   "source": [
    "import pandas as pd\n",
    "\n",
    "df = pd.read_csv('patient_heart_rate.csv')\n",
    "df"
   ]
  },
  {
   "cell_type": "code",
   "execution_count": 3,
   "metadata": {
    "ExecuteTime": {
     "end_time": "2021-03-08T07:16:59.604655Z",
     "start_time": "2021-03-08T07:16:59.540652Z"
    }
   },
   "outputs": [
    {
     "data": {
      "text/html": [
       "<div>\n",
       "<style scoped>\n",
       "    .dataframe tbody tr th:only-of-type {\n",
       "        vertical-align: middle;\n",
       "    }\n",
       "\n",
       "    .dataframe tbody tr th {\n",
       "        vertical-align: top;\n",
       "    }\n",
       "\n",
       "    .dataframe thead th {\n",
       "        text-align: right;\n",
       "    }\n",
       "</style>\n",
       "<table border=\"1\" class=\"dataframe\">\n",
       "  <thead>\n",
       "    <tr style=\"text-align: right;\">\n",
       "      <th></th>\n",
       "      <th>id</th>\n",
       "      <th>name</th>\n",
       "      <th>age</th>\n",
       "      <th>weight</th>\n",
       "      <th>m0006</th>\n",
       "      <th>m0612</th>\n",
       "      <th>m1218</th>\n",
       "      <th>f0006</th>\n",
       "      <th>f0612</th>\n",
       "      <th>f1218</th>\n",
       "    </tr>\n",
       "  </thead>\n",
       "  <tbody>\n",
       "    <tr>\n",
       "      <th>0</th>\n",
       "      <td>1.0</td>\n",
       "      <td>Mickéy Mousé</td>\n",
       "      <td>56.0</td>\n",
       "      <td>70kgs</td>\n",
       "      <td>72</td>\n",
       "      <td>69</td>\n",
       "      <td>71</td>\n",
       "      <td>-</td>\n",
       "      <td>-</td>\n",
       "      <td>-</td>\n",
       "    </tr>\n",
       "    <tr>\n",
       "      <th>1</th>\n",
       "      <td>2.0</td>\n",
       "      <td>Donald Duck</td>\n",
       "      <td>34.0</td>\n",
       "      <td>154.89lbs</td>\n",
       "      <td>-</td>\n",
       "      <td>-</td>\n",
       "      <td>-</td>\n",
       "      <td>85</td>\n",
       "      <td>84</td>\n",
       "      <td>76</td>\n",
       "    </tr>\n",
       "    <tr>\n",
       "      <th>2</th>\n",
       "      <td>3.0</td>\n",
       "      <td>Mini Mouse</td>\n",
       "      <td>16.0</td>\n",
       "      <td>NaN</td>\n",
       "      <td>-</td>\n",
       "      <td>-</td>\n",
       "      <td>-</td>\n",
       "      <td>65</td>\n",
       "      <td>69</td>\n",
       "      <td>72</td>\n",
       "    </tr>\n",
       "    <tr>\n",
       "      <th>3</th>\n",
       "      <td>4.0</td>\n",
       "      <td>Scrooge McDuck</td>\n",
       "      <td>NaN</td>\n",
       "      <td>78kgs</td>\n",
       "      <td>78</td>\n",
       "      <td>79</td>\n",
       "      <td>72</td>\n",
       "      <td>-</td>\n",
       "      <td>-</td>\n",
       "      <td>-</td>\n",
       "    </tr>\n",
       "    <tr>\n",
       "      <th>4</th>\n",
       "      <td>5.0</td>\n",
       "      <td>Pink Panther</td>\n",
       "      <td>54.0</td>\n",
       "      <td>198.658lbs</td>\n",
       "      <td>-</td>\n",
       "      <td>-</td>\n",
       "      <td>-</td>\n",
       "      <td>69</td>\n",
       "      <td>NaN</td>\n",
       "      <td>75</td>\n",
       "    </tr>\n",
       "    <tr>\n",
       "      <th>5</th>\n",
       "      <td>6.0</td>\n",
       "      <td>Huey McDuck</td>\n",
       "      <td>52.0</td>\n",
       "      <td>189lbs</td>\n",
       "      <td>-</td>\n",
       "      <td>-</td>\n",
       "      <td>-</td>\n",
       "      <td>68</td>\n",
       "      <td>75</td>\n",
       "      <td>72</td>\n",
       "    </tr>\n",
       "    <tr>\n",
       "      <th>6</th>\n",
       "      <td>7.0</td>\n",
       "      <td>Dewey McDuck</td>\n",
       "      <td>19.0</td>\n",
       "      <td>56kgs</td>\n",
       "      <td>-</td>\n",
       "      <td>-</td>\n",
       "      <td>-</td>\n",
       "      <td>71</td>\n",
       "      <td>78</td>\n",
       "      <td>75</td>\n",
       "    </tr>\n",
       "    <tr>\n",
       "      <th>7</th>\n",
       "      <td>8.0</td>\n",
       "      <td>Scööpy Doo</td>\n",
       "      <td>32.0</td>\n",
       "      <td>78kgs</td>\n",
       "      <td>78</td>\n",
       "      <td>76</td>\n",
       "      <td>75</td>\n",
       "      <td>-</td>\n",
       "      <td>-</td>\n",
       "      <td>-</td>\n",
       "    </tr>\n",
       "    <tr>\n",
       "      <th>8</th>\n",
       "      <td>NaN</td>\n",
       "      <td>NaN</td>\n",
       "      <td>NaN</td>\n",
       "      <td>NaN</td>\n",
       "      <td>NaN</td>\n",
       "      <td>NaN</td>\n",
       "      <td>NaN</td>\n",
       "      <td>NaN</td>\n",
       "      <td>NaN</td>\n",
       "      <td>NaN</td>\n",
       "    </tr>\n",
       "    <tr>\n",
       "      <th>9</th>\n",
       "      <td>9.0</td>\n",
       "      <td>Huey McDuck</td>\n",
       "      <td>52.0</td>\n",
       "      <td>189lbs</td>\n",
       "      <td>-</td>\n",
       "      <td>-</td>\n",
       "      <td>-</td>\n",
       "      <td>68</td>\n",
       "      <td>75</td>\n",
       "      <td>72</td>\n",
       "    </tr>\n",
       "    <tr>\n",
       "      <th>10</th>\n",
       "      <td>10.0</td>\n",
       "      <td>Louie McDuck</td>\n",
       "      <td>12.0</td>\n",
       "      <td>45kgs</td>\n",
       "      <td>-</td>\n",
       "      <td>-</td>\n",
       "      <td>-</td>\n",
       "      <td>92</td>\n",
       "      <td>95</td>\n",
       "      <td>87</td>\n",
       "    </tr>\n",
       "  </tbody>\n",
       "</table>\n",
       "</div>"
      ],
      "text/plain": [
       "      id            name   age      weight m0006 m0612 m1218 f0006 f0612 f1218\n",
       "0    1.0    Mickéy Mousé  56.0       70kgs    72    69    71     -     -     -\n",
       "1    2.0     Donald Duck  34.0   154.89lbs     -     -     -    85    84    76\n",
       "2    3.0      Mini Mouse  16.0         NaN     -     -     -    65    69    72\n",
       "3    4.0  Scrooge McDuck   NaN       78kgs    78    79    72     -     -     -\n",
       "4    5.0    Pink Panther  54.0  198.658lbs     -     -     -    69   NaN    75\n",
       "5    6.0     Huey McDuck  52.0      189lbs     -     -     -    68    75    72\n",
       "6    7.0    Dewey McDuck  19.0       56kgs     -     -     -    71    78    75\n",
       "7    8.0      Scööpy Doo  32.0       78kgs    78    76    75     -     -     -\n",
       "8    NaN             NaN   NaN         NaN   NaN   NaN   NaN   NaN   NaN   NaN\n",
       "9    9.0     Huey McDuck  52.0      189lbs     -     -     -    68    75    72\n",
       "10  10.0    Louie McDuck  12.0       45kgs     -     -     -    92    95    87"
      ]
     },
     "execution_count": 3,
     "metadata": {},
     "output_type": "execute_result"
    }
   ],
   "source": [
    "columns_names=['id','name','age','weight','m0006','m0612','m1218','f0006','f0612','f1218']\n",
    "df = pd.read_csv('patient_heart_rate.csv',names=columns_names)\n",
    "df"
   ]
  },
  {
   "cell_type": "code",
   "execution_count": 4,
   "metadata": {
    "ExecuteTime": {
     "end_time": "2021-03-08T07:17:16.071597Z",
     "start_time": "2021-03-08T07:17:16.045596Z"
    }
   },
   "outputs": [],
   "source": [
    "df[['first_name', 'last_name']] = df.name.str.split(\" \", expand=True)\n",
    "df.drop('name', axis=1, inplace=True)"
   ]
  },
  {
   "cell_type": "code",
   "execution_count": 5,
   "metadata": {
    "ExecuteTime": {
     "end_time": "2021-03-08T07:17:26.299182Z",
     "start_time": "2021-03-08T07:17:26.243179Z"
    }
   },
   "outputs": [
    {
     "data": {
      "text/html": [
       "<div>\n",
       "<style scoped>\n",
       "    .dataframe tbody tr th:only-of-type {\n",
       "        vertical-align: middle;\n",
       "    }\n",
       "\n",
       "    .dataframe tbody tr th {\n",
       "        vertical-align: top;\n",
       "    }\n",
       "\n",
       "    .dataframe thead th {\n",
       "        text-align: right;\n",
       "    }\n",
       "</style>\n",
       "<table border=\"1\" class=\"dataframe\">\n",
       "  <thead>\n",
       "    <tr style=\"text-align: right;\">\n",
       "      <th></th>\n",
       "      <th>id</th>\n",
       "      <th>age</th>\n",
       "      <th>weight</th>\n",
       "      <th>m0006</th>\n",
       "      <th>m0612</th>\n",
       "      <th>m1218</th>\n",
       "      <th>f0006</th>\n",
       "      <th>f0612</th>\n",
       "      <th>f1218</th>\n",
       "      <th>first_name</th>\n",
       "      <th>last_name</th>\n",
       "    </tr>\n",
       "  </thead>\n",
       "  <tbody>\n",
       "    <tr>\n",
       "      <th>0</th>\n",
       "      <td>1.0</td>\n",
       "      <td>56.0</td>\n",
       "      <td>70kgs</td>\n",
       "      <td>72</td>\n",
       "      <td>69</td>\n",
       "      <td>71</td>\n",
       "      <td>-</td>\n",
       "      <td>-</td>\n",
       "      <td>-</td>\n",
       "      <td>Mickéy</td>\n",
       "      <td>Mousé</td>\n",
       "    </tr>\n",
       "    <tr>\n",
       "      <th>1</th>\n",
       "      <td>2.0</td>\n",
       "      <td>34.0</td>\n",
       "      <td>154.89lbs</td>\n",
       "      <td>-</td>\n",
       "      <td>-</td>\n",
       "      <td>-</td>\n",
       "      <td>85</td>\n",
       "      <td>84</td>\n",
       "      <td>76</td>\n",
       "      <td>Donald</td>\n",
       "      <td>Duck</td>\n",
       "    </tr>\n",
       "    <tr>\n",
       "      <th>2</th>\n",
       "      <td>3.0</td>\n",
       "      <td>16.0</td>\n",
       "      <td>NaN</td>\n",
       "      <td>-</td>\n",
       "      <td>-</td>\n",
       "      <td>-</td>\n",
       "      <td>65</td>\n",
       "      <td>69</td>\n",
       "      <td>72</td>\n",
       "      <td>Mini</td>\n",
       "      <td>Mouse</td>\n",
       "    </tr>\n",
       "    <tr>\n",
       "      <th>3</th>\n",
       "      <td>4.0</td>\n",
       "      <td>NaN</td>\n",
       "      <td>78kgs</td>\n",
       "      <td>78</td>\n",
       "      <td>79</td>\n",
       "      <td>72</td>\n",
       "      <td>-</td>\n",
       "      <td>-</td>\n",
       "      <td>-</td>\n",
       "      <td>Scrooge</td>\n",
       "      <td>McDuck</td>\n",
       "    </tr>\n",
       "    <tr>\n",
       "      <th>4</th>\n",
       "      <td>5.0</td>\n",
       "      <td>54.0</td>\n",
       "      <td>198.658lbs</td>\n",
       "      <td>-</td>\n",
       "      <td>-</td>\n",
       "      <td>-</td>\n",
       "      <td>69</td>\n",
       "      <td>NaN</td>\n",
       "      <td>75</td>\n",
       "      <td>Pink</td>\n",
       "      <td>Panther</td>\n",
       "    </tr>\n",
       "    <tr>\n",
       "      <th>5</th>\n",
       "      <td>6.0</td>\n",
       "      <td>52.0</td>\n",
       "      <td>189lbs</td>\n",
       "      <td>-</td>\n",
       "      <td>-</td>\n",
       "      <td>-</td>\n",
       "      <td>68</td>\n",
       "      <td>75</td>\n",
       "      <td>72</td>\n",
       "      <td>Huey</td>\n",
       "      <td>McDuck</td>\n",
       "    </tr>\n",
       "    <tr>\n",
       "      <th>6</th>\n",
       "      <td>7.0</td>\n",
       "      <td>19.0</td>\n",
       "      <td>56kgs</td>\n",
       "      <td>-</td>\n",
       "      <td>-</td>\n",
       "      <td>-</td>\n",
       "      <td>71</td>\n",
       "      <td>78</td>\n",
       "      <td>75</td>\n",
       "      <td>Dewey</td>\n",
       "      <td>McDuck</td>\n",
       "    </tr>\n",
       "    <tr>\n",
       "      <th>7</th>\n",
       "      <td>8.0</td>\n",
       "      <td>32.0</td>\n",
       "      <td>78kgs</td>\n",
       "      <td>78</td>\n",
       "      <td>76</td>\n",
       "      <td>75</td>\n",
       "      <td>-</td>\n",
       "      <td>-</td>\n",
       "      <td>-</td>\n",
       "      <td>Scööpy</td>\n",
       "      <td>Doo</td>\n",
       "    </tr>\n",
       "    <tr>\n",
       "      <th>8</th>\n",
       "      <td>NaN</td>\n",
       "      <td>NaN</td>\n",
       "      <td>NaN</td>\n",
       "      <td>NaN</td>\n",
       "      <td>NaN</td>\n",
       "      <td>NaN</td>\n",
       "      <td>NaN</td>\n",
       "      <td>NaN</td>\n",
       "      <td>NaN</td>\n",
       "      <td>NaN</td>\n",
       "      <td>NaN</td>\n",
       "    </tr>\n",
       "    <tr>\n",
       "      <th>9</th>\n",
       "      <td>9.0</td>\n",
       "      <td>52.0</td>\n",
       "      <td>189lbs</td>\n",
       "      <td>-</td>\n",
       "      <td>-</td>\n",
       "      <td>-</td>\n",
       "      <td>68</td>\n",
       "      <td>75</td>\n",
       "      <td>72</td>\n",
       "      <td>Huey</td>\n",
       "      <td>McDuck</td>\n",
       "    </tr>\n",
       "    <tr>\n",
       "      <th>10</th>\n",
       "      <td>10.0</td>\n",
       "      <td>12.0</td>\n",
       "      <td>45kgs</td>\n",
       "      <td>-</td>\n",
       "      <td>-</td>\n",
       "      <td>-</td>\n",
       "      <td>92</td>\n",
       "      <td>95</td>\n",
       "      <td>87</td>\n",
       "      <td>Louie</td>\n",
       "      <td>McDuck</td>\n",
       "    </tr>\n",
       "  </tbody>\n",
       "</table>\n",
       "</div>"
      ],
      "text/plain": [
       "      id   age      weight m0006 m0612 m1218 f0006 f0612 f1218 first_name  \\\n",
       "0    1.0  56.0       70kgs    72    69    71     -     -     -     Mickéy   \n",
       "1    2.0  34.0   154.89lbs     -     -     -    85    84    76     Donald   \n",
       "2    3.0  16.0         NaN     -     -     -    65    69    72       Mini   \n",
       "3    4.0   NaN       78kgs    78    79    72     -     -     -    Scrooge   \n",
       "4    5.0  54.0  198.658lbs     -     -     -    69   NaN    75       Pink   \n",
       "5    6.0  52.0      189lbs     -     -     -    68    75    72       Huey   \n",
       "6    7.0  19.0       56kgs     -     -     -    71    78    75      Dewey   \n",
       "7    8.0  32.0       78kgs    78    76    75     -     -     -     Scööpy   \n",
       "8    NaN   NaN         NaN   NaN   NaN   NaN   NaN   NaN   NaN        NaN   \n",
       "9    9.0  52.0      189lbs     -     -     -    68    75    72       Huey   \n",
       "10  10.0  12.0       45kgs     -     -     -    92    95    87      Louie   \n",
       "\n",
       "   last_name  \n",
       "0      Mousé  \n",
       "1       Duck  \n",
       "2      Mouse  \n",
       "3     McDuck  \n",
       "4    Panther  \n",
       "5     McDuck  \n",
       "6     McDuck  \n",
       "7        Doo  \n",
       "8        NaN  \n",
       "9     McDuck  \n",
       "10    McDuck  "
      ]
     },
     "execution_count": 5,
     "metadata": {},
     "output_type": "execute_result"
    }
   ],
   "source": [
    "df"
   ]
  },
  {
   "cell_type": "code",
   "execution_count": 5,
   "metadata": {
    "ExecuteTime": {
     "end_time": "2021-03-10T01:05:24.979781Z",
     "start_time": "2021-03-10T01:05:22.447636Z"
    }
   },
   "outputs": [
    {
     "name": "stdout",
     "output_type": "stream",
     "text": [
      "Enter some numbers:25 65\n",
      "90\n"
     ]
    }
   ],
   "source": [
    "#不定长参数求输入数字的和\n",
    "def sum_add(*args):    #定义一个函数\n",
    "    count=0\n",
    "    for i in args:\n",
    "        count +=i\n",
    "    return count      #返回值为count,它返回给调用函数\n",
    "\n",
    "\n",
    "l = input('Enter some numbers:').split(' ')   #以split函数分隔输入的数字，并以空格' '来分隔(inpout输入的实际是字符串)\n",
    "li=[]   #定义一个列表用来存储转换为的真正数字\n",
    "for i in l:\n",
    "    li.append(int(i))   #int强制转换l里的字符为int整型\n",
    "re = sum_add(*li)   #定义re来接收return返回的count值\n",
    "print(re)           #打印re接收的值"
   ]
  },
  {
   "cell_type": "code",
   "execution_count": 7,
   "metadata": {
    "ExecuteTime": {
     "end_time": "2021-03-10T01:20:06.859221Z",
     "start_time": "2021-03-10T01:20:06.849221Z"
    }
   },
   "outputs": [
    {
     "name": "stdout",
     "output_type": "stream",
     "text": [
      "zhang 12\n",
      "None\n"
     ]
    }
   ],
   "source": [
    "def func(name,age=12):  #函数设置默认参数age=12,如果不传参数age的值，则使用默认参数\n",
    "    print(name,age)\n",
    "    return    #没有返回值，则函数返回None\n",
    "\n",
    "re = func('zhang')  \n",
    "print(re)         #用re接收函数返回值，此处没有值则打印出None\n"
   ]
  },
  {
   "cell_type": "code",
   "execution_count": 15,
   "metadata": {
    "ExecuteTime": {
     "end_time": "2021-03-10T02:21:43.133636Z",
     "start_time": "2021-03-10T02:21:30.378906Z"
    }
   },
   "outputs": [
    {
     "name": "stdout",
     "output_type": "stream",
     "text": [
      "name:zhangfei\n",
      "age:33\n",
      "f:football\n",
      "b:baskatball\n",
      "your name is zhangfei and your age is 33\n",
      "('football', 'baskatball')\n",
      "{'favorite_color': 'black', 'favorite_book': 'A'}\n"
     ]
    }
   ],
   "source": [
    "def print_info(name,age,*agrs,**kwagrs):\n",
    "    print('your name is %s and your age is %d' %(name,age))\n",
    "    print(agrs)\n",
    "    print(kwagrs)\n",
    "name=input('name:')\n",
    "age = int(input('age:'))\n",
    "f=input('f:')\n",
    "b=input('b:')\n",
    "\n",
    "print_info(name,age,f,b,favorite_color='black',favorite_book = 'A')"
   ]
  },
  {
   "cell_type": "code",
   "execution_count": 17,
   "metadata": {
    "ExecuteTime": {
     "end_time": "2021-03-10T02:23:55.364199Z",
     "start_time": "2021-03-10T02:23:55.355199Z"
    }
   },
   "outputs": [
    {
     "name": "stdout",
     "output_type": "stream",
     "text": [
      "(1, 2, 3, 4)\n",
      "('a', 'b', 'c', 'd')\n"
     ]
    }
   ],
   "source": [
    "def foo(*args):\n",
    "    print(args)\n",
    "foo(1,2,3,4)\n",
    "foo(*['a','b','c','d'])"
   ]
  },
  {
   "cell_type": "code",
   "execution_count": 18,
   "metadata": {
    "ExecuteTime": {
     "end_time": "2021-03-10T02:25:05.331201Z",
     "start_time": "2021-03-10T02:25:05.323201Z"
    }
   },
   "outputs": [
    {
     "name": "stdout",
     "output_type": "stream",
     "text": [
      "{'x': 1, 'y': 2}\n"
     ]
    }
   ],
   "source": [
    "def foo(**kwargs):\n",
    "    print(kwargs)\n",
    "foo(x=1,y=2)"
   ]
  },
  {
   "cell_type": "code",
   "execution_count": 21,
   "metadata": {
    "ExecuteTime": {
     "end_time": "2021-03-10T02:27:54.375870Z",
     "start_time": "2021-03-10T02:27:54.364869Z"
    }
   },
   "outputs": [
    {
     "name": "stdout",
     "output_type": "stream",
     "text": [
      "xiaoming 16\n",
      "male\n",
      "185\n"
     ]
    }
   ],
   "source": [
    "def foo(name,age,*,sex='male',height):\n",
    "    print(name,age)\n",
    "    print(sex)\n",
    "    print(height)\n",
    "foo('xiaoming',16,height=185)"
   ]
  },
  {
   "cell_type": "code",
   "execution_count": 27,
   "metadata": {
    "ExecuteTime": {
     "end_time": "2021-03-10T02:31:18.968572Z",
     "start_time": "2021-03-10T02:31:18.958571Z"
    }
   },
   "outputs": [
    {
     "name": "stdout",
     "output_type": "stream",
     "text": [
      "list1={65: 'a'}\n"
     ]
    }
   ],
   "source": [
    "def extendList(val,a):\n",
    "    list={}\n",
    "    list[a]=val\n",
    "    return list\n",
    "list1 = extendList('a',65)\n",
    "print('list1=%s' %list1)"
   ]
  },
  {
   "cell_type": "code",
   "execution_count": 36,
   "metadata": {
    "ExecuteTime": {
     "end_time": "2021-03-10T02:34:44.227312Z",
     "start_time": "2021-03-10T02:34:44.220312Z"
    }
   },
   "outputs": [
    {
     "name": "stdout",
     "output_type": "stream",
     "text": [
      "{'a': 12}\n"
     ]
    }
   ],
   "source": [
    "c=dict()\n",
    "c['a']=12\n",
    "print(c)"
   ]
  },
  {
   "cell_type": "code",
   "execution_count": 46,
   "metadata": {
    "ExecuteTime": {
     "end_time": "2021-03-10T02:38:32.079344Z",
     "start_time": "2021-03-10T02:38:32.069344Z"
    }
   },
   "outputs": [
    {
     "data": {
      "text/plain": [
       "{11: 1}"
      ]
     },
     "execution_count": 46,
     "metadata": {},
     "output_type": "execute_result"
    }
   ],
   "source": [
    "cc=11\n",
    "a={}\n",
    "a[cc]=1\n",
    "a"
   ]
  },
  {
   "cell_type": "code",
   "execution_count": 47,
   "metadata": {
    "ExecuteTime": {
     "end_time": "2021-03-10T06:55:52.269181Z",
     "start_time": "2021-03-10T06:55:52.260180Z"
    }
   },
   "outputs": [
    {
     "name": "stdout",
     "output_type": "stream",
     "text": [
      "0 fgg\n",
      "1 rth\n",
      "2 rkz\n"
     ]
    }
   ],
   "source": [
    "my_list=['fgg','rth','rkz']\n",
    "for index,value in enumerate(my_list):\n",
    "    print(index,value)"
   ]
  },
  {
   "cell_type": "markdown",
   "metadata": {},
   "source": [
    "# 字典的遍历"
   ]
  },
  {
   "cell_type": "code",
   "execution_count": 48,
   "metadata": {
    "ExecuteTime": {
     "end_time": "2021-03-10T06:57:55.350220Z",
     "start_time": "2021-03-10T06:57:55.340220Z"
    }
   },
   "outputs": [
    {
     "name": "stdout",
     "output_type": "stream",
     "text": [
      "name\n",
      "age\n",
      "no\n"
     ]
    }
   ],
   "source": [
    "my_dict={'name':'老王','age':22,'no':'009'}\n",
    "for key in my_dict.keys():\n",
    "    print(key)"
   ]
  },
  {
   "cell_type": "code",
   "execution_count": 49,
   "metadata": {
    "ExecuteTime": {
     "end_time": "2021-03-10T06:58:31.922312Z",
     "start_time": "2021-03-10T06:58:31.915312Z"
    }
   },
   "outputs": [
    {
     "name": "stdout",
     "output_type": "stream",
     "text": [
      "老王\n",
      "22\n",
      "009\n"
     ]
    }
   ],
   "source": [
    "for value in my_dict.values():\n",
    "    print(value)"
   ]
  },
  {
   "cell_type": "code",
   "execution_count": 50,
   "metadata": {
    "ExecuteTime": {
     "end_time": "2021-03-10T06:59:05.035206Z",
     "start_time": "2021-03-10T06:59:05.028206Z"
    }
   },
   "outputs": [
    {
     "name": "stdout",
     "output_type": "stream",
     "text": [
      "('name', '老王')\n",
      "('age', 22)\n",
      "('no', '009')\n"
     ]
    }
   ],
   "source": [
    "for item in my_dict.items():\n",
    "    print(item)"
   ]
  },
  {
   "cell_type": "code",
   "execution_count": 51,
   "metadata": {
    "ExecuteTime": {
     "end_time": "2021-03-10T06:59:41.493291Z",
     "start_time": "2021-03-10T06:59:41.483291Z"
    }
   },
   "outputs": [
    {
     "name": "stdout",
     "output_type": "stream",
     "text": [
      "name 老王\n",
      "age 22\n",
      "no 009\n"
     ]
    }
   ],
   "source": [
    "for key,value in my_dict.items():\n",
    "    print(key,value)"
   ]
  },
  {
   "cell_type": "code",
   "execution_count": 56,
   "metadata": {
    "ExecuteTime": {
     "end_time": "2021-03-10T07:02:28.667853Z",
     "start_time": "2021-03-10T07:02:28.659853Z"
    }
   },
   "outputs": [
    {
     "name": "stdout",
     "output_type": "stream",
     "text": [
      "19\n"
     ]
    }
   ],
   "source": [
    "my_dict1={'name':'小明','age':19,'no':'007'}\n",
    "value=my_dict1['age']\n",
    "print(value)"
   ]
  },
  {
   "cell_type": "code",
   "execution_count": 57,
   "metadata": {
    "ExecuteTime": {
     "end_time": "2021-03-10T07:02:34.027160Z",
     "start_time": "2021-03-10T07:02:34.020159Z"
    }
   },
   "outputs": [
    {
     "name": "stdout",
     "output_type": "stream",
     "text": [
      "{'name': '小明', 'age': 20, 'no': '007'}\n"
     ]
    }
   ],
   "source": [
    "my_dict1['age']=20\n",
    "print(my_dict1)"
   ]
  },
  {
   "cell_type": "code",
   "execution_count": 58,
   "metadata": {
    "ExecuteTime": {
     "end_time": "2021-03-10T07:03:06.870038Z",
     "start_time": "2021-03-10T07:03:06.861038Z"
    }
   },
   "outputs": [
    {
     "name": "stdout",
     "output_type": "stream",
     "text": [
      "{'name': '小明', 'age': 20, 'no': '007', 'test': '测试'}\n"
     ]
    }
   ],
   "source": [
    "my_dict1['test']='测试'\n",
    "print(my_dict1)"
   ]
  },
  {
   "cell_type": "code",
   "execution_count": 59,
   "metadata": {
    "ExecuteTime": {
     "end_time": "2021-03-10T07:03:30.594395Z",
     "start_time": "2021-03-10T07:03:30.588395Z"
    }
   },
   "outputs": [],
   "source": [
    "del my_dict1['test']"
   ]
  },
  {
   "cell_type": "code",
   "execution_count": 65,
   "metadata": {
    "ExecuteTime": {
     "end_time": "2021-03-10T07:04:40.501394Z",
     "start_time": "2021-03-10T07:04:40.494393Z"
    }
   },
   "outputs": [
    {
     "name": "stdout",
     "output_type": "stream",
     "text": [
      "{}\n"
     ]
    }
   ],
   "source": [
    "print(my_dict1)"
   ]
  },
  {
   "cell_type": "code",
   "execution_count": 61,
   "metadata": {
    "ExecuteTime": {
     "end_time": "2021-03-10T07:03:53.874727Z",
     "start_time": "2021-03-10T07:03:53.868727Z"
    }
   },
   "outputs": [],
   "source": [
    "my_dict1.clear()"
   ]
  },
  {
   "cell_type": "code",
   "execution_count": 62,
   "metadata": {
    "ExecuteTime": {
     "end_time": "2021-03-10T07:04:07.387500Z",
     "start_time": "2021-03-10T07:04:07.380499Z"
    }
   },
   "outputs": [
    {
     "name": "stdout",
     "output_type": "stream",
     "text": [
      "{}\n"
     ]
    }
   ],
   "source": [
    "print(my_dict1)"
   ]
  },
  {
   "cell_type": "code",
   "execution_count": 64,
   "metadata": {
    "ExecuteTime": {
     "end_time": "2021-03-10T07:04:33.692004Z",
     "start_time": "2021-03-10T07:04:33.684004Z"
    }
   },
   "outputs": [
    {
     "name": "stdout",
     "output_type": "stream",
     "text": [
      "3\n"
     ]
    }
   ],
   "source": [
    "print(len(my_dict))"
   ]
  },
  {
   "cell_type": "code",
   "execution_count": 67,
   "metadata": {
    "ExecuteTime": {
     "end_time": "2021-03-10T07:06:14.725783Z",
     "start_time": "2021-03-10T07:06:14.717783Z"
    }
   },
   "outputs": [
    {
     "name": "stdout",
     "output_type": "stream",
     "text": [
      "['name', 'age', 'no']\n"
     ]
    }
   ],
   "source": [
    "keys_list=my_dict.keys()\n",
    "print(list(keys_list))"
   ]
  },
  {
   "cell_type": "code",
   "execution_count": 68,
   "metadata": {
    "ExecuteTime": {
     "end_time": "2021-03-10T07:06:50.492829Z",
     "start_time": "2021-03-10T07:06:50.484828Z"
    }
   },
   "outputs": [
    {
     "name": "stdout",
     "output_type": "stream",
     "text": [
      "['老王', 22, '009']\n"
     ]
    }
   ],
   "source": [
    "values_list=my_dict.values()\n",
    "print(list(values_list))"
   ]
  },
  {
   "cell_type": "code",
   "execution_count": 69,
   "metadata": {
    "ExecuteTime": {
     "end_time": "2021-03-10T07:07:24.364766Z",
     "start_time": "2021-03-10T07:07:24.357766Z"
    }
   },
   "outputs": [
    {
     "name": "stdout",
     "output_type": "stream",
     "text": [
      "[('name', '老王'), ('age', 22), ('no', '009')]\n"
     ]
    }
   ],
   "source": [
    "items_list=my_dict.items()\n",
    "print(list(items_list))"
   ]
  },
  {
   "cell_type": "code",
   "execution_count": 70,
   "metadata": {
    "ExecuteTime": {
     "end_time": "2021-03-10T07:07:48.924171Z",
     "start_time": "2021-03-10T07:07:48.916170Z"
    }
   },
   "outputs": [
    {
     "name": "stdout",
     "output_type": "stream",
     "text": [
      "name存在\n"
     ]
    }
   ],
   "source": [
    "if 'name' in my_dict:\n",
    "    print('name存在')"
   ]
  },
  {
   "cell_type": "code",
   "execution_count": 75,
   "metadata": {
    "ExecuteTime": {
     "end_time": "2021-03-10T07:11:05.654423Z",
     "start_time": "2021-03-10T07:11:05.647423Z"
    }
   },
   "outputs": [
    {
     "name": "stdout",
     "output_type": "stream",
     "text": [
      "哈哈\n"
     ]
    }
   ],
   "source": [
    "value=my_dict.setdefault('name1','哈哈')\n",
    "print(value)"
   ]
  },
  {
   "cell_type": "code",
   "execution_count": 76,
   "metadata": {
    "ExecuteTime": {
     "end_time": "2021-03-10T07:11:06.493471Z",
     "start_time": "2021-03-10T07:11:06.486471Z"
    }
   },
   "outputs": [
    {
     "name": "stdout",
     "output_type": "stream",
     "text": [
      "{'name': '老王', 'age': 22, 'no': '009', 'name1': '哈哈'}\n"
     ]
    }
   ],
   "source": [
    "print(my_dict)"
   ]
  },
  {
   "cell_type": "code",
   "execution_count": 77,
   "metadata": {
    "ExecuteTime": {
     "end_time": "2021-03-10T07:11:44.062620Z",
     "start_time": "2021-03-10T07:11:44.037619Z"
    }
   },
   "outputs": [
    {
     "name": "stdout",
     "output_type": "stream",
     "text": [
      "None\n"
     ]
    }
   ],
   "source": [
    "ret=my_dict.get('gender')\n",
    "print(ret)"
   ]
  },
  {
   "cell_type": "code",
   "execution_count": 78,
   "metadata": {
    "ExecuteTime": {
     "end_time": "2021-03-10T07:12:29.669229Z",
     "start_time": "2021-03-10T07:12:29.662228Z"
    }
   },
   "outputs": [],
   "source": [
    "ret=my_dict.get('name1','哈哈')"
   ]
  },
  {
   "cell_type": "code",
   "execution_count": 79,
   "metadata": {
    "ExecuteTime": {
     "end_time": "2021-03-10T07:12:37.891699Z",
     "start_time": "2021-03-10T07:12:37.885699Z"
    }
   },
   "outputs": [
    {
     "name": "stdout",
     "output_type": "stream",
     "text": [
      "哈哈\n"
     ]
    }
   ],
   "source": [
    "print(ret)"
   ]
  },
  {
   "cell_type": "code",
   "execution_count": 80,
   "metadata": {
    "ExecuteTime": {
     "end_time": "2021-03-10T07:13:03.199146Z",
     "start_time": "2021-03-10T07:13:03.191146Z"
    }
   },
   "outputs": [
    {
     "name": "stdout",
     "output_type": "stream",
     "text": [
      "{'name': '老王', 'age': 22, 'no': '009', 'name1': '哈哈'}\n"
     ]
    }
   ],
   "source": [
    "print(my_dict)"
   ]
  },
  {
   "cell_type": "code",
   "execution_count": 84,
   "metadata": {
    "ExecuteTime": {
     "end_time": "2021-03-10T07:29:28.631510Z",
     "start_time": "2021-03-10T07:29:28.623509Z"
    }
   },
   "outputs": [
    {
     "name": "stdout",
     "output_type": "stream",
     "text": [
      "去重之后的rl： {1, 2, 3, 4, 5, 6, 9}\n"
     ]
    }
   ],
   "source": [
    "rl=[1,2,3,4,5,1,2,6,9,6]\n",
    "print('去重之后的rl：',set(rl))"
   ]
  },
  {
   "cell_type": "code",
   "execution_count": 85,
   "metadata": {
    "ExecuteTime": {
     "end_time": "2021-03-10T07:29:29.968586Z",
     "start_time": "2021-03-10T07:29:29.958586Z"
    }
   },
   "outputs": [
    {
     "name": "stdout",
     "output_type": "stream",
     "text": [
      "去重之后的rl: [1, 2, 3, 4, 5, 6, 9]\n"
     ]
    }
   ],
   "source": [
    "analyze_rl=[]\n",
    "for r in rl:\n",
    "    if r not in analyze_rl:\n",
    "        analyze_rl.append(r)\n",
    "print('去重之后的rl:',analyze_rl)"
   ]
  },
  {
   "cell_type": "code",
   "execution_count": 86,
   "metadata": {
    "ExecuteTime": {
     "end_time": "2021-03-10T07:30:04.704573Z",
     "start_time": "2021-03-10T07:30:04.687572Z"
    }
   },
   "outputs": [
    {
     "name": "stdout",
     "output_type": "stream",
     "text": [
      "{'Introducing': 4, 'Red': 21, 'Hat': 21, 'Enterprise': 16, 'Linux': 15, '7': 12, 'showcases': 4, 'the': 7, 'latest': 4, 'features': 5, 'in': 5, 'an': 6, 'enterprise': 4, 'operating': 4, 'system': 4, 'architects': 1, 'will': 3, 'appreciate': 2, 'new': 2, 'capabilities': 1, 'such': 1, 'as': 3, 'lightweight': 1, 'application': 1, 'isolation.': 1, 'Application': 1, 'developers': 1, 'welcome': 1, 'updated': 1, 'development': 1, 'environment': 1, 'and': 6, 'application-profiling': 1, 'tools.': 1, 'Read': 1, 'more': 1, 'at': 1, 'Developer': 1, 'Blog.': 1, 'System': 1, 'administrators': 1, 'management': 1, 'tools': 1, 'expanded': 1, 'file-system': 1, 'options': 1, 'with': 1, 'improved': 1, 'performance': 1, 'scalability.': 1, 'Deployed': 1, 'on': 1, 'physical': 1, 'hardware,': 1, 'virtual': 1, 'machines,': 1, 'or': 1, 'cloud,': 1, 'delivers': 1, 'advanced': 1, 'required': 1, 'for': 2, 'next-generation': 1, 'architectures.': 1, 'Where': 1, 'to': 6, 'go': 1, 'from': 1, 'here:': 1, 'Product': 2, 'Page': 2, 'The': 1, 'landing': 1, 'page': 1, 'information.': 1, 'Learn': 1, 'how': 1, 'plan,': 1, 'deploy,': 1, 'maintain,': 1, 'troubleshoot': 1, 'your': 2, 'system.': 1, 'Customer': 1, 'Portal': 1, 'Your': 1, 'central': 1, 'access': 1, 'point': 2, 'finding': 1, 'articles,': 1, 'videos,': 1, 'other': 2, 'content,': 1, 'well': 1, 'manage': 2, 'support': 1, 'cases.': 1, 'Documentation': 1, 'Provides': 2, 'documentation': 1, 'related': 1, 'offerings.': 2, 'Subscription': 1, 'Management': 1, 'Web-based': 1, 'administration': 1, 'interface': 1, 'efficiently': 1, 'systems.': 1, 'entry': 1, 'product': 1}\n",
      "[('Red', 21), ('Hat', 21), ('Enterprise', 16), ('Linux', 15), ('7', 12)]\n"
     ]
    }
   ],
   "source": [
    "from collections import  Counter\n",
    "text = \"\"\"\n",
    "Introducing Red Hat Enterprise Linux 7\n",
    "Red Hat Enterprise Linux 7 showcases the latest features in an enterprise operating system\n",
    "Introducing Red Hat Enterprise Linux 7\n",
    "Red Hat Enterprise Linux 7 showcases the latest features in an enterprise operating system\n",
    "Introducing Red Hat Enterprise Linux 7\n",
    "Red Hat Enterprise Linux 7 showcases the latest features in an enterprise operating system\n",
    "Introducing Red Hat Enterprise Linux 7\n",
    "Red Hat Enterprise Linux 7 showcases the latest features in an enterprise operating system\n",
    "\n",
    "    Enterprise architects will appreciate new capabilities such as lightweight application isolation.\n",
    "    Application developers will welcome an updated development environment and application-profiling tools. Read more at the Red Hat Developer Blog.\n",
    "    System administrators will appreciate new management tools and expanded file-system options with improved performance and scalability.\n",
    "\n",
    "    Deployed on physical hardware, virtual machines, or in the cloud, Red Hat Enterprise Linux 7 delivers the advanced features required for next-generation architectures.\n",
    "    Where to go from here:\n",
    "\n",
    "    Red Hat Enterprise Linux 7 Product Page\n",
    "\n",
    "    The landing page for Red Hat Enterprise Linux 7 information. Learn how to plan, deploy, maintain, and troubleshoot your Red Hat Enterprise Linux 7 system.\n",
    "    Red Hat Customer Portal\n",
    "\n",
    "    Your central access point to finding articles, videos, and other Red Hat content, as well as manage your Red Hat support cases.\n",
    "\n",
    "    Documentation\n",
    "\n",
    "    Provides documentation related to Red Hat Enterprise Linux and other Red Hat offerings.\n",
    "    Red Hat Subscription Management\n",
    "\n",
    "    Web-based administration interface to efficiently manage systems.\n",
    "    Red Hat Enterprise Linux Product Page\n",
    "\n",
    "    Provides an entry point to Red Hat Enterprise Linux product offerings.\n",
    "\"\"\"\n",
    "# 1. 先拿出字符串里面的所有单词;\n",
    "words = text.split()        # ['hello', 'world', 'hello', 'python', 'hello', 'java']\n",
    "\"\"\"\n",
    "# text = \"hello world hello python hello java\"\n",
    "# words = ['hello', 'world', 'hello', 'python', 'hello', 'java']\n",
    "# word_count_dict = {\n",
    "#     'hello': 3, \n",
    "#   'world': 1, \n",
    "#    'python':1, \n",
    "#    'java':1\n",
    "# }\n",
    "\n",
    "\"\"\"\n",
    "# 2. 统计每个单词出现的次数\n",
    "#       1). 如何存储统计好的信息: 字典存储{'hello':3, 'world':1, 'python':1, 'java':1}\n",
    "#       2). 如何处理?\n",
    "word_count_dict = {}\n",
    "for word in words:\n",
    "    if word not in word_count_dict:\n",
    "        word_count_dict[word] = 1\n",
    "    else:\n",
    "        word_count_dict[word]  += 1\n",
    "print(word_count_dict)\n",
    "# 3. 排序，获取出现次数最多的单词\n",
    "counter = Counter(word_count_dict)\n",
    "print(counter.most_common(5))\n"
   ]
  },
  {
   "cell_type": "code",
   "execution_count": 3,
   "metadata": {
    "ExecuteTime": {
     "end_time": "2021-03-15T02:19:21.231240Z",
     "start_time": "2021-03-15T02:19:21.192238Z"
    },
    "collapsed": true
   },
   "outputs": [
    {
     "name": "stdout",
     "output_type": "stream",
     "text": [
      "0 : 11\n",
      "1 : 20\n",
      "2 : 13\n",
      "3 : 10\n",
      "4 : 21\n",
      "5 : 27\n",
      "6 : 12\n",
      "7 : 14\n",
      "8 : 13\n",
      "9 : 18\n",
      "A : 19\n",
      "B : 16\n",
      "C : 13\n",
      "D : 19\n",
      "E : 15\n",
      "F : 11\n",
      "G : 16\n",
      "H : 14\n",
      "I : 19\n",
      "J : 16\n",
      "K : 16\n",
      "L : 9\n",
      "M : 14\n",
      "N : 14\n",
      "O : 19\n",
      "P : 29\n",
      "Q : 13\n",
      "R : 19\n",
      "S : 15\n",
      "T : 17\n",
      "U : 21\n",
      "V : 18\n",
      "W : 16\n",
      "X : 15\n",
      "Y : 21\n",
      "Z : 13\n",
      "a : 14\n",
      "b : 10\n",
      "c : 14\n",
      "d : 18\n",
      "e : 14\n",
      "f : 10\n",
      "g : 14\n",
      "h : 26\n",
      "i : 13\n",
      "j : 16\n",
      "k : 15\n",
      "l : 10\n",
      "m : 13\n",
      "n : 22\n",
      "o : 15\n",
      "p : 18\n",
      "q : 27\n",
      "r : 24\n",
      "s : 17\n",
      "t : 11\n",
      "u : 15\n",
      "v : 21\n",
      "w : 13\n",
      "x : 16\n",
      "y : 14\n",
      "z : 14\n"
     ]
    }
   ],
   "source": [
    "import string\n",
    "import random\n",
    "\n",
    "x = string.ascii_letters + string.digits\n",
    "z = ''.join(random.choice(x) for i in range(1000))\n",
    "d = dict()\n",
    "for ch in z:\n",
    "    d[ch] = d.get(ch,0) + 1\n",
    "for k,v in sorted(d.items()):\n",
    "    print(k,':',v)"
   ]
  },
  {
   "cell_type": "code",
   "execution_count": 13,
   "metadata": {
    "ExecuteTime": {
     "end_time": "2021-03-15T02:22:51.382260Z",
     "start_time": "2021-03-15T02:22:51.372259Z"
    }
   },
   "outputs": [
    {
     "name": "stdout",
     "output_type": "stream",
     "text": [
      "1/1/20 : 0\n",
      "1/2/20 : 1\n",
      "1/3/20 : 2\n"
     ]
    }
   ],
   "source": [
    "history = {'1/1/20':0,'1/2/20':1,'1/3/20':2}\n",
    "for date,v in history.items():\n",
    "    print(date,':',v)\n"
   ]
  },
  {
   "cell_type": "code",
   "execution_count": 15,
   "metadata": {
    "ExecuteTime": {
     "end_time": "2021-03-15T02:24:09.072704Z",
     "start_time": "2021-03-15T02:24:09.059703Z"
    }
   },
   "outputs": [
    {
     "name": "stdout",
     "output_type": "stream",
     "text": [
      "{'United Kingdom': 66181585, 'United States': 324459463}\n",
      "{'United Kingdom': 66181585, 'United States': 324459463, 'UK': 66181585, 'US': 324459463, 'Serbia': 7057666}\n"
     ]
    }
   ],
   "source": [
    "population = [{'country': 'United Kingdom', 'population': '66181585'}, {'country': 'United States', 'population': '324459463'}]\n",
    "country_population = {}\n",
    "for item in population:\n",
    "    country_population[item['country']] = int(item['population'])\n",
    "print(country_population)\n",
    "# 输出结果：\n",
    "# {'United Kingdom': 66181585, 'United States': 324459463}\n",
    "\n",
    "country_population['UK'] = country_population['United Kingdom']\n",
    "country_population['US'] = country_population['United States']\n",
    "country_population['Serbia'] = 7057666\n",
    "print(country_population)\n",
    "# 输出结果：\n",
    "# {'United Kingdom': 66181585, 'United States': 324459463, 'UK': 66181585, 'US': 324459463, 'Serbia': 7057666}\n"
   ]
  },
  {
   "cell_type": "code",
   "execution_count": 16,
   "metadata": {
    "ExecuteTime": {
     "end_time": "2021-03-15T02:27:13.204235Z",
     "start_time": "2021-03-15T02:27:13.181234Z"
    }
   },
   "outputs": [
    {
     "name": "stdout",
     "output_type": "stream",
     "text": [
      "0 and {'country': 'China', 'history': {'1/1/20': 0, '1/2/20': 1, '1/3/20': 2}}\n",
      "China\n",
      "1/1/20\n",
      "0\n",
      "1/2/20\n",
      "1\n",
      "1/3/20\n",
      "2\n",
      "1 and {'country': 'US', 'history': {'1/1/20': 10, '1/2/20': 11, '1/3/20': 12}}\n",
      "US\n",
      "1/1/20\n",
      "10\n",
      "1/2/20\n",
      "11\n",
      "1/3/20\n",
      "12\n",
      "2 and {'country': 'UK', 'history': {'1/1/20': 110, '1/2/20': 111, '1/3/20': 112}}\n",
      "UK\n",
      "1/1/20\n",
      "110\n",
      "1/2/20\n",
      "111\n",
      "1/3/20\n",
      "112\n"
     ]
    }
   ],
   "source": [
    "d = {'number':{'locations':[{\"country\":'China','history':{'1/1/20':0,'1/2/20':1,'1/3/20':2}},\n",
    "                            {\"country\":'US','history':{'1/1/20':10,'1/2/20':11,'1/3/20':12}},\n",
    "                            {\"country\":'UK', 'history': {'1/1/20': 110, '1/2/20': 111, '1/3/20':112}}]}}\n",
    "#1\n",
    "for i,location in enumerate(d['number']['locations']):\n",
    "    print(i, \"and\", location)\n",
    "    \n",
    "# 输出结果：\n",
    "# 0 and {'country': 'China', 'history': {'1/1/20': 0, '1/2/20': 1, '1/3/20': 2}}\n",
    "# 1 and {'country': 'US', 'history': {'1/1/20': 10, '1/2/20': 11, '1/3/20': 12}}\n",
    "# 2 and {'country': 'UK', 'history': {'1/1/20': 110, '1/2/20': 111, '1/3/20': 112}}\n",
    "\n",
    "#2\n",
    "    print(location['country'])\n",
    "\n",
    "# 输出结果\n",
    "# China\n",
    "# US\n",
    "# UK\n",
    "\n",
    "#3\n",
    "    for date in location['history']:\n",
    "        print(date)\n",
    "        number = int(location['history'][date])\n",
    "        print(number)\n",
    "# 输出结果：\n",
    "# 1/1/20\n",
    "# 0\n",
    "# 1/2/20\n",
    "# 1\n",
    "# 1/3/20\n",
    "# 2\n",
    "# 1/1/20\n",
    "# 10\n",
    "# 1/2/20\n",
    "# 11\n",
    "# 1/3/20\n",
    "# 12\n",
    "# 1/1/20\n",
    "# 110\n",
    "# 1/2/20\n",
    "# 111\n",
    "# 1/3/20\n",
    "# 112\n"
   ]
  },
  {
   "cell_type": "code",
   "execution_count": null,
   "metadata": {},
   "outputs": [],
   "source": []
  }
 ],
 "metadata": {
  "kernelspec": {
   "display_name": "Python 3",
   "language": "python",
   "name": "python3"
  },
  "language_info": {
   "codemirror_mode": {
    "name": "ipython",
    "version": 3
   },
   "file_extension": ".py",
   "mimetype": "text/x-python",
   "name": "python",
   "nbconvert_exporter": "python",
   "pygments_lexer": "ipython3",
   "version": "3.8.5"
  },
  "toc": {
   "base_numbering": 1,
   "nav_menu": {},
   "number_sections": true,
   "sideBar": true,
   "skip_h1_title": false,
   "title_cell": "Table of Contents",
   "title_sidebar": "Contents",
   "toc_cell": false,
   "toc_position": {},
   "toc_section_display": true,
   "toc_window_display": false
  }
 },
 "nbformat": 4,
 "nbformat_minor": 4
}
