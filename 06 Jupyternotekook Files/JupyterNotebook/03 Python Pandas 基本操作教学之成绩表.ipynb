{
 "cells": [
  {
   "cell_type": "code",
   "execution_count": 9,
   "metadata": {
    "ExecuteTime": {
     "end_time": "2021-05-21T07:12:54.799457Z",
     "start_time": "2021-05-21T07:12:54.775455Z"
    }
   },
   "outputs": [
    {
     "data": {
      "text/plain": [
       "apple       123\n",
       "banana      456\n",
       "cat         789\n",
       "dog       56789\n",
       "dtype: int64"
      ]
     },
     "execution_count": 9,
     "metadata": {},
     "output_type": "execute_result"
    }
   ],
   "source": [
    "import pandas as pd \n",
    "import numpy as np\n",
    "from datetime import datetime\n",
    "\n",
    "c = ['apple','banana','cat','dog'] #阵列一\n",
    "d = [123,456,789,56789] #阵列二\n",
    "sr = pd.Series(d,index = c) # 指定c为index\n",
    "#提供时间变成index如何？\n",
    "f=[1,2,3,4,5,6,7,8,9] \n",
    "sr_2 = pd.Series(f, pd.date_range(start='2018-05-01', end='2018-05-9')) \n",
    "#pd.date_range是内建的日期序列产生器\n",
    "#如范例，这样你的index就是2018-05-01～2018-05-09共九天\n",
    "sr"
   ]
  },
  {
   "cell_type": "code",
   "execution_count": 13,
   "metadata": {
    "ExecuteTime": {
     "end_time": "2021-05-21T07:15:16.256548Z",
     "start_time": "2021-05-21T07:15:16.214545Z"
    }
   },
   "outputs": [
    {
     "name": "stdout",
     "output_type": "stream",
     "text": [
      "小明     True\n",
      "小华     True\n",
      "小李     True\n",
      "小强    False\n",
      "dtype: bool\n"
     ]
    }
   ],
   "source": [
    "# OK再来就是厉害的了，可以直接对于Series物件作大小判断，pandas会帮你输出每个栏位的true or false\n",
    "scores=pd.Series({'小明':90,'小华':80,'小李':70,'小强':55})\n",
    "print(scores>60)"
   ]
  },
  {
   "cell_type": "code",
   "execution_count": 15,
   "metadata": {
    "ExecuteTime": {
     "end_time": "2021-05-21T07:16:13.672832Z",
     "start_time": "2021-05-21T07:16:13.659831Z"
    }
   },
   "outputs": [
    {
     "data": {
      "text/plain": [
       "小明    90\n",
       "小华    80\n",
       "小李    70\n",
       "dtype: int64"
      ]
     },
     "execution_count": 15,
     "metadata": {},
     "output_type": "execute_result"
    }
   ],
   "source": [
    "#比较常用的做法是直接筛选(不符合的资料就不会显示出来) \n",
    "scores[scores>60]\n",
    "# #小强没及格所以不会出现在资料里"
   ]
  },
  {
   "cell_type": "code",
   "execution_count": 17,
   "metadata": {
    "ExecuteTime": {
     "end_time": "2021-05-21T07:17:39.742755Z",
     "start_time": "2021-05-21T07:17:39.727754Z"
    }
   },
   "outputs": [
    {
     "data": {
      "text/plain": [
       "小华    80\n",
       "小李    70\n",
       "dtype: int64"
      ]
     },
     "execution_count": 17,
     "metadata": {},
     "output_type": "execute_result"
    }
   ],
   "source": [
    "# 而且可以扩充到多个条件\n",
    "scores[(scores>60)&(scores<90)]"
   ]
  },
  {
   "cell_type": "code",
   "execution_count": 19,
   "metadata": {
    "ExecuteTime": {
     "end_time": "2021-05-21T07:18:19.278016Z",
     "start_time": "2021-05-21T07:18:19.263015Z"
    }
   },
   "outputs": [
    {
     "data": {
      "text/plain": [
       "小明    94.868330\n",
       "小华    89.442719\n",
       "小李    83.666003\n",
       "小强    74.161985\n",
       "dtype: float64"
      ]
     },
     "execution_count": 19,
     "metadata": {},
     "output_type": "execute_result"
    }
   ],
   "source": [
    "#直接计算开根号乘以10也没有问题\n",
    "new_scores=scores**0.5*10\n",
    "new_scores"
   ]
  },
  {
   "cell_type": "code",
   "execution_count": 21,
   "metadata": {
    "ExecuteTime": {
     "end_time": "2021-05-21T07:19:11.245988Z",
     "start_time": "2021-05-21T07:19:11.207986Z"
    }
   },
   "outputs": [
    {
     "data": {
      "text/html": [
       "<div>\n",
       "<style scoped>\n",
       "    .dataframe tbody tr th:only-of-type {\n",
       "        vertical-align: middle;\n",
       "    }\n",
       "\n",
       "    .dataframe tbody tr th {\n",
       "        vertical-align: top;\n",
       "    }\n",
       "\n",
       "    .dataframe thead th {\n",
       "        text-align: right;\n",
       "    }\n",
       "</style>\n",
       "<table border=\"1\" class=\"dataframe\">\n",
       "  <thead>\n",
       "    <tr style=\"text-align: right;\">\n",
       "      <th></th>\n",
       "      <th>姓名</th>\n",
       "      <th>国文</th>\n",
       "      <th>数学</th>\n",
       "    </tr>\n",
       "  </thead>\n",
       "  <tbody>\n",
       "    <tr>\n",
       "      <th>0</th>\n",
       "      <td>小华</td>\n",
       "      <td>80</td>\n",
       "      <td>90</td>\n",
       "    </tr>\n",
       "    <tr>\n",
       "      <th>1</th>\n",
       "      <td>小明</td>\n",
       "      <td>55</td>\n",
       "      <td>70</td>\n",
       "    </tr>\n",
       "    <tr>\n",
       "      <th>2</th>\n",
       "      <td>小李</td>\n",
       "      <td>75</td>\n",
       "      <td>45</td>\n",
       "    </tr>\n",
       "  </tbody>\n",
       "</table>\n",
       "</div>"
      ],
      "text/plain": [
       "   姓名  国文  数学\n",
       "0  小华  80  90\n",
       "1  小明  55  70\n",
       "2  小李  75  45"
      ]
     },
     "execution_count": 21,
     "metadata": {},
     "output_type": "execute_result"
    }
   ],
   "source": [
    "# 一条序列可以处理的资料很有限\n",
    "# 此时Dataframe就是主角了\n",
    "# 这边介绍一下怎么建立Dataframe\n",
    "#最基本的array+dict可直接输入\n",
    "scores = [{\"姓名\":\"小华\",\"数学\":90, \"国文\":80}, \n",
    "          {\"姓名\":\"小明\",\"数学\":70 , \"国文\":55}, \n",
    "          {\"姓名\":\"小李\",\"数学\":45, \"国文\":75}] \n",
    "score_df = pd.DataFrame(scores)\n",
    "#纯字典格式->利用from_dict功能\n",
    "scores = {\"姓名\":[\"小华\",\"小明\",\"小李\"], \n",
    "          \"国文\":[80,55,75], \n",
    "          \"数学\":[90 ,70,45]} \n",
    "score_df = pd.DataFrame.from_dict(scores)\n",
    "#两个都会产生一样的dataframe \n",
    "score_df"
   ]
  },
  {
   "cell_type": "code",
   "execution_count": 22,
   "metadata": {
    "ExecuteTime": {
     "end_time": "2021-05-21T07:19:44.863911Z",
     "start_time": "2021-05-21T07:19:44.838910Z"
    }
   },
   "outputs": [
    {
     "data": {
      "text/html": [
       "<div>\n",
       "<style scoped>\n",
       "    .dataframe tbody tr th:only-of-type {\n",
       "        vertical-align: middle;\n",
       "    }\n",
       "\n",
       "    .dataframe tbody tr th {\n",
       "        vertical-align: top;\n",
       "    }\n",
       "\n",
       "    .dataframe thead th {\n",
       "        text-align: right;\n",
       "    }\n",
       "</style>\n",
       "<table border=\"1\" class=\"dataframe\">\n",
       "  <thead>\n",
       "    <tr style=\"text-align: right;\">\n",
       "      <th></th>\n",
       "      <th>数学</th>\n",
       "      <th>国文</th>\n",
       "    </tr>\n",
       "  </thead>\n",
       "  <tbody>\n",
       "    <tr>\n",
       "      <th>0</th>\n",
       "      <td>90</td>\n",
       "      <td>80</td>\n",
       "    </tr>\n",
       "    <tr>\n",
       "      <th>1</th>\n",
       "      <td>70</td>\n",
       "      <td>55</td>\n",
       "    </tr>\n",
       "    <tr>\n",
       "      <th>2</th>\n",
       "      <td>45</td>\n",
       "      <td>75</td>\n",
       "    </tr>\n",
       "  </tbody>\n",
       "</table>\n",
       "</div>"
      ],
      "text/plain": [
       "   数学  国文\n",
       "0  90  80\n",
       "1  70  55\n",
       "2  45  75"
      ]
     },
     "execution_count": 22,
     "metadata": {},
     "output_type": "execute_result"
    }
   ],
   "source": [
    "#其他的方法.\n",
    "小华= {'数学':90, '国文':80} \n",
    "小明= {'数学':70, '国文':55} \n",
    "小李= {'数学':45, '国文':75} \n",
    "df = pd .DataFrame.from_dict([小华,小明,小李])\n",
    "df"
   ]
  },
  {
   "cell_type": "code",
   "execution_count": 23,
   "metadata": {
    "ExecuteTime": {
     "end_time": "2021-05-21T07:21:18.442263Z",
     "start_time": "2021-05-21T07:21:18.418262Z"
    }
   },
   "outputs": [
    {
     "data": {
      "text/html": [
       "<div>\n",
       "<style scoped>\n",
       "    .dataframe tbody tr th:only-of-type {\n",
       "        vertical-align: middle;\n",
       "    }\n",
       "\n",
       "    .dataframe tbody tr th {\n",
       "        vertical-align: top;\n",
       "    }\n",
       "\n",
       "    .dataframe thead th {\n",
       "        text-align: right;\n",
       "    }\n",
       "</style>\n",
       "<table border=\"1\" class=\"dataframe\">\n",
       "  <thead>\n",
       "    <tr style=\"text-align: right;\">\n",
       "      <th></th>\n",
       "      <th>数学</th>\n",
       "      <th>国文</th>\n",
       "      <th>姓名</th>\n",
       "    </tr>\n",
       "  </thead>\n",
       "  <tbody>\n",
       "    <tr>\n",
       "      <th>0</th>\n",
       "      <td>90</td>\n",
       "      <td>80</td>\n",
       "      <td>小华</td>\n",
       "    </tr>\n",
       "    <tr>\n",
       "      <th>1</th>\n",
       "      <td>70</td>\n",
       "      <td>55</td>\n",
       "      <td>小明</td>\n",
       "    </tr>\n",
       "    <tr>\n",
       "      <th>2</th>\n",
       "      <td>45</td>\n",
       "      <td>75</td>\n",
       "      <td>小李</td>\n",
       "    </tr>\n",
       "  </tbody>\n",
       "</table>\n",
       "</div>"
      ],
      "text/plain": [
       "   数学  国文  姓名\n",
       "0  90  80  小华\n",
       "1  70  55  小明\n",
       "2  45  75  小李"
      ]
     },
     "execution_count": 23,
     "metadata": {},
     "output_type": "execute_result"
    }
   ],
   "source": [
    "# #增加一列的方法\n",
    "df['姓名']=['小华','小明','小李']\n",
    "df"
   ]
  },
  {
   "cell_type": "code",
   "execution_count": 25,
   "metadata": {
    "ExecuteTime": {
     "end_time": "2021-05-21T07:22:20.245798Z",
     "start_time": "2021-05-21T07:22:20.223797Z"
    }
   },
   "outputs": [
    {
     "data": {
      "text/html": [
       "<div>\n",
       "<style scoped>\n",
       "    .dataframe tbody tr th:only-of-type {\n",
       "        vertical-align: middle;\n",
       "    }\n",
       "\n",
       "    .dataframe tbody tr th {\n",
       "        vertical-align: top;\n",
       "    }\n",
       "\n",
       "    .dataframe thead th {\n",
       "        text-align: right;\n",
       "    }\n",
       "</style>\n",
       "<table border=\"1\" class=\"dataframe\">\n",
       "  <thead>\n",
       "    <tr style=\"text-align: right;\">\n",
       "      <th></th>\n",
       "      <th>0</th>\n",
       "    </tr>\n",
       "  </thead>\n",
       "  <tbody>\n",
       "    <tr>\n",
       "      <th>小明</th>\n",
       "      <td>90</td>\n",
       "    </tr>\n",
       "    <tr>\n",
       "      <th>小华</th>\n",
       "      <td>80</td>\n",
       "    </tr>\n",
       "    <tr>\n",
       "      <th>小李</th>\n",
       "      <td>70</td>\n",
       "    </tr>\n",
       "    <tr>\n",
       "      <th>小强</th>\n",
       "      <td>55</td>\n",
       "    </tr>\n",
       "  </tbody>\n",
       "</table>\n",
       "</div>"
      ],
      "text/plain": [
       "     0\n",
       "小明  90\n",
       "小华  80\n",
       "小李  70\n",
       "小强  55"
      ]
     },
     "execution_count": 25,
     "metadata": {},
     "output_type": "execute_result"
    }
   ],
   "source": [
    "#如果要把原本的Series转成Dataframe也可以～\n",
    "scores = pd.Series({'小明':90, '小华':80, '小李':70, '小强':55}) \n",
    "#把Series转成Dataframe只需要使用指令就好\n",
    "score_df=scores.to_frame()\n",
    "score_df"
   ]
  },
  {
   "cell_type": "markdown",
   "metadata": {},
   "source": [
    "好，再来就要完成这个成绩排序表\n",
    "\n",
    "我们会设定一个情境，就是假设班级导师\n",
    "\n",
    "收到了不同科目老师的成绩表，他想要先看一下每科的排序\n",
    "\n",
    "然后再把分数加总起来，再看总分的排序\n",
    "\n",
    "所以我们会有三个科目的成绩\n",
    "\n",
    "假设是来自不同老师的资料，所以会有三条Series\n",
    "\n",
    "(读取资料的方式最后补充，现在先手动建立）"
   ]
  },
  {
   "cell_type": "code",
   "execution_count": 29,
   "metadata": {
    "ExecuteTime": {
     "end_time": "2021-05-21T07:26:55.560546Z",
     "start_time": "2021-05-21T07:26:55.547545Z"
    }
   },
   "outputs": [],
   "source": [
    "#我们先读取成绩\n",
    "math = pd.Series({'小明':90, '小华':80, '小李':70, '小强':55}) \n",
    "chinese = pd.Series({'小明' :86, '小华':76, '小李':58, '小强':92}) \n",
    "english = pd.Series({'小明':0, '小华':45, '小李':69 , '小强':32})"
   ]
  },
  {
   "cell_type": "markdown",
   "metadata": {},
   "source": [
    "因为我们要看每个科目的排序，所以要多一列\n",
    "\n",
    "但是Series的值只有一列，所以我们要用Dataframe\n",
    "\n",
    "转换之后，再新增一列来储存排序这个数值"
   ]
  },
  {
   "cell_type": "code",
   "execution_count": 30,
   "metadata": {
    "ExecuteTime": {
     "end_time": "2021-05-21T07:26:59.881793Z",
     "start_time": "2021-05-21T07:26:59.871792Z"
    }
   },
   "outputs": [],
   "source": [
    "#写一个通用的方式，让每条Series都可以用\n",
    "def have_rank(sr,subject): #传入series与科目名称\n",
    "    new_sr= sr.to_frame() #转成dataframe \n",
    "    new_sr= new_sr.rename(columns={0 : subject}) #给column命名\n",
    "    new_sr[subject+'_rank'] = new_sr[subject].rank(method='min',ascending=False) \n",
    "  #增加一个新列，并且用pd内建的rank这个功能来产生排名\n",
    "    return new_sr #最后传回这个dataframe"
   ]
  },
  {
   "cell_type": "markdown",
   "metadata": {},
   "source": [
    "关于rank这个工具\n",
    "里面的method就是在说同排名是要取最小值、最大值还是平均\n",
    "然后ascending很明显就是处理升序或降序\n",
    "所以接下来就是把这几组dataframe都run function\n",
    "然后合并起来就是完整的成绩表\n",
    "关于合并，也是一门大学问\n",
    "先上code\n",
    "#处理这三个科目"
   ]
  },
  {
   "cell_type": "code",
   "execution_count": 31,
   "metadata": {
    "ExecuteTime": {
     "end_time": "2021-05-21T07:27:02.756957Z",
     "start_time": "2021-05-21T07:27:02.730956Z"
    }
   },
   "outputs": [],
   "source": [
    "math = have_rank(math, '数学') \n",
    "chinese = have_rank(chinese, '国语') \n",
    "english = have_rank(english, '英文')\n",
    "sum_table = pd.concat([math,chinese,english], axis=1) #合并"
   ]
  },
  {
   "cell_type": "markdown",
   "metadata": {},
   "source": [
    "合并我们这边用concat，基本上如果index处理好的话\n",
    "我这边就不需要多设定什么参数，concat会帮我自动对应\n",
    "合并完，再加总分数然后给总排名再排序整个表"
   ]
  },
  {
   "cell_type": "code",
   "execution_count": 34,
   "metadata": {
    "ExecuteTime": {
     "end_time": "2021-05-21T07:28:19.310336Z",
     "start_time": "2021-05-21T07:28:19.265333Z"
    }
   },
   "outputs": [
    {
     "data": {
      "text/html": [
       "<div>\n",
       "<style scoped>\n",
       "    .dataframe tbody tr th:only-of-type {\n",
       "        vertical-align: middle;\n",
       "    }\n",
       "\n",
       "    .dataframe tbody tr th {\n",
       "        vertical-align: top;\n",
       "    }\n",
       "\n",
       "    .dataframe thead th {\n",
       "        text-align: right;\n",
       "    }\n",
       "</style>\n",
       "<table border=\"1\" class=\"dataframe\">\n",
       "  <thead>\n",
       "    <tr style=\"text-align: right;\">\n",
       "      <th></th>\n",
       "      <th>数学</th>\n",
       "      <th>数学_rank</th>\n",
       "      <th>国语</th>\n",
       "      <th>国语_rank</th>\n",
       "      <th>英文</th>\n",
       "      <th>英文_rank</th>\n",
       "      <th>总分</th>\n",
       "      <th>总排名</th>\n",
       "    </tr>\n",
       "  </thead>\n",
       "  <tbody>\n",
       "    <tr>\n",
       "      <th>小华</th>\n",
       "      <td>80</td>\n",
       "      <td>2.0</td>\n",
       "      <td>76</td>\n",
       "      <td>3.0</td>\n",
       "      <td>45</td>\n",
       "      <td>2.0</td>\n",
       "      <td>201</td>\n",
       "      <td>1.0</td>\n",
       "    </tr>\n",
       "    <tr>\n",
       "      <th>小李</th>\n",
       "      <td>70</td>\n",
       "      <td>3.0</td>\n",
       "      <td>58</td>\n",
       "      <td>4.0</td>\n",
       "      <td>69</td>\n",
       "      <td>1.0</td>\n",
       "      <td>197</td>\n",
       "      <td>2.0</td>\n",
       "    </tr>\n",
       "    <tr>\n",
       "      <th>小强</th>\n",
       "      <td>55</td>\n",
       "      <td>4.0</td>\n",
       "      <td>92</td>\n",
       "      <td>1.0</td>\n",
       "      <td>32</td>\n",
       "      <td>3.0</td>\n",
       "      <td>179</td>\n",
       "      <td>3.0</td>\n",
       "    </tr>\n",
       "    <tr>\n",
       "      <th>小明</th>\n",
       "      <td>90</td>\n",
       "      <td>1.0</td>\n",
       "      <td>86</td>\n",
       "      <td>2.0</td>\n",
       "      <td>0</td>\n",
       "      <td>4.0</td>\n",
       "      <td>176</td>\n",
       "      <td>4.0</td>\n",
       "    </tr>\n",
       "  </tbody>\n",
       "</table>\n",
       "</div>"
      ],
      "text/plain": [
       "    数学  数学_rank  国语  国语_rank  英文  英文_rank   总分  总排名\n",
       "小华  80      2.0  76      3.0  45      2.0  201  1.0\n",
       "小李  70      3.0  58      4.0  69      1.0  197  2.0\n",
       "小强  55      4.0  92      1.0  32      3.0  179  3.0\n",
       "小明  90      1.0  86      2.0   0      4.0  176  4.0"
      ]
     },
     "execution_count": 34,
     "metadata": {},
     "output_type": "execute_result"
    }
   ],
   "source": [
    "sum_table['总分'] = sum_table['数学']+sum_table['国语']+sum_table['英文'] \n",
    "#加总\n",
    "sum_table['总排名'] = sum_table['总分'].rank(method ='min',ascending=False) \n",
    "#Rank功能\n",
    "sum_table = sum_table.sort_values('总排名') \n",
    "#sort_values\n",
    "sum_table"
   ]
  },
  {
   "cell_type": "code",
   "execution_count": 35,
   "metadata": {
    "ExecuteTime": {
     "end_time": "2021-05-21T07:30:27.134647Z",
     "start_time": "2021-05-21T07:30:26.105588Z"
    }
   },
   "outputs": [],
   "source": [
    "sum_table.to_excel('table.xls') #这样就好了"
   ]
  },
  {
   "cell_type": "code",
   "execution_count": null,
   "metadata": {},
   "outputs": [],
   "source": []
  }
 ],
 "metadata": {
  "kernelspec": {
   "display_name": "Python 3",
   "language": "python",
   "name": "python3"
  },
  "language_info": {
   "codemirror_mode": {
    "name": "ipython",
    "version": 3
   },
   "file_extension": ".py",
   "mimetype": "text/x-python",
   "name": "python",
   "nbconvert_exporter": "python",
   "pygments_lexer": "ipython3",
   "version": "3.8.5"
  },
  "toc": {
   "base_numbering": 1,
   "nav_menu": {},
   "number_sections": true,
   "sideBar": true,
   "skip_h1_title": false,
   "title_cell": "Table of Contents",
   "title_sidebar": "Contents",
   "toc_cell": false,
   "toc_position": {},
   "toc_section_display": true,
   "toc_window_display": false
  }
 },
 "nbformat": 4,
 "nbformat_minor": 4
}
