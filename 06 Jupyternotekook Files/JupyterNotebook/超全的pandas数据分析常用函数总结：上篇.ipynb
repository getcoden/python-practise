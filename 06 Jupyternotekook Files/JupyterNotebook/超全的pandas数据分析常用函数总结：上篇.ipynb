{
 "cells": [
  {
   "cell_type": "code",
   "execution_count": 1,
   "metadata": {
    "ExecuteTime": {
     "end_time": "2021-03-08T01:18:56.806744Z",
     "start_time": "2021-03-08T01:18:48.145249Z"
    }
   },
   "outputs": [],
   "source": [
    "import pandas as pd \n",
    "import numpy as np\n",
    "\n",
    "# 列表和字典均可传入DataFrame，我这里用的是字典传入：\n",
    "data=pd.DataFrame({\n",
    "    \"id\":np.arange(101,111),                                # np.arange会自动输出范围内的数据，这里会输出101~110的id号。\n",
    "    \"date\":pd.date_range(start=\"20200310\",periods=10),      # 输出日期数据，设置周期为10，注意这里的周期数应该与数据条数相等。\n",
    "    \"money\":[5,4,65,-10,15,20,35,16,6,20],                  # 设置一个-10的坑，下面会填（好惨，自己给自己挖坑，幸亏不准备跳~）\n",
    "    \"product\":['苏打水','可乐','牛肉干','老干妈','菠萝','冰激凌','洗面奶','洋葱','牙膏','薯片'],\n",
    "    \"department\":['饮料','饮料','零食','调味品','水果',np.nan,'日用品','蔬菜','日用品','零食'],                # 再设置一个空值的坑\n",
    "    \"origin\":['China',' China','America','China','Thailand','China','america','China','China','Japan']     # 再再设置一个america的坑\n",
    "})"
   ]
  },
  {
   "cell_type": "code",
   "execution_count": 2,
   "metadata": {
    "ExecuteTime": {
     "end_time": "2021-03-08T01:18:57.369776Z",
     "start_time": "2021-03-08T01:18:56.812744Z"
    },
    "scrolled": true
   },
   "outputs": [
    {
     "data": {
      "text/html": [
       "<div>\n",
       "<style scoped>\n",
       "    .dataframe tbody tr th:only-of-type {\n",
       "        vertical-align: middle;\n",
       "    }\n",
       "\n",
       "    .dataframe tbody tr th {\n",
       "        vertical-align: top;\n",
       "    }\n",
       "\n",
       "    .dataframe thead th {\n",
       "        text-align: right;\n",
       "    }\n",
       "</style>\n",
       "<table border=\"1\" class=\"dataframe\">\n",
       "  <thead>\n",
       "    <tr style=\"text-align: right;\">\n",
       "      <th></th>\n",
       "      <th>id</th>\n",
       "      <th>date</th>\n",
       "      <th>money</th>\n",
       "      <th>product</th>\n",
       "      <th>department</th>\n",
       "      <th>origin</th>\n",
       "    </tr>\n",
       "  </thead>\n",
       "  <tbody>\n",
       "    <tr>\n",
       "      <th>0</th>\n",
       "      <td>101</td>\n",
       "      <td>2020-03-10</td>\n",
       "      <td>5</td>\n",
       "      <td>苏打水</td>\n",
       "      <td>饮料</td>\n",
       "      <td>China</td>\n",
       "    </tr>\n",
       "    <tr>\n",
       "      <th>1</th>\n",
       "      <td>102</td>\n",
       "      <td>2020-03-11</td>\n",
       "      <td>4</td>\n",
       "      <td>可乐</td>\n",
       "      <td>饮料</td>\n",
       "      <td>China</td>\n",
       "    </tr>\n",
       "    <tr>\n",
       "      <th>2</th>\n",
       "      <td>103</td>\n",
       "      <td>2020-03-12</td>\n",
       "      <td>65</td>\n",
       "      <td>牛肉干</td>\n",
       "      <td>零食</td>\n",
       "      <td>America</td>\n",
       "    </tr>\n",
       "    <tr>\n",
       "      <th>3</th>\n",
       "      <td>104</td>\n",
       "      <td>2020-03-13</td>\n",
       "      <td>-10</td>\n",
       "      <td>老干妈</td>\n",
       "      <td>调味品</td>\n",
       "      <td>China</td>\n",
       "    </tr>\n",
       "    <tr>\n",
       "      <th>4</th>\n",
       "      <td>105</td>\n",
       "      <td>2020-03-14</td>\n",
       "      <td>15</td>\n",
       "      <td>菠萝</td>\n",
       "      <td>水果</td>\n",
       "      <td>Thailand</td>\n",
       "    </tr>\n",
       "    <tr>\n",
       "      <th>5</th>\n",
       "      <td>106</td>\n",
       "      <td>2020-03-15</td>\n",
       "      <td>20</td>\n",
       "      <td>冰激凌</td>\n",
       "      <td>NaN</td>\n",
       "      <td>China</td>\n",
       "    </tr>\n",
       "    <tr>\n",
       "      <th>6</th>\n",
       "      <td>107</td>\n",
       "      <td>2020-03-16</td>\n",
       "      <td>35</td>\n",
       "      <td>洗面奶</td>\n",
       "      <td>日用品</td>\n",
       "      <td>america</td>\n",
       "    </tr>\n",
       "    <tr>\n",
       "      <th>7</th>\n",
       "      <td>108</td>\n",
       "      <td>2020-03-17</td>\n",
       "      <td>16</td>\n",
       "      <td>洋葱</td>\n",
       "      <td>蔬菜</td>\n",
       "      <td>China</td>\n",
       "    </tr>\n",
       "    <tr>\n",
       "      <th>8</th>\n",
       "      <td>109</td>\n",
       "      <td>2020-03-18</td>\n",
       "      <td>6</td>\n",
       "      <td>牙膏</td>\n",
       "      <td>日用品</td>\n",
       "      <td>China</td>\n",
       "    </tr>\n",
       "    <tr>\n",
       "      <th>9</th>\n",
       "      <td>110</td>\n",
       "      <td>2020-03-19</td>\n",
       "      <td>20</td>\n",
       "      <td>薯片</td>\n",
       "      <td>零食</td>\n",
       "      <td>Japan</td>\n",
       "    </tr>\n",
       "  </tbody>\n",
       "</table>\n",
       "</div>"
      ],
      "text/plain": [
       "    id       date  money product department    origin\n",
       "0  101 2020-03-10      5     苏打水         饮料     China\n",
       "1  102 2020-03-11      4      可乐         饮料     China\n",
       "2  103 2020-03-12     65     牛肉干         零食   America\n",
       "3  104 2020-03-13    -10     老干妈        调味品     China\n",
       "4  105 2020-03-14     15      菠萝         水果  Thailand\n",
       "5  106 2020-03-15     20     冰激凌        NaN     China\n",
       "6  107 2020-03-16     35     洗面奶        日用品   america\n",
       "7  108 2020-03-17     16      洋葱         蔬菜     China\n",
       "8  109 2020-03-18      6      牙膏        日用品     China\n",
       "9  110 2020-03-19     20      薯片         零食     Japan"
      ]
     },
     "execution_count": 2,
     "metadata": {},
     "output_type": "execute_result"
    }
   ],
   "source": [
    "data              # 输出查看数据集"
   ]
  },
  {
   "cell_type": "code",
   "execution_count": 3,
   "metadata": {
    "ExecuteTime": {
     "end_time": "2021-03-08T01:20:42.829808Z",
     "start_time": "2021-03-08T01:20:41.730745Z"
    }
   },
   "outputs": [],
   "source": [
    "data.to_excel('shopping.xlsx',index=False)\n",
    "data = pd.read_excel('shopping.xlsx')"
   ]
  },
  {
   "cell_type": "code",
   "execution_count": 4,
   "metadata": {
    "ExecuteTime": {
     "end_time": "2021-03-08T01:21:06.094139Z",
     "start_time": "2021-03-08T01:21:06.085138Z"
    }
   },
   "outputs": [
    {
     "data": {
      "text/plain": [
       "(10, 6)"
      ]
     },
     "execution_count": 4,
     "metadata": {},
     "output_type": "execute_result"
    }
   ],
   "source": [
    "data.shape     # 行数列数"
   ]
  },
  {
   "cell_type": "code",
   "execution_count": 5,
   "metadata": {
    "ExecuteTime": {
     "end_time": "2021-03-08T01:21:55.378958Z",
     "start_time": "2021-03-08T01:21:55.363957Z"
    }
   },
   "outputs": [
    {
     "data": {
      "text/plain": [
       "id                     int64\n",
       "date          datetime64[ns]\n",
       "money                  int64\n",
       "product               object\n",
       "department            object\n",
       "origin                object\n",
       "dtype: object"
      ]
     },
     "execution_count": 5,
     "metadata": {},
     "output_type": "execute_result"
    }
   ],
   "source": [
    "data.dtypes  # 所有列的数据类型"
   ]
  },
  {
   "cell_type": "code",
   "execution_count": 6,
   "metadata": {
    "ExecuteTime": {
     "end_time": "2021-03-08T01:23:24.291043Z",
     "start_time": "2021-03-08T01:23:24.280043Z"
    }
   },
   "outputs": [
    {
     "data": {
      "text/plain": [
       "dtype('int64')"
      ]
     },
     "execution_count": 6,
     "metadata": {},
     "output_type": "execute_result"
    }
   ],
   "source": [
    "data['id'].dtype"
   ]
  },
  {
   "cell_type": "code",
   "execution_count": 7,
   "metadata": {
    "ExecuteTime": {
     "end_time": "2021-03-08T01:23:32.421508Z",
     "start_time": "2021-03-08T01:23:32.411508Z"
    }
   },
   "outputs": [
    {
     "data": {
      "text/plain": [
       "2"
      ]
     },
     "execution_count": 7,
     "metadata": {},
     "output_type": "execute_result"
    }
   ],
   "source": [
    "data.ndim"
   ]
  },
  {
   "cell_type": "code",
   "execution_count": 8,
   "metadata": {
    "ExecuteTime": {
     "end_time": "2021-03-08T01:23:47.982398Z",
     "start_time": "2021-03-08T01:23:47.971398Z"
    }
   },
   "outputs": [
    {
     "data": {
      "text/plain": [
       "RangeIndex(start=0, stop=10, step=1)"
      ]
     },
     "execution_count": 8,
     "metadata": {},
     "output_type": "execute_result"
    }
   ],
   "source": [
    "data.index"
   ]
  },
  {
   "cell_type": "code",
   "execution_count": 9,
   "metadata": {
    "ExecuteTime": {
     "end_time": "2021-03-08T01:24:01.805189Z",
     "start_time": "2021-03-08T01:24:01.795188Z"
    }
   },
   "outputs": [
    {
     "data": {
      "text/plain": [
       "Index(['id', 'date', 'money', 'product', 'department', 'origin'], dtype='object')"
      ]
     },
     "execution_count": 9,
     "metadata": {},
     "output_type": "execute_result"
    }
   ],
   "source": [
    "data.columns"
   ]
  },
  {
   "cell_type": "code",
   "execution_count": 10,
   "metadata": {
    "ExecuteTime": {
     "end_time": "2021-03-08T01:24:21.361307Z",
     "start_time": "2021-03-08T01:24:21.348307Z"
    }
   },
   "outputs": [
    {
     "data": {
      "text/plain": [
       "array([[101, Timestamp('2020-03-10 00:00:00'), 5, '苏打水', '饮料', 'China'],\n",
       "       [102, Timestamp('2020-03-11 00:00:00'), 4, '可乐', '饮料', ' China'],\n",
       "       [103, Timestamp('2020-03-12 00:00:00'), 65, '牛肉干', '零食',\n",
       "        'America'],\n",
       "       [104, Timestamp('2020-03-13 00:00:00'), -10, '老干妈', '调味品',\n",
       "        'China'],\n",
       "       [105, Timestamp('2020-03-14 00:00:00'), 15, '菠萝', '水果',\n",
       "        'Thailand'],\n",
       "       [106, Timestamp('2020-03-15 00:00:00'), 20, '冰激凌', nan, 'China'],\n",
       "       [107, Timestamp('2020-03-16 00:00:00'), 35, '洗面奶', '日用品',\n",
       "        'america'],\n",
       "       [108, Timestamp('2020-03-17 00:00:00'), 16, '洋葱', '蔬菜', 'China'],\n",
       "       [109, Timestamp('2020-03-18 00:00:00'), 6, '牙膏', '日用品', 'China'],\n",
       "       [110, Timestamp('2020-03-19 00:00:00'), 20, '薯片', '零食', 'Japan']],\n",
       "      dtype=object)"
      ]
     },
     "execution_count": 10,
     "metadata": {},
     "output_type": "execute_result"
    }
   ],
   "source": [
    "data.values"
   ]
  },
  {
   "cell_type": "code",
   "execution_count": 11,
   "metadata": {
    "ExecuteTime": {
     "end_time": "2021-03-08T01:24:53.064121Z",
     "start_time": "2021-03-08T01:24:53.019118Z"
    }
   },
   "outputs": [
    {
     "data": {
      "text/html": [
       "<div>\n",
       "<style scoped>\n",
       "    .dataframe tbody tr th:only-of-type {\n",
       "        vertical-align: middle;\n",
       "    }\n",
       "\n",
       "    .dataframe tbody tr th {\n",
       "        vertical-align: top;\n",
       "    }\n",
       "\n",
       "    .dataframe thead th {\n",
       "        text-align: right;\n",
       "    }\n",
       "</style>\n",
       "<table border=\"1\" class=\"dataframe\">\n",
       "  <thead>\n",
       "    <tr style=\"text-align: right;\">\n",
       "      <th></th>\n",
       "      <th>id</th>\n",
       "      <th>money</th>\n",
       "    </tr>\n",
       "  </thead>\n",
       "  <tbody>\n",
       "    <tr>\n",
       "      <th>count</th>\n",
       "      <td>10.00000</td>\n",
       "      <td>10.000000</td>\n",
       "    </tr>\n",
       "    <tr>\n",
       "      <th>mean</th>\n",
       "      <td>105.50000</td>\n",
       "      <td>17.600000</td>\n",
       "    </tr>\n",
       "    <tr>\n",
       "      <th>std</th>\n",
       "      <td>3.02765</td>\n",
       "      <td>20.576146</td>\n",
       "    </tr>\n",
       "    <tr>\n",
       "      <th>min</th>\n",
       "      <td>101.00000</td>\n",
       "      <td>-10.000000</td>\n",
       "    </tr>\n",
       "    <tr>\n",
       "      <th>25%</th>\n",
       "      <td>103.25000</td>\n",
       "      <td>5.250000</td>\n",
       "    </tr>\n",
       "    <tr>\n",
       "      <th>50%</th>\n",
       "      <td>105.50000</td>\n",
       "      <td>15.500000</td>\n",
       "    </tr>\n",
       "    <tr>\n",
       "      <th>75%</th>\n",
       "      <td>107.75000</td>\n",
       "      <td>20.000000</td>\n",
       "    </tr>\n",
       "    <tr>\n",
       "      <th>max</th>\n",
       "      <td>110.00000</td>\n",
       "      <td>65.000000</td>\n",
       "    </tr>\n",
       "  </tbody>\n",
       "</table>\n",
       "</div>"
      ],
      "text/plain": [
       "              id      money\n",
       "count   10.00000  10.000000\n",
       "mean   105.50000  17.600000\n",
       "std      3.02765  20.576146\n",
       "min    101.00000 -10.000000\n",
       "25%    103.25000   5.250000\n",
       "50%    105.50000  15.500000\n",
       "75%    107.75000  20.000000\n",
       "max    110.00000  65.000000"
      ]
     },
     "execution_count": 11,
     "metadata": {},
     "output_type": "execute_result"
    }
   ],
   "source": [
    "data.describe()"
   ]
  },
  {
   "cell_type": "code",
   "execution_count": 12,
   "metadata": {
    "ExecuteTime": {
     "end_time": "2021-03-08T01:25:04.331765Z",
     "start_time": "2021-03-08T01:25:04.292763Z"
    }
   },
   "outputs": [
    {
     "name": "stdout",
     "output_type": "stream",
     "text": [
      "<class 'pandas.core.frame.DataFrame'>\n",
      "RangeIndex: 10 entries, 0 to 9\n",
      "Data columns (total 6 columns):\n",
      " #   Column      Non-Null Count  Dtype         \n",
      "---  ------      --------------  -----         \n",
      " 0   id          10 non-null     int64         \n",
      " 1   date        10 non-null     datetime64[ns]\n",
      " 2   money       10 non-null     int64         \n",
      " 3   product     10 non-null     object        \n",
      " 4   department  9 non-null      object        \n",
      " 5   origin      10 non-null     object        \n",
      "dtypes: datetime64[ns](1), int64(2), object(3)\n",
      "memory usage: 608.0+ bytes\n"
     ]
    }
   ],
   "source": [
    "data.info()"
   ]
  },
  {
   "cell_type": "code",
   "execution_count": 13,
   "metadata": {
    "ExecuteTime": {
     "end_time": "2021-03-08T01:26:26.965492Z",
     "start_time": "2021-03-08T01:26:26.931490Z"
    }
   },
   "outputs": [
    {
     "name": "stdout",
     "output_type": "stream",
     "text": [
      "id:[101 102 103 104 105 106 107 108 109 110]\n",
      "date:['2020-03-10T00:00:00.000000000' '2020-03-11T00:00:00.000000000'\n",
      " '2020-03-12T00:00:00.000000000' '2020-03-13T00:00:00.000000000'\n",
      " '2020-03-14T00:00:00.000000000' '2020-03-15T00:00:00.000000000'\n",
      " '2020-03-16T00:00:00.000000000' '2020-03-17T00:00:00.000000000'\n",
      " '2020-03-18T00:00:00.000000000' '2020-03-19T00:00:00.000000000']\n",
      "money:[  5   4  65 -10  15  20  35  16   6]\n",
      "product:['苏打水' '可乐' '牛肉干' '老干妈' '菠萝' '冰激凌' '洗面奶' '洋葱' '牙膏' '薯片']\n",
      "department:['饮料' '零食' '调味品' '水果' nan '日用品' '蔬菜']\n",
      "origin:['China' ' China' 'America' 'Thailand' 'america' 'Japan']\n"
     ]
    }
   ],
   "source": [
    "for i in data:\n",
    "    print(i+':'+str(data[i].unique()))"
   ]
  },
  {
   "cell_type": "code",
   "execution_count": 14,
   "metadata": {
    "ExecuteTime": {
     "end_time": "2021-03-08T01:26:39.082185Z",
     "start_time": "2021-03-08T01:26:39.043182Z"
    }
   },
   "outputs": [
    {
     "data": {
      "text/html": [
       "<div>\n",
       "<style scoped>\n",
       "    .dataframe tbody tr th:only-of-type {\n",
       "        vertical-align: middle;\n",
       "    }\n",
       "\n",
       "    .dataframe tbody tr th {\n",
       "        vertical-align: top;\n",
       "    }\n",
       "\n",
       "    .dataframe thead th {\n",
       "        text-align: right;\n",
       "    }\n",
       "</style>\n",
       "<table border=\"1\" class=\"dataframe\">\n",
       "  <thead>\n",
       "    <tr style=\"text-align: right;\">\n",
       "      <th></th>\n",
       "      <th>id</th>\n",
       "      <th>date</th>\n",
       "      <th>money</th>\n",
       "      <th>product</th>\n",
       "      <th>department</th>\n",
       "      <th>origin</th>\n",
       "    </tr>\n",
       "  </thead>\n",
       "  <tbody>\n",
       "    <tr>\n",
       "      <th>0</th>\n",
       "      <td>False</td>\n",
       "      <td>False</td>\n",
       "      <td>False</td>\n",
       "      <td>False</td>\n",
       "      <td>False</td>\n",
       "      <td>False</td>\n",
       "    </tr>\n",
       "    <tr>\n",
       "      <th>1</th>\n",
       "      <td>False</td>\n",
       "      <td>False</td>\n",
       "      <td>False</td>\n",
       "      <td>False</td>\n",
       "      <td>False</td>\n",
       "      <td>False</td>\n",
       "    </tr>\n",
       "    <tr>\n",
       "      <th>2</th>\n",
       "      <td>False</td>\n",
       "      <td>False</td>\n",
       "      <td>False</td>\n",
       "      <td>False</td>\n",
       "      <td>False</td>\n",
       "      <td>False</td>\n",
       "    </tr>\n",
       "    <tr>\n",
       "      <th>3</th>\n",
       "      <td>False</td>\n",
       "      <td>False</td>\n",
       "      <td>False</td>\n",
       "      <td>False</td>\n",
       "      <td>False</td>\n",
       "      <td>False</td>\n",
       "    </tr>\n",
       "    <tr>\n",
       "      <th>4</th>\n",
       "      <td>False</td>\n",
       "      <td>False</td>\n",
       "      <td>False</td>\n",
       "      <td>False</td>\n",
       "      <td>False</td>\n",
       "      <td>False</td>\n",
       "    </tr>\n",
       "    <tr>\n",
       "      <th>5</th>\n",
       "      <td>False</td>\n",
       "      <td>False</td>\n",
       "      <td>False</td>\n",
       "      <td>False</td>\n",
       "      <td>True</td>\n",
       "      <td>False</td>\n",
       "    </tr>\n",
       "    <tr>\n",
       "      <th>6</th>\n",
       "      <td>False</td>\n",
       "      <td>False</td>\n",
       "      <td>False</td>\n",
       "      <td>False</td>\n",
       "      <td>False</td>\n",
       "      <td>False</td>\n",
       "    </tr>\n",
       "    <tr>\n",
       "      <th>7</th>\n",
       "      <td>False</td>\n",
       "      <td>False</td>\n",
       "      <td>False</td>\n",
       "      <td>False</td>\n",
       "      <td>False</td>\n",
       "      <td>False</td>\n",
       "    </tr>\n",
       "    <tr>\n",
       "      <th>8</th>\n",
       "      <td>False</td>\n",
       "      <td>False</td>\n",
       "      <td>False</td>\n",
       "      <td>False</td>\n",
       "      <td>False</td>\n",
       "      <td>False</td>\n",
       "    </tr>\n",
       "    <tr>\n",
       "      <th>9</th>\n",
       "      <td>False</td>\n",
       "      <td>False</td>\n",
       "      <td>False</td>\n",
       "      <td>False</td>\n",
       "      <td>False</td>\n",
       "      <td>False</td>\n",
       "    </tr>\n",
       "  </tbody>\n",
       "</table>\n",
       "</div>"
      ],
      "text/plain": [
       "      id   date  money  product  department  origin\n",
       "0  False  False  False    False       False   False\n",
       "1  False  False  False    False       False   False\n",
       "2  False  False  False    False       False   False\n",
       "3  False  False  False    False       False   False\n",
       "4  False  False  False    False       False   False\n",
       "5  False  False  False    False        True   False\n",
       "6  False  False  False    False       False   False\n",
       "7  False  False  False    False       False   False\n",
       "8  False  False  False    False       False   False\n",
       "9  False  False  False    False       False   False"
      ]
     },
     "execution_count": 14,
     "metadata": {},
     "output_type": "execute_result"
    }
   ],
   "source": [
    "data.isnull()"
   ]
  },
  {
   "cell_type": "code",
   "execution_count": 16,
   "metadata": {
    "ExecuteTime": {
     "end_time": "2021-03-08T02:10:40.684276Z",
     "start_time": "2021-03-08T02:10:40.662274Z"
    }
   },
   "outputs": [
    {
     "data": {
      "text/plain": [
       "department    1\n",
       "origin        0\n",
       "product       0\n",
       "money         0\n",
       "date          0\n",
       "id            0\n",
       "dtype: int64"
      ]
     },
     "execution_count": 16,
     "metadata": {},
     "output_type": "execute_result"
    }
   ],
   "source": [
    "data.isnull().sum().sort_values(ascending=False)"
   ]
  },
  {
   "cell_type": "code",
   "execution_count": 17,
   "metadata": {
    "ExecuteTime": {
     "end_time": "2021-03-08T02:12:55.479985Z",
     "start_time": "2021-03-08T02:12:55.421982Z"
    }
   },
   "outputs": [
    {
     "data": {
      "text/plain": [
       "0     饮料\n",
       "1     饮料\n",
       "2     零食\n",
       "3    调味品\n",
       "4     水果\n",
       "5     水果\n",
       "6    日用品\n",
       "7     蔬菜\n",
       "8    日用品\n",
       "9     零食\n",
       "Name: department, dtype: object"
      ]
     },
     "execution_count": 17,
     "metadata": {},
     "output_type": "execute_result"
    }
   ],
   "source": [
    "data['department'].fillna(method='ffill')"
   ]
  },
  {
   "cell_type": "code",
   "execution_count": 18,
   "metadata": {
    "ExecuteTime": {
     "end_time": "2021-03-08T02:14:21.016878Z",
     "start_time": "2021-03-08T02:14:20.981876Z"
    }
   },
   "outputs": [],
   "source": [
    "data['department'].fillna(value='冷冻食品',inplace=True)"
   ]
  },
  {
   "cell_type": "code",
   "execution_count": 19,
   "metadata": {
    "ExecuteTime": {
     "end_time": "2021-03-08T02:14:25.113112Z",
     "start_time": "2021-03-08T02:14:25.078110Z"
    }
   },
   "outputs": [
    {
     "data": {
      "text/html": [
       "<div>\n",
       "<style scoped>\n",
       "    .dataframe tbody tr th:only-of-type {\n",
       "        vertical-align: middle;\n",
       "    }\n",
       "\n",
       "    .dataframe tbody tr th {\n",
       "        vertical-align: top;\n",
       "    }\n",
       "\n",
       "    .dataframe thead th {\n",
       "        text-align: right;\n",
       "    }\n",
       "</style>\n",
       "<table border=\"1\" class=\"dataframe\">\n",
       "  <thead>\n",
       "    <tr style=\"text-align: right;\">\n",
       "      <th></th>\n",
       "      <th>id</th>\n",
       "      <th>date</th>\n",
       "      <th>money</th>\n",
       "      <th>product</th>\n",
       "      <th>department</th>\n",
       "      <th>origin</th>\n",
       "    </tr>\n",
       "  </thead>\n",
       "  <tbody>\n",
       "    <tr>\n",
       "      <th>0</th>\n",
       "      <td>101</td>\n",
       "      <td>2020-03-10</td>\n",
       "      <td>5</td>\n",
       "      <td>苏打水</td>\n",
       "      <td>饮料</td>\n",
       "      <td>China</td>\n",
       "    </tr>\n",
       "    <tr>\n",
       "      <th>1</th>\n",
       "      <td>102</td>\n",
       "      <td>2020-03-11</td>\n",
       "      <td>4</td>\n",
       "      <td>可乐</td>\n",
       "      <td>饮料</td>\n",
       "      <td>China</td>\n",
       "    </tr>\n",
       "    <tr>\n",
       "      <th>2</th>\n",
       "      <td>103</td>\n",
       "      <td>2020-03-12</td>\n",
       "      <td>65</td>\n",
       "      <td>牛肉干</td>\n",
       "      <td>零食</td>\n",
       "      <td>America</td>\n",
       "    </tr>\n",
       "    <tr>\n",
       "      <th>3</th>\n",
       "      <td>104</td>\n",
       "      <td>2020-03-13</td>\n",
       "      <td>-10</td>\n",
       "      <td>老干妈</td>\n",
       "      <td>调味品</td>\n",
       "      <td>China</td>\n",
       "    </tr>\n",
       "    <tr>\n",
       "      <th>4</th>\n",
       "      <td>105</td>\n",
       "      <td>2020-03-14</td>\n",
       "      <td>15</td>\n",
       "      <td>菠萝</td>\n",
       "      <td>水果</td>\n",
       "      <td>Thailand</td>\n",
       "    </tr>\n",
       "    <tr>\n",
       "      <th>5</th>\n",
       "      <td>106</td>\n",
       "      <td>2020-03-15</td>\n",
       "      <td>20</td>\n",
       "      <td>冰激凌</td>\n",
       "      <td>冷冻食品</td>\n",
       "      <td>China</td>\n",
       "    </tr>\n",
       "    <tr>\n",
       "      <th>6</th>\n",
       "      <td>107</td>\n",
       "      <td>2020-03-16</td>\n",
       "      <td>35</td>\n",
       "      <td>洗面奶</td>\n",
       "      <td>日用品</td>\n",
       "      <td>america</td>\n",
       "    </tr>\n",
       "    <tr>\n",
       "      <th>7</th>\n",
       "      <td>108</td>\n",
       "      <td>2020-03-17</td>\n",
       "      <td>16</td>\n",
       "      <td>洋葱</td>\n",
       "      <td>蔬菜</td>\n",
       "      <td>China</td>\n",
       "    </tr>\n",
       "    <tr>\n",
       "      <th>8</th>\n",
       "      <td>109</td>\n",
       "      <td>2020-03-18</td>\n",
       "      <td>6</td>\n",
       "      <td>牙膏</td>\n",
       "      <td>日用品</td>\n",
       "      <td>China</td>\n",
       "    </tr>\n",
       "    <tr>\n",
       "      <th>9</th>\n",
       "      <td>110</td>\n",
       "      <td>2020-03-19</td>\n",
       "      <td>20</td>\n",
       "      <td>薯片</td>\n",
       "      <td>零食</td>\n",
       "      <td>Japan</td>\n",
       "    </tr>\n",
       "  </tbody>\n",
       "</table>\n",
       "</div>"
      ],
      "text/plain": [
       "    id       date  money product department    origin\n",
       "0  101 2020-03-10      5     苏打水         饮料     China\n",
       "1  102 2020-03-11      4      可乐         饮料     China\n",
       "2  103 2020-03-12     65     牛肉干         零食   America\n",
       "3  104 2020-03-13    -10     老干妈        调味品     China\n",
       "4  105 2020-03-14     15      菠萝         水果  Thailand\n",
       "5  106 2020-03-15     20     冰激凌       冷冻食品     China\n",
       "6  107 2020-03-16     35     洗面奶        日用品   america\n",
       "7  108 2020-03-17     16      洋葱         蔬菜     China\n",
       "8  109 2020-03-18      6      牙膏        日用品     China\n",
       "9  110 2020-03-19     20      薯片         零食     Japan"
      ]
     },
     "execution_count": 19,
     "metadata": {},
     "output_type": "execute_result"
    }
   ],
   "source": [
    "data"
   ]
  },
  {
   "cell_type": "code",
   "execution_count": 21,
   "metadata": {
    "ExecuteTime": {
     "end_time": "2021-03-08T02:17:37.338107Z",
     "start_time": "2021-03-08T02:17:37.323106Z"
    }
   },
   "outputs": [
    {
     "data": {
      "text/plain": [
       "array(['China', 'America', 'Thailand', 'america', 'Japan'], dtype=object)"
      ]
     },
     "execution_count": 21,
     "metadata": {},
     "output_type": "execute_result"
    }
   ],
   "source": [
    "for i in data:\n",
    "    if pd.api.types.is_object_dtype(data[i]):\n",
    "        data[i]=data[i].str.strip()\n",
    "data['origin'].unique()"
   ]
  },
  {
   "cell_type": "code",
   "execution_count": 22,
   "metadata": {
    "ExecuteTime": {
     "end_time": "2021-03-08T02:18:28.250019Z",
     "start_time": "2021-03-08T02:18:28.235018Z"
    }
   },
   "outputs": [
    {
     "data": {
      "text/plain": [
       "0       China\n",
       "1       China\n",
       "2     America\n",
       "3       China\n",
       "4    Thailand\n",
       "5       China\n",
       "6     America\n",
       "7       China\n",
       "8       China\n",
       "9       Japan\n",
       "Name: origin, dtype: object"
      ]
     },
     "execution_count": 22,
     "metadata": {},
     "output_type": "execute_result"
    }
   ],
   "source": [
    "data['origin'].str.title()"
   ]
  },
  {
   "cell_type": "code",
   "execution_count": 23,
   "metadata": {
    "ExecuteTime": {
     "end_time": "2021-03-08T02:19:21.992093Z",
     "start_time": "2021-03-08T02:19:21.983092Z"
    }
   },
   "outputs": [],
   "source": [
    "data['origin'].replace('america','America',inplace=True)"
   ]
  },
  {
   "cell_type": "code",
   "execution_count": 24,
   "metadata": {
    "ExecuteTime": {
     "end_time": "2021-03-08T02:19:25.564297Z",
     "start_time": "2021-03-08T02:19:25.527295Z"
    }
   },
   "outputs": [
    {
     "data": {
      "text/html": [
       "<div>\n",
       "<style scoped>\n",
       "    .dataframe tbody tr th:only-of-type {\n",
       "        vertical-align: middle;\n",
       "    }\n",
       "\n",
       "    .dataframe tbody tr th {\n",
       "        vertical-align: top;\n",
       "    }\n",
       "\n",
       "    .dataframe thead th {\n",
       "        text-align: right;\n",
       "    }\n",
       "</style>\n",
       "<table border=\"1\" class=\"dataframe\">\n",
       "  <thead>\n",
       "    <tr style=\"text-align: right;\">\n",
       "      <th></th>\n",
       "      <th>id</th>\n",
       "      <th>date</th>\n",
       "      <th>money</th>\n",
       "      <th>product</th>\n",
       "      <th>department</th>\n",
       "      <th>origin</th>\n",
       "    </tr>\n",
       "  </thead>\n",
       "  <tbody>\n",
       "    <tr>\n",
       "      <th>0</th>\n",
       "      <td>101</td>\n",
       "      <td>2020-03-10</td>\n",
       "      <td>5</td>\n",
       "      <td>苏打水</td>\n",
       "      <td>饮料</td>\n",
       "      <td>China</td>\n",
       "    </tr>\n",
       "    <tr>\n",
       "      <th>1</th>\n",
       "      <td>102</td>\n",
       "      <td>2020-03-11</td>\n",
       "      <td>4</td>\n",
       "      <td>可乐</td>\n",
       "      <td>饮料</td>\n",
       "      <td>China</td>\n",
       "    </tr>\n",
       "    <tr>\n",
       "      <th>2</th>\n",
       "      <td>103</td>\n",
       "      <td>2020-03-12</td>\n",
       "      <td>65</td>\n",
       "      <td>牛肉干</td>\n",
       "      <td>零食</td>\n",
       "      <td>America</td>\n",
       "    </tr>\n",
       "    <tr>\n",
       "      <th>3</th>\n",
       "      <td>104</td>\n",
       "      <td>2020-03-13</td>\n",
       "      <td>-10</td>\n",
       "      <td>老干妈</td>\n",
       "      <td>调味品</td>\n",
       "      <td>China</td>\n",
       "    </tr>\n",
       "    <tr>\n",
       "      <th>4</th>\n",
       "      <td>105</td>\n",
       "      <td>2020-03-14</td>\n",
       "      <td>15</td>\n",
       "      <td>菠萝</td>\n",
       "      <td>水果</td>\n",
       "      <td>Thailand</td>\n",
       "    </tr>\n",
       "    <tr>\n",
       "      <th>5</th>\n",
       "      <td>106</td>\n",
       "      <td>2020-03-15</td>\n",
       "      <td>20</td>\n",
       "      <td>冰激凌</td>\n",
       "      <td>冷冻食品</td>\n",
       "      <td>China</td>\n",
       "    </tr>\n",
       "    <tr>\n",
       "      <th>6</th>\n",
       "      <td>107</td>\n",
       "      <td>2020-03-16</td>\n",
       "      <td>35</td>\n",
       "      <td>洗面奶</td>\n",
       "      <td>日用品</td>\n",
       "      <td>America</td>\n",
       "    </tr>\n",
       "    <tr>\n",
       "      <th>7</th>\n",
       "      <td>108</td>\n",
       "      <td>2020-03-17</td>\n",
       "      <td>16</td>\n",
       "      <td>洋葱</td>\n",
       "      <td>蔬菜</td>\n",
       "      <td>China</td>\n",
       "    </tr>\n",
       "    <tr>\n",
       "      <th>8</th>\n",
       "      <td>109</td>\n",
       "      <td>2020-03-18</td>\n",
       "      <td>6</td>\n",
       "      <td>牙膏</td>\n",
       "      <td>日用品</td>\n",
       "      <td>China</td>\n",
       "    </tr>\n",
       "    <tr>\n",
       "      <th>9</th>\n",
       "      <td>110</td>\n",
       "      <td>2020-03-19</td>\n",
       "      <td>20</td>\n",
       "      <td>薯片</td>\n",
       "      <td>零食</td>\n",
       "      <td>Japan</td>\n",
       "    </tr>\n",
       "  </tbody>\n",
       "</table>\n",
       "</div>"
      ],
      "text/plain": [
       "    id       date  money product department    origin\n",
       "0  101 2020-03-10      5     苏打水         饮料     China\n",
       "1  102 2020-03-11      4      可乐         饮料     China\n",
       "2  103 2020-03-12     65     牛肉干         零食   America\n",
       "3  104 2020-03-13    -10     老干妈        调味品     China\n",
       "4  105 2020-03-14     15      菠萝         水果  Thailand\n",
       "5  106 2020-03-15     20     冰激凌       冷冻食品     China\n",
       "6  107 2020-03-16     35     洗面奶        日用品   America\n",
       "7  108 2020-03-17     16      洋葱         蔬菜     China\n",
       "8  109 2020-03-18      6      牙膏        日用品     China\n",
       "9  110 2020-03-19     20      薯片         零食     Japan"
      ]
     },
     "execution_count": 24,
     "metadata": {},
     "output_type": "execute_result"
    }
   ],
   "source": [
    "data"
   ]
  },
  {
   "cell_type": "code",
   "execution_count": 26,
   "metadata": {
    "ExecuteTime": {
     "end_time": "2021-03-08T02:20:50.252141Z",
     "start_time": "2021-03-08T02:20:50.215139Z"
    }
   },
   "outputs": [],
   "source": [
    "data['money'].replace(-10,np.nan,inplace=True)"
   ]
  },
  {
   "cell_type": "code",
   "execution_count": 27,
   "metadata": {
    "ExecuteTime": {
     "end_time": "2021-03-08T02:20:53.259313Z",
     "start_time": "2021-03-08T02:20:53.222311Z"
    }
   },
   "outputs": [
    {
     "data": {
      "text/html": [
       "<div>\n",
       "<style scoped>\n",
       "    .dataframe tbody tr th:only-of-type {\n",
       "        vertical-align: middle;\n",
       "    }\n",
       "\n",
       "    .dataframe tbody tr th {\n",
       "        vertical-align: top;\n",
       "    }\n",
       "\n",
       "    .dataframe thead th {\n",
       "        text-align: right;\n",
       "    }\n",
       "</style>\n",
       "<table border=\"1\" class=\"dataframe\">\n",
       "  <thead>\n",
       "    <tr style=\"text-align: right;\">\n",
       "      <th></th>\n",
       "      <th>id</th>\n",
       "      <th>date</th>\n",
       "      <th>money</th>\n",
       "      <th>product</th>\n",
       "      <th>department</th>\n",
       "      <th>origin</th>\n",
       "    </tr>\n",
       "  </thead>\n",
       "  <tbody>\n",
       "    <tr>\n",
       "      <th>0</th>\n",
       "      <td>101</td>\n",
       "      <td>2020-03-10</td>\n",
       "      <td>5.0</td>\n",
       "      <td>苏打水</td>\n",
       "      <td>饮料</td>\n",
       "      <td>China</td>\n",
       "    </tr>\n",
       "    <tr>\n",
       "      <th>1</th>\n",
       "      <td>102</td>\n",
       "      <td>2020-03-11</td>\n",
       "      <td>4.0</td>\n",
       "      <td>可乐</td>\n",
       "      <td>饮料</td>\n",
       "      <td>China</td>\n",
       "    </tr>\n",
       "    <tr>\n",
       "      <th>2</th>\n",
       "      <td>103</td>\n",
       "      <td>2020-03-12</td>\n",
       "      <td>65.0</td>\n",
       "      <td>牛肉干</td>\n",
       "      <td>零食</td>\n",
       "      <td>America</td>\n",
       "    </tr>\n",
       "    <tr>\n",
       "      <th>3</th>\n",
       "      <td>104</td>\n",
       "      <td>2020-03-13</td>\n",
       "      <td>NaN</td>\n",
       "      <td>老干妈</td>\n",
       "      <td>调味品</td>\n",
       "      <td>China</td>\n",
       "    </tr>\n",
       "    <tr>\n",
       "      <th>4</th>\n",
       "      <td>105</td>\n",
       "      <td>2020-03-14</td>\n",
       "      <td>15.0</td>\n",
       "      <td>菠萝</td>\n",
       "      <td>水果</td>\n",
       "      <td>Thailand</td>\n",
       "    </tr>\n",
       "    <tr>\n",
       "      <th>5</th>\n",
       "      <td>106</td>\n",
       "      <td>2020-03-15</td>\n",
       "      <td>20.0</td>\n",
       "      <td>冰激凌</td>\n",
       "      <td>冷冻食品</td>\n",
       "      <td>China</td>\n",
       "    </tr>\n",
       "    <tr>\n",
       "      <th>6</th>\n",
       "      <td>107</td>\n",
       "      <td>2020-03-16</td>\n",
       "      <td>35.0</td>\n",
       "      <td>洗面奶</td>\n",
       "      <td>日用品</td>\n",
       "      <td>America</td>\n",
       "    </tr>\n",
       "    <tr>\n",
       "      <th>7</th>\n",
       "      <td>108</td>\n",
       "      <td>2020-03-17</td>\n",
       "      <td>16.0</td>\n",
       "      <td>洋葱</td>\n",
       "      <td>蔬菜</td>\n",
       "      <td>China</td>\n",
       "    </tr>\n",
       "    <tr>\n",
       "      <th>8</th>\n",
       "      <td>109</td>\n",
       "      <td>2020-03-18</td>\n",
       "      <td>6.0</td>\n",
       "      <td>牙膏</td>\n",
       "      <td>日用品</td>\n",
       "      <td>China</td>\n",
       "    </tr>\n",
       "    <tr>\n",
       "      <th>9</th>\n",
       "      <td>110</td>\n",
       "      <td>2020-03-19</td>\n",
       "      <td>20.0</td>\n",
       "      <td>薯片</td>\n",
       "      <td>零食</td>\n",
       "      <td>Japan</td>\n",
       "    </tr>\n",
       "  </tbody>\n",
       "</table>\n",
       "</div>"
      ],
      "text/plain": [
       "    id       date  money product department    origin\n",
       "0  101 2020-03-10    5.0     苏打水         饮料     China\n",
       "1  102 2020-03-11    4.0      可乐         饮料     China\n",
       "2  103 2020-03-12   65.0     牛肉干         零食   America\n",
       "3  104 2020-03-13    NaN     老干妈        调味品     China\n",
       "4  105 2020-03-14   15.0      菠萝         水果  Thailand\n",
       "5  106 2020-03-15   20.0     冰激凌       冷冻食品     China\n",
       "6  107 2020-03-16   35.0     洗面奶        日用品   America\n",
       "7  108 2020-03-17   16.0      洋葱         蔬菜     China\n",
       "8  109 2020-03-18    6.0      牙膏        日用品     China\n",
       "9  110 2020-03-19   20.0      薯片         零食     Japan"
      ]
     },
     "execution_count": 27,
     "metadata": {},
     "output_type": "execute_result"
    }
   ],
   "source": [
    "data"
   ]
  },
  {
   "cell_type": "code",
   "execution_count": 28,
   "metadata": {
    "ExecuteTime": {
     "end_time": "2021-03-08T02:21:51.235629Z",
     "start_time": "2021-03-08T02:21:51.225628Z"
    }
   },
   "outputs": [],
   "source": [
    "data['money'].replace(np.nan,data['money'].mean(),inplace=True)"
   ]
  },
  {
   "cell_type": "code",
   "execution_count": 29,
   "metadata": {
    "ExecuteTime": {
     "end_time": "2021-03-08T02:21:53.410753Z",
     "start_time": "2021-03-08T02:21:53.375751Z"
    }
   },
   "outputs": [
    {
     "data": {
      "text/html": [
       "<div>\n",
       "<style scoped>\n",
       "    .dataframe tbody tr th:only-of-type {\n",
       "        vertical-align: middle;\n",
       "    }\n",
       "\n",
       "    .dataframe tbody tr th {\n",
       "        vertical-align: top;\n",
       "    }\n",
       "\n",
       "    .dataframe thead th {\n",
       "        text-align: right;\n",
       "    }\n",
       "</style>\n",
       "<table border=\"1\" class=\"dataframe\">\n",
       "  <thead>\n",
       "    <tr style=\"text-align: right;\">\n",
       "      <th></th>\n",
       "      <th>id</th>\n",
       "      <th>date</th>\n",
       "      <th>money</th>\n",
       "      <th>product</th>\n",
       "      <th>department</th>\n",
       "      <th>origin</th>\n",
       "    </tr>\n",
       "  </thead>\n",
       "  <tbody>\n",
       "    <tr>\n",
       "      <th>0</th>\n",
       "      <td>101</td>\n",
       "      <td>2020-03-10</td>\n",
       "      <td>5.000000</td>\n",
       "      <td>苏打水</td>\n",
       "      <td>饮料</td>\n",
       "      <td>China</td>\n",
       "    </tr>\n",
       "    <tr>\n",
       "      <th>1</th>\n",
       "      <td>102</td>\n",
       "      <td>2020-03-11</td>\n",
       "      <td>4.000000</td>\n",
       "      <td>可乐</td>\n",
       "      <td>饮料</td>\n",
       "      <td>China</td>\n",
       "    </tr>\n",
       "    <tr>\n",
       "      <th>2</th>\n",
       "      <td>103</td>\n",
       "      <td>2020-03-12</td>\n",
       "      <td>65.000000</td>\n",
       "      <td>牛肉干</td>\n",
       "      <td>零食</td>\n",
       "      <td>America</td>\n",
       "    </tr>\n",
       "    <tr>\n",
       "      <th>3</th>\n",
       "      <td>104</td>\n",
       "      <td>2020-03-13</td>\n",
       "      <td>20.666667</td>\n",
       "      <td>老干妈</td>\n",
       "      <td>调味品</td>\n",
       "      <td>China</td>\n",
       "    </tr>\n",
       "    <tr>\n",
       "      <th>4</th>\n",
       "      <td>105</td>\n",
       "      <td>2020-03-14</td>\n",
       "      <td>15.000000</td>\n",
       "      <td>菠萝</td>\n",
       "      <td>水果</td>\n",
       "      <td>Thailand</td>\n",
       "    </tr>\n",
       "    <tr>\n",
       "      <th>5</th>\n",
       "      <td>106</td>\n",
       "      <td>2020-03-15</td>\n",
       "      <td>20.000000</td>\n",
       "      <td>冰激凌</td>\n",
       "      <td>冷冻食品</td>\n",
       "      <td>China</td>\n",
       "    </tr>\n",
       "    <tr>\n",
       "      <th>6</th>\n",
       "      <td>107</td>\n",
       "      <td>2020-03-16</td>\n",
       "      <td>35.000000</td>\n",
       "      <td>洗面奶</td>\n",
       "      <td>日用品</td>\n",
       "      <td>America</td>\n",
       "    </tr>\n",
       "    <tr>\n",
       "      <th>7</th>\n",
       "      <td>108</td>\n",
       "      <td>2020-03-17</td>\n",
       "      <td>16.000000</td>\n",
       "      <td>洋葱</td>\n",
       "      <td>蔬菜</td>\n",
       "      <td>China</td>\n",
       "    </tr>\n",
       "    <tr>\n",
       "      <th>8</th>\n",
       "      <td>109</td>\n",
       "      <td>2020-03-18</td>\n",
       "      <td>6.000000</td>\n",
       "      <td>牙膏</td>\n",
       "      <td>日用品</td>\n",
       "      <td>China</td>\n",
       "    </tr>\n",
       "    <tr>\n",
       "      <th>9</th>\n",
       "      <td>110</td>\n",
       "      <td>2020-03-19</td>\n",
       "      <td>20.000000</td>\n",
       "      <td>薯片</td>\n",
       "      <td>零食</td>\n",
       "      <td>Japan</td>\n",
       "    </tr>\n",
       "  </tbody>\n",
       "</table>\n",
       "</div>"
      ],
      "text/plain": [
       "    id       date      money product department    origin\n",
       "0  101 2020-03-10   5.000000     苏打水         饮料     China\n",
       "1  102 2020-03-11   4.000000      可乐         饮料     China\n",
       "2  103 2020-03-12  65.000000     牛肉干         零食   America\n",
       "3  104 2020-03-13  20.666667     老干妈        调味品     China\n",
       "4  105 2020-03-14  15.000000      菠萝         水果  Thailand\n",
       "5  106 2020-03-15  20.000000     冰激凌       冷冻食品     China\n",
       "6  107 2020-03-16  35.000000     洗面奶        日用品   America\n",
       "7  108 2020-03-17  16.000000      洋葱         蔬菜     China\n",
       "8  109 2020-03-18   6.000000      牙膏        日用品     China\n",
       "9  110 2020-03-19  20.000000      薯片         零食     Japan"
      ]
     },
     "execution_count": 29,
     "metadata": {},
     "output_type": "execute_result"
    }
   ],
   "source": [
    "data"
   ]
  },
  {
   "cell_type": "code",
   "execution_count": 34,
   "metadata": {
    "ExecuteTime": {
     "end_time": "2021-03-08T02:25:52.442425Z",
     "start_time": "2021-03-08T02:25:52.403423Z"
    }
   },
   "outputs": [
    {
     "data": {
      "text/html": [
       "<div>\n",
       "<style scoped>\n",
       "    .dataframe tbody tr th:only-of-type {\n",
       "        vertical-align: middle;\n",
       "    }\n",
       "\n",
       "    .dataframe tbody tr th {\n",
       "        vertical-align: top;\n",
       "    }\n",
       "\n",
       "    .dataframe thead th {\n",
       "        text-align: right;\n",
       "    }\n",
       "</style>\n",
       "<table border=\"1\" class=\"dataframe\">\n",
       "  <thead>\n",
       "    <tr style=\"text-align: right;\">\n",
       "      <th></th>\n",
       "      <th>id</th>\n",
       "      <th>date</th>\n",
       "      <th>money</th>\n",
       "      <th>product</th>\n",
       "      <th>department</th>\n",
       "      <th>origin</th>\n",
       "    </tr>\n",
       "  </thead>\n",
       "  <tbody>\n",
       "    <tr>\n",
       "      <th>0</th>\n",
       "      <td>101</td>\n",
       "      <td>2020-03-10</td>\n",
       "      <td>5.000000</td>\n",
       "      <td>苏打水</td>\n",
       "      <td>饮料</td>\n",
       "      <td>China</td>\n",
       "    </tr>\n",
       "    <tr>\n",
       "      <th>1</th>\n",
       "      <td>102</td>\n",
       "      <td>2020-03-11</td>\n",
       "      <td>4.000000</td>\n",
       "      <td>可乐</td>\n",
       "      <td>饮料</td>\n",
       "      <td>China</td>\n",
       "    </tr>\n",
       "    <tr>\n",
       "      <th>3</th>\n",
       "      <td>104</td>\n",
       "      <td>2020-03-13</td>\n",
       "      <td>20.666667</td>\n",
       "      <td>老干妈</td>\n",
       "      <td>调味品</td>\n",
       "      <td>China</td>\n",
       "    </tr>\n",
       "    <tr>\n",
       "      <th>4</th>\n",
       "      <td>105</td>\n",
       "      <td>2020-03-14</td>\n",
       "      <td>15.000000</td>\n",
       "      <td>菠萝</td>\n",
       "      <td>水果</td>\n",
       "      <td>Thailand</td>\n",
       "    </tr>\n",
       "    <tr>\n",
       "      <th>5</th>\n",
       "      <td>106</td>\n",
       "      <td>2020-03-15</td>\n",
       "      <td>20.000000</td>\n",
       "      <td>冰激凌</td>\n",
       "      <td>冷冻食品</td>\n",
       "      <td>China</td>\n",
       "    </tr>\n",
       "    <tr>\n",
       "      <th>7</th>\n",
       "      <td>108</td>\n",
       "      <td>2020-03-17</td>\n",
       "      <td>16.000000</td>\n",
       "      <td>洋葱</td>\n",
       "      <td>蔬菜</td>\n",
       "      <td>China</td>\n",
       "    </tr>\n",
       "    <tr>\n",
       "      <th>8</th>\n",
       "      <td>109</td>\n",
       "      <td>2020-03-18</td>\n",
       "      <td>6.000000</td>\n",
       "      <td>牙膏</td>\n",
       "      <td>日用品</td>\n",
       "      <td>China</td>\n",
       "    </tr>\n",
       "    <tr>\n",
       "      <th>9</th>\n",
       "      <td>110</td>\n",
       "      <td>2020-03-19</td>\n",
       "      <td>20.000000</td>\n",
       "      <td>薯片</td>\n",
       "      <td>零食</td>\n",
       "      <td>Japan</td>\n",
       "    </tr>\n",
       "  </tbody>\n",
       "</table>\n",
       "</div>"
      ],
      "text/plain": [
       "    id       date      money product department    origin\n",
       "0  101 2020-03-10   5.000000     苏打水         饮料     China\n",
       "1  102 2020-03-11   4.000000      可乐         饮料     China\n",
       "3  104 2020-03-13  20.666667     老干妈        调味品     China\n",
       "4  105 2020-03-14  15.000000      菠萝         水果  Thailand\n",
       "5  106 2020-03-15  20.000000     冰激凌       冷冻食品     China\n",
       "7  108 2020-03-17  16.000000      洋葱         蔬菜     China\n",
       "8  109 2020-03-18   6.000000      牙膏        日用品     China\n",
       "9  110 2020-03-19  20.000000      薯片         零食     Japan"
      ]
     },
     "execution_count": 34,
     "metadata": {},
     "output_type": "execute_result"
    }
   ],
   "source": [
    "data1=data[data['origin'] !='America']\n",
    "data1"
   ]
  },
  {
   "cell_type": "code",
   "execution_count": 33,
   "metadata": {
    "ExecuteTime": {
     "end_time": "2021-03-08T02:25:18.634491Z",
     "start_time": "2021-03-08T02:25:18.593489Z"
    }
   },
   "outputs": [
    {
     "data": {
      "text/html": [
       "<div>\n",
       "<style scoped>\n",
       "    .dataframe tbody tr th:only-of-type {\n",
       "        vertical-align: middle;\n",
       "    }\n",
       "\n",
       "    .dataframe tbody tr th {\n",
       "        vertical-align: top;\n",
       "    }\n",
       "\n",
       "    .dataframe thead th {\n",
       "        text-align: right;\n",
       "    }\n",
       "</style>\n",
       "<table border=\"1\" class=\"dataframe\">\n",
       "  <thead>\n",
       "    <tr style=\"text-align: right;\">\n",
       "      <th></th>\n",
       "      <th>id</th>\n",
       "      <th>date</th>\n",
       "      <th>money</th>\n",
       "      <th>product</th>\n",
       "      <th>department</th>\n",
       "      <th>origin</th>\n",
       "    </tr>\n",
       "  </thead>\n",
       "  <tbody>\n",
       "    <tr>\n",
       "      <th>0</th>\n",
       "      <td>101</td>\n",
       "      <td>2020-03-10</td>\n",
       "      <td>5.000000</td>\n",
       "      <td>苏打水</td>\n",
       "      <td>饮料</td>\n",
       "      <td>China</td>\n",
       "    </tr>\n",
       "    <tr>\n",
       "      <th>1</th>\n",
       "      <td>102</td>\n",
       "      <td>2020-03-11</td>\n",
       "      <td>4.000000</td>\n",
       "      <td>可乐</td>\n",
       "      <td>饮料</td>\n",
       "      <td>China</td>\n",
       "    </tr>\n",
       "    <tr>\n",
       "      <th>2</th>\n",
       "      <td>103</td>\n",
       "      <td>2020-03-12</td>\n",
       "      <td>65.000000</td>\n",
       "      <td>牛肉干</td>\n",
       "      <td>零食</td>\n",
       "      <td>America</td>\n",
       "    </tr>\n",
       "    <tr>\n",
       "      <th>3</th>\n",
       "      <td>104</td>\n",
       "      <td>2020-03-13</td>\n",
       "      <td>20.666667</td>\n",
       "      <td>老干妈</td>\n",
       "      <td>调味品</td>\n",
       "      <td>China</td>\n",
       "    </tr>\n",
       "    <tr>\n",
       "      <th>4</th>\n",
       "      <td>105</td>\n",
       "      <td>2020-03-14</td>\n",
       "      <td>15.000000</td>\n",
       "      <td>菠萝</td>\n",
       "      <td>水果</td>\n",
       "      <td>Thailand</td>\n",
       "    </tr>\n",
       "    <tr>\n",
       "      <th>5</th>\n",
       "      <td>106</td>\n",
       "      <td>2020-03-15</td>\n",
       "      <td>20.000000</td>\n",
       "      <td>冰激凌</td>\n",
       "      <td>冷冻食品</td>\n",
       "      <td>China</td>\n",
       "    </tr>\n",
       "    <tr>\n",
       "      <th>6</th>\n",
       "      <td>107</td>\n",
       "      <td>2020-03-16</td>\n",
       "      <td>35.000000</td>\n",
       "      <td>洗面奶</td>\n",
       "      <td>日用品</td>\n",
       "      <td>America</td>\n",
       "    </tr>\n",
       "    <tr>\n",
       "      <th>7</th>\n",
       "      <td>108</td>\n",
       "      <td>2020-03-17</td>\n",
       "      <td>16.000000</td>\n",
       "      <td>洋葱</td>\n",
       "      <td>蔬菜</td>\n",
       "      <td>China</td>\n",
       "    </tr>\n",
       "    <tr>\n",
       "      <th>8</th>\n",
       "      <td>109</td>\n",
       "      <td>2020-03-18</td>\n",
       "      <td>6.000000</td>\n",
       "      <td>牙膏</td>\n",
       "      <td>日用品</td>\n",
       "      <td>China</td>\n",
       "    </tr>\n",
       "  </tbody>\n",
       "</table>\n",
       "</div>"
      ],
      "text/plain": [
       "    id       date      money product department    origin\n",
       "0  101 2020-03-10   5.000000     苏打水         饮料     China\n",
       "1  102 2020-03-11   4.000000      可乐         饮料     China\n",
       "2  103 2020-03-12  65.000000     牛肉干         零食   America\n",
       "3  104 2020-03-13  20.666667     老干妈        调味品     China\n",
       "4  105 2020-03-14  15.000000      菠萝         水果  Thailand\n",
       "5  106 2020-03-15  20.000000     冰激凌       冷冻食品     China\n",
       "6  107 2020-03-16  35.000000     洗面奶        日用品   America\n",
       "7  108 2020-03-17  16.000000      洋葱         蔬菜     China\n",
       "8  109 2020-03-18   6.000000      牙膏        日用品     China"
      ]
     },
     "execution_count": 33,
     "metadata": {},
     "output_type": "execute_result"
    }
   ],
   "source": [
    "data2=data[(data !='Japan').all(1)]\n",
    "data2"
   ]
  },
  {
   "cell_type": "code",
   "execution_count": 35,
   "metadata": {
    "ExecuteTime": {
     "end_time": "2021-03-08T02:26:33.195756Z",
     "start_time": "2021-03-08T02:26:33.179755Z"
    }
   },
   "outputs": [
    {
     "data": {
      "text/plain": [
       "0       China\n",
       "2     America\n",
       "4    Thailand\n",
       "9       Japan\n",
       "Name: origin, dtype: object"
      ]
     },
     "execution_count": 35,
     "metadata": {},
     "output_type": "execute_result"
    }
   ],
   "source": [
    "data['origin'].drop_duplicates()"
   ]
  },
  {
   "cell_type": "code",
   "execution_count": 36,
   "metadata": {
    "ExecuteTime": {
     "end_time": "2021-03-08T02:27:42.712732Z",
     "start_time": "2021-03-08T02:27:42.696731Z"
    }
   },
   "outputs": [
    {
     "data": {
      "text/plain": [
       "0    101\n",
       "1    102\n",
       "2    103\n",
       "3    104\n",
       "4    105\n",
       "5    106\n",
       "6    107\n",
       "7    108\n",
       "8    109\n",
       "9    110\n",
       "Name: id, dtype: object"
      ]
     },
     "execution_count": 36,
     "metadata": {},
     "output_type": "execute_result"
    }
   ],
   "source": [
    "data['id'].astype('str')"
   ]
  },
  {
   "cell_type": "code",
   "execution_count": 37,
   "metadata": {
    "ExecuteTime": {
     "end_time": "2021-03-08T02:28:25.655188Z",
     "start_time": "2021-03-08T02:28:25.616186Z"
    }
   },
   "outputs": [
    {
     "data": {
      "text/html": [
       "<div>\n",
       "<style scoped>\n",
       "    .dataframe tbody tr th:only-of-type {\n",
       "        vertical-align: middle;\n",
       "    }\n",
       "\n",
       "    .dataframe tbody tr th {\n",
       "        vertical-align: top;\n",
       "    }\n",
       "\n",
       "    .dataframe thead th {\n",
       "        text-align: right;\n",
       "    }\n",
       "</style>\n",
       "<table border=\"1\" class=\"dataframe\">\n",
       "  <thead>\n",
       "    <tr style=\"text-align: right;\">\n",
       "      <th></th>\n",
       "      <th>ID</th>\n",
       "      <th>date</th>\n",
       "      <th>money</th>\n",
       "      <th>product</th>\n",
       "      <th>department</th>\n",
       "      <th>产地</th>\n",
       "    </tr>\n",
       "  </thead>\n",
       "  <tbody>\n",
       "    <tr>\n",
       "      <th>0</th>\n",
       "      <td>101</td>\n",
       "      <td>2020-03-10</td>\n",
       "      <td>5.000000</td>\n",
       "      <td>苏打水</td>\n",
       "      <td>饮料</td>\n",
       "      <td>China</td>\n",
       "    </tr>\n",
       "    <tr>\n",
       "      <th>1</th>\n",
       "      <td>102</td>\n",
       "      <td>2020-03-11</td>\n",
       "      <td>4.000000</td>\n",
       "      <td>可乐</td>\n",
       "      <td>饮料</td>\n",
       "      <td>China</td>\n",
       "    </tr>\n",
       "    <tr>\n",
       "      <th>2</th>\n",
       "      <td>103</td>\n",
       "      <td>2020-03-12</td>\n",
       "      <td>65.000000</td>\n",
       "      <td>牛肉干</td>\n",
       "      <td>零食</td>\n",
       "      <td>America</td>\n",
       "    </tr>\n",
       "    <tr>\n",
       "      <th>3</th>\n",
       "      <td>104</td>\n",
       "      <td>2020-03-13</td>\n",
       "      <td>20.666667</td>\n",
       "      <td>老干妈</td>\n",
       "      <td>调味品</td>\n",
       "      <td>China</td>\n",
       "    </tr>\n",
       "    <tr>\n",
       "      <th>4</th>\n",
       "      <td>105</td>\n",
       "      <td>2020-03-14</td>\n",
       "      <td>15.000000</td>\n",
       "      <td>菠萝</td>\n",
       "      <td>水果</td>\n",
       "      <td>Thailand</td>\n",
       "    </tr>\n",
       "    <tr>\n",
       "      <th>5</th>\n",
       "      <td>106</td>\n",
       "      <td>2020-03-15</td>\n",
       "      <td>20.000000</td>\n",
       "      <td>冰激凌</td>\n",
       "      <td>冷冻食品</td>\n",
       "      <td>China</td>\n",
       "    </tr>\n",
       "    <tr>\n",
       "      <th>6</th>\n",
       "      <td>107</td>\n",
       "      <td>2020-03-16</td>\n",
       "      <td>35.000000</td>\n",
       "      <td>洗面奶</td>\n",
       "      <td>日用品</td>\n",
       "      <td>America</td>\n",
       "    </tr>\n",
       "    <tr>\n",
       "      <th>7</th>\n",
       "      <td>108</td>\n",
       "      <td>2020-03-17</td>\n",
       "      <td>16.000000</td>\n",
       "      <td>洋葱</td>\n",
       "      <td>蔬菜</td>\n",
       "      <td>China</td>\n",
       "    </tr>\n",
       "    <tr>\n",
       "      <th>8</th>\n",
       "      <td>109</td>\n",
       "      <td>2020-03-18</td>\n",
       "      <td>6.000000</td>\n",
       "      <td>牙膏</td>\n",
       "      <td>日用品</td>\n",
       "      <td>China</td>\n",
       "    </tr>\n",
       "    <tr>\n",
       "      <th>9</th>\n",
       "      <td>110</td>\n",
       "      <td>2020-03-19</td>\n",
       "      <td>20.000000</td>\n",
       "      <td>薯片</td>\n",
       "      <td>零食</td>\n",
       "      <td>Japan</td>\n",
       "    </tr>\n",
       "  </tbody>\n",
       "</table>\n",
       "</div>"
      ],
      "text/plain": [
       "    ID       date      money product department        产地\n",
       "0  101 2020-03-10   5.000000     苏打水         饮料     China\n",
       "1  102 2020-03-11   4.000000      可乐         饮料     China\n",
       "2  103 2020-03-12  65.000000     牛肉干         零食   America\n",
       "3  104 2020-03-13  20.666667     老干妈        调味品     China\n",
       "4  105 2020-03-14  15.000000      菠萝         水果  Thailand\n",
       "5  106 2020-03-15  20.000000     冰激凌       冷冻食品     China\n",
       "6  107 2020-03-16  35.000000     洗面奶        日用品   America\n",
       "7  108 2020-03-17  16.000000      洋葱         蔬菜     China\n",
       "8  109 2020-03-18   6.000000      牙膏        日用品     China\n",
       "9  110 2020-03-19  20.000000      薯片         零食     Japan"
      ]
     },
     "execution_count": 37,
     "metadata": {},
     "output_type": "execute_result"
    }
   ],
   "source": [
    "data.rename(columns={'id':'ID','origin':'产地'})"
   ]
  },
  {
   "cell_type": "code",
   "execution_count": null,
   "metadata": {},
   "outputs": [],
   "source": []
  }
 ],
 "metadata": {
  "kernelspec": {
   "display_name": "Python 3",
   "language": "python",
   "name": "python3"
  },
  "language_info": {
   "codemirror_mode": {
    "name": "ipython",
    "version": 3
   },
   "file_extension": ".py",
   "mimetype": "text/x-python",
   "name": "python",
   "nbconvert_exporter": "python",
   "pygments_lexer": "ipython3",
   "version": "3.8.5"
  },
  "toc": {
   "base_numbering": 1,
   "nav_menu": {},
   "number_sections": true,
   "sideBar": true,
   "skip_h1_title": false,
   "title_cell": "Table of Contents",
   "title_sidebar": "Contents",
   "toc_cell": false,
   "toc_position": {},
   "toc_section_display": true,
   "toc_window_display": false
  }
 },
 "nbformat": 4,
 "nbformat_minor": 4
}
