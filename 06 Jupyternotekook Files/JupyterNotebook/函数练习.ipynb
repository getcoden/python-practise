{
 "cells": [
  {
   "cell_type": "code",
   "execution_count": 19,
   "metadata": {
    "ExecuteTime": {
     "end_time": "2021-03-16T02:21:12.631116Z",
     "start_time": "2021-03-16T02:21:12.609115Z"
    }
   },
   "outputs": [
    {
     "name": "stdout",
     "output_type": "stream",
     "text": [
      "1/4\n",
      "<class 'fractions.Fraction'>\n",
      "1/4\n"
     ]
    }
   ],
   "source": [
    "from fractions import Fraction\n",
    "\n",
    "print(Fraction(0.25))\n",
    "print(type(Fraction(0.25)))\n",
    "print(str(Fraction(0.25)))"
   ]
  },
  {
   "cell_type": "code",
   "execution_count": 24,
   "metadata": {
    "ExecuteTime": {
     "end_time": "2021-03-16T02:24:26.875226Z",
     "start_time": "2021-03-16T02:24:23.275021Z"
    }
   },
   "outputs": [
    {
     "name": "stdout",
     "output_type": "stream",
     "text": [
      "a quadratic equation: x^2 + 2x + 1 = 0\n",
      "Enter some numbers:1 2 3\n",
      "this equation has no solution.\n"
     ]
    }
   ],
   "source": [
    "# coding=utf-8\n",
    "\n",
    "\"\"\"\n",
    "solving a quadratic equation\n",
    "\"\"\"\n",
    "\n",
    "from __future__ import division\n",
    "import math\n",
    "\n",
    "def quadratic_equation(a,b,c):\n",
    "    delta = b*b - 4*a*c\n",
    "    if delta<0:\n",
    "        return False\n",
    "    elif delta==0:\n",
    "        return -(b/(2*a))\n",
    "    else:\n",
    "        sqrt_delta = math.sqrt(delta)\n",
    "        x1 = (-b + sqrt_delta)/(2*a)\n",
    "        x2 = (-b - sqrt_delta)/(2*a)\n",
    "        return x1, x2\n",
    "\n",
    "if __name__ == \"__main__\":\n",
    "    print (\"a quadratic equation: x^2 + 2x + 1 = 0\")\n",
    "    coefficients = []\n",
    "    a = input('Enter some numbers:').split( )\n",
    "    for i in a:\n",
    "        coefficients.append(int(i))\n",
    "    roots = quadratic_equation(*coefficients)\n",
    "    if roots:\n",
    "        print (\"the result is:\",roots)\n",
    "    else:\n",
    "        print (\"this equation has no solution.\")"
   ]
  },
  {
   "cell_type": "code",
   "execution_count": 11,
   "metadata": {
    "ExecuteTime": {
     "end_time": "2021-03-15T06:46:18.797114Z",
     "start_time": "2021-03-15T06:46:18.781113Z"
    }
   },
   "outputs": [
    {
     "name": "stdout",
     "output_type": "stream",
     "text": [
      "[2, 3, 5, 7, 11, 13, 17, 19, 23, 29, 31, 37, 41, 43, 47, 53, 59, 61, 67, 71, 73, 79, 83, 89, 97]\n"
     ]
    }
   ],
   "source": [
    "# coding=utf-8\n",
    "\n",
    "\"\"\"\n",
    "寻找素数\n",
    "\"\"\"\n",
    "\n",
    "import math\n",
    "\n",
    "def is_prime(n):\n",
    "    \"\"\"\n",
    "    判断一个数是否是素数\n",
    "    \"\"\"\n",
    "    if n <= 1:\n",
    "        return False\n",
    "    for i in range(2, int(math.sqrt(n) + 1)):\n",
    "        if n % i == 0:\n",
    "            return False\n",
    "    return True\n",
    "\n",
    "if __name__ == \"__main__\":\n",
    "    primes = [i for i in range(2,100) if is_prime(i)]    #从 2 开始，因为 1 显然不是质数\n",
    "    print (primes)"
   ]
  },
  {
   "cell_type": "code",
   "execution_count": 13,
   "metadata": {
    "ExecuteTime": {
     "end_time": "2021-03-15T06:48:44.339858Z",
     "start_time": "2021-03-15T06:48:44.306856Z"
    }
   },
   "outputs": [
    {
     "name": "stdout",
     "output_type": "stream",
     "text": [
      "the average score is:  80.22222222222223\n",
      "list of the scores:  [('facebook', 99), ('apple', 99), ('amazon', 99), ('google', 98), ('alibaba', 80), ('android', 76), ('IBM', 70), ('baidu', 52), ('yahoo', 49)]\n",
      "Xueba is:  [('facebook', 99), ('apple', 99), ('amazon', 99)]\n",
      "Xuzha is:  [('yahoo', 49)]\n"
     ]
    }
   ],
   "source": [
    "#!/usr/bin/env Python\n",
    "# coding=utf-8\n",
    "\"\"\"\n",
    "统计考试成绩\n",
    "\"\"\"\n",
    "from __future__ import division\n",
    "\n",
    "def average_score(scores):\n",
    "    \"\"\"\n",
    "    统计平均分.\n",
    "    \"\"\"\n",
    "    score_values = scores.values()\n",
    "    sum_scores = sum(score_values)\n",
    "    average = sum_scores/len(score_values)\n",
    "    return average\n",
    "\n",
    "def sorted_score(scores):\n",
    "    \"\"\"\n",
    "    对成绩从高到低排队.\n",
    "    \"\"\"\n",
    "    score_lst = [(scores[k],k) for k in scores]\n",
    "    sort_lst = sorted(score_lst, reverse=True)\n",
    "    return [(i[1], i[0]) for i in sort_lst]\n",
    "\n",
    "def max_score(scores):\n",
    "    \"\"\"\n",
    "    成绩最高的姓名和分数.\n",
    "    \"\"\"\n",
    "    lst = sorted_score(scores)    #引用分数排序的函数 sorted_score\n",
    "    max_score = lst[0][1]\n",
    "    return [(i[0],i[1]) for i in lst if i[1]==max_score]\n",
    "\n",
    "def min_score(scores):\n",
    "    \"\"\"\n",
    "    成绩最低的姓名和分数.\n",
    "    \"\"\"\n",
    "    lst = sorted_score(scores)\n",
    "    min_score = lst[len(lst)-1][1]\n",
    "    return [(i[0],i[1]) for i in lst if i[1]==min_score]\n",
    "\n",
    "if __name__ == \"__main__\":\n",
    "    examine_scores = {\"google\":98, \"facebook\":99, \"baidu\":52, \"alibaba\":80, \"yahoo\":49, \"IBM\":70, \"android\":76, \"apple\":99, \"amazon\":99}\n",
    "\n",
    "    ave = average_score(examine_scores)\n",
    "    print (\"the average score is: \",ave)    #平均分\n",
    "\n",
    "    sor = sorted_score(examine_scores)\n",
    "    print (\"list of the scores: \",sor  )    #成绩表\n",
    "\n",
    "    xueba = max_score(examine_scores)\n",
    "    print (\"Xueba is: \",xueba  )            #学霸们\n",
    "\n",
    "    xuezha = min_score(examine_scores)\n",
    "    print (\"Xuzha is: \",xuezha )            #学渣们"
   ]
  },
  {
   "cell_type": "code",
   "execution_count": 31,
   "metadata": {
    "ExecuteTime": {
     "end_time": "2021-03-16T07:56:31.951795Z",
     "start_time": "2021-03-16T07:56:27.267527Z"
    }
   },
   "outputs": [
    {
     "name": "stdout",
     "output_type": "stream",
     "text": [
      "Enter some numbers:2 3 6 4 5\n",
      "非素数的数字有:[6, 4]\n",
      "素数的数字有:[2, 3, 5]\n"
     ]
    }
   ],
   "source": [
    "\n",
    "is_notprime = [] #定义空列表，存放非素数\n",
    "is_prime = []    #定义空列表，存放素数\n",
    "\n",
    "num = input('Enter some numbers:').split()  # 由键盘输入一些数字，并以空格分隔\n",
    "\n",
    "num_list = [int(j) for j in num]      # 用列表推导式并加以强制类型转换把输入的字符数字转换成 int 类型数据\n",
    "\n",
    "for s in num_list:\n",
    "    for i in range(2, s):\n",
    "        if s % i == 0:\n",
    "            is_notprime.append(s)    # 将非素数添加到非素数空列表\n",
    "            break\n",
    "    else:\n",
    "        is_prime.append(s)   #将是素数的数字添加到素数列表\n",
    "\n",
    "# 输出非素数及素数\n",
    "print(f'非素数的数字有:{is_notprime}')\n",
    "print(f'素数的数字有:{is_prime}')\n"
   ]
  },
  {
   "cell_type": "code",
   "execution_count": 44,
   "metadata": {
    "ExecuteTime": {
     "end_time": "2021-03-17T01:10:32.278924Z",
     "start_time": "2021-03-17T01:10:32.265923Z"
    }
   },
   "outputs": [
    {
     "name": "stdout",
     "output_type": "stream",
     "text": [
      "1的阶乘为:2\n",
      "2的阶乘为:8\n",
      "3的阶乘为:48\n"
     ]
    }
   ],
   "source": [
    "def jiecheng(n):\n",
    "    result = 1\n",
    "    while n>0:\n",
    "        result *=n\n",
    "        n -=1\n",
    "    return result \n",
    "\n",
    "for i in range(1,4):\n",
    "    re = jiecheng(i)\n",
    "    print(f'{i}的阶乘为:{re}')\n",
    "#     print()"
   ]
  },
  {
   "cell_type": "code",
   "execution_count": 43,
   "metadata": {
    "ExecuteTime": {
     "end_time": "2021-03-17T01:06:46.498010Z",
     "start_time": "2021-03-17T01:06:16.688305Z"
    }
   },
   "outputs": [
    {
     "name": "stdout",
     "output_type": "stream",
     "text": [
      "提示:输入\"q\"退出程序。\n",
      "请输入前几项数字的阶乘和:3\n",
      "前3项的阶乘和是:9\n",
      "提示:输入\"q\"退出程序。\n",
      "请输入前几项数字的阶乘和:4\n",
      "前4项的阶乘和是:33\n",
      "提示:输入\"q\"退出程序。\n",
      "请输入前几项数字的阶乘和:6\n",
      "前6项的阶乘和是:873\n",
      "提示:输入\"q\"退出程序。\n",
      "请输入前几项数字的阶乘和:5\n",
      "前5项的阶乘和是:153\n",
      "提示:输入\"q\"退出程序。\n",
      "请输入前几项数字的阶乘和:2\n",
      "前2项的阶乘和是:3\n",
      "提示:输入\"q\"退出程序。\n",
      "请输入前几项数字的阶乘和:1\n",
      "前1项的阶乘和是:1\n",
      "提示:输入\"q\"退出程序。\n",
      "请输入前几项数字的阶乘和:q\n"
     ]
    }
   ],
   "source": [
    "# coding=utf-8\n",
    "# Created by danding at 2019/10/31\n",
    "\n",
    "from math import *\n",
    "\n",
    "def jiechenghe(num):\n",
    "    list = []\n",
    "    k = 1\n",
    "    for i in range(1,num+1):\n",
    "        k = k*i\n",
    "        list.append(k)\n",
    "    sum = 0\n",
    "    for i in list:\n",
    "        sum += i\n",
    "\n",
    "    print('前{}项的阶乘和是:{}'.format(num,sum))\n",
    "\n",
    "while 1:\n",
    "    try:\n",
    "        num = input('提示:输入\"q\"退出程序。\\n请输入前几项数字的阶乘和:')\n",
    "        if num.lower()=='q':\n",
    "            break\n",
    "        num = int(num)\n",
    "    except:\n",
    "        print('请输入数！')\n",
    "        continue\n",
    "    jiechenghe(num)\n"
   ]
  },
  {
   "cell_type": "code",
   "execution_count": null,
   "metadata": {},
   "outputs": [],
   "source": []
  }
 ],
 "metadata": {
  "kernelspec": {
   "display_name": "Python 3",
   "language": "python",
   "name": "python3"
  },
  "language_info": {
   "codemirror_mode": {
    "name": "ipython",
    "version": 3
   },
   "file_extension": ".py",
   "mimetype": "text/x-python",
   "name": "python",
   "nbconvert_exporter": "python",
   "pygments_lexer": "ipython3",
   "version": "3.8.5"
  },
  "toc": {
   "base_numbering": 1,
   "nav_menu": {},
   "number_sections": true,
   "sideBar": true,
   "skip_h1_title": false,
   "title_cell": "Table of Contents",
   "title_sidebar": "Contents",
   "toc_cell": false,
   "toc_position": {},
   "toc_section_display": true,
   "toc_window_display": false
  }
 },
 "nbformat": 4,
 "nbformat_minor": 4
}
