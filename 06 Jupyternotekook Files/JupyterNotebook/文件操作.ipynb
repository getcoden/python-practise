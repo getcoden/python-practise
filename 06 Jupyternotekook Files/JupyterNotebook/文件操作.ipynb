{
 "cells": [
  {
   "cell_type": "code",
   "execution_count": 45,
   "metadata": {
    "ExecuteTime": {
     "end_time": "2021-03-15T07:19:26.193847Z",
     "start_time": "2021-03-15T07:19:24.003722Z"
    }
   },
   "outputs": [
    {
     "name": "stdout",
     "output_type": "stream",
     "text": [
      "enter some words:qqq\n",
      "3\n"
     ]
    }
   ],
   "source": [
    "import os\n",
    "\n",
    "a = input('enter some words:')\n",
    "\n",
    "f = open ('d:/out1.txt','a+')\n",
    "f.write(a)\n",
    "f.seek(0,2)\n",
    "aa = f.read()\n",
    "print(aa)\n",
    "f.close()\n"
   ]
  },
  {
   "cell_type": "code",
   "execution_count": 48,
   "metadata": {
    "ExecuteTime": {
     "end_time": "2021-03-15T07:25:04.975224Z",
     "start_time": "2021-03-15T07:25:02.179064Z"
    }
   },
   "outputs": [
    {
     "name": "stdout",
     "output_type": "stream",
     "text": [
      "enter some words:1212\n",
      "121256qqq\n"
     ]
    }
   ],
   "source": [
    "import os\n",
    "\n",
    "a = input('enter some words:')\n",
    "\n",
    "f = open ('d:/out1.txt','r+')\n",
    "f.write(a)\n",
    "f.seek(0)\n",
    "aa = f.read()\n",
    "print(aa)\n",
    "f.close()"
   ]
  },
  {
   "cell_type": "code",
   "execution_count": 87,
   "metadata": {
    "ExecuteTime": {
     "end_time": "2021-03-15T08:19:04.957409Z",
     "start_time": "2021-03-15T08:18:38.076872Z"
    }
   },
   "outputs": [
    {
     "name": "stdout",
     "output_type": "stream",
     "text": [
      "enter some words:3\n",
      "two word:6\n",
      "594\n",
      "8 11\n",
      "12 str(a) + str(b) = 12 2 + 3 = 5 2 + 6 = 8\n",
      "6 + 3 = 9 \n",
      "6 + 3 = 9 \n",
      "1 + 2 = 3 \n",
      "2 + 3 = 5 \n",
      "3 + 4 = 7 \n",
      "6 + 6 = 12 \n",
      "3 + 6 = 9 \n",
      "\n",
      "enter some words:6\n",
      "enter some words:3\n",
      "two word:3\n",
      "594\n",
      "8 11\n",
      "12 str(a) + str(b) = 12 2 + 3 = 5 2 + 6 = 8\n",
      "6 + 3 = 9 \n",
      "6 + 3 = 9 \n",
      "1 + 2 = 3 \n",
      "2 + 3 = 5 \n",
      "3 + 4 = 7 \n",
      "6 + 6 = 12 \n",
      "3 + 6 = 9 \n",
      "3 + 3 = 6 \n",
      "\n",
      "enter some words:q\n"
     ]
    }
   ],
   "source": [
    "# import os\n",
    "\n",
    "while 1:\n",
    "   \n",
    "    a = int(input('enter some words:'))\n",
    "    b = int(input('two word:'))\n",
    "    c = str(a+b)\n",
    "    f = open ('d:/out1.txt','a+')\n",
    "    f.write(f'{str(a)} + {str(b)} = ' + str(c) + ' \\n')\n",
    "    f.seek(0)\n",
    "    aa = f.read()\n",
    "    print(aa)\n",
    "    a =input('enter some words:')\n",
    "    if a.lower() == 'q':\n",
    "        break\n",
    "    f.close()\n",
    "    "
   ]
  },
  {
   "cell_type": "code",
   "execution_count": 125,
   "metadata": {
    "ExecuteTime": {
     "end_time": "2021-03-16T02:45:19.498872Z",
     "start_time": "2021-03-16T02:45:13.730542Z"
    }
   },
   "outputs": [
    {
     "name": "stdout",
     "output_type": "stream",
     "text": [
      "Enter the first number(q or Q is quit):3\n",
      "Enter the second number:2\n",
      "6 + 3 = 9 \n",
      "9 + 3 = 12 \n",
      "1 + 2 = 3 \n",
      "3 + 6 = 9 \n",
      "36 + 9 = 45 \n",
      "25 + 98 = 123 \n",
      "6 + 3 = 9 \n",
      "5 + 9 = 14 \n",
      "6 + 99 = 105 \n",
      "6 + 6 = 12 \n",
      "9 + 6 = 15 \n",
      "3 + 2 = 5 \n",
      "\n",
      "Enter the first number(q or Q is quit):q\n"
     ]
    }
   ],
   "source": [
    "\"\"\"文件操作练习，两数相加求和并输出到文件\"\"\"\n",
    "\n",
    "while 1:\n",
    "    a1 =input('Enter the first number(q or Q is quit):')   # 输入一个数或字母进行判断\n",
    "    if a1.lower() == 'q':   # 如果输入的是q或者Q，则退出程序\n",
    "        break                                              \n",
    "    else:   \n",
    "        a = int(a1)      # 将输入的数字字符串强制转换成 int 整型数，进行计算\n",
    "        b = int(input('Enter the second number:'))\n",
    "        c = str(a+b)\n",
    "        f = open ('d:/out1.txt','a+')   #以追加的方式写入文件\n",
    "        f.write(f'{str(a)} + {str(b)} = {c}' + ' \\n')    # 格式化输出加法算式\n",
    "        f.seek(0)                                # 将鼠标指针移动到文件的开始处\n",
    "        print(f.read())   # 读出文件并打印输出到屏幕\n",
    "        f.close()         # 关闭文件"
   ]
  },
  {
   "cell_type": "code",
   "execution_count": 122,
   "metadata": {
    "ExecuteTime": {
     "end_time": "2021-03-16T02:42:48.734249Z",
     "start_time": "2021-03-16T02:42:48.507236Z"
    }
   },
   "outputs": [
    {
     "name": "stdout",
     "output_type": "stream",
     "text": [
      "dkalkdlakdkalkdlakdkalkdlak123456dkalkdlak123456dkalkdlak123456dkalkdlak123456dkalkdlak123456\n"
     ]
    }
   ],
   "source": [
    "with open('out0.docx','a+') as f,\\\n",
    "    open('out0.docx','r+') as f1:\n",
    "    \n",
    "    f.write('dkalkdlak')\n",
    "    f.write('123456')\n",
    "    f.seek(0)\n",
    "    print(f1.read())"
   ]
  },
  {
   "cell_type": "code",
   "execution_count": 121,
   "metadata": {
    "ExecuteTime": {
     "end_time": "2021-03-16T02:38:39.894016Z",
     "start_time": "2021-03-16T02:38:30.107457Z"
    }
   },
   "outputs": [
    {
     "name": "stdout",
     "output_type": "stream",
     "text": [
      "please input the date you want to test with the form xxxx-xx-xx:1956-5-5\n",
      "1956-05-05 00:00:00 %Y-%m-%d\n"
     ]
    }
   ],
   "source": [
    "from datetime import datetime\n",
    "# import time\n",
    "import os\n",
    "\n",
    "date_input = input('please input the date you want to test with the form xxxx-xx-xx:')\n",
    "date_input = datetime.strptime(date_input, '%Y-%m-%d')\n",
    "print(date_input)"
   ]
  },
  {
   "cell_type": "code",
   "execution_count": 2,
   "metadata": {
    "ExecuteTime": {
     "end_time": "2021-03-29T07:25:43.561829Z",
     "start_time": "2021-03-29T07:25:43.538827Z"
    }
   },
   "outputs": [
    {
     "name": "stdout",
     "output_type": "stream",
     "text": [
      "2345687910\n",
      "\n",
      "['\\n', '0', '1', '2', '3', '4', '5', '6', '7', '8', '9']\n"
     ]
    }
   ],
   "source": [
    "f=open('number.txt','r')\n",
    "total=f.read()\n",
    "print(total)\n",
    "number=[]\n",
    "for i in total:\n",
    "    number.append(i)\n",
    "number.sort()\n",
    "print(number)\n",
    "f.close()\n"
   ]
  },
  {
   "cell_type": "code",
   "execution_count": 4,
   "metadata": {
    "ExecuteTime": {
     "end_time": "2021-03-29T07:27:42.211615Z",
     "start_time": "2021-03-29T07:27:42.171613Z"
    }
   },
   "outputs": [],
   "source": [
    "import os\n",
    "files=os.listdir(\"./\")\n",
    "#print(files)\n",
    "i=0\n",
    "for file in files:\n",
    "    fileFormat=files[i][files[i].find(\".\"):]\n",
    "    #print(fileFormat)\n",
    "\n",
    "    fileName=files[i][:files[i].find(\".\")]\n",
    "    fileName.strip()\n",
    "    #print(fileName)\n",
    "    if(fileFormat.strip() == \".txt\".strip()):\n",
    "        os.rename(fileName+fileFormat,\"2017-学生信息-\"+str(i+1)+fileFormat)\n",
    "    i=i+1\n"
   ]
  },
  {
   "cell_type": "code",
   "execution_count": null,
   "metadata": {},
   "outputs": [],
   "source": []
  }
 ],
 "metadata": {
  "kernelspec": {
   "display_name": "Python 3",
   "language": "python",
   "name": "python3"
  },
  "language_info": {
   "codemirror_mode": {
    "name": "ipython",
    "version": 3
   },
   "file_extension": ".py",
   "mimetype": "text/x-python",
   "name": "python",
   "nbconvert_exporter": "python",
   "pygments_lexer": "ipython3",
   "version": "3.8.5"
  },
  "toc": {
   "base_numbering": 1,
   "nav_menu": {},
   "number_sections": true,
   "sideBar": true,
   "skip_h1_title": false,
   "title_cell": "Table of Contents",
   "title_sidebar": "Contents",
   "toc_cell": false,
   "toc_position": {},
   "toc_section_display": true,
   "toc_window_display": false
  }
 },
 "nbformat": 4,
 "nbformat_minor": 4
}
