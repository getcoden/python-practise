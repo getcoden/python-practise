{
 "cells": [
  {
   "cell_type": "markdown",
   "metadata": {},
   "source": [
    "目录\n",
    "\n",
    "准备数据\n",
    "\n",
    "Pandas直接保存数据\n",
    "\n",
    "Pandas的Styler对表格着色输出\n",
    "\n",
    "Pandas使用xlsxwriter引擎保存数据\n",
    "\n",
    "xlsxwriter按照指定样式写出Pandas对象的数据\n",
    "\n",
    "Pandas自适应列宽保存数据\n",
    "\n",
    "相关资料\n",
    "\n",
    "总结\n",
    "\n",
    "准备数据"
   ]
  },
  {
   "cell_type": "code",
   "execution_count": 1,
   "metadata": {
    "ExecuteTime": {
     "end_time": "2021-05-26T01:25:33.232065Z",
     "start_time": "2021-05-26T01:25:25.277610Z"
    }
   },
   "outputs": [
    {
     "data": {
      "text/html": [
       "<div>\n",
       "<style scoped>\n",
       "    .dataframe tbody tr th:only-of-type {\n",
       "        vertical-align: middle;\n",
       "    }\n",
       "\n",
       "    .dataframe tbody tr th {\n",
       "        vertical-align: top;\n",
       "    }\n",
       "\n",
       "    .dataframe thead th {\n",
       "        text-align: right;\n",
       "    }\n",
       "</style>\n",
       "<table border=\"1\" class=\"dataframe\">\n",
       "  <thead>\n",
       "    <tr style=\"text-align: right;\">\n",
       "      <th></th>\n",
       "      <th>Date and time</th>\n",
       "      <th>Dates only</th>\n",
       "      <th>Numbers</th>\n",
       "      <th>Percentage</th>\n",
       "      <th>final</th>\n",
       "    </tr>\n",
       "  </thead>\n",
       "  <tbody>\n",
       "    <tr>\n",
       "      <th>0</th>\n",
       "      <td>2015-01-01 11:30:55</td>\n",
       "      <td>2015-02-01</td>\n",
       "      <td>1010</td>\n",
       "      <td>0.10</td>\n",
       "      <td>=C2*D2</td>\n",
       "    </tr>\n",
       "    <tr>\n",
       "      <th>1</th>\n",
       "      <td>2015-01-02 01:20:33</td>\n",
       "      <td>2015-02-02</td>\n",
       "      <td>2020</td>\n",
       "      <td>0.20</td>\n",
       "      <td>=C3*D3</td>\n",
       "    </tr>\n",
       "    <tr>\n",
       "      <th>2</th>\n",
       "      <td>2015-01-03 11:10:00</td>\n",
       "      <td>2015-02-03</td>\n",
       "      <td>3030</td>\n",
       "      <td>0.33</td>\n",
       "      <td>=C4*D4</td>\n",
       "    </tr>\n",
       "    <tr>\n",
       "      <th>3</th>\n",
       "      <td>2015-01-04 16:45:35</td>\n",
       "      <td>2015-02-04</td>\n",
       "      <td>2020</td>\n",
       "      <td>0.25</td>\n",
       "      <td>=C5*D5</td>\n",
       "    </tr>\n",
       "    <tr>\n",
       "      <th>4</th>\n",
       "      <td>2015-01-05 12:10:15</td>\n",
       "      <td>2015-02-05</td>\n",
       "      <td>1515</td>\n",
       "      <td>0.50</td>\n",
       "      <td>=C6*D6</td>\n",
       "    </tr>\n",
       "  </tbody>\n",
       "</table>\n",
       "</div>"
      ],
      "text/plain": [
       "        Date and time  Dates only  Numbers  Percentage   final\n",
       "0 2015-01-01 11:30:55  2015-02-01     1010        0.10  =C2*D2\n",
       "1 2015-01-02 01:20:33  2015-02-02     2020        0.20  =C3*D3\n",
       "2 2015-01-03 11:10:00  2015-02-03     3030        0.33  =C4*D4\n",
       "3 2015-01-04 16:45:35  2015-02-04     2020        0.25  =C5*D5\n",
       "4 2015-01-05 12:10:15  2015-02-05     1515        0.50  =C6*D6"
      ]
     },
     "execution_count": 1,
     "metadata": {},
     "output_type": "execute_result"
    }
   ],
   "source": [
    "import pandas as pd\n",
    "from datetime import datetime, date\n",
    "\n",
    "df = pd.DataFrame({'Date and time': [datetime(2015, 1, 1, 11, 30, 55),\n",
    "                                     datetime(2015, 1, 2, 1, 20, 33),\n",
    "                                     datetime(2015, 1, 3, 11, 10),\n",
    "                                     datetime(2015, 1, 4, 16, 45, 35),\n",
    "                                     datetime(2015, 1, 5, 12, 10, 15)],\n",
    "                   'Dates only': [date(2015, 2, 1),\n",
    "                                  date(2015, 2, 2),\n",
    "                                  date(2015, 2, 3),\n",
    "                                  date(2015, 2, 4),\n",
    "                                  date(2015, 2, 5)],\n",
    "                   'Numbers': [1010, 2020, 3030, 2020, 1515],\n",
    "                   'Percentage': [.1, .2, .33, .25, .5],\n",
    "                   })\n",
    "df['final'] = [f'=C{i}*D{i}' for i in range(2, df.shape[0]+2)]\n",
    "df"
   ]
  },
  {
   "cell_type": "code",
   "execution_count": 2,
   "metadata": {
    "ExecuteTime": {
     "end_time": "2021-05-26T01:26:34.493569Z",
     "start_time": "2021-05-26T01:26:33.671522Z"
    }
   },
   "outputs": [],
   "source": [
    "# Pandas直接保存数据\n",
    "# 对于这个pandas对象，如果我们需要将其保存为excel，有那些操作方式呢？首先，最简单的，直接保存：\n",
    "\n",
    "df.to_excel('demo1.xlsx', sheet_name='Sheet1', index=False)"
   ]
  },
  {
   "cell_type": "code",
   "execution_count": null,
   "metadata": {},
   "outputs": [],
   "source": [
    "# 但如果我们想要给这个excel在保存时，同时指定一些特殊的自定义格式又该怎么做呢？这时就可以使用ExcelWriter进行操作，查看API文档发现两个重要参数：\n",
    "\n",
    "date_format : str, default None\n",
    "\n",
    "Format string for dates written into Excel files (e.g. 'YYYY-MM-DD').\n",
    "\n",
    "datetime_format : str, default None\n",
    "\n",
    "Format string for datetime objects written into Excel files. (e.g. 'YYYY-MM-DD HH:MM:SS').\n",
    "\n",
    "# 这说明对于日期类型数据，都可以通过这两个参数指定特定的显示格式，那么我们采用以下方式才创建ExcelWriter，并保存结果：\n",
    "\n",
    "writer = pd.ExcelWriter('demo1.xlsx',\n",
    "                        datetime_format='mmm d yyyy hh:mm:ss',\n",
    "                        date_format='mmmm dd yyyy')\n",
    "df.to_excel(writer, sheet_name='Sheet1', index=False)\n",
    "writer.save()\n",
    "# 可以看到excel保存的结果中，格式已经确实的发生了改变："
   ]
  },
  {
   "attachments": {
    "image.png": {
     "image/png": "[encoded data removed]"
    }
   },
   "cell_type": "markdown",
   "metadata": {},
   "source": [
    "![image.png](attachment:image.png)"
   ]
  },
  {
   "cell_type": "code",
   "execution_count": null,
   "metadata": {},
   "outputs": [],
   "source": [
    "# Pandas的Styler对表格着色输出\n",
    "# 如果我们想对指定的列的数据设置文字颜色或背景色，可以直接pandas.io.formats.style工具，该工具可以直接对指定列用指定的规则着色：\n",
    "\n",
    "df_style = df.style.applymap(lambda x: 'color:red', subset=['Date and time']) \\\n",
    "    .applymap(lambda x: 'color:green', subset=['Dates only']) \\\n",
    "    .applymap(lambda x: 'background-color:#ADD8E6', subset=['Numbers']) \\\n",
    "    .background_gradient(cmap='PuBu', low=0, high=0.5, subset=['Percentage'])\n",
    "df_style\n",
    "\n",
    "# 显示效果：\n",
    "\n"
   ]
  },
  {
   "attachments": {
    "image.png": {
     "image/png": "[encoded data removed]"
    }
   },
   "cell_type": "markdown",
   "metadata": {},
   "source": [
    "![image.png](attachment:image.png)"
   ]
  },
  {
   "cell_type": "code",
   "execution_count": null,
   "metadata": {},
   "outputs": [],
   "source": [
    "writer = pd.ExcelWriter('demo_style.xlsx',\n",
    "                        datetime_format='mmm d yyyy hh:mm:ss',\n",
    "                        date_format='mmmm dd yyyy')\n",
    "df_style.to_excel(writer, sheet_name='Sheet1', index=False)\n",
    "writer.save()\n",
    "# 保存效果："
   ]
  },
  {
   "attachments": {
    "image.png": {
     "image/png": "[encoded data removed]"
    }
   },
   "cell_type": "markdown",
   "metadata": {},
   "source": [
    "![image.png](attachment:image.png)"
   ]
  },
  {
   "cell_type": "markdown",
   "metadata": {},
   "source": [
    "### pandas 批量读取excel_pandas 循环读取文件夹下的 excel，并汇总到一张表格 (函数版)"
   ]
  },
  {
   "cell_type": "code",
   "execution_count": null,
   "metadata": {},
   "outputs": [],
   "source": [
    "-- coding:utf-8 –-\n",
    "\n",
    "\"\"\"\n",
    "\n",
    "利用 pandas 将多张 excel 表中的指定列数据合并成一张；因为原始的多张数据存在同样列名的数据，\n",
    "\n",
    "因为原始多张 excel 是从 csv 文件转换股\n",
    "\n",
    "并且我们只需要其中的部分列数据，所以进行指定列提取并汇总至 res 文件中\n",
    "\n",
    "\"\"\"\n",
    "\n",
    "import os\n",
    "\n",
    "import pandas as pd\n",
    "\n",
    "#输入参数为 excel 表格所在目录\n",
    "\n",
    "def to_one_excel(dir):\n",
    "\n",
    "    dfs = []\n",
    "\n",
    "# 遍历文件目录，将所有表格表示为 pandas 中的 DataFrame 对象\n",
    "\n",
    "# for root_dir, sub_dir, files in os.walk(r'' + dir): # 第一个为起始路径，第二个为起始路径下的文件夹，第三个是起始路径下的文件。\n",
    "\n",
    "    for root_dir, sub_dir, files in os.walk(dir): # 第一个为起始路径，第二个为起始路径下的文件夹，第三个是起始路径下的文件。\n",
    "\n",
    "        for file in files:\n",
    "\n",
    "            if file.endswith(‘xlsx’):\n",
    "\n",
    "                # 构造绝对路径\n",
    "\n",
    "                file_name = os.path.join(root_dir, file)\n",
    "\n",
    "                # df = pd.read_excel(file_name)\n",
    "\n",
    "                df_1 = list(pd.read_excel(file_name, nrows=1)) # 读取 excel 第一行数据并放进列表\n",
    "\n",
    "    # excel 第一行数据返回列表\n",
    "\n",
    "    print(file_name)\n",
    "\n",
    "    print(type(df_1))\n",
    "\n",
    "    print(df_1)\n",
    "\n",
    "    # 根据第一行列名获取每个文件中需要列的列索引，返回索引数值\n",
    "\n",
    "    suo_yin_1 = df_1.index(“Billing Country”)\n",
    "\n",
    "    suo_yin_2 = df_1.index(“Created at”)\n",
    "\n",
    "    suo_yin_3 = df_1.index(“Updated at”)\n",
    "\n",
    "    suo_yin_4 = df_1.index(“Paid Price”)\n",
    "\n",
    "    suo_yin_5 = df_1.index(“Shipment Type Name”)\n",
    "\n",
    "    suo_yin_6 = df_1.index(“Status”)\n",
    "\n",
    "    # 读取文件内容 usecols=[1, 3, 4] 读取第 1,3,4 列\n",
    "\n",
    "    df = pd.read_excel(file_name, usecols=[suo_yin_1, suo_yin_2, suo_yin_3, suo_yin_4, suo_yin_5, suo_yin_6]\n",
    "\n",
    "    , sheet_name=‘data’)\n",
    "\n",
    "    # pf = pd.read_excel('xxx.xls', usecols=[1, 3, 4], sheet_name='data')\n",
    "\n",
    "    # print(pf)\n",
    "\n",
    "    # 追加一列数据，将每个文件的名字追加进该文件的数据中，确定每条数据属于哪个文件\n",
    "\n",
    "    excel_name = file.replace(\".xlsx\", \"\") # 提取每个excel文件的名称，去掉.xlsx后缀\n",
    "\n",
    "    df[\"店铺\"] = excel_name # 新建列名为“店铺”，列数据为excel文件名\n",
    "\n",
    "    dfs.append(df) # 将新建店铺列追加进汇总excel中\n",
    "\n",
    "    # 行合并\n",
    "\n",
    "    df_concated = pd.concat(dfs)\n",
    "\n",
    "    # 构造输出目录的绝对路径\n",
    "\n",
    "    out_path = os.path.join(dir, 'res.xlsx')\n",
    "\n",
    "    # 输出到excel表格中，并删除pandas默认的index列\n",
    "\n",
    "    df_concated.to_excel(out_path, sheet_name='Sheet1', index=None)\n",
    "\n",
    "#调用并执行函数\n",
    "\n",
    "to_one_excel(r'C:甥敳獲AdministratorDesktopceshixlsx 文件’)"
   ]
  },
  {
   "cell_type": "markdown",
   "metadata": {},
   "source": [
    "3.根据条件查询找到指定行数据\n",
    "\n",
    "例如查找A部门所有成员的的姓名和工资或者工资低于3000的人：\n",
    "\n",
    "代码如下："
   ]
  },
  {
   "cell_type": "code",
   "execution_count": 13,
   "metadata": {
    "ExecuteTime": {
     "end_time": "2021-05-26T08:22:40.957092Z",
     "start_time": "2021-05-26T08:22:40.901089Z"
    }
   },
   "outputs": [
    {
     "data": {
      "application/javascript": [
       "\n",
       "        if (window._pyforest_update_imports_cell) { window._pyforest_update_imports_cell('import os'); }\n",
       "    "
      ],
      "text/plain": [
       "<IPython.core.display.Javascript object>"
      ]
     },
     "metadata": {},
     "output_type": "display_data"
    },
    {
     "name": "stdout",
     "output_type": "stream",
     "text": [
      "   部门  姓名    工资\n",
      "0   A  张三  3000\n",
      "2   A  王五  6456\n",
      "7   A  阿Y  5643\n",
      "8   A  李书  5464\n",
      "9   A  洪达  6575\n",
      "10  A  周休  9324\n",
      "11  A  陆迪  5436\n",
      "12  A  章风  8796\n",
      "16  A  神经  8546\n",
      "    姓名    工资\n",
      "4   秀儿  2345\n",
      "13  阿萨  2348\n"
     ]
    }
   ],
   "source": [
    "import pandas as pd \n",
    "\n",
    "os.chdir(r\"D:\\test\")\n",
    "excel_file = './try.xlsx'               #导入excel数据\n",
    "data = pd.read_excel(excel_file)        \n",
    "print(data.loc[data['部门']=='A',['部门','姓名','工资']])\n",
    "print(data.loc[data['工资'] < 3000, ['姓名','工资']])"
   ]
  },
  {
   "cell_type": "code",
   "execution_count": 33,
   "metadata": {
    "ExecuteTime": {
     "end_time": "2021-05-27T01:54:47.596730Z",
     "start_time": "2021-05-27T01:54:45.943636Z"
    }
   },
   "outputs": [
    {
     "data": {
      "application/javascript": [
       "\n",
       "        if (window._pyforest_update_imports_cell) { window._pyforest_update_imports_cell('import os'); }\n",
       "    "
      ],
      "text/plain": [
       "<IPython.core.display.Javascript object>"
      ]
     },
     "metadata": {},
     "output_type": "display_data"
    },
    {
     "data": {
      "application/javascript": [
       "\n",
       "        if (window._pyforest_update_imports_cell) { window._pyforest_update_imports_cell('import os'); }\n",
       "    "
      ],
      "text/plain": [
       "<IPython.core.display.Javascript object>"
      ]
     },
     "metadata": {},
     "output_type": "display_data"
    },
    {
     "data": {
      "application/javascript": [
       "\n",
       "        if (window._pyforest_update_imports_cell) { window._pyforest_update_imports_cell('import os'); }\n",
       "    "
      ],
      "text/plain": [
       "<IPython.core.display.Javascript object>"
      ]
     },
     "metadata": {},
     "output_type": "display_data"
    },
    {
     "data": {
      "application/javascript": [
       "\n",
       "        if (window._pyforest_update_imports_cell) { window._pyforest_update_imports_cell('import os'); }\n",
       "    "
      ],
      "text/plain": [
       "<IPython.core.display.Javascript object>"
      ]
     },
     "metadata": {},
     "output_type": "display_data"
    }
   ],
   "source": [
    "def to_one_excel(dir):\n",
    "    \n",
    "    os.chdir(r\"D:\\test1\")\n",
    "    file_list = []\n",
    "    for root_dir, sub_dir, files in os.walk(dir): # 第一个为起始路径，第二个为起始路径下的文件夹，第三个是起始路径下的文件。\n",
    "        for file in files:\n",
    "            if file.endswith('.xlsx'):\n",
    "                # 构造绝对路径\n",
    "                file_name = os.path.join(root_dir, file)\n",
    "                file_list.append(file_name)\n",
    "    dfs=[]\n",
    "    dfs2=[]\n",
    "    for file1 in file_list:\n",
    "        data = pd.read_excel(file1)\n",
    "        dataframe_1 =  data.loc[data['部门'] == 'A', ['姓名', '工资']]\n",
    "        dataframe_1['文件']=file1\n",
    "        dataframe_2 =  data.loc[data['工资'] < 3000, ['姓名', '工资']]\n",
    "        dataframe_2['文件']=file1\n",
    "        \n",
    "        dfs.append(dataframe_1)\n",
    "        dfs2.append(dataframe_2)\n",
    "        \n",
    "        allexcel=pd.concat( dfs)\n",
    "        allexcel2=pd.concat(dfs2)\n",
    "        \n",
    "\n",
    "    allexcel.to_excel('./finall部门.xlsx',index=False)\n",
    "    allexcel2.to_excel('./finallname.xlsx',index=False)\n",
    "        \n",
    "\n",
    "to_one_excel(r\"D:\\test1\")"
   ]
  },
  {
   "cell_type": "code",
   "execution_count": 9,
   "metadata": {
    "ExecuteTime": {
     "end_time": "2021-05-26T08:14:34.368261Z",
     "start_time": "2021-05-26T08:14:33.779227Z"
    }
   },
   "outputs": [],
   "source": [
    "\"\"\"导出为excel或csv文件\"\"\"\n",
    "dataframe_1 = data.loc[data['部门'] == 'A', ['姓名', '工资']]\n",
    "dataframe_2 = data.loc[data['工资'] < 3000, ['姓名', '工资']]\n",
    "dataframe_1.to_excel('dataframe_1.xlsx')\n",
    "dataframe_2.to_excel('dataframe_2.xlsx')\n"
   ]
  },
  {
   "cell_type": "markdown",
   "metadata": {},
   "source": [
    "4.找出指定列"
   ]
  },
  {
   "cell_type": "code",
   "execution_count": null,
   "metadata": {},
   "outputs": [],
   "source": [
    "data['columns']  #columns即你需要的字段名称即可\n",
    "#注意这列的columns不能是index的名称\n",
    "#如果要打印index的话就data.index\n",
    "data.columns  #与上面的一样\n"
   ]
  },
  {
   "cell_type": "code",
   "execution_count": null,
   "metadata": {},
   "outputs": [],
   "source": [
    "# 5.找出指定的行和指定的列\n",
    "# 主要使用的就是函数iloc\n",
    "\n",
    "data.iloc[:,:2]  #即全部行，前两列的数据  逗号前是行，逗号后是列的范围，很容易理解"
   ]
  },
  {
   "cell_type": "code",
   "execution_count": null,
   "metadata": {},
   "outputs": [],
   "source": [
    "# 6.在规定范围内找出符合条件的数据\n",
    "\n",
    "data.iloc[:10,:][data.工资>6000]\n",
    "\n",
    "# 这样即可找出前11行里工资大于6000的所有人的信息了"
   ]
  },
  {
   "cell_type": "code",
   "execution_count": 47,
   "metadata": {
    "ExecuteTime": {
     "end_time": "2021-05-27T02:12:19.717908Z",
     "start_time": "2021-05-27T02:12:19.600902Z"
    },
    "collapsed": true
   },
   "outputs": [
    {
     "data": {
      "application/javascript": [
       "\n",
       "        if (window._pyforest_update_imports_cell) { window._pyforest_update_imports_cell('import os'); }\n",
       "    "
      ],
      "text/plain": [
       "<IPython.core.display.Javascript object>"
      ]
     },
     "metadata": {},
     "output_type": "display_data"
    },
    {
     "data": {
      "application/javascript": [
       "\n",
       "        if (window._pyforest_update_imports_cell) { window._pyforest_update_imports_cell('import os'); }\n",
       "    "
      ],
      "text/plain": [
       "<IPython.core.display.Javascript object>"
      ]
     },
     "metadata": {},
     "output_type": "display_data"
    },
    {
     "data": {
      "application/javascript": [
       "\n",
       "        if (window._pyforest_update_imports_cell) { window._pyforest_update_imports_cell('import os'); }\n",
       "    "
      ],
      "text/plain": [
       "<IPython.core.display.Javascript object>"
      ]
     },
     "metadata": {},
     "output_type": "display_data"
    },
    {
     "data": {
      "application/javascript": [
       "\n",
       "        if (window._pyforest_update_imports_cell) { window._pyforest_update_imports_cell('import os'); }\n",
       "    "
      ],
      "text/plain": [
       "<IPython.core.display.Javascript object>"
      ]
     },
     "metadata": {},
     "output_type": "display_data"
    },
    {
     "data": {
      "text/html": [
       "<div>\n",
       "<style scoped>\n",
       "    .dataframe tbody tr th:only-of-type {\n",
       "        vertical-align: middle;\n",
       "    }\n",
       "\n",
       "    .dataframe tbody tr th {\n",
       "        vertical-align: top;\n",
       "    }\n",
       "\n",
       "    .dataframe thead th {\n",
       "        text-align: right;\n",
       "    }\n",
       "</style>\n",
       "<table border=\"1\" class=\"dataframe\">\n",
       "  <thead>\n",
       "    <tr style=\"text-align: right;\">\n",
       "      <th></th>\n",
       "      <th>部门</th>\n",
       "      <th>姓名</th>\n",
       "      <th>工资</th>\n",
       "    </tr>\n",
       "  </thead>\n",
       "  <tbody>\n",
       "    <tr>\n",
       "      <th>0</th>\n",
       "      <td>1</td>\n",
       "      <td>张三</td>\n",
       "      <td>3000</td>\n",
       "    </tr>\n",
       "    <tr>\n",
       "      <th>1</th>\n",
       "      <td>2</td>\n",
       "      <td>李四</td>\n",
       "      <td>6600</td>\n",
       "    </tr>\n",
       "    <tr>\n",
       "      <th>2</th>\n",
       "      <td>3</td>\n",
       "      <td>王五</td>\n",
       "      <td>6456</td>\n",
       "    </tr>\n",
       "    <tr>\n",
       "      <th>3</th>\n",
       "      <td>4</td>\n",
       "      <td>黑六</td>\n",
       "      <td>6542</td>\n",
       "    </tr>\n",
       "    <tr>\n",
       "      <th>4</th>\n",
       "      <td>5</td>\n",
       "      <td>秀儿</td>\n",
       "      <td>2345</td>\n",
       "    </tr>\n",
       "    <tr>\n",
       "      <th>5</th>\n",
       "      <td>6</td>\n",
       "      <td>阿花</td>\n",
       "      <td>6546</td>\n",
       "    </tr>\n",
       "    <tr>\n",
       "      <th>6</th>\n",
       "      <td>7</td>\n",
       "      <td>阿华</td>\n",
       "      <td>7896</td>\n",
       "    </tr>\n",
       "    <tr>\n",
       "      <th>7</th>\n",
       "      <td>8</td>\n",
       "      <td>阿Y</td>\n",
       "      <td>5643</td>\n",
       "    </tr>\n",
       "    <tr>\n",
       "      <th>8</th>\n",
       "      <td>9</td>\n",
       "      <td>李书</td>\n",
       "      <td>5464</td>\n",
       "    </tr>\n",
       "    <tr>\n",
       "      <th>9</th>\n",
       "      <td>10</td>\n",
       "      <td>洪达</td>\n",
       "      <td>6575</td>\n",
       "    </tr>\n",
       "    <tr>\n",
       "      <th>10</th>\n",
       "      <td>11</td>\n",
       "      <td>周休</td>\n",
       "      <td>9324</td>\n",
       "    </tr>\n",
       "    <tr>\n",
       "      <th>11</th>\n",
       "      <td>12</td>\n",
       "      <td>陆迪</td>\n",
       "      <td>5436</td>\n",
       "    </tr>\n",
       "    <tr>\n",
       "      <th>12</th>\n",
       "      <td>13</td>\n",
       "      <td>章风</td>\n",
       "      <td>8796</td>\n",
       "    </tr>\n",
       "    <tr>\n",
       "      <th>13</th>\n",
       "      <td>14</td>\n",
       "      <td>阿萨</td>\n",
       "      <td>2348</td>\n",
       "    </tr>\n",
       "    <tr>\n",
       "      <th>14</th>\n",
       "      <td>15</td>\n",
       "      <td>大叔</td>\n",
       "      <td>8634</td>\n",
       "    </tr>\n",
       "    <tr>\n",
       "      <th>15</th>\n",
       "      <td>16</td>\n",
       "      <td>赵彭</td>\n",
       "      <td>7453</td>\n",
       "    </tr>\n",
       "    <tr>\n",
       "      <th>16</th>\n",
       "      <td>17</td>\n",
       "      <td>神经</td>\n",
       "      <td>8546</td>\n",
       "    </tr>\n",
       "    <tr>\n",
       "      <th>17</th>\n",
       "      <td>18</td>\n",
       "      <td>大厦</td>\n",
       "      <td>9653</td>\n",
       "    </tr>\n",
       "    <tr>\n",
       "      <th>18</th>\n",
       "      <td>19</td>\n",
       "      <td>林大</td>\n",
       "      <td>7863</td>\n",
       "    </tr>\n",
       "    <tr>\n",
       "      <th>19</th>\n",
       "      <td>A</td>\n",
       "      <td>张三</td>\n",
       "      <td>3000</td>\n",
       "    </tr>\n",
       "    <tr>\n",
       "      <th>20</th>\n",
       "      <td>B</td>\n",
       "      <td>李四</td>\n",
       "      <td>6600</td>\n",
       "    </tr>\n",
       "    <tr>\n",
       "      <th>21</th>\n",
       "      <td>A</td>\n",
       "      <td>王五</td>\n",
       "      <td>6456</td>\n",
       "    </tr>\n",
       "    <tr>\n",
       "      <th>22</th>\n",
       "      <td>B</td>\n",
       "      <td>黑六</td>\n",
       "      <td>6542</td>\n",
       "    </tr>\n",
       "    <tr>\n",
       "      <th>23</th>\n",
       "      <td>C</td>\n",
       "      <td>秀儿</td>\n",
       "      <td>2345</td>\n",
       "    </tr>\n",
       "    <tr>\n",
       "      <th>24</th>\n",
       "      <td>C</td>\n",
       "      <td>阿花</td>\n",
       "      <td>6546</td>\n",
       "    </tr>\n",
       "    <tr>\n",
       "      <th>25</th>\n",
       "      <td>C</td>\n",
       "      <td>阿华</td>\n",
       "      <td>7896</td>\n",
       "    </tr>\n",
       "    <tr>\n",
       "      <th>26</th>\n",
       "      <td>A</td>\n",
       "      <td>阿Y</td>\n",
       "      <td>5643</td>\n",
       "    </tr>\n",
       "    <tr>\n",
       "      <th>27</th>\n",
       "      <td>A</td>\n",
       "      <td>李书</td>\n",
       "      <td>5464</td>\n",
       "    </tr>\n",
       "    <tr>\n",
       "      <th>28</th>\n",
       "      <td>A</td>\n",
       "      <td>洪达</td>\n",
       "      <td>6575</td>\n",
       "    </tr>\n",
       "    <tr>\n",
       "      <th>29</th>\n",
       "      <td>A</td>\n",
       "      <td>周休</td>\n",
       "      <td>9324</td>\n",
       "    </tr>\n",
       "    <tr>\n",
       "      <th>30</th>\n",
       "      <td>A</td>\n",
       "      <td>陆迪</td>\n",
       "      <td>5436</td>\n",
       "    </tr>\n",
       "    <tr>\n",
       "      <th>31</th>\n",
       "      <td>A</td>\n",
       "      <td>章风</td>\n",
       "      <td>8796</td>\n",
       "    </tr>\n",
       "    <tr>\n",
       "      <th>32</th>\n",
       "      <td>B</td>\n",
       "      <td>阿萨</td>\n",
       "      <td>2348</td>\n",
       "    </tr>\n",
       "    <tr>\n",
       "      <th>33</th>\n",
       "      <td>B</td>\n",
       "      <td>大叔</td>\n",
       "      <td>8634</td>\n",
       "    </tr>\n",
       "    <tr>\n",
       "      <th>34</th>\n",
       "      <td>B</td>\n",
       "      <td>赵彭</td>\n",
       "      <td>7453</td>\n",
       "    </tr>\n",
       "    <tr>\n",
       "      <th>35</th>\n",
       "      <td>A</td>\n",
       "      <td>神经</td>\n",
       "      <td>8546</td>\n",
       "    </tr>\n",
       "    <tr>\n",
       "      <th>36</th>\n",
       "      <td>C</td>\n",
       "      <td>大厦</td>\n",
       "      <td>9653</td>\n",
       "    </tr>\n",
       "    <tr>\n",
       "      <th>37</th>\n",
       "      <td>B</td>\n",
       "      <td>林大</td>\n",
       "      <td>7863</td>\n",
       "    </tr>\n",
       "  </tbody>\n",
       "</table>\n",
       "</div>"
      ],
      "text/plain": [
       "    部门  姓名    工资\n",
       "0    1  张三  3000\n",
       "1    2  李四  6600\n",
       "2    3  王五  6456\n",
       "3    4  黑六  6542\n",
       "4    5  秀儿  2345\n",
       "5    6  阿花  6546\n",
       "6    7  阿华  7896\n",
       "7    8  阿Y  5643\n",
       "8    9  李书  5464\n",
       "9   10  洪达  6575\n",
       "10  11  周休  9324\n",
       "11  12  陆迪  5436\n",
       "12  13  章风  8796\n",
       "13  14  阿萨  2348\n",
       "14  15  大叔  8634\n",
       "15  16  赵彭  7453\n",
       "16  17  神经  8546\n",
       "17  18  大厦  9653\n",
       "18  19  林大  7863\n",
       "19   A  张三  3000\n",
       "20   B  李四  6600\n",
       "21   A  王五  6456\n",
       "22   B  黑六  6542\n",
       "23   C  秀儿  2345\n",
       "24   C  阿花  6546\n",
       "25   C  阿华  7896\n",
       "26   A  阿Y  5643\n",
       "27   A  李书  5464\n",
       "28   A  洪达  6575\n",
       "29   A  周休  9324\n",
       "30   A  陆迪  5436\n",
       "31   A  章风  8796\n",
       "32   B  阿萨  2348\n",
       "33   B  大叔  8634\n",
       "34   B  赵彭  7453\n",
       "35   A  神经  8546\n",
       "36   C  大厦  9653\n",
       "37   B  林大  7863"
      ]
     },
     "execution_count": 47,
     "metadata": {},
     "output_type": "execute_result"
    }
   ],
   "source": [
    "os.chdir(r\"D:\\test1\")\n",
    "dir_str=r'D:\\test1'\n",
    "file_name_list=os.listdir(dir_str)\n",
    "file_dir_list=[os.path.join(dir_str,x) for x in file_name_list]\n",
    "df=pd.DataFrame()\n",
    "for i in file_name_list:\n",
    "    if (i[-4:]=='xlsx'):\n",
    "        EXCEL1=pd.read_excel(i,sheet_name='Sheet1')\n",
    "        df=pd.concat([df,EXCEL1],ignore_index=True)\n",
    "df"
   ]
  },
  {
   "cell_type": "code",
   "execution_count": null,
   "metadata": {},
   "outputs": [],
   "source": []
  }
 ],
 "metadata": {
  "kernelspec": {
   "display_name": "Python 3",
   "language": "python",
   "name": "python3"
  },
  "language_info": {
   "codemirror_mode": {
    "name": "ipython",
    "version": 3
   },
   "file_extension": ".py",
   "mimetype": "text/x-python",
   "name": "python",
   "nbconvert_exporter": "python",
   "pygments_lexer": "ipython3",
   "version": "3.8.5"
  },
  "toc": {
   "base_numbering": 1,
   "nav_menu": {},
   "number_sections": true,
   "sideBar": true,
   "skip_h1_title": false,
   "title_cell": "Table of Contents",
   "title_sidebar": "Contents",
   "toc_cell": false,
   "toc_position": {},
   "toc_section_display": true,
   "toc_window_display": false
  }
 },
 "nbformat": 4,
 "nbformat_minor": 4
}
