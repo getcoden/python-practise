{
 "cells": [
  {
   "cell_type": "markdown",
   "metadata": {},
   "source": [
    "下载单个视频的["
   ]
  },
  {
   "cell_type": "code",
   "execution_count": 2,
   "metadata": {},
   "outputs": [
    {
     "name": "stdout",
     "output_type": "stream",
     "text": [
      "[youtube] iZCpDeowWYQ: Downloading webpage\n",
      "[youtube] iZCpDeowWYQ: Downloading MPD manifest\n",
      "[download] Destination: Users\\shiying\\Documents\\PythonABC_Book\\bookProg\\demo\\tmp\\孩子学编程Python 第0课--课程介绍.mp4\n",
      "[download] 100% of 25.11MiB in 01:52                  \n"
     ]
    },
    {
     "data": {
      "text/plain": [
       "0"
      ]
     },
     "execution_count": 2,
     "metadata": {},
     "output_type": "execute_result"
    }
   ],
   "source": [
    "import youtube_dl\n",
    "\n",
    "# 设定\n",
    "destPath = '/Users/shiying/Documents/PythonABC_Book/bookProg/demo/tmp/'    # 音频文件存放的目标字串\n",
    "videoPage = 'https://www.youtube.com/watch?v=iZCpDeowWYQ'\n",
    "\n",
    "ydl_opts = {                              # 设定下载选项\n",
    "            'outtmpl': destPath+'%(title)s.%(ext)s',\n",
    "            'format': 'best',                \n",
    "            }      \n",
    "ydl = youtube_dl.YoutubeDL(ydl_opts)\n",
    "ydl.download([videoPage])                 # 下载视频"
   ]
  },
  {
   "cell_type": "code",
   "execution_count": 2,
   "metadata": {},
   "outputs": [
    {
     "name": "stdout",
     "output_type": "stream",
     "text": [
      "[BiliBili] 1wD4y1o7AS: Downloading webpage\n",
      "[BiliBili] 1wD4y1o7AS: Downloading video info page\n",
      "[download] Destination: Users\\shiying\\Documents\\PythonABC_Book\\bookProg\\demo\\tmp\\活动作品花了2万多买的Python教程全套，现在分享给大家，入门到精通(Python全栈开发教程).flv\n",
      "[download] 100% of 43.87MiB in 01:24                  \n",
      "\n",
      "下载完毕后再输出视频信息：\n",
      "downloaded_bytes: 45998221\n",
      "total_bytes: 45998221\n",
      "filename: Users\\shiying\\Documents\\PythonABC_Book\\bookProg\\demo\\tmp\\活动作品花了2万多买的Python教程全套，现在分享给大家，入门到精通(Python全栈开发教程).flv\n",
      "status: finished\n",
      "elapsed: 84.54283547401428\n",
      "_total_bytes_str: 43.87MiB\n",
      "_elapsed_str: 01:24\n"
     ]
    },
    {
     "data": {
      "text/plain": [
       "0"
      ]
     },
     "execution_count": 2,
     "metadata": {},
     "output_type": "execute_result"
    }
   ],
   "source": [
    "import youtube_dl\n",
    "\n",
    "# 视频下载后的存放位置和视频链接\n",
    "\n",
    "destPath = '/Users/shiying/Documents/PythonABC_Book/bookProg/demo/tmp/'    \n",
    "# 音频文件存放的目标字串\n",
    "videoPage = 'https://www.bilibili.com/video/BV1wD4y1o7AS/?spm_id_from=333.788.videocard.2'\n",
    "\n",
    "# 钩子函数\n",
    "def my_hook(d):\n",
    "    if d['status'] == 'finished':\n",
    "    # 如果视频下载完毕\n",
    "        print('\\n下载完毕后再输出视频信息：')\n",
    "        for key, value in d.items():\n",
    "            print(\"{}: {}\".format(key, value))\n",
    "\n",
    "ydl_opts = {\n",
    "            'outtmpl': destPath+'%(title)s.%(ext)s',\n",
    "            'format': 'best',\n",
    "            'progress_hooks': [my_hook],           \n",
    "             # 配置处理结果的钩子函数，函数传入的是一个视频信息的字典\n",
    "            }\n",
    "ydl = youtube_dl.YoutubeDL(ydl_opts)\n",
    "ydl.download([videoPage])                     # 下载视频"
   ]
  },
  {
   "cell_type": "code",
   "execution_count": null,
   "metadata": {},
   "outputs": [],
   "source": []
  }
 ],
 "metadata": {
  "kernelspec": {
   "display_name": "Python 3",
   "language": "python",
   "name": "python3"
  },
  "language_info": {
   "codemirror_mode": {
    "name": "ipython",
    "version": 3
   },
   "file_extension": ".py",
   "mimetype": "text/x-python",
   "name": "python",
   "nbconvert_exporter": "python",
   "pygments_lexer": "ipython3",
   "version": "3.8.5"
  },
  "toc": {
   "base_numbering": 1,
   "nav_menu": {},
   "number_sections": true,
   "sideBar": true,
   "skip_h1_title": false,
   "title_cell": "Table of Contents",
   "title_sidebar": "Contents",
   "toc_cell": false,
   "toc_position": {},
   "toc_section_display": true,
   "toc_window_display": false
  }
 },
 "nbformat": 4,
 "nbformat_minor": 4
}
