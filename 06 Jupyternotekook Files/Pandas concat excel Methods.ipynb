{
 "cells": [
  {
   "cell_type": "markdown",
   "metadata": {},
   "source": [
    "#Pandas concat excel 多种操作方法"
   ]
  },
  {
   "cell_type": "code",
   "execution_count": 1,
   "metadata": {},
   "outputs": [],
   "source": [
    "import pandas as pd\n",
    "dict=[[1,2,3,4,5,6],[2,3,4,5,6,7],[3,4,5,6,7,8],[4,5,6,7,8,9],[5,6,7,8,9,10]]"
   ]
  },
  {
   "cell_type": "code",
   "execution_count": 2,
   "metadata": {},
   "outputs": [],
   "source": [
    "data = pd.DataFrame(dict)"
   ]
  },
  {
   "cell_type": "code",
   "execution_count": 3,
   "metadata": {},
   "outputs": [
    {
     "data": {
      "text/html": [
       "<div>\n",
       "<style scoped>\n",
       "    .dataframe tbody tr th:only-of-type {\n",
       "        vertical-align: middle;\n",
       "    }\n",
       "\n",
       "    .dataframe tbody tr th {\n",
       "        vertical-align: top;\n",
       "    }\n",
       "\n",
       "    .dataframe thead th {\n",
       "        text-align: right;\n",
       "    }\n",
       "</style>\n",
       "<table border=\"1\" class=\"dataframe\">\n",
       "  <thead>\n",
       "    <tr style=\"text-align: right;\">\n",
       "      <th></th>\n",
       "      <th>0</th>\n",
       "      <th>1</th>\n",
       "      <th>2</th>\n",
       "      <th>3</th>\n",
       "      <th>4</th>\n",
       "      <th>5</th>\n",
       "    </tr>\n",
       "  </thead>\n",
       "  <tbody>\n",
       "    <tr>\n",
       "      <th>0</th>\n",
       "      <td>1</td>\n",
       "      <td>2</td>\n",
       "      <td>3</td>\n",
       "      <td>4</td>\n",
       "      <td>5</td>\n",
       "      <td>6</td>\n",
       "    </tr>\n",
       "    <tr>\n",
       "      <th>1</th>\n",
       "      <td>2</td>\n",
       "      <td>3</td>\n",
       "      <td>4</td>\n",
       "      <td>5</td>\n",
       "      <td>6</td>\n",
       "      <td>7</td>\n",
       "    </tr>\n",
       "    <tr>\n",
       "      <th>2</th>\n",
       "      <td>3</td>\n",
       "      <td>4</td>\n",
       "      <td>5</td>\n",
       "      <td>6</td>\n",
       "      <td>7</td>\n",
       "      <td>8</td>\n",
       "    </tr>\n",
       "    <tr>\n",
       "      <th>3</th>\n",
       "      <td>4</td>\n",
       "      <td>5</td>\n",
       "      <td>6</td>\n",
       "      <td>7</td>\n",
       "      <td>8</td>\n",
       "      <td>9</td>\n",
       "    </tr>\n",
       "    <tr>\n",
       "      <th>4</th>\n",
       "      <td>5</td>\n",
       "      <td>6</td>\n",
       "      <td>7</td>\n",
       "      <td>8</td>\n",
       "      <td>9</td>\n",
       "      <td>10</td>\n",
       "    </tr>\n",
       "  </tbody>\n",
       "</table>\n",
       "</div>"
      ],
      "text/plain": [
       "   0  1  2  3  4   5\n",
       "0  1  2  3  4  5   6\n",
       "1  2  3  4  5  6   7\n",
       "2  3  4  5  6  7   8\n",
       "3  4  5  6  7  8   9\n",
       "4  5  6  7  8  9  10"
      ]
     },
     "execution_count": 3,
     "metadata": {},
     "output_type": "execute_result"
    }
   ],
   "source": [
    "data"
   ]
  },
  {
   "cell_type": "code",
   "execution_count": 4,
   "metadata": {},
   "outputs": [
    {
     "name": "stdout",
     "output_type": "stream",
     "text": [
      "[1 2 3 4 5]\n",
      "[2 3 4 5 6]\n",
      "[3 4 5 6 7]\n",
      "[4 5 6 7 8]\n",
      "[5 6 7 8 9]\n"
     ]
    }
   ],
   "source": [
    "for indexs in data.index:\n",
    "    print(data.loc[indexs].values[0:-1])"
   ]
  },
  {
   "cell_type": "code",
   "execution_count": 10,
   "metadata": {},
   "outputs": [
    {
     "ename": "SyntaxError",
     "evalue": "invalid syntax (<ipython-input-10-62067f91a10c>, line 10)",
     "output_type": "error",
     "traceback": [
      "\u001b[1;36m  File \u001b[1;32m\"<ipython-input-10-62067f91a10c>\"\u001b[1;36m, line \u001b[1;32m10\u001b[0m\n\u001b[1;33m    dd = index +=1\u001b[0m\n\u001b[1;37m               ^\u001b[0m\n\u001b[1;31mSyntaxError\u001b[0m\u001b[1;31m:\u001b[0m invalid syntax\n"
     ]
    }
   ],
   "source": [
    "import os\n",
    "import pandas as pd \n",
    "dir = 'test/'\n",
    "filenames = os.listdir(dir)\n",
    "index = 0\n",
    "dfs = []\n",
    "for name in filenames:\n",
    "    print(index)\n",
    "    dfs.append(pd.read_excel(os.path.join(dir,name)))\n",
    "    index +=1\n",
    "df = pd.concat(dfs)\n",
    "df.to_excel('data/total.xlsx',index= False)   不可用"
   ]
  },
  {
   "cell_type": "code",
   "execution_count": 11,
   "metadata": {},
   "outputs": [
    {
     "ename": "IndentationError",
     "evalue": "unexpected indent (<ipython-input-11-4ce0c898f66f>, line 5)",
     "output_type": "error",
     "traceback": [
      "\u001b[1;36m  File \u001b[1;32m\"<ipython-input-11-4ce0c898f66f>\"\u001b[1;36m, line \u001b[1;32m5\u001b[0m\n\u001b[1;33m    self.ext1.pack(side = LEFT, padx = 2,pady = 10)\u001b[0m\n\u001b[1;37m    ^\u001b[0m\n\u001b[1;31mIndentationError\u001b[0m\u001b[1;31m:\u001b[0m unexpected indent\n"
     ]
    }
   ],
   "source": [
    "import tkinter.filedialog as tkFD\n",
    " \n",
    "def __init__(self, root):\n",
    "    self.ext1 = Button(self.frame[1], text=\"选择文件\", command=self.openfile,width = 10)\n",
    "        self.ext1.pack(side = LEFT, padx = 2,pady = 10)\n",
    "        self.txt = Text(self.frame[1],height = 1,width = 80)\n",
    "        self.txt.pack(side = LEFT, padx = 2,pady = 10)\n",
    " \n",
    "        self.ext3 = Button(self.frame[3], text=\"选择根目录\", command=self.opendir,width = 10)\n",
    "        self.ext3.pack(side = LEFT, padx = 2,pady = 10)       \n",
    "        self.path = Text(self.frame[3],height = 1,width = 40)\n",
    "        self.path.pack(side = LEFT, padx = 2,pady = 10)\n",
    " \n",
    "def openfile(self):\n",
    "        self.filename=tkFD.askopenfilename(filetypes=[(\"Excel 工作簿\", \".xls\")])\n",
    "        self.txt.delete(1.0,END)\n",
    "        self.txt.insert(1.0,self.filename)\n",
    "   \n",
    "def opendir(self):\n",
    "        self.pathname=tkFD.askdirectory()\n",
    "        self.path.delete(1.0,END)\n",
    "        self.path.insert(1.0,self.pathname)"
   ]
  },
  {
   "cell_type": "code",
   "execution_count": 15,
   "metadata": {
    "collapsed": true
   },
   "outputs": [
    {
     "ename": "ModuleNotFoundError",
     "evalue": "No module named 'Tkinter'",
     "output_type": "error",
     "traceback": [
      "\u001b[1;31m---------------------------------------------------------------------------\u001b[0m",
      "\u001b[1;31mModuleNotFoundError\u001b[0m                       Traceback (most recent call last)",
      "\u001b[1;32m<ipython-input-15-9d3d1f2b1bae>\u001b[0m in \u001b[0;36m<module>\u001b[1;34m\u001b[0m\n\u001b[0;32m      3\u001b[0m \u001b[1;32mimport\u001b[0m \u001b[0mpandas\u001b[0m \u001b[1;32mas\u001b[0m \u001b[0mpd\u001b[0m\u001b[1;33m\u001b[0m\u001b[1;33m\u001b[0m\u001b[0m\n\u001b[0;32m      4\u001b[0m \u001b[1;32mimport\u001b[0m \u001b[0mos\u001b[0m\u001b[1;33m\u001b[0m\u001b[1;33m\u001b[0m\u001b[0m\n\u001b[1;32m----> 5\u001b[1;33m \u001b[1;32mfrom\u001b[0m \u001b[0mTkinter\u001b[0m \u001b[1;32mimport\u001b[0m \u001b[1;33m*\u001b[0m\u001b[1;33m\u001b[0m\u001b[1;33m\u001b[0m\u001b[0m\n\u001b[0m\u001b[0;32m      6\u001b[0m \u001b[1;32mfrom\u001b[0m \u001b[0mtkFileDialog\u001b[0m \u001b[1;32mimport\u001b[0m \u001b[1;33m*\u001b[0m\u001b[1;33m\u001b[0m\u001b[1;33m\u001b[0m\u001b[0m\n\u001b[0;32m      7\u001b[0m \u001b[1;33m\u001b[0m\u001b[0m\n",
      "\u001b[1;31mModuleNotFoundError\u001b[0m: No module named 'Tkinter'"
     ]
    }
   ],
   "source": [
    "#!/usr/bin/env python\n",
    "# -*- coding:utf-8 -*-\n",
    "import pandas as pd\n",
    "import os\n",
    "from Tkinter import *\n",
    "from tkFileDialog import *\n",
    " \n",
    "class App:\n",
    "    def __init__(self, root):\n",
    "        frame = Frame(root)  # container\n",
    "        frame.pack()\n",
    " \n",
    "        self.button1 = Button(frame, text=\"Excel文件夹\", command=self.filefound1, width=20, height=1).grid(row=0, column=0)\n",
    "        self.button2 = Button(frame, text=\"运行\", command=self.eachFile, width=20, height=1).grid(row=3, column=0)\n",
    "        self.button3 = Button(frame, text=\"退出\", command=frame.quit, width=20, height=1).grid(row=4, column=0)\n",
    " \n",
    "        self.e = Entry(frame)\n",
    "        self.e.grid(row=0, column=2)\n",
    "        self.e.delete(0, END)  # 将输入框里面的内容清空\n",
    "        self.e.insert(0, '显示文件路径')\n",
    " \n",
    "        self.filepath = StringVar()\n",
    "        self.frames = []\n",
    " \n",
    "    def filefound1(self):\n",
    "        self.filepath = askdirectory()\n",
    "        print (self.filepath)\n",
    "        self.e.delete(0, END)  # 将输入框里面的内容清空\n",
    "        self.e.insert(0, self.filepath)\n",
    "        return self.filepath\n",
    " \n",
    "    # 遍历指定目录，显示目录下的所有文件名\n",
    "    def eachFile(self):\n",
    "        pathDir = os.listdir(self.filepath)\n",
    "        for allDir in pathDir:\n",
    "            if allDir[-4:] == 'xlsx' or allDir[-4:] == 'xls':\n",
    "                child = os.path.join('%s\\%s' % (self.filepath, allDir))\n",
    "                print (child)  # .decode('gbk')是解决中文显示乱码问题\n",
    "                df = pd.DataFrame(pd.read_excel(child))\n",
    "                self.frames.append(df)\n",
    "        result = pd.concat(self.frames)\n",
    "        # 保存文件\n",
    "        savepath = self.filepath + u'\\\\excel_to_python.xlsx'\n",
    "        result.to_excel(savepath, sheet_name='bluewhale_cc')\n",
    " \n",
    "if __name__ == '__main__':\n",
    "    root = Tk()\n",
    "    root.title('Excel文件合并')\n",
    "    app = App(root)\n",
    "    root.mainloop()"
   ]
  },
  {
   "cell_type": "code",
   "execution_count": 25,
   "metadata": {
    "collapsed": true
   },
   "outputs": [
    {
     "ename": "ValueError",
     "evalue": "No objects to concatenate",
     "output_type": "error",
     "traceback": [
      "\u001b[1;31m---------------------------------------------------------------------------\u001b[0m",
      "\u001b[1;31mValueError\u001b[0m                                Traceback (most recent call last)",
      "\u001b[1;32m<ipython-input-25-6bebae8c8d55>\u001b[0m in \u001b[0;36m<module>\u001b[1;34m\u001b[0m\n\u001b[0;32m     47\u001b[0m     \u001b[0mfile_dir_path\u001b[0m \u001b[1;33m=\u001b[0m \u001b[0mos\u001b[0m\u001b[1;33m.\u001b[0m\u001b[0mpath\u001b[0m\u001b[1;33m.\u001b[0m\u001b[0mjoin\u001b[0m\u001b[1;33m(\u001b[0m\u001b[0msys\u001b[0m\u001b[1;33m.\u001b[0m\u001b[0mpath\u001b[0m\u001b[1;33m[\u001b[0m\u001b[1;36m0\u001b[0m\u001b[1;33m]\u001b[0m\u001b[1;33m,\u001b[0m \u001b[1;34mr'D:\\Wowode\\jupyterlab\\test'\u001b[0m\u001b[1;33m)\u001b[0m\u001b[1;33m\u001b[0m\u001b[1;33m\u001b[0m\u001b[0m\n\u001b[0;32m     48\u001b[0m     \u001b[0mout_file_path\u001b[0m \u001b[1;33m=\u001b[0m \u001b[0mos\u001b[0m\u001b[1;33m.\u001b[0m\u001b[0mpath\u001b[0m\u001b[1;33m.\u001b[0m\u001b[0mjoin\u001b[0m\u001b[1;33m(\u001b[0m\u001b[0msys\u001b[0m\u001b[1;33m.\u001b[0m\u001b[0mpath\u001b[0m\u001b[1;33m[\u001b[0m\u001b[1;36m0\u001b[0m\u001b[1;33m]\u001b[0m\u001b[1;33m,\u001b[0m \u001b[1;34mr'D:\\Wowode\\jupyterlab\\test'\u001b[0m\u001b[1;33m)\u001b[0m\u001b[1;33m\u001b[0m\u001b[1;33m\u001b[0m\u001b[0m\n\u001b[1;32m---> 49\u001b[1;33m     \u001b[0mmerge_xlsx_files\u001b[0m\u001b[1;33m(\u001b[0m\u001b[0mfile_dir_path\u001b[0m\u001b[1;33m,\u001b[0m \u001b[0mout_file_path\u001b[0m\u001b[1;33m,\u001b[0m \u001b[1;33m[\u001b[0m\u001b[1;34m'xlsx'\u001b[0m\u001b[1;33m]\u001b[0m\u001b[1;33m)\u001b[0m\u001b[1;33m\u001b[0m\u001b[1;33m\u001b[0m\u001b[0m\n\u001b[0m\u001b[0;32m     50\u001b[0m \u001b[1;33m\u001b[0m\u001b[0m\n",
      "\u001b[1;32m<ipython-input-25-6bebae8c8d55>\u001b[0m in \u001b[0;36mmerge_xlsx_files\u001b[1;34m(file_dir_path, out_file_path, file_type_list, out_file_name)\u001b[0m\n\u001b[0;32m     40\u001b[0m         \u001b[0mprint\u001b[0m\u001b[1;33m(\u001b[0m\u001b[1;34mf'file={file}'\u001b[0m\u001b[1;33m)\u001b[0m\u001b[1;33m\u001b[0m\u001b[1;33m\u001b[0m\u001b[0m\n\u001b[0;32m     41\u001b[0m         \u001b[0mdfs\u001b[0m\u001b[1;33m.\u001b[0m\u001b[0mappend\u001b[0m\u001b[1;33m(\u001b[0m\u001b[0mpd\u001b[0m\u001b[1;33m.\u001b[0m\u001b[0mread_excel\u001b[0m\u001b[1;33m(\u001b[0m\u001b[0mfile\u001b[0m\u001b[1;33m)\u001b[0m\u001b[1;33m)\u001b[0m\u001b[1;33m\u001b[0m\u001b[1;33m\u001b[0m\u001b[0m\n\u001b[1;32m---> 42\u001b[1;33m     \u001b[0mdf\u001b[0m \u001b[1;33m=\u001b[0m \u001b[0mpd\u001b[0m\u001b[1;33m.\u001b[0m\u001b[0mconcat\u001b[0m\u001b[1;33m(\u001b[0m\u001b[0mdfs\u001b[0m\u001b[1;33m)\u001b[0m\u001b[1;33m\u001b[0m\u001b[1;33m\u001b[0m\u001b[0m\n\u001b[0m\u001b[0;32m     43\u001b[0m     \u001b[0mdf\u001b[0m\u001b[1;33m.\u001b[0m\u001b[0mto_excel\u001b[0m\u001b[1;33m(\u001b[0m\u001b[0mos\u001b[0m\u001b[1;33m.\u001b[0m\u001b[0mpath\u001b[0m\u001b[1;33m.\u001b[0m\u001b[0mjoin\u001b[0m\u001b[1;33m(\u001b[0m\u001b[0mout_file_path\u001b[0m\u001b[1;33m,\u001b[0m \u001b[0mout_file_name\u001b[0m\u001b[1;33m)\u001b[0m\u001b[1;33m,\u001b[0m \u001b[0mindex\u001b[0m\u001b[1;33m=\u001b[0m\u001b[1;32mFalse\u001b[0m\u001b[1;33m)\u001b[0m\u001b[1;33m\u001b[0m\u001b[1;33m\u001b[0m\u001b[0m\n\u001b[0;32m     44\u001b[0m     \u001b[0mprint\u001b[0m\u001b[1;33m(\u001b[0m\u001b[1;34mf'out_file_path={out_file_path}'\u001b[0m\u001b[1;33m)\u001b[0m\u001b[1;33m\u001b[0m\u001b[1;33m\u001b[0m\u001b[0m\n",
      "\u001b[1;32mc:\\users\\star\\appdata\\local\\programs\\python\\python38\\lib\\site-packages\\pandas\\core\\reshape\\concat.py\u001b[0m in \u001b[0;36mconcat\u001b[1;34m(objs, axis, join, ignore_index, keys, levels, names, verify_integrity, sort, copy)\u001b[0m\n\u001b[0;32m    272\u001b[0m     \u001b[0mValueError\u001b[0m\u001b[1;33m:\u001b[0m \u001b[0mIndexes\u001b[0m \u001b[0mhave\u001b[0m \u001b[0moverlapping\u001b[0m \u001b[0mvalues\u001b[0m\u001b[1;33m:\u001b[0m \u001b[1;33m[\u001b[0m\u001b[1;34m'a'\u001b[0m\u001b[1;33m]\u001b[0m\u001b[1;33m\u001b[0m\u001b[1;33m\u001b[0m\u001b[0m\n\u001b[0;32m    273\u001b[0m     \"\"\"\n\u001b[1;32m--> 274\u001b[1;33m     op = _Concatenator(\n\u001b[0m\u001b[0;32m    275\u001b[0m         \u001b[0mobjs\u001b[0m\u001b[1;33m,\u001b[0m\u001b[1;33m\u001b[0m\u001b[1;33m\u001b[0m\u001b[0m\n\u001b[0;32m    276\u001b[0m         \u001b[0maxis\u001b[0m\u001b[1;33m=\u001b[0m\u001b[0maxis\u001b[0m\u001b[1;33m,\u001b[0m\u001b[1;33m\u001b[0m\u001b[1;33m\u001b[0m\u001b[0m\n",
      "\u001b[1;32mc:\\users\\star\\appdata\\local\\programs\\python\\python38\\lib\\site-packages\\pandas\\core\\reshape\\concat.py\u001b[0m in \u001b[0;36m__init__\u001b[1;34m(self, objs, axis, join, keys, levels, names, ignore_index, verify_integrity, copy, sort)\u001b[0m\n\u001b[0;32m    329\u001b[0m \u001b[1;33m\u001b[0m\u001b[0m\n\u001b[0;32m    330\u001b[0m         \u001b[1;32mif\u001b[0m \u001b[0mlen\u001b[0m\u001b[1;33m(\u001b[0m\u001b[0mobjs\u001b[0m\u001b[1;33m)\u001b[0m \u001b[1;33m==\u001b[0m \u001b[1;36m0\u001b[0m\u001b[1;33m:\u001b[0m\u001b[1;33m\u001b[0m\u001b[1;33m\u001b[0m\u001b[0m\n\u001b[1;32m--> 331\u001b[1;33m             \u001b[1;32mraise\u001b[0m \u001b[0mValueError\u001b[0m\u001b[1;33m(\u001b[0m\u001b[1;34m\"No objects to concatenate\"\u001b[0m\u001b[1;33m)\u001b[0m\u001b[1;33m\u001b[0m\u001b[1;33m\u001b[0m\u001b[0m\n\u001b[0m\u001b[0;32m    332\u001b[0m \u001b[1;33m\u001b[0m\u001b[0m\n\u001b[0;32m    333\u001b[0m         \u001b[1;32mif\u001b[0m \u001b[0mkeys\u001b[0m \u001b[1;32mis\u001b[0m \u001b[1;32mNone\u001b[0m\u001b[1;33m:\u001b[0m\u001b[1;33m\u001b[0m\u001b[1;33m\u001b[0m\u001b[0m\n",
      "\u001b[1;31mValueError\u001b[0m: No objects to concatenate"
     ]
    }
   ],
   "source": [
    "import os\n",
    "import sys\n",
    "import xlrd\n",
    "import xlsxwriter\n",
    "import pandas as pd\n",
    "\n",
    "\n",
    "def get_file_list(dir, file_type_list=['txt', 'csv', 'xlsx', 'xls'], file_list=[]):\n",
    "    '''\n",
    "    获取指定文件夹下指定类型文件路径\n",
    "    :param dir: 文件夹路径\n",
    "    :param file_type_list: 文件类型\n",
    "    :param file_list: 文件列表\n",
    "    :return:\n",
    "    '''\n",
    "    for root, _, files in os.walk(dir):\n",
    "        for file in files:\n",
    "            file_type = file[file.rfind('.') + 1:]\n",
    "            if file_type in file_type_list:\n",
    "                file_list.append(os.path.join(root, file))\n",
    "    return file_list\n",
    "\n",
    "\n",
    "def merge_xlsx_files(file_dir_path, out_file_path,\n",
    "                     file_type_list=['txt', 'csv', 'xlsx', 'xls'],\n",
    "                     out_file_name='result.xlsx'):\n",
    "    '''\n",
    "    合并目录下指定类型的文件\n",
    "    :param file_dir_path: 文件夹路径\n",
    "    :param out_file_path:  输出文件夹路径\n",
    "    :param file_type_list: 需要合并的文件类型\n",
    "    :param out_file_name:  输出文件名称\n",
    "    :return:\n",
    "    '''\n",
    "    file_paths = get_file_list(file_dir_path, file_type_list)\n",
    "    if not os.path.exists(out_file_path):\n",
    "        os.makedirs(out_file_path)\n",
    "    dfs = []\n",
    "    for file in file_paths:\n",
    "        print(f'file={file}')\n",
    "        dfs.append(pd.read_excel(file))\n",
    "    df = pd.concat(dfs)\n",
    "    df.to_excel(os.path.join(out_file_path, out_file_name), index=False)\n",
    "    print(f'out_file_path={out_file_path}')\n",
    "    \n",
    "if __name__ == '__main__':\n",
    "    file_dir_path = os.path.join(sys.path[0], r'D:\\Wowode\\jupyterlab\\test')\n",
    "    out_file_path = os.path.join(sys.path[0], r'D:\\Wowode\\jupyterlab\\test')\n",
    "    merge_xlsx_files(file_dir_path, out_file_path, ['xlsx'])\n",
    "\n"
   ]
  },
  {
   "cell_type": "code",
   "execution_count": 34,
   "metadata": {},
   "outputs": [
    {
     "name": "stderr",
     "output_type": "stream",
     "text": [
      "c:\\users\\star\\appdata\\local\\programs\\python\\python38\\lib\\site-packages\\pandas\\core\\internals\\construction.py:305: VisibleDeprecationWarning: Creating an ndarray from ragged nested sequences (which is a list-or-tuple of lists-or-tuples-or ndarrays with different lengths or shapes) is deprecated. If you meant to do this, you must specify 'dtype=object' when creating the ndarray\n",
      "  values = np.array([convert(v) for v in values])\n"
     ]
    }
   ],
   "source": [
    "import pandas as pd\n",
    "import os\n",
    "\n",
    "path = r\"D:\\Wowode\\jupyterlab\\test\"\n",
    "\n",
    "'''创建源数据数组df，通地for循环遍历文件夹下excel名字，并逐个生成数据，最后添加进df数组'''\n",
    "dfs = []\n",
    "for i in os.listdir(path):\n",
    "    name = os.path.join(path,i)                       #路径+单个文件夹名 为str类型\n",
    "    single = pd.read_excel(name)\n",
    "    dfs.append(single)\n",
    "df = pd.concat(dfs)\n",
    "df=pd.DataFrame(dfs)\n"
   ]
  },
  {
   "cell_type": "code",
   "execution_count": 36,
   "metadata": {
    "collapsed": true
   },
   "outputs": [
    {
     "name": "stdout",
     "output_type": "stream",
     "text": [
      "请输入文件夹绝对路径：D:\\Wowode\\jupyterlab\\test\n",
      "21体侧数据模板.xls处理完成\n",
      "22体侧数据模板.xls处理完成\n",
      "23体侧数据模板.xls处理完成\n",
      "24体侧数据模板.xls处理完成\n",
      "25体侧数据模板.xls处理完成\n",
      "26体侧数据模板.xls处理完成\n",
      "27体侧数据模板.xls处理完成\n",
      "28体侧数据模板.xls处理完成\n"
     ]
    },
    {
     "ename": "KeyboardInterrupt",
     "evalue": "Interrupted by user",
     "output_type": "error",
     "traceback": [
      "\u001b[1;31m---------------------------------------------------------------------------\u001b[0m",
      "\u001b[1;31mKeyboardInterrupt\u001b[0m                         Traceback (most recent call last)",
      "\u001b[1;32m<ipython-input-36-da18d6c8cd70>\u001b[0m in \u001b[0;36m<module>\u001b[1;34m\u001b[0m\n\u001b[0;32m      7\u001b[0m     \u001b[0mfo\u001b[0m\u001b[1;33m.\u001b[0m\u001b[0mwrite\u001b[0m\u001b[1;33m(\u001b[0m\u001b[1;34m'单位'\u001b[0m\u001b[1;33m+\u001b[0m\u001b[1;34m','\u001b[0m\u001b[1;33m+\u001b[0m\u001b[1;34m'时间'\u001b[0m\u001b[1;33m+\u001b[0m\u001b[1;34m','\u001b[0m\u001b[1;33m+\u001b[0m\u001b[1;34m'事件'\u001b[0m\u001b[1;33m+\u001b[0m\u001b[1;34m','\u001b[0m\u001b[1;33m+\u001b[0m\u001b[1;34m'地址'\u001b[0m\u001b[1;33m+\u001b[0m \u001b[1;34m'\\n'\u001b[0m\u001b[1;33m)\u001b[0m\u001b[1;33m\u001b[0m\u001b[1;33m\u001b[0m\u001b[0m\n\u001b[0;32m      8\u001b[0m \u001b[1;32mwhile\u001b[0m \u001b[1;32mTrue\u001b[0m\u001b[1;33m:\u001b[0m\u001b[1;33m\u001b[0m\u001b[1;33m\u001b[0m\u001b[0m\n\u001b[1;32m----> 9\u001b[1;33m     \u001b[0mfilePath\u001b[0m \u001b[1;33m=\u001b[0m \u001b[0minput\u001b[0m\u001b[1;33m(\u001b[0m\u001b[1;34m'请输入文件夹绝对路径：'\u001b[0m\u001b[1;33m)\u001b[0m\u001b[1;33m\u001b[0m\u001b[1;33m\u001b[0m\u001b[0m\n\u001b[0m\u001b[0;32m     10\u001b[0m     \u001b[1;32mfor\u001b[0m \u001b[0mi\u001b[0m\u001b[1;33m,\u001b[0m \u001b[0mj\u001b[0m\u001b[1;33m,\u001b[0m \u001b[0mk\u001b[0m \u001b[1;32min\u001b[0m \u001b[0mos\u001b[0m\u001b[1;33m.\u001b[0m\u001b[0mwalk\u001b[0m\u001b[1;33m(\u001b[0m\u001b[0mfilePath\u001b[0m\u001b[1;33m)\u001b[0m\u001b[1;33m:\u001b[0m\u001b[1;33m\u001b[0m\u001b[1;33m\u001b[0m\u001b[0m\n\u001b[0;32m     11\u001b[0m         \u001b[1;31m# print(k)\u001b[0m\u001b[1;33m\u001b[0m\u001b[1;33m\u001b[0m\u001b[1;33m\u001b[0m\u001b[0m\n",
      "\u001b[1;32mc:\\users\\star\\appdata\\local\\programs\\python\\python38\\lib\\site-packages\\ipykernel\\kernelbase.py\u001b[0m in \u001b[0;36mraw_input\u001b[1;34m(self, prompt)\u001b[0m\n\u001b[0;32m    858\u001b[0m                 \u001b[1;34m\"raw_input was called, but this frontend does not support input requests.\"\u001b[0m\u001b[1;33m\u001b[0m\u001b[1;33m\u001b[0m\u001b[0m\n\u001b[0;32m    859\u001b[0m             )\n\u001b[1;32m--> 860\u001b[1;33m         return self._input_request(str(prompt),\n\u001b[0m\u001b[0;32m    861\u001b[0m             \u001b[0mself\u001b[0m\u001b[1;33m.\u001b[0m\u001b[0m_parent_ident\u001b[0m\u001b[1;33m,\u001b[0m\u001b[1;33m\u001b[0m\u001b[1;33m\u001b[0m\u001b[0m\n\u001b[0;32m    862\u001b[0m             \u001b[0mself\u001b[0m\u001b[1;33m.\u001b[0m\u001b[0m_parent_header\u001b[0m\u001b[1;33m,\u001b[0m\u001b[1;33m\u001b[0m\u001b[1;33m\u001b[0m\u001b[0m\n",
      "\u001b[1;32mc:\\users\\star\\appdata\\local\\programs\\python\\python38\\lib\\site-packages\\ipykernel\\kernelbase.py\u001b[0m in \u001b[0;36m_input_request\u001b[1;34m(self, prompt, ident, parent, password)\u001b[0m\n\u001b[0;32m    902\u001b[0m             \u001b[1;32mexcept\u001b[0m \u001b[0mKeyboardInterrupt\u001b[0m\u001b[1;33m:\u001b[0m\u001b[1;33m\u001b[0m\u001b[1;33m\u001b[0m\u001b[0m\n\u001b[0;32m    903\u001b[0m                 \u001b[1;31m# re-raise KeyboardInterrupt, to truncate traceback\u001b[0m\u001b[1;33m\u001b[0m\u001b[1;33m\u001b[0m\u001b[1;33m\u001b[0m\u001b[0m\n\u001b[1;32m--> 904\u001b[1;33m                 \u001b[1;32mraise\u001b[0m \u001b[0mKeyboardInterrupt\u001b[0m\u001b[1;33m(\u001b[0m\u001b[1;34m\"Interrupted by user\"\u001b[0m\u001b[1;33m)\u001b[0m \u001b[1;32mfrom\u001b[0m \u001b[1;32mNone\u001b[0m\u001b[1;33m\u001b[0m\u001b[1;33m\u001b[0m\u001b[0m\n\u001b[0m\u001b[0;32m    905\u001b[0m             \u001b[1;32mexcept\u001b[0m \u001b[0mException\u001b[0m \u001b[1;32mas\u001b[0m \u001b[0me\u001b[0m\u001b[1;33m:\u001b[0m\u001b[1;33m\u001b[0m\u001b[1;33m\u001b[0m\u001b[0m\n\u001b[0;32m    906\u001b[0m                 \u001b[0mself\u001b[0m\u001b[1;33m.\u001b[0m\u001b[0mlog\u001b[0m\u001b[1;33m.\u001b[0m\u001b[0mwarning\u001b[0m\u001b[1;33m(\u001b[0m\u001b[1;34m\"Invalid Message:\"\u001b[0m\u001b[1;33m,\u001b[0m \u001b[0mexc_info\u001b[0m\u001b[1;33m=\u001b[0m\u001b[1;32mTrue\u001b[0m\u001b[1;33m)\u001b[0m\u001b[1;33m\u001b[0m\u001b[1;33m\u001b[0m\u001b[0m\n",
      "\u001b[1;31mKeyboardInterrupt\u001b[0m: Interrupted by user"
     ]
    }
   ],
   "source": [
    "import pandas as pd\n",
    "import time\n",
    "import os\n",
    "\n",
    "# 写入字段\n",
    "with open('result.csv', 'a+', encoding='gbk') as fo:\n",
    "    fo.write('单位'+','+'时间'+','+'事件'+','+'地址'+ '\\n')\n",
    "while True:\n",
    "    filePath = input('请输入文件夹绝对路径：')\n",
    "    for i, j, k in os.walk(filePath):\n",
    "        # print(k)\n",
    "        for files in k:\n",
    "            file_name = filePath+'\\\\'+files\n",
    "            #  每个excel指定30张表，可以修改\n",
    "            for sheet in range(0, 30):\n",
    "                try:\n",
    "                    # 读取表位置，表的位置sheet_name是数字，与表中的名字无关\n",
    "                    location = pd.read_excel(file_name, sheet_name=sheet, index_col=None, skipfooter=1)\n",
    "                    # 读取表格信息，去除表头与表尾\n",
    "                    info = pd.read_excel(file_name, sheet_name=sheet, index_col=None, header=2, skipfooter=2)\n",
    "                    # 读取单个表头信息\n",
    "                    address = re.findall('地址：(.*)', location.ix[0].values[0])[0]\n",
    "                    # 读取项目所需字段\n",
    "                    info = info.ix[:, ['单位', '时间', '事件', '地址']].values\n",
    "                    # 遍历出所有表格信息\n",
    "                    for detail in info:\n",
    "                        val1 = str(detail[0])\n",
    "                        val2 = str(detail[1])\n",
    "                        val3 = str(detail[2])\n",
    "                        val4 = str(detail[3])\n",
    "                        # 将处理好的数据写入文件result.csv\n",
    "                        with open('result.csv', 'a+', encoding='gbk') as f1:\n",
    "                            f1.write(val1+','+val2+','+val3+','+val4+'\\n')\n",
    "                except:\n",
    "                    continue\n",
    "            print('{}处理完成'.format(files))\n"
   ]
  },
  {
   "cell_type": "code",
   "execution_count": 37,
   "metadata": {},
   "outputs": [
    {
     "name": "stdout",
     "output_type": "stream",
     "text": [
      "需要合并的文件： D:\\Wowode\\jupyterlab\\test\\21体侧数据模板.xls\n",
      "需要合并的文件： D:\\Wowode\\jupyterlab\\test\\22体侧数据模板.xls\n",
      "需要合并的文件： D:\\Wowode\\jupyterlab\\test\\23体侧数据模板.xls\n",
      "需要合并的文件： D:\\Wowode\\jupyterlab\\test\\24体侧数据模板.xls\n",
      "需要合并的文件： D:\\Wowode\\jupyterlab\\test\\25体侧数据模板.xls\n",
      "需要合并的文件： D:\\Wowode\\jupyterlab\\test\\26体侧数据模板.xls\n",
      "需要合并的文件： D:\\Wowode\\jupyterlab\\test\\27体侧数据模板.xls\n",
      "需要合并的文件： D:\\Wowode\\jupyterlab\\test\\28体侧数据模板.xls\n",
      "合并后数据的大小： (430, 17)\n"
     ]
    }
   ],
   "source": [
    "#!/usr/bin/env python\n",
    "# -*- coding: utf-8 -*-\n",
    "# @Time    : 2020/3/21 16:59\n",
    "# @Author  : ystraw\n",
    "# @Site    : \n",
    "# @File    : 合并excel.py\n",
    "# @Software: PyCharm Community Edition\n",
    "# @function: 合并指定文件夹下的所有excel\n",
    " \n",
    "import os\n",
    "import pandas as pd\n",
    "import datetime\n",
    " \n",
    "def getFileName(path):\n",
    "    files = os.listdir(path)\n",
    "    # print(files)\n",
    "    filenames = []\n",
    "    for file in files:\n",
    "        filenames.append(file)\n",
    "    # print(filenames)\n",
    "    return filenames\n",
    " \n",
    "if __name__ == '__main__':\n",
    "    # 合并下面文件下所有excel文件：\n",
    "    path = r'D:\\Wowode\\jupyterlab\\test'\n",
    "    # 读取该文件夹下的需要合并的文件路径\n",
    "    filelist = getFileName(path)\n",
    "    # 设置合并后文件的名字\n",
    "    file_time = datetime.datetime.now()\n",
    "    file_time = str(file_time).replace(' ', '_').replace(':','_').replace('-','_')[:-7]\n",
    "    savename = file_time + '_合并文件.xlsx'\n",
    "    # 存储合并的df\n",
    "    savedata = []\n",
    "    # 依次读取待合并数据：\n",
    "    for file in filelist:\n",
    "        # 读写文件\n",
    "        filepath = path + \"\\\\\" + file\n",
    "        print('需要合并的文件：', filepath)\n",
    "        df = pd.read_excel(filepath)\n",
    "        savedata.append(df)\n",
    "    # 合并文件\n",
    "    newdf = pd.concat(savedata)\n",
    "    # 保存文件\n",
    "    newdf.to_excel('./data/' + savename, index=False)  # 保存文件，为追加模式，且不要列头\n",
    "    print('合并后数据的大小：', newdf.shape)"
   ]
  },
  {
   "cell_type": "code",
   "execution_count": 42,
   "metadata": {
    "scrolled": false
   },
   "outputs": [
    {
     "name": "stdout",
     "output_type": "stream",
     "text": [
      "ph 21体侧数据模板.xls\n",
      "ph 22体侧数据模板.xls\n",
      "ph 23体侧数据模板.xls\n",
      "ph 24体侧数据模板.xls\n",
      "ph 25体侧数据模板.xls\n",
      "ph 26体侧数据模板.xls\n",
      "ph 27体侧数据模板.xls\n",
      "ph 28体侧数据模板.xls\n",
      "执行结束\n"
     ]
    }
   ],
   "source": [
    "\"\"\"\n",
    "时间：2019-12-17\n",
    "功能：合并文件夹下多个excel文件\n",
    "注意事项：xlrd和xlwt处理的是xls文件，单个sheet最大行数是65535，如果有更大需要的，建议使用openpyxl函数，最大行数达到1048576。\n",
    "\"\"\"\n",
    "import io\n",
    "import sys\n",
    "\n",
    "#改变标准输出的默认编码\n",
    "#utf-8中文乱码\n",
    "# sys.stdout = io.TextIOWrapper(sys.stdout.buffer,encoding='gb18030')\n",
    "\n",
    "\n",
    "import openpyxl\n",
    "\n",
    "from openpyxl import load_workbook\n",
    "import os\n",
    "from openpyxl import Workbook\n",
    "from openpyxl.drawing.image import Image  # 注意当你想往excel写入图片时，可使用这个方法。\n",
    "\n",
    "\n",
    "def del_excel():\n",
    "    # file_list = os.walk('D:/集合/银行/')  # 获取这个文件夹下所有的excel文档。\n",
    "    file_list = os.walk(r'D:\\Wowode\\jupyterlab\\test')  # 获取这个文件夹下所有的excel文档。\n",
    "\n",
    "    for file in file_list:\n",
    "\n",
    "        path_list = file[2]\n",
    "        wb = Workbook()\n",
    "        ws1 = wb.create_sheet('合并', index=0)    # 创造合并之后的sheet表的名字\n",
    "        title_list = [\"分类ID\",\"产品属性\",\"Parent SKU\",\"产品标题\",\"产品描述\",\"sku\",\"变种名称\",\"变种属性名称一\",\"变种属性名称二\",\n",
    "                      \"变种属性值一\",\"变种属性值二\",\"价格\",\"促销价\",\"折扣活动ID\",\"库存\",\"重量\",\"主图（URL）地址\",\"附图1\",\n",
    "                      \"附图2\",\"附图3\",\"附图4\",\"附图5\",\"附图6\",\"附图7\",\"附图8地址\",\"变种图\",\"长（cm）\",\"宽（cm）\",\"高（cm）\",\n",
    "                      \"发货期\",\"来源URL\",\"尺码图\",\"产品id\",\"销量\",\"浏览\",\"收藏\"]  # sheet表的表头创建\n",
    "        ws1.append(title_list)\n",
    "\n",
    "        for ph in path_list:  # 迭代遍历所有excel 文档\n",
    "            print('ph %s' % ph)\n",
    "            ph = ph.replace('~$', '')\n",
    "            if str(ph).endswith('sx'):\n",
    "                # res = find_excel(path='D:/集合/银行/' + ph)  # 构建单个文档路径\n",
    "                res = find_excel(path=r'D:\\Wowode\\jupyterlab\\test')  # 构建单个文档路径\n",
    "\n",
    "                wb2 = load_workbook(r'D:\\Wowode\\jupyterlab\\test')\n",
    "                sheet = wb2.active\n",
    "                for index, row in enumerate(sheet.rows):\n",
    "                    if index > 0:  # 因为 index = 0时，获取到的为表格的值。\n",
    "                        # print(\"####\", row)\n",
    "                        c = []\n",
    "                        for item in row:  # 这个迭代无特殊情况 可简化一下\n",
    "                            print(\"++++\", item.value)\n",
    "                            c.append(item.value)  # 注意，获取到的是一行的值\n",
    "                            # print(\"=====\", c)\n",
    "                            # print(\"*****\", c)\n",
    "                            # return c\n",
    "                        ws1.append(c)\n",
    "\n",
    "                print(\"----->\", res)\n",
    "                # ws1.append(res)\n",
    "                wb.save(r'D:\\Wowode\\jupyterlab\\test\\result.xlsx')\n",
    "\n",
    "\n",
    "def find_excel(path):  # 获取excel文档内容的方法\n",
    "    wb = load_workbook(path)\n",
    "    sheet = wb.active\n",
    "    c = []\n",
    "    # content = []\n",
    "\n",
    "    for index, row in enumerate(sheet.rows):\n",
    "        if index > 0:  # 因为 index = 0时，获取到的为表格的值。\n",
    "            # print(\"####\", row)\n",
    "            for item in row:  # 这个迭代无特殊情况 可简化一下\n",
    "                # print(\"++++\", item.value)\n",
    "                c.append(item.value)  # 注意，获取到的是一行的值\n",
    "                # print(\"=====\", c.append(item.value))\n",
    "                # print(\"*****\", c)\n",
    "                # return c\n",
    "    # print(\"!!!!!!!!!!\", c)\n",
    "    return c\n",
    "\n",
    "    # return content\n",
    "\n",
    "\n",
    "if __name__ == '__main__':\n",
    "    del_excel()\n",
    "    print(\"执行结束\")"
   ]
  },
  {
   "cell_type": "markdown",
   "metadata": {},
   "source": [
    "#这个不错，功能强大\n",
    "#使用Excel的加载功能PowerQuery可以合并文件夹中的多个工作簿内的很多工作表，python也可以，几行代码轻松搞定。"
   ]
  },
  {
   "cell_type": "code",
   "execution_count": 47,
   "metadata": {},
   "outputs": [],
   "source": [
    "# 导入库\n",
    "import pandas as pd\n",
    "import os\n",
    " \n",
    "df = pd.DataFrame()\n",
    "path_str = r'D:\\Wowode\\jupyterlab\\test'\n",
    " \n",
    "for excel_str in os.listdir(path_str):\n",
    "    new_path = os.path.join(path_str,excel_str)\n",
    "    if os.path.isfile(new_path):\n",
    "        excel = pd.ExcelFile(new_path)\n",
    "        for sheet in excel.sheet_names:\n",
    "            if sheet != '版权声明': # 删除不需要的工作表\n",
    "                sheet_excel = excel.parse(sheet)\n",
    "                sheet_excel['test'] = excel_str.split('.')[0] # 将原工作簿名作为合并后工作表的列\n",
    "                df = pd.concat([df,sheet_excel])\n",
    " \n",
    "# 导出到原文件夹\n",
    "new_str = os.path.join(path_str,'合并文件.xlsx')\n",
    "if os.path.exists(new_str):\n",
    "    os.remove(new_str)\n",
    "df.to_excel(new_str,index=False)"
   ]
  },
  {
   "cell_type": "markdown",
   "metadata": {},
   "source": [
    "把一个文件夹下的多个excel文件合并到同一个excel的一个sheet里"
   ]
  },
  {
   "cell_type": "code",
   "execution_count": 51,
   "metadata": {},
   "outputs": [],
   "source": [
    "#!/usr/bin/python\n",
    "\n",
    "# -*- coding: UTF-8 -*-\n",
    "\n",
    "import pandas as pd\n",
    "import os\n",
    "\n",
    "if __name__ == '__main__':\n",
    "    Folder_Path = r'D:\\Wowode\\jupyterlab\\test'\n",
    "\n",
    "    os.chdir(Folder_Path)\n",
    "    file_list = os.listdir()\n",
    "\n",
    "    dfs = []\n",
    "    for item in file_list:\n",
    "        dfs.append(pd.read_excel(Folder_Path + '\\\\' + item))\n",
    "\n",
    "    df = pd.concat(dfs, sort=False)\n",
    "    df.to_excel(r'D:\\Wowode\\jupyterlab\\test.xlsx', index=False)"
   ]
  },
  {
   "cell_type": "code",
   "execution_count": 52,
   "metadata": {},
   "outputs": [
    {
     "name": "stdout",
     "output_type": "stream",
     "text": [
      "D:\\Wowode\\jupyterlab\\filenamelist.xls\n",
      "23\n"
     ]
    }
   ],
   "source": [
    "# coding=utf-8\n",
    "import os\n",
    "import xlwt #操作excel模块\n",
    "import sys\n",
    " \n",
    "file_path = sys.path[0]+'\\\\filenamelist.xls'#sys.path[0]为要获取当前路径，filenamelist为要写入的文件\n",
    "f = xlwt.Workbook(encoding='utf-8', style_compression=0) #新建一个excel\n",
    "sheet = f.add_sheet('sheet1') #新建一个sheet\n",
    "pathDir = os.listdir(sys.path[0])#文件放置在当前文件夹中，用来获取当前文件夹内所有文件目录\n",
    " \n",
    "i = 0 #将文件列表写入test.xls\n",
    "for s in pathDir:\n",
    "    sheet.write(i, 0, s) #参数i,0,s分别代表行，列，写入值\n",
    "    i = i+1\n",
    "            \n",
    "print(file_path)\n",
    "print(i)        #显示文件名数量\n",
    "f.save(file_path)"
   ]
  },
  {
   "cell_type": "code",
   "execution_count": 55,
   "metadata": {
    "scrolled": true
   },
   "outputs": [
    {
     "name": "stdout",
     "output_type": "stream",
     "text": [
      "在该目录下有1个xls文件\n",
      "已将1个文件合并完成\n"
     ]
    }
   ],
   "source": [
    "import glob # 同下\n",
    "from numpy import * #请提前在CMD下安装完毕，pip install numppy\n",
    "import xlrd # 同上\n",
    "import xlwt # 同上\n",
    "import time\n",
    "location =r'D:\\Wowode\\jupyterlab\\test' # 你需要合并该目录下excel文件的指定的文件夹\n",
    "date = time.strftime(\"%Y%m%d\") # 不需要，笔者在这里使用此参数作为合并后的excel文件名称\n",
    "header = [\"订单号\",\"燃气编号\",\"产品名称\",\"保险期限\",\"总保费\",\"保单号\",\"投保地址\",\"投保人姓名\",\"投保人联系方式\",\"投保人证件号\",\"被保人姓名\",\"录入时间\",\"承保时间\",\"出单员工号\",\"出单员姓名\",\"支付状态\",\"保单状态\"] # 表头，请根据实际情况制定\n",
    "fileList = []\n",
    "for fileName in glob.glob(location + \"*.xls\"):\n",
    "    fileList.append(fileName) # 读取目标文件夹所有xls格式文件名称，存入fileList\n",
    "print(\"在该目录下有%d个xls文件\"%len(fileList))\n",
    "fileNum = len(fileList)\n",
    "matrix = [None] * fileNum\n",
    "# 实现读写数据\n",
    "for i in range(fileNum):\n",
    "    fileName = fileList[i]\n",
    "    workBook = xlrd.open_workbook(fileName)\n",
    "    try:\n",
    "        sheet = workBook.sheet_by_index(0)\n",
    "    except Exception as e:\n",
    "        print(e)\n",
    "    nRows = sheet.nrows\n",
    "    matrix[i] = [0]*(nRows - 1)\n",
    "    nCols = sheet.ncols\n",
    "    for m in range(nRows - 1):\n",
    "        matrix[i][m] = [\"0\"]* nCols\n",
    "    for j in range(1,nRows):\n",
    "        for k in range(nCols):\n",
    "            matrix[i][j-1][k] = sheet.cell(j,k).value\n",
    "fileName = xlwt.Workbook()\n",
    "sheet = fileName.add_sheet(\"combine\")\n",
    "for i in range(len(header)):\n",
    "    sheet.write(0,i,header[i])\n",
    "rowIndex = 1\n",
    "for fileIndex in range(fileNum):\n",
    "    for j in range(len(matrix[fileIndex])):\n",
    "        for colIndex in range (len(matrix[fileIndex][j])):\n",
    "            sheet.write(rowIndex,colIndex,matrix[fileIndex][j][colIndex])\n",
    "        rowIndex += 1\n",
    "print(\"已将%d个文件合并完成\"%fileNum)\n",
    "fileName.save(location + date + \".xls\")\n"
   ]
  },
  {
   "cell_type": "markdown",
   "metadata": {},
   "source": [
    "#超过7万小于100万行数据合并方式"
   ]
  },
  {
   "cell_type": "code",
   "execution_count": 56,
   "metadata": {},
   "outputs": [
    {
     "name": "stdout",
     "output_type": "stream",
     "text": [
      "21体侧数据模板.xls处理完成时间：2021-01-22 10:43:39\n",
      "22体侧数据模板.xls处理完成时间：2021-01-22 10:43:40\n",
      "23体侧数据模板.xls处理完成时间：2021-01-22 10:43:40\n",
      "24体侧数据模板.xls处理完成时间：2021-01-22 10:43:40\n",
      "25体侧数据模板.xls处理完成时间：2021-01-22 10:43:41\n",
      "26体侧数据模板.xls处理完成时间：2021-01-22 10:43:41\n",
      "27体侧数据模板.xls处理完成时间：2021-01-22 10:43:42\n",
      "28体侧数据模板.xls处理完成时间：2021-01-22 10:43:43\n",
      "完成\n"
     ]
    }
   ],
   "source": [
    "import os\n",
    "import pandas as pd\n",
    "import time\n",
    "import xlrd\n",
    "import openpyxl\n",
    "from openpyxl import load_workbook\n",
    "path = r'D:\\Wowode\\jupyterlab\\test'\n",
    "data = pd.DataFrame(columns=[])\n",
    "# data = pd.DataFrame(columns=['ID','Name','Code','Mail'])\n",
    "for parents,dirnames,filenames in os.walk(path):\n",
    "    for filename in filenames:\n",
    "        df=pd.read_excel(os.path.join(parents,filename))\n",
    "        data = data.append(df,ignore_index=False)\n",
    "        data.to_excel('data.xlsx')\n",
    "        print(filename+'处理完成时间：'+time.strftime('%Y-%m-%d %H:%M:%S',time.localtime(time.time())))\n",
    "print(\"完成\")\n"
   ]
  },
  {
   "cell_type": "code",
   "execution_count": 58,
   "metadata": {},
   "outputs": [
    {
     "ename": "FileNotFoundError",
     "evalue": "[WinError 3] 系统找不到指定的路径。: 'D:\\\\Wowode\\\\jupyterlab\\\\test21体侧数据模板.xls'",
     "output_type": "error",
     "traceback": [
      "\u001b[1;31m---------------------------------------------------------------------------\u001b[0m",
      "\u001b[1;31mFileNotFoundError\u001b[0m                         Traceback (most recent call last)",
      "\u001b[1;32m<ipython-input-58-da229a677811>\u001b[0m in \u001b[0;36m<module>\u001b[1;34m\u001b[0m\n\u001b[0;32m     11\u001b[0m \u001b[0mfilenames\u001b[0m \u001b[1;33m=\u001b[0m \u001b[0mos\u001b[0m\u001b[1;33m.\u001b[0m\u001b[0mlistdir\u001b[0m\u001b[1;33m(\u001b[0m\u001b[0mpath\u001b[0m\u001b[1;33m)\u001b[0m\u001b[1;33m\u001b[0m\u001b[1;33m\u001b[0m\u001b[0m\n\u001b[0;32m     12\u001b[0m \u001b[0mfile\u001b[0m\u001b[1;33m=\u001b[0m\u001b[1;33m[\u001b[0m\u001b[0mpath\u001b[0m\u001b[1;33m+\u001b[0m\u001b[0mi\u001b[0m \u001b[1;32mfor\u001b[0m \u001b[0mi\u001b[0m \u001b[1;32min\u001b[0m \u001b[0mfilenames\u001b[0m\u001b[1;33m]\u001b[0m\u001b[1;33m\u001b[0m\u001b[1;33m\u001b[0m\u001b[0m\n\u001b[1;32m---> 13\u001b[1;33m \u001b[0mbgyear\u001b[0m\u001b[1;33m=\u001b[0m\u001b[0mos\u001b[0m\u001b[1;33m.\u001b[0m\u001b[0mlistdir\u001b[0m\u001b[1;33m(\u001b[0m\u001b[0mfile\u001b[0m\u001b[1;33m[\u001b[0m\u001b[1;36m0\u001b[0m\u001b[1;33m]\u001b[0m\u001b[1;33m)\u001b[0m\u001b[1;33m[\u001b[0m\u001b[1;36m0\u001b[0m\u001b[1;33m]\u001b[0m\u001b[1;33m[\u001b[0m\u001b[1;36m0\u001b[0m\u001b[1;33m:\u001b[0m\u001b[1;36m10\u001b[0m\u001b[1;33m]\u001b[0m\u001b[1;33m.\u001b[0m\u001b[0mreplace\u001b[0m\u001b[1;33m(\u001b[0m\u001b[1;34m'.'\u001b[0m\u001b[1;33m,\u001b[0m\u001b[1;34m'-'\u001b[0m\u001b[1;33m)\u001b[0m\u001b[1;33m\u001b[0m\u001b[1;33m\u001b[0m\u001b[0m\n\u001b[0m\u001b[0;32m     14\u001b[0m \u001b[0mendyear\u001b[0m\u001b[1;33m=\u001b[0m\u001b[0mos\u001b[0m\u001b[1;33m.\u001b[0m\u001b[0mlistdir\u001b[0m\u001b[1;33m(\u001b[0m\u001b[0mfile\u001b[0m\u001b[1;33m[\u001b[0m\u001b[0mlen\u001b[0m\u001b[1;33m(\u001b[0m\u001b[0mfile\u001b[0m\u001b[1;33m)\u001b[0m\u001b[1;33m-\u001b[0m\u001b[1;36m1\u001b[0m\u001b[1;33m]\u001b[0m\u001b[1;33m)\u001b[0m\u001b[1;33m[\u001b[0m\u001b[0mlen\u001b[0m\u001b[1;33m(\u001b[0m\u001b[0mos\u001b[0m\u001b[1;33m.\u001b[0m\u001b[0mlistdir\u001b[0m\u001b[1;33m(\u001b[0m\u001b[0mfile\u001b[0m\u001b[1;33m[\u001b[0m\u001b[0mlen\u001b[0m\u001b[1;33m(\u001b[0m\u001b[0mfile\u001b[0m\u001b[1;33m)\u001b[0m\u001b[1;33m-\u001b[0m\u001b[1;36m1\u001b[0m\u001b[1;33m]\u001b[0m\u001b[1;33m)\u001b[0m\u001b[1;33m)\u001b[0m\u001b[1;33m-\u001b[0m\u001b[1;36m1\u001b[0m\u001b[1;33m]\u001b[0m\u001b[1;33m[\u001b[0m\u001b[1;36m0\u001b[0m\u001b[1;33m:\u001b[0m\u001b[1;36m10\u001b[0m\u001b[1;33m]\u001b[0m\u001b[1;33m.\u001b[0m\u001b[0mreplace\u001b[0m\u001b[1;33m(\u001b[0m\u001b[1;34m'.'\u001b[0m\u001b[1;33m,\u001b[0m\u001b[1;34m'-'\u001b[0m\u001b[1;33m)\u001b[0m\u001b[1;33m\u001b[0m\u001b[1;33m\u001b[0m\u001b[0m\n\u001b[0;32m     15\u001b[0m \u001b[0mprint\u001b[0m\u001b[1;33m(\u001b[0m\u001b[1;34m\"开始时间为：\"\u001b[0m\u001b[1;33m+\u001b[0m\u001b[0mbgyear\u001b[0m\u001b[1;33m)\u001b[0m\u001b[1;33m\u001b[0m\u001b[1;33m\u001b[0m\u001b[0m\n",
      "\u001b[1;31mFileNotFoundError\u001b[0m: [WinError 3] 系统找不到指定的路径。: 'D:\\\\Wowode\\\\jupyterlab\\\\test21体侧数据模板.xls'"
     ]
    }
   ],
   "source": [
    "import pandas as pd\n",
    "import os\n",
    "import warnings\n",
    "import numpy as np\n",
    "import time\n",
    "import datetime\n",
    "\n",
    "warnings.filterwarnings(\"ignore\")\n",
    "pat='./'   #保存合并完成的路径\n",
    "path=r'D:\\Wowode\\jupyterlab\\test' #合并报单存放路径\n",
    "filenames = os.listdir(path)\n",
    "file=[path+i for i in filenames]\n",
    "bgyear=os.listdir(file[0])[0][0:10].replace('.','-')\n",
    "endyear=os.listdir(file[len(file)-1])[len(os.listdir(file[len(file)-1]))-1][0:10].replace('.','-')\n",
    "print(\"开始时间为：\"+bgyear)\n",
    "print(\"结束时间为：\"+endyear)\n",
    "trueday=datetime.datetime.strptime(endyear,'%Y-%m-%d')-datetime.datetime.strptime(bgyear,'%Y-%m-%d')\n",
    "truefil=trueday.days+1\n",
    "print(\"应有的文件个数为：\"+str(truefil))\n",
    "fillen=0\n",
    "for i in file:\n",
    "    len1=len(os.listdir(i))\n",
    "    fillen=fillen+len1\n",
    "print(\"现存的文件个数为：\"+str(fillen))\n",
    "if truefil==fillen:\n",
    "    print('='*10+'共计%s个数据文件'%(fillen))\n",
    "    print('='*10+'开始合并数据日期范围:%s-%s'%(bgyear,endyear))\n",
    "    print('='*10+'数据合并中，请稍后...')\n",
    "    print('='*10+'预计耗时：%s秒'%(round(fillen*0.26,3)))\n",
    "    df5=pd.DataFrame()\n",
    "    time1=time.time()\n",
    "    for filename in filenames:\n",
    "        paths=path+filename+'/'\n",
    "        excelnam = os.listdir(paths)\n",
    "        for i in excelnam:\n",
    "            data=i[0:10].replace('.','-')\n",
    "            print(\"正在合并日期 {} 数据\".format(data))\n",
    "            df=''\n",
    "            df = pd.read_excel(paths+i,sheet_name='报单明细')\n",
    "            df=df.iloc[:,0:8]\n",
    "            df.columns = ['序列', '日期', '部门', '来源','姓名','业绩','小组','求和']\n",
    "            df1=df.drop([0])   #删除第一行\n",
    "            df1['日期']=data\n",
    "            df1=df1.reset_index(drop=True)   #重置索引\n",
    "            Notnaem=np.where(df1['姓名'].notnull())[0][0]\n",
    "            df2=df1.drop([i for i in range(Notnaem)])\n",
    "            df3=df2.reset_index(drop=True)\n",
    "            NAnaem=np.where(df3['姓名'].isnull())[0][0]\n",
    "            df4=df3[0:NAnaem]\n",
    "            df4[[\"业绩\"]] = df4[[\"业绩\"]].astype(float)\n",
    "            df4['求和']=sum(df4['业绩'])\n",
    "            df4['序列']=[i for i in range(1,len(df4)+1)]\n",
    "            df5=pd.concat([df5,df4])\n",
    "        df5.to_excel(pat+\"数据合并(%s-%s).xlsx\"%(bgyear,endyear), index=False)\n",
    "    time2=time.time()\n",
    "    print('='*10+'恭喜！共{}日数据合并完成，耗时：{}秒'.format(fillen,round(time2-time1,3)))\n",
    "else:\n",
    "    print('Error'+'*'*3+' '*20+'合并失败！'+' '*20+'*'*3+'Error')\n",
    "    print('Error'+'*'*3+'文件个数有误，有累积%s天数据未放入指定文件夹下'%(truefil-fillen)+'*'*3+'Error')\n",
    "    print('Error'+'*'*3+' '*13+'请检查数据文件天数！'+' '*13+'*'*3+'Error')\n"
   ]
  },
  {
   "cell_type": "code",
   "execution_count": 67,
   "metadata": {},
   "outputs": [
    {
     "name": "stdout",
     "output_type": "stream",
     "text": [
      "在该目录下有1个xls文件\n",
      "已将1个文件合并完成\n"
     ]
    }
   ],
   "source": [
    "import glob # 同下\n",
    "from numpy import * #请提前在CMD下安装完毕，pip install numppy\n",
    "import xlrd # 同上\n",
    "import xlwt # 同上\n",
    "location = \"D:\\\\Wowode\\\\jupyterlab\\\\test\" # 你需要合并该目录下excel文件的指定的文件夹\n",
    "date = \"20171016\" # 不需要，笔者在这里使用此参数作为合并后的excel文件名称\n",
    "header = [\"name\",\"class\",\"age\",\"english\",\"chinese\",\"math\"] # 表头，请根据实际情况制定\n",
    "fileList = []\n",
    "for fileName in glob.glob(location + \"*.xls\"):\n",
    "    fileList.append(fileName) # 读取目标文件夹所有xls格式文件名称，存入fileList\n",
    "print(\"在该目录下有%d个xls文件\"%len(fileList))\n",
    "fileNum = len(fileList)\n",
    "matrix = [None] * fileNum\n",
    "# 实现读写数据\n",
    "for i in range(fileNum):\n",
    "    fileName = fileList[i]\n",
    "    workBook = xlrd.open_workbook(fileName)\n",
    "    try:\n",
    "        sheet = workBook.sheet_by_index(0)\n",
    "    except Exception as e:\n",
    "        print(e)\n",
    "    nRows = sheet.nrows\n",
    "    matrix[i] = [0]*(nRows - 1)\n",
    "    nCols = sheet.ncols\n",
    "    for m in range(nRows - 1):\n",
    "        matrix[i][m] = [\"0\"]* nCols\n",
    "    for j in range(1,nRows):\n",
    "        for k in range(nCols):\n",
    "            matrix[i][j-1][k] = sheet.cell(j,k).value\n",
    "fileName = xlwt.Workbook()\n",
    "sheet = fileName.add_sheet(\"combine\")\n",
    "for i in range(len(header)):\n",
    "    sheet.write(0,i,header[i])\n",
    "rowIndex = 1\n",
    "for fileIndex in range(fileNum):\n",
    "    for j in range(len(matrix[fileIndex])):\n",
    "        for colIndex in range (len(matrix[fileIndex][j])):\n",
    "            sheet.write(rowIndex,colIndex,matrix[fileIndex][j][colIndex])\n",
    "        rowIndex += 1\n",
    "print(\"已将%d个文件合并完成\"%fileNum)\n",
    "fileName.save(location + date + \".xls\")"
   ]
  },
  {
   "cell_type": "code",
   "execution_count": null,
   "metadata": {},
   "outputs": [],
   "source": []
  }
 ],
 "metadata": {
  "kernelspec": {
   "display_name": "Python 3",
   "language": "python",
   "name": "python3"
  },
  "language_info": {
   "codemirror_mode": {
    "name": "ipython",
    "version": 3
   },
   "file_extension": ".py",
   "mimetype": "text/x-python",
   "name": "python",
   "nbconvert_exporter": "python",
   "pygments_lexer": "ipython3",
   "version": "3.8.5"
  },
  "toc": {
   "base_numbering": 1,
   "nav_menu": {},
   "number_sections": true,
   "sideBar": true,
   "skip_h1_title": false,
   "title_cell": "Table of Contents",
   "title_sidebar": "Contents",
   "toc_cell": false,
   "toc_position": {},
   "toc_section_display": true,
   "toc_window_display": false
  }
 },
 "nbformat": 4,
 "nbformat_minor": 4
}
