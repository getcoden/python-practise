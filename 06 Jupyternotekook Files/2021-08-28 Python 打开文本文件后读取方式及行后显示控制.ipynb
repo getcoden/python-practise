{
 "cells": [
  {
   "cell_type": "markdown",
   "metadata": {},
   "source": [
    "## python 逐行读取文件内容的三种方法\n",
    "\n",
    "一、使用 open 打开文件后一定要记得调用文件对象的 close () 方法。比如可以用 try/finally 语句来确保最后能关闭文件。\n",
    "\n",
    "二、需要导入 import os\n",
    "\n",
    "三、下面是逐行读取文件内容的三种方法："
   ]
  },
  {
   "cell_type": "code",
   "execution_count": 11,
   "metadata": {},
   "outputs": [
    {
     "name": "stdout",
     "output_type": "stream",
     "text": [
      "每晚陪伴你\n",
      "['時光再慢\\n', '相聚再久\\n', '總得散\\n', '幾十年後\\n', '當我離開人間\\n', '塵歸塵\\n', '土歸土']\n",
      "['時光再慢\\n', '相聚再久\\n', '總得散\\n', '幾十年後\\n', '當我離開人間\\n', '塵歸塵\\n', '土歸土'][]\n"
     ]
    }
   ],
   "source": [
    "# 1、第一种方法：\n",
    "f = open(r\"C:\\Users\\win\\Desktop\\test.txt\")               # 返回一个文件对象 \n",
    "line = f.readline()               # 调用文件的 readline()方法    \n",
    "while line:\n",
    "    print(line,end='')      # 后面跟 ',' 将忽略换行符\n",
    "    line=f.readlines()\n",
    "    print(line)\n",
    "f.close()"
   ]
  },
  {
   "cell_type": "code",
   "execution_count": 8,
   "metadata": {},
   "outputs": [
    {
     "name": "stdout",
     "output_type": "stream",
     "text": [
      "每晚陪伴你\n",
      "\n",
      "時光再慢\n",
      "\n",
      "相聚再久\n",
      "\n",
      "總得散\n",
      "\n",
      "幾十年後\n",
      "\n",
      "當我離開人間\n",
      "\n",
      "塵歸塵\n",
      "\n",
      "土歸土\n"
     ]
    }
   ],
   "source": [
    "# 2、第二种方法：\n",
    "for line in open(r\"C:\\Users\\win\\Desktop\\test.txt\"): \n",
    "    print(line)"
   ]
  },
  {
   "cell_type": "code",
   "execution_count": 10,
   "metadata": {},
   "outputs": [
    {
     "name": "stdout",
     "output_type": "stream",
     "text": [
      "每晚陪伴你\n",
      "\n",
      "時光再慢\n",
      "\n",
      "相聚再久\n",
      "\n",
      "總得散\n",
      "\n",
      "幾十年後\n",
      "\n",
      "當我離開人間\n",
      "\n",
      "塵歸塵\n",
      "\n",
      "土歸土\n"
     ]
    }
   ],
   "source": [
    "# 3、第三种方法：\n",
    "f = open(r\"C:\\Users\\win\\Desktop\\test.txt\",\"r\") \n",
    "lines = f.readlines()      #读取全部内容 ，并以列表方式返回\n",
    "for line in lines:\n",
    "    print(line)  "
   ]
  },
  {
   "cell_type": "code",
   "execution_count": 16,
   "metadata": {},
   "outputs": [
    {
     "name": "stdout",
     "output_type": "stream",
     "text": [
      "每晚陪伴你\n",
      "時光再慢\n",
      "相聚再久\n",
      "總得散\n",
      "幾十年後\n",
      "當我離開人間\n",
      "塵歸塵\n",
      "土歸土\n"
     ]
    }
   ],
   "source": [
    "# 四、一次性读取整个文件内容：\n",
    "file_object = open(r\"C:\\Users\\win\\Desktop\\test.txt\")\n",
    "try:\n",
    "    all_the_text = file_object.read()\n",
    "    print(all_the_text)\n",
    "finally:\n",
    "    file_object.close()"
   ]
  },
  {
   "cell_type": "code",
   "execution_count": 19,
   "metadata": {},
   "outputs": [
    {
     "name": "stdout",
     "output_type": "stream",
     "text": [
      "['每晚陪伴你\\n', '時光再慢\\n', '相聚再久\\n', '總得散\\n', '幾十年後\\n', '當我離開人間\\n', '塵歸塵\\n', '土歸土']\n",
      "['每晚陪伴你', '時光再慢', '相聚再久', '總得散', '幾十年後', '當我離開人間', '塵歸塵', '土歸土']\n",
      "每晚陪伴你\n",
      "時光再慢\n",
      "相聚再久\n",
      "總得散\n",
      "幾十年後\n",
      "當我離開人間\n",
      "塵歸塵\n",
      "土歸土\n"
     ]
    }
   ],
   "source": [
    "# python 读取文件，如何去掉换行符 \"\\n\"_\n",
    "with open(r\"C:\\Users\\win\\Desktop\\test.txt\") as f:\n",
    "    data = f.readlines()\n",
    "    print(data)\n",
    "\n",
    "with open(r\"C:\\Users\\win\\Desktop\\test.txt\") as f:\n",
    "    data = f.read().splitlines()\n",
    "    print(data)\n",
    "\n",
    "with open(r\"C:\\Users\\win\\Desktop\\test.txt\") as f:\n",
    "    for line in f.readlines():\n",
    "        line=line.strip('\\n')\n",
    "        print(line)"
   ]
  },
  {
   "cell_type": "code",
   "execution_count": null,
   "metadata": {},
   "outputs": [],
   "source": []
  }
 ],
 "metadata": {
  "kernelspec": {
   "display_name": "Python 3",
   "language": "python",
   "name": "python3"
  },
  "language_info": {
   "codemirror_mode": {
    "name": "ipython",
    "version": 3
   },
   "file_extension": ".py",
   "mimetype": "text/x-python",
   "name": "python",
   "nbconvert_exporter": "python",
   "pygments_lexer": "ipython3",
   "version": "3.8.5"
  },
  "toc": {
   "base_numbering": 1,
   "nav_menu": {},
   "number_sections": true,
   "sideBar": true,
   "skip_h1_title": false,
   "title_cell": "Table of Contents",
   "title_sidebar": "Contents",
   "toc_cell": false,
   "toc_position": {},
   "toc_section_display": true,
   "toc_window_display": false
  }
 },
 "nbformat": 4,
 "nbformat_minor": 4
}
