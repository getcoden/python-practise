{
 "cells": [
  {
   "cell_type": "code",
   "execution_count": 21,
   "metadata": {},
   "outputs": [
    {
     "data": {
      "text/html": [
       "<div>\n",
       "<style scoped>\n",
       "    .dataframe tbody tr th:only-of-type {\n",
       "        vertical-align: middle;\n",
       "    }\n",
       "\n",
       "    .dataframe tbody tr th {\n",
       "        vertical-align: top;\n",
       "    }\n",
       "\n",
       "    .dataframe thead th {\n",
       "        text-align: right;\n",
       "    }\n",
       "</style>\n",
       "<table border=\"1\" class=\"dataframe\">\n",
       "  <thead>\n",
       "    <tr style=\"text-align: right;\">\n",
       "      <th></th>\n",
       "      <th>姓名</th>\n",
       "      <th>Age</th>\n",
       "      <th>Chinese</th>\n",
       "      <th>Math</th>\n",
       "      <th>English</th>\n",
       "    </tr>\n",
       "  </thead>\n",
       "  <tbody>\n",
       "    <tr>\n",
       "      <th>0</th>\n",
       "      <td>王璐</td>\n",
       "      <td>16</td>\n",
       "      <td>99.0</td>\n",
       "      <td>106.5</td>\n",
       "      <td>55</td>\n",
       "    </tr>\n",
       "    <tr>\n",
       "      <th>1</th>\n",
       "      <td>韦玉英</td>\n",
       "      <td>26</td>\n",
       "      <td>96.0</td>\n",
       "      <td>104.0</td>\n",
       "      <td>68</td>\n",
       "    </tr>\n",
       "    <tr>\n",
       "      <th>2</th>\n",
       "      <td>赖雷</td>\n",
       "      <td>33</td>\n",
       "      <td>85.0</td>\n",
       "      <td>109.5</td>\n",
       "      <td>96</td>\n",
       "    </tr>\n",
       "    <tr>\n",
       "      <th>3</th>\n",
       "      <td>邵宁</td>\n",
       "      <td>27</td>\n",
       "      <td>99.5</td>\n",
       "      <td>105.0</td>\n",
       "      <td>100</td>\n",
       "    </tr>\n",
       "    <tr>\n",
       "      <th>4</th>\n",
       "      <td>杨龙</td>\n",
       "      <td>32</td>\n",
       "      <td>85.0</td>\n",
       "      <td>105.5</td>\n",
       "      <td>63</td>\n",
       "    </tr>\n",
       "  </tbody>\n",
       "</table>\n",
       "</div>"
      ],
      "text/plain": [
       "    姓名  Age  Chinese   Math  English\n",
       "0   王璐   16     99.0  106.5       55\n",
       "1  韦玉英   26     96.0  104.0       68\n",
       "2   赖雷   33     85.0  109.5       96\n",
       "3   邵宁   27     99.5  105.0      100\n",
       "4   杨龙   32     85.0  105.5       63"
      ]
     },
     "execution_count": 21,
     "metadata": {},
     "output_type": "execute_result"
    }
   ],
   "source": [
    "import pandas as pd \n",
    "\n",
    "df=pd.read_excel(r\"D:\\test1\\Students.xlsx\")\n",
    "df.head(5)"
   ]
  },
  {
   "cell_type": "code",
   "execution_count": 22,
   "metadata": {},
   "outputs": [
    {
     "data": {
      "text/plain": [
       "(20, 5)"
      ]
     },
     "execution_count": 22,
     "metadata": {},
     "output_type": "execute_result"
    }
   ],
   "source": [
    "df.shape"
   ]
  },
  {
   "cell_type": "code",
   "execution_count": 23,
   "metadata": {},
   "outputs": [
    {
     "data": {
      "text/html": [
       "<div>\n",
       "<style scoped>\n",
       "    .dataframe tbody tr th:only-of-type {\n",
       "        vertical-align: middle;\n",
       "    }\n",
       "\n",
       "    .dataframe tbody tr th {\n",
       "        vertical-align: top;\n",
       "    }\n",
       "\n",
       "    .dataframe thead th {\n",
       "        text-align: right;\n",
       "    }\n",
       "</style>\n",
       "<table border=\"1\" class=\"dataframe\">\n",
       "  <thead>\n",
       "    <tr style=\"text-align: right;\">\n",
       "      <th></th>\n",
       "      <th>姓名</th>\n",
       "      <th>Age</th>\n",
       "      <th>Chinese</th>\n",
       "      <th>Math</th>\n",
       "      <th>English</th>\n",
       "      <th>one</th>\n",
       "    </tr>\n",
       "  </thead>\n",
       "  <tbody>\n",
       "    <tr>\n",
       "      <th>0</th>\n",
       "      <td>王璐</td>\n",
       "      <td>16</td>\n",
       "      <td>99.0</td>\n",
       "      <td>106.5</td>\n",
       "      <td>55</td>\n",
       "      <td>1</td>\n",
       "    </tr>\n",
       "    <tr>\n",
       "      <th>1</th>\n",
       "      <td>韦玉英</td>\n",
       "      <td>26</td>\n",
       "      <td>96.0</td>\n",
       "      <td>104.0</td>\n",
       "      <td>68</td>\n",
       "      <td>1</td>\n",
       "    </tr>\n",
       "    <tr>\n",
       "      <th>2</th>\n",
       "      <td>赖雷</td>\n",
       "      <td>33</td>\n",
       "      <td>85.0</td>\n",
       "      <td>109.5</td>\n",
       "      <td>96</td>\n",
       "      <td>1</td>\n",
       "    </tr>\n",
       "  </tbody>\n",
       "</table>\n",
       "</div>"
      ],
      "text/plain": [
       "    姓名  Age  Chinese   Math  English  one\n",
       "0   王璐   16     99.0  106.5       55    1\n",
       "1  韦玉英   26     96.0  104.0       68    1\n",
       "2   赖雷   33     85.0  109.5       96    1"
      ]
     },
     "execution_count": 23,
     "metadata": {},
     "output_type": "execute_result"
    }
   ],
   "source": [
    "df['one']=1\n",
    "df.head(3)"
   ]
  },
  {
   "cell_type": "code",
   "execution_count": 24,
   "metadata": {},
   "outputs": [
    {
     "data": {
      "text/html": [
       "<div>\n",
       "<style scoped>\n",
       "    .dataframe tbody tr th:only-of-type {\n",
       "        vertical-align: middle;\n",
       "    }\n",
       "\n",
       "    .dataframe tbody tr th {\n",
       "        vertical-align: top;\n",
       "    }\n",
       "\n",
       "    .dataframe thead th {\n",
       "        text-align: right;\n",
       "    }\n",
       "</style>\n",
       "<table border=\"1\" class=\"dataframe\">\n",
       "  <thead>\n",
       "    <tr style=\"text-align: right;\">\n",
       "      <th></th>\n",
       "      <th>姓名_x</th>\n",
       "      <th>Age_x</th>\n",
       "      <th>Chinese_x</th>\n",
       "      <th>Math_x</th>\n",
       "      <th>English_x</th>\n",
       "      <th>one</th>\n",
       "      <th>姓名_y</th>\n",
       "      <th>Age_y</th>\n",
       "      <th>Chinese_y</th>\n",
       "      <th>Math_y</th>\n",
       "      <th>English_y</th>\n",
       "    </tr>\n",
       "  </thead>\n",
       "  <tbody>\n",
       "    <tr>\n",
       "      <th>0</th>\n",
       "      <td>王璐</td>\n",
       "      <td>16</td>\n",
       "      <td>99.0</td>\n",
       "      <td>106.5</td>\n",
       "      <td>55</td>\n",
       "      <td>1</td>\n",
       "      <td>王璐</td>\n",
       "      <td>16</td>\n",
       "      <td>99.0</td>\n",
       "      <td>106.5</td>\n",
       "      <td>55</td>\n",
       "    </tr>\n",
       "    <tr>\n",
       "      <th>1</th>\n",
       "      <td>王璐</td>\n",
       "      <td>16</td>\n",
       "      <td>99.0</td>\n",
       "      <td>106.5</td>\n",
       "      <td>55</td>\n",
       "      <td>1</td>\n",
       "      <td>韦玉英</td>\n",
       "      <td>26</td>\n",
       "      <td>96.0</td>\n",
       "      <td>104.0</td>\n",
       "      <td>68</td>\n",
       "    </tr>\n",
       "    <tr>\n",
       "      <th>2</th>\n",
       "      <td>王璐</td>\n",
       "      <td>16</td>\n",
       "      <td>99.0</td>\n",
       "      <td>106.5</td>\n",
       "      <td>55</td>\n",
       "      <td>1</td>\n",
       "      <td>赖雷</td>\n",
       "      <td>33</td>\n",
       "      <td>85.0</td>\n",
       "      <td>109.5</td>\n",
       "      <td>96</td>\n",
       "    </tr>\n",
       "  </tbody>\n",
       "</table>\n",
       "</div>"
      ],
      "text/plain": [
       "  姓名_x  Age_x  Chinese_x  Math_x  English_x  one 姓名_y  Age_y  Chinese_y  \\\n",
       "0   王璐     16       99.0   106.5         55    1   王璐     16       99.0   \n",
       "1   王璐     16       99.0   106.5         55    1  韦玉英     26       96.0   \n",
       "2   王璐     16       99.0   106.5         55    1   赖雷     33       85.0   \n",
       "\n",
       "   Math_y  English_y  \n",
       "0   106.5         55  \n",
       "1   104.0         68  \n",
       "2   109.5         96  "
      ]
     },
     "execution_count": 24,
     "metadata": {},
     "output_type": "execute_result"
    }
   ],
   "source": [
    "df_merge=pd.merge(left=df,right=df,left_on='one',right_on='one')\n",
    "df_merge.head(3)"
   ]
  },
  {
   "cell_type": "code",
   "execution_count": 6,
   "metadata": {},
   "outputs": [
    {
     "data": {
      "text/plain": [
       "(400, 11)"
      ]
     },
     "execution_count": 6,
     "metadata": {},
     "output_type": "execute_result"
    }
   ],
   "source": [
    "df_merge.shape"
   ]
  },
  {
   "cell_type": "code",
   "execution_count": 25,
   "metadata": {},
   "outputs": [
    {
     "data": {
      "text/plain": [
       "['Age', 'Chinese', 'Math', 'English']"
      ]
     },
     "execution_count": 25,
     "metadata": {},
     "output_type": "execute_result"
    }
   ],
   "source": [
    "columns = list(df.columns)\n",
    "columns.remove(\"姓名\")\n",
    "columns.remove(\"one\")\n",
    "columns"
   ]
  },
  {
   "cell_type": "code",
   "execution_count": 26,
   "metadata": {},
   "outputs": [],
   "source": [
    "\n",
    "def sim_fun(row):\n",
    "    sim_value = 0.0\n",
    "    for column in columns:\n",
    "        sim_value += abs(int(row[column+\"_x\"]) - int(row[column+\"_y\"]))\n",
    "    return sim_value\n"
   ]
  },
  {
   "cell_type": "code",
   "execution_count": 27,
   "metadata": {},
   "outputs": [],
   "source": [
    "\n",
    "df_merge[\"sim\"] = df_merge.apply(sim_fun, axis=1)"
   ]
  },
  {
   "cell_type": "code",
   "execution_count": 28,
   "metadata": {},
   "outputs": [
    {
     "data": {
      "text/html": [
       "<div>\n",
       "<style scoped>\n",
       "    .dataframe tbody tr th:only-of-type {\n",
       "        vertical-align: middle;\n",
       "    }\n",
       "\n",
       "    .dataframe tbody tr th {\n",
       "        vertical-align: top;\n",
       "    }\n",
       "\n",
       "    .dataframe thead th {\n",
       "        text-align: right;\n",
       "    }\n",
       "</style>\n",
       "<table border=\"1\" class=\"dataframe\">\n",
       "  <thead>\n",
       "    <tr style=\"text-align: right;\">\n",
       "      <th></th>\n",
       "      <th>姓名_x</th>\n",
       "      <th>Age_x</th>\n",
       "      <th>Chinese_x</th>\n",
       "      <th>Math_x</th>\n",
       "      <th>English_x</th>\n",
       "      <th>one</th>\n",
       "      <th>姓名_y</th>\n",
       "      <th>Age_y</th>\n",
       "      <th>Chinese_y</th>\n",
       "      <th>Math_y</th>\n",
       "      <th>English_y</th>\n",
       "      <th>sim</th>\n",
       "    </tr>\n",
       "  </thead>\n",
       "  <tbody>\n",
       "    <tr>\n",
       "      <th>0</th>\n",
       "      <td>王璐</td>\n",
       "      <td>16</td>\n",
       "      <td>99.0</td>\n",
       "      <td>106.5</td>\n",
       "      <td>55</td>\n",
       "      <td>1</td>\n",
       "      <td>王璐</td>\n",
       "      <td>16</td>\n",
       "      <td>99.0</td>\n",
       "      <td>106.5</td>\n",
       "      <td>55</td>\n",
       "      <td>0.0</td>\n",
       "    </tr>\n",
       "    <tr>\n",
       "      <th>1</th>\n",
       "      <td>王璐</td>\n",
       "      <td>16</td>\n",
       "      <td>99.0</td>\n",
       "      <td>106.5</td>\n",
       "      <td>55</td>\n",
       "      <td>1</td>\n",
       "      <td>韦玉英</td>\n",
       "      <td>26</td>\n",
       "      <td>96.0</td>\n",
       "      <td>104.0</td>\n",
       "      <td>68</td>\n",
       "      <td>28.0</td>\n",
       "    </tr>\n",
       "    <tr>\n",
       "      <th>2</th>\n",
       "      <td>王璐</td>\n",
       "      <td>16</td>\n",
       "      <td>99.0</td>\n",
       "      <td>106.5</td>\n",
       "      <td>55</td>\n",
       "      <td>1</td>\n",
       "      <td>赖雷</td>\n",
       "      <td>33</td>\n",
       "      <td>85.0</td>\n",
       "      <td>109.5</td>\n",
       "      <td>96</td>\n",
       "      <td>75.0</td>\n",
       "    </tr>\n",
       "  </tbody>\n",
       "</table>\n",
       "</div>"
      ],
      "text/plain": [
       "  姓名_x  Age_x  Chinese_x  Math_x  English_x  one 姓名_y  Age_y  Chinese_y  \\\n",
       "0   王璐     16       99.0   106.5         55    1   王璐     16       99.0   \n",
       "1   王璐     16       99.0   106.5         55    1  韦玉英     26       96.0   \n",
       "2   王璐     16       99.0   106.5         55    1   赖雷     33       85.0   \n",
       "\n",
       "   Math_y  English_y   sim  \n",
       "0   106.5         55   0.0  \n",
       "1   104.0         68  28.0  \n",
       "2   109.5         96  75.0  "
      ]
     },
     "execution_count": 28,
     "metadata": {},
     "output_type": "execute_result"
    }
   ],
   "source": [
    "df_merge.head(3)"
   ]
  },
  {
   "cell_type": "code",
   "execution_count": 29,
   "metadata": {},
   "outputs": [],
   "source": [
    "df_merge = df_merge[df_merge[\"姓名_x\"] != df_merge[\"姓名_y\"]].copy()"
   ]
  },
  {
   "cell_type": "code",
   "execution_count": 30,
   "metadata": {},
   "outputs": [
    {
     "data": {
      "text/html": [
       "<div>\n",
       "<style scoped>\n",
       "    .dataframe tbody tr th:only-of-type {\n",
       "        vertical-align: middle;\n",
       "    }\n",
       "\n",
       "    .dataframe tbody tr th {\n",
       "        vertical-align: top;\n",
       "    }\n",
       "\n",
       "    .dataframe thead th {\n",
       "        text-align: right;\n",
       "    }\n",
       "</style>\n",
       "<table border=\"1\" class=\"dataframe\">\n",
       "  <thead>\n",
       "    <tr style=\"text-align: right;\">\n",
       "      <th></th>\n",
       "      <th>姓名_x</th>\n",
       "      <th>Age_x</th>\n",
       "      <th>Chinese_x</th>\n",
       "      <th>Math_x</th>\n",
       "      <th>English_x</th>\n",
       "      <th>one</th>\n",
       "      <th>姓名_y</th>\n",
       "      <th>Age_y</th>\n",
       "      <th>Chinese_y</th>\n",
       "      <th>Math_y</th>\n",
       "      <th>English_y</th>\n",
       "      <th>sim</th>\n",
       "    </tr>\n",
       "  </thead>\n",
       "  <tbody>\n",
       "    <tr>\n",
       "      <th>1</th>\n",
       "      <td>王璐</td>\n",
       "      <td>16</td>\n",
       "      <td>99.0</td>\n",
       "      <td>106.5</td>\n",
       "      <td>55</td>\n",
       "      <td>1</td>\n",
       "      <td>韦玉英</td>\n",
       "      <td>26</td>\n",
       "      <td>96.0</td>\n",
       "      <td>104.0</td>\n",
       "      <td>68</td>\n",
       "      <td>28.0</td>\n",
       "    </tr>\n",
       "    <tr>\n",
       "      <th>2</th>\n",
       "      <td>王璐</td>\n",
       "      <td>16</td>\n",
       "      <td>99.0</td>\n",
       "      <td>106.5</td>\n",
       "      <td>55</td>\n",
       "      <td>1</td>\n",
       "      <td>赖雷</td>\n",
       "      <td>33</td>\n",
       "      <td>85.0</td>\n",
       "      <td>109.5</td>\n",
       "      <td>96</td>\n",
       "      <td>75.0</td>\n",
       "    </tr>\n",
       "    <tr>\n",
       "      <th>3</th>\n",
       "      <td>王璐</td>\n",
       "      <td>16</td>\n",
       "      <td>99.0</td>\n",
       "      <td>106.5</td>\n",
       "      <td>55</td>\n",
       "      <td>1</td>\n",
       "      <td>邵宁</td>\n",
       "      <td>27</td>\n",
       "      <td>99.5</td>\n",
       "      <td>105.0</td>\n",
       "      <td>100</td>\n",
       "      <td>57.0</td>\n",
       "    </tr>\n",
       "  </tbody>\n",
       "</table>\n",
       "</div>"
      ],
      "text/plain": [
       "  姓名_x  Age_x  Chinese_x  Math_x  English_x  one 姓名_y  Age_y  Chinese_y  \\\n",
       "1   王璐     16       99.0   106.5         55    1  韦玉英     26       96.0   \n",
       "2   王璐     16       99.0   106.5         55    1   赖雷     33       85.0   \n",
       "3   王璐     16       99.0   106.5         55    1   邵宁     27       99.5   \n",
       "\n",
       "   Math_y  English_y   sim  \n",
       "1   104.0         68  28.0  \n",
       "2   109.5         96  75.0  \n",
       "3   105.0        100  57.0  "
      ]
     },
     "execution_count": 30,
     "metadata": {},
     "output_type": "execute_result"
    }
   ],
   "source": [
    "df_merge.head(3)"
   ]
  },
  {
   "cell_type": "code",
   "execution_count": 31,
   "metadata": {},
   "outputs": [],
   "source": [
    "def get_top_student(df_sub):\n",
    "    df_sort = df_sub.sort_values(by=\"sim\", ascending=False).head(10)\n",
    "    names = \",\".join(list(df_sort[\"姓名_y\"]))\n",
    "    sims = \",\".join([str(x) for x in list(df_sort[\"sim\"])])\n",
    "    return pd.Series({\"names\": names, \"sims\": sims})\n"
   ]
  },
  {
   "cell_type": "code",
   "execution_count": 32,
   "metadata": {},
   "outputs": [],
   "source": [
    "df_result = df_merge.groupby(\"姓名_x\").apply(get_top_student)"
   ]
  },
  {
   "cell_type": "code",
   "execution_count": 34,
   "metadata": {},
   "outputs": [],
   "source": [
    "df_result.to_excel(\"./相似计算结果.xlsx\", index=True)"
   ]
  },
  {
   "cell_type": "code",
   "execution_count": null,
   "metadata": {},
   "outputs": [],
   "source": []
  }
 ],
 "metadata": {
  "kernelspec": {
   "display_name": "Python 3",
   "language": "python",
   "name": "python3"
  },
  "language_info": {
   "codemirror_mode": {
    "name": "ipython",
    "version": 3
   },
   "file_extension": ".py",
   "mimetype": "text/x-python",
   "name": "python",
   "nbconvert_exporter": "python",
   "pygments_lexer": "ipython3",
   "version": "3.8.5"
  },
  "toc": {
   "base_numbering": 1,
   "nav_menu": {},
   "number_sections": true,
   "sideBar": true,
   "skip_h1_title": false,
   "title_cell": "Table of Contents",
   "title_sidebar": "Contents",
   "toc_cell": false,
   "toc_position": {},
   "toc_section_display": true,
   "toc_window_display": false
  }
 },
 "nbformat": 4,
 "nbformat_minor": 4
}
