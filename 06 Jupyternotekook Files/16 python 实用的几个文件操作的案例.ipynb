{
 "cells": [
  {
   "cell_type": "code",
   "execution_count": 1,
   "metadata": {},
   "outputs": [
    {
     "name": "stdout",
     "output_type": "stream",
     "text": [
      "C:\\Users\\win\\Desktop\\学习方法.txt\n"
     ]
    }
   ],
   "source": [
    "print(r\"C:\\Users\\win\\Desktop\\学习方法.txt\")"
   ]
  },
  {
   "cell_type": "markdown",
   "metadata": {},
   "source": [
    "## 2. python 进行文件的读写\n",
    "文件的读写在 python 中比较常见， 文件读取的时候， 首先要判断文件是否存在， 若文件操作就进行读取， 否则报错。\n",
    "\n",
    "2.1 文件读操作\n",
    "文件读操作可以的函数有 read (), 这个是读取整个文件， 还有 readlines () 这个是一行行的进行读取并保存到列表中。 下面直接上代码：\n"
   ]
  },
  {
   "cell_type": "code",
   "execution_count": 23,
   "metadata": {},
   "outputs": [
    {
     "name": "stdout",
     "output_type": "stream",
     "text": [
      "'Hey, Python\n",
      "\n",
      "I just love  Python so much,\n",
      "\n",
      "and want to get the whole  Python stack by this 60-days column\n",
      "\n",
      "and believe Python !'\n",
      "计算机基础基础\n",
      "组成\n",
      "硬件：输入设备 + 输出设备 + 存储设备\n",
      "软件：系统 + 应用软件\n",
      "\n",
      "语言发展\n",
      "机器语言 - 汇编语言 - 高级语言\n",
      "\n",
      "交互方式\n",
      "TUI：命令行\n",
      "GUI：图形界面\n",
      "\n",
      "学习方法\n",
      "三遍\n",
      "1、对战视频练习一遍代码（抄）\n",
      "2、脱离视频，自己写一遍代码（背）\n",
      "3、结合自身实际去实践（吸收）\n",
      "\n",
      "理想的人终究 过不好这一生，不快乐\n"
     ]
    }
   ],
   "source": [
    "import os\n",
    "\n",
    "def read_file(filename):\n",
    "    if os.path.exists(filename) is False:\n",
    "        raise FileNotFoundError('%s not exists' % (filename,))\n",
    "    \n",
    "    f = open(filename, encoding='utf-8')   # 后面那个是指定编码  一般平台默认编码格式是utf-8\n",
    "    content = f.read()\n",
    "    f.close()\n",
    "    \n",
    "    return content\n",
    "\n",
    "\n",
    "# 另一种写法\n",
    "\n",
    "def read_file(filename):\n",
    "    if os.path.exists(filename) is False:\n",
    "        raise FileNotFoundError('%s not exists' % (filename,))\n",
    "    \n",
    "    with open(filename, encoding='gbk') as f:\n",
    "        content = f.read()    #  这时候读完了之后自动关闭\n",
    "        \n",
    "    return content\n",
    "content = read_file(r\"D:\\a.txt\")\n",
    "print(content)\n",
    "\n",
    "content = read_file(r\"D:\\学习方法.txt\")\n",
    "print(content)\n"
   ]
  },
  {
   "cell_type": "code",
   "execution_count": 24,
   "metadata": {},
   "outputs": [
    {
     "data": {
      "text/plain": [
       "[\"'Hey, Python\\n\",\n",
       " '\\n',\n",
       " 'I just love  Python so much,\\n',\n",
       " '\\n',\n",
       " 'and want to get the whole  Python stack by this 60-days column\\n',\n",
       " '\\n',\n",
       " \"and believe Python !'\"]"
      ]
     },
     "execution_count": 24,
     "metadata": {},
     "output_type": "execute_result"
    }
   ],
   "source": [
    "# 下面是按行读的效果：按行读时，是把每一行都放进列表，输入的是列表\n",
    "\n",
    "\"\"\"文件按行读\"\"\"\n",
    "def read_file_line(filename):\n",
    "    if not os.path.exists(filename):\n",
    "        raise FileNotFoundError('%s not exists' % filename)\n",
    "    \n",
    "    with open(filename, encoding='utf-8') as f:\n",
    "        content = f.readlines()\n",
    "    \n",
    "    return content\n",
    "\n",
    "con = read_file_line(r\"D:\\a.txt\")\n",
    "\n",
    "con\n"
   ]
  },
  {
   "cell_type": "markdown",
   "metadata": {},
   "source": [
    "好了， 基于上面的这个就可以写一个统计文件里面所有单词的出现次数了。 先走一遍这个过程： 我获取到文件的内容， 然后进行分词， 分开之后才能统计个数。"
   ]
  },
  {
   "cell_type": "code",
   "execution_count": 25,
   "metadata": {},
   "outputs": [
    {
     "data": {
      "text/plain": [
       "[('Python', 4),\n",
       " ('and', 2),\n",
       " (\"'Hey,\", 1),\n",
       " ('I', 1),\n",
       " ('just', 1),\n",
       " ('love', 1),\n",
       " ('so', 1),\n",
       " ('much,', 1),\n",
       " ('want', 1),\n",
       " ('to', 1),\n",
       " ('get', 1),\n",
       " ('the', 1),\n",
       " ('whole', 1),\n",
       " ('stack', 1),\n",
       " ('by', 1),\n",
       " ('this', 1),\n",
       " ('60-days', 1),\n",
       " ('column', 1),\n",
       " ('believe', 1),\n",
       " (\"!'\", 1)]"
      ]
     },
     "execution_count": 25,
     "metadata": {},
     "output_type": "execute_result"
    }
   ],
   "source": [
    "# 下面是一个统计单词个数的例子\n",
    "from collections import defaultdict  \n",
    "#这里的defaultdict(function_factory)构建的是一个类似dictionary的对象，\n",
    "#其中keys的值，自行确定赋值，但是values的类型，是function_factory的类实例，\n",
    "#而且具有默认值。比如default(int)则创建一个类似dictionary对象，里面任何的values都是int的实例，\n",
    "#而且就算是一个不存在的key, d[key] 也有一个默认值，这个默认值是int()的默认值0.\n",
    "import re\n",
    "\n",
    "rec = re.compile('\\s+')      # 匹配一个或者多个空格\n",
    "dd = defaultdict(int)\n",
    "\n",
    "with open(r\"D:\\a.txt\", 'r+') as f:\n",
    "    for line in f:\n",
    "        clean_line = line.strip()\n",
    "        if clean_line:\n",
    "            words = rec.split(clean_line)\n",
    "            for word in words:\n",
    "                dd[word] += 1\n",
    "\n",
    "dd = sorted(dd.items(), key=lambda x: x[1], reverse=True)\n",
    "dd\n"
   ]
  },
  {
   "cell_type": "markdown",
   "metadata": {},
   "source": [
    "## 2.2 文件写操作\n",
    "文件写操作时，需要首先判断要写入的文件路径是否存在。若不存在，通过 mkdir 创建出路径；否则，直接写入文件："
   ]
  },
  {
   "cell_type": "code",
   "execution_count": 26,
   "metadata": {},
   "outputs": [],
   "source": [
    "def write_to_file(file_path, file_name):\n",
    "    if not os.path.exists(file_path):\n",
    "        os.mkdir(file_path)\n",
    "    \n",
    "    \n",
    "    whole_path_filename = os.path.join(file_path, file_name)\n",
    "    \n",
    "    to_write_content = ''' \n",
    "                        Hey, Python\n",
    "                        I just love Python so much,\n",
    "                        and want to get the whole python stack by this 60-days column\n",
    "                        and believe!\n",
    "                        '''\n",
    "    \n",
    "    with open(whole_path_filename, mode='w', encoding='utf-8') as f:\n",
    "        f.write(to_write_content)\n",
    "write_to_file('d:/1/','b.txt')"
   ]
  },
  {
   "cell_type": "markdown",
   "metadata": {},
   "source": [
    "3. 获取文件名及文件的后缀名\n",
    "有时候我们拿到一个文件名的时候， 名字上带有路径， 这时候我们可以用 os.path.split 方法实现路径和文件名的分离。"
   ]
  },
  {
   "cell_type": "code",
   "execution_count": 27,
   "metadata": {},
   "outputs": [
    {
     "name": "stdout",
     "output_type": "stream",
     "text": [
      "d:/1 b.txt\n"
     ]
    }
   ],
   "source": [
    "file_ext = os.path.split('d:/1/b.txt')\n",
    "ipath, ifile = file_ext\n",
    "\n",
    "print(ipath, ifile)\n",
    "\n"
   ]
  },
  {
   "cell_type": "code",
   "execution_count": 28,
   "metadata": {},
   "outputs": [
    {
     "data": {
      "text/plain": [
       "('d:/1/b', '.txt')"
      ]
     },
     "execution_count": 28,
     "metadata": {},
     "output_type": "execute_result"
    }
   ],
   "source": [
    "# os.path 模块，splitext 能够优雅地提取文件后缀。\n",
    "\n",
    "file_extension = os.path.splitext('d:/1/b.txt')\n",
    "file_extension     # .py"
   ]
  },
  {
   "cell_type": "code",
   "execution_count": 29,
   "metadata": {},
   "outputs": [
    {
     "data": {
      "text/plain": [
       "['1.xlsx',\n",
       " '1155.xlsx',\n",
       " '2.xlsx',\n",
       " '21.xlsx',\n",
       " 'd1.xlsx',\n",
       " 'd2.xlsx',\n",
       " 'diff.xlsx',\n",
       " 'la.xlsx']"
      ]
     },
     "execution_count": 29,
     "metadata": {},
     "output_type": "execute_result"
    }
   ],
   "source": [
    "# 基于上面的这个操作， 就可以获取某个目录下面指定后缀名的文件\n",
    "\n",
    "# 获取某个目录下指定后缀名的文件\n",
    "def find_file(work_dir, extension='jpg'):\n",
    "    lst = []\n",
    "    for filename in os.listdir(work_dir):\n",
    "        #print(filename)\n",
    "        splits = os.path.splitext(filename)\n",
    "        ext = splits[1]      # 拿到扩展名\n",
    "        if ext == '.'+extension:\n",
    "            lst.append(filename)\n",
    "    return lst\n",
    "\n",
    "r = find_file(r'd:/test/','xlsx')\n",
    "r\n",
    "\n"
   ]
  },
  {
   "cell_type": "markdown",
   "metadata": {},
   "source": [
    "这个还是很实用的， 比如在 CNN 的一些任务中， 很多图片都是以.jpg 的形式存放到文件夹里面的， 我们这时候就需要先获取到所有的.jpg 文件， 然后再通过一些方式把图片转成矩阵的表示形式， 这样我们的网络才会认识。\n",
    "\n",
    "下面再整理一个批量修改文件后缀名的例子， 比如我想把某个目录下所有的.xls 转成.xlsx 文件。这个要怎么做？ 依然是先梳理一下逻辑：\n",
    "\n",
    "首先要遍历所给的目录\n",
    "拿到各个文件的后缀名\n",
    "看看后缀名是否是需要修改的后缀名， 如果是就进行重命名操作\n",
    "有了这个逻辑， 代码就比较好写了。\n"
   ]
  },
  {
   "cell_type": "code",
   "execution_count": 32,
   "metadata": {},
   "outputs": [],
   "source": [
    "def batch_rename(work_dir, old_ext, new_ext):\n",
    "    for filename in os.listdir(work_dir):\n",
    "        \n",
    "        # 获取文件后缀\n",
    "        split_file = os.path.splitext(filename)\n",
    "        file_ext = split_file[1]\n",
    "        if old_ext == file_ext:   # 定位需要修改后缀名的文件\n",
    "            newfile = split_file[0] + new_ext   # 修改后文件的完整名称\n",
    "            \n",
    "            # 重命名\n",
    "            os.rename(\n",
    "                os.path.join(work_dir, filename),\n",
    "                os.path.join(work_dir, newfile)\n",
    "            )\n",
    "batch_rename(r\"D:\\test\\excel\\data\",'.xlsx','.xls')"
   ]
  },
  {
   "cell_type": "code",
   "execution_count": null,
   "metadata": {},
   "outputs": [],
   "source": []
  }
 ],
 "metadata": {
  "kernelspec": {
   "display_name": "Python 3",
   "language": "python",
   "name": "python3"
  },
  "language_info": {
   "codemirror_mode": {
    "name": "ipython",
    "version": 3
   },
   "file_extension": ".py",
   "mimetype": "text/x-python",
   "name": "python",
   "nbconvert_exporter": "python",
   "pygments_lexer": "ipython3",
   "version": "3.8.5"
  },
  "toc": {
   "base_numbering": 1,
   "nav_menu": {},
   "number_sections": true,
   "sideBar": true,
   "skip_h1_title": false,
   "title_cell": "Table of Contents",
   "title_sidebar": "Contents",
   "toc_cell": false,
   "toc_position": {},
   "toc_section_display": true,
   "toc_window_display": false
  }
 },
 "nbformat": 4,
 "nbformat_minor": 4
}
