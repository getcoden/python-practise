{
 "cells": [
  {
   "cell_type": "code",
   "execution_count": 1,
   "metadata": {},
   "outputs": [
    {
     "data": {
      "text/plain": [
       "['.ipynb_checkpoints',\n",
       " '111.xls',\n",
       " '222.xlsx',\n",
       " '3.xlsx',\n",
       " 'chaifengzb1.xls',\n",
       " 'fenzubaocungebiao.xls',\n",
       " 'Groupby及apply lambda函数操作.ipynb',\n",
       " 'NBA.xlsx',\n",
       " 'NBA1.xlsx',\n",
       " 'pandas 拆分excel.ipynb',\n",
       " 'result.csv',\n",
       " 'SplitExcel',\n",
       " '五年级账号和密码.xls',\n",
       " '创建DataFrame及相关操作 读取html文件中的表格并保存.ipynb',\n",
       " '拆分总表至一个工作薄内.ipynb',\n",
       " '遍历目录内的文件.ipynb']"
      ]
     },
     "execution_count": 1,
     "metadata": {},
     "output_type": "execute_result"
    }
   ],
   "source": [
    "import os\n",
    "os.getcwd()\n",
    "path = os.getcwd()\n",
    "os.listdir(path)\n"
   ]
  },
  {
   "cell_type": "code",
   "execution_count": 11,
   "metadata": {},
   "outputs": [
    {
     "name": "stdout",
     "output_type": "stream",
     "text": [
      "['21体侧数据模板.xls', '22体侧数据模板.xls', '23体侧数据模板.xls', '24体侧数据模板.xls', '25体侧数据模板.xls', '26体侧数据模板.xls', '27体侧数据模板.xls', '28体侧数据模板.xls']\n",
      "共计有8个文件\n"
     ]
    }
   ],
   "source": [
    "import os\n",
    "result = []\n",
    "def get_all(cwd):\n",
    "    get_dir = os.listdir(cwd)\n",
    "    for i in get_dir:\n",
    "        sub_dir = os.path.join(cwd,i)\n",
    "        if os.path.isdir(sub_dir):\n",
    "            get_all(sub_dir)\n",
    "        else:\n",
    "            result.append(i)\n",
    "if __name__ == \"__main__\":\n",
    "    get_all(r'D:\\Wowode\\jupyterlab\\test')\n",
    "    print(result)\n",
    "    print('共计有{}个文件'.format(len(result)))\n",
    "            \n",
    "\n",
    "                "
   ]
  },
  {
   "cell_type": "code",
   "execution_count": null,
   "metadata": {},
   "outputs": [],
   "source": []
  },
  {
   "cell_type": "code",
   "execution_count": null,
   "metadata": {},
   "outputs": [],
   "source": []
  }
 ],
 "metadata": {
  "kernelspec": {
   "display_name": "Python 3",
   "language": "python",
   "name": "python3"
  },
  "language_info": {
   "codemirror_mode": {
    "name": "ipython",
    "version": 3
   },
   "file_extension": ".py",
   "mimetype": "text/x-python",
   "name": "python",
   "nbconvert_exporter": "python",
   "pygments_lexer": "ipython3",
   "version": "3.8.5"
  },
  "toc": {
   "base_numbering": 1,
   "nav_menu": {},
   "number_sections": true,
   "sideBar": true,
   "skip_h1_title": false,
   "title_cell": "Table of Contents",
   "title_sidebar": "Contents",
   "toc_cell": false,
   "toc_position": {},
   "toc_section_display": true,
   "toc_window_display": false
  }
 },
 "nbformat": 4,
 "nbformat_minor": 4
}
