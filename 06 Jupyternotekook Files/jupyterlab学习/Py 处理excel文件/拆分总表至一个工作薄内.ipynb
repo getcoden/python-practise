{
 "cells": [
  {
   "cell_type": "code",
   "execution_count": 4,
   "metadata": {},
   "outputs": [],
   "source": [
    "\n",
    "import pandas as pd  #调用pandas包\n",
    "import xlsxwriter  #调用xlswriter包，用来生成表\n",
    "\n",
    "data=pd.read_excel('./五年级账号和密码.xls') #读取存储路径在桌面的工作簿chaifengzb,编码格式为gbk\n",
    "area_list=list(set(data[\"班级\"])) #按分公司字段分成列表\n",
    "\n",
    "writer=pd.ExcelWriter('./chaifengzb1.xls') #生成一个新 工作簿\n",
    "\n",
    "data.to_excel(writer,sheet_name=\"班级\",index=False) #将总表存到新工作簿中\n",
    "\n",
    "for j in area_list:\n",
    "    df=data[data[\"班级\"]==j]\n",
    "    df.to_excel(writer,sheet_name='五'+j,index=False) #按分成的列表中的分公司字段进行命名    \n",
    "writer.save()  #文件保存\n"
   ]
  },
  {
   "cell_type": "code",
   "execution_count": 13,
   "metadata": {},
   "outputs": [
    {
     "name": "stdout",
     "output_type": "stream",
     "text": [
      ">>>:3\n",
      "3 6\n"
     ]
    }
   ],
   "source": [
    "def fact(n):\n",
    "    if n==1:\n",
    "        return 1\n",
    "    return n*fact(n-1)\n",
    "n = int(input('>>>:'))\n",
    "a = fact(n)\n",
    "print(n,a)\n",
    "\n"
   ]
  },
  {
   "cell_type": "code",
   "execution_count": null,
   "metadata": {},
   "outputs": [],
   "source": []
  }
 ],
 "metadata": {
  "kernelspec": {
   "display_name": "Python 3",
   "language": "python",
   "name": "python3"
  },
  "language_info": {
   "codemirror_mode": {
    "name": "ipython",
    "version": 3
   },
   "file_extension": ".py",
   "mimetype": "text/x-python",
   "name": "python",
   "nbconvert_exporter": "python",
   "pygments_lexer": "ipython3",
   "version": "3.8.5"
  },
  "toc": {
   "base_numbering": 1,
   "nav_menu": {},
   "number_sections": true,
   "sideBar": true,
   "skip_h1_title": false,
   "title_cell": "Table of Contents",
   "title_sidebar": "Contents",
   "toc_cell": false,
   "toc_position": {},
   "toc_section_display": true,
   "toc_window_display": false
  }
 },
 "nbformat": 4,
 "nbformat_minor": 4
}
