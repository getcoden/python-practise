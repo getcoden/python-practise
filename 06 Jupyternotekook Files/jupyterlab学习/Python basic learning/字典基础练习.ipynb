{
 "cells": [
  {
   "cell_type": "code",
   "execution_count": 1,
   "metadata": {},
   "outputs": [
    {
     "data": {
      "text/plain": [
       "{}"
      ]
     },
     "execution_count": 1,
     "metadata": {},
     "output_type": "execute_result"
    }
   ],
   "source": [
    "a=dict()\n",
    "a"
   ]
  },
  {
   "cell_type": "code",
   "execution_count": 2,
   "metadata": {},
   "outputs": [
    {
     "data": {
      "text/plain": [
       "{}"
      ]
     },
     "execution_count": 2,
     "metadata": {},
     "output_type": "execute_result"
    }
   ],
   "source": [
    "b={}\n",
    "b"
   ]
  },
  {
   "cell_type": "code",
   "execution_count": 7,
   "metadata": {},
   "outputs": [
    {
     "name": "stdout",
     "output_type": "stream",
     "text": [
      "a : 1\n",
      "b : 2\n",
      "c : abc\n"
     ]
    }
   ],
   "source": [
    "c={'a':1,'b':2,'c':'abc'}\n",
    "for k,v in c.items():\n",
    "    print(k,':',v)"
   ]
  },
  {
   "cell_type": "code",
   "execution_count": 23,
   "metadata": {},
   "outputs": [
    {
     "name": "stdout",
     "output_type": "stream",
     "text": [
      "a 456\n",
      "b 123\n",
      "c 789\n"
     ]
    }
   ],
   "source": [
    "for k in c.keys():\n",
    "    print(k,c[k])"
   ]
  },
  {
   "cell_type": "code",
   "execution_count": 9,
   "metadata": {},
   "outputs": [
    {
     "data": {
      "text/plain": [
       "1"
      ]
     },
     "execution_count": 9,
     "metadata": {},
     "output_type": "execute_result"
    }
   ],
   "source": [
    "c['a']"
   ]
  },
  {
   "cell_type": "code",
   "execution_count": 10,
   "metadata": {},
   "outputs": [],
   "source": [
    "c['a']=123"
   ]
  },
  {
   "cell_type": "code",
   "execution_count": 11,
   "metadata": {},
   "outputs": [
    {
     "data": {
      "text/plain": [
       "{'a': 123, 'b': 2, 'c': 'abc'}"
      ]
     },
     "execution_count": 11,
     "metadata": {},
     "output_type": "execute_result"
    }
   ],
   "source": [
    "c"
   ]
  },
  {
   "cell_type": "code",
   "execution_count": 12,
   "metadata": {},
   "outputs": [],
   "source": [
    "d={'a':456,'b':123,'c':789}\n",
    "c.update(d)"
   ]
  },
  {
   "cell_type": "code",
   "execution_count": 13,
   "metadata": {},
   "outputs": [
    {
     "data": {
      "text/plain": [
       "{'a': 456, 'b': 123, 'c': 789}"
      ]
     },
     "execution_count": 13,
     "metadata": {},
     "output_type": "execute_result"
    }
   ],
   "source": [
    "c"
   ]
  },
  {
   "cell_type": "markdown",
   "metadata": {},
   "source": [
    "#Python实现用户输入首字母，程序判断是星期几，如果判断不出来，则让用户输入第二个字母\n",
    "##思路：\n",
    "\n",
    "Monday,Wednesday,Friday是看第一个字母就能判断出来的\n",
    "\n",
    "Tuesday,Thursday,Saturday,Sunday需要看第二个字母\n",
    "\n",
    "所以我们用if……else……语句来分情况讨论"
   ]
  },
  {
   "cell_type": "code",
   "execution_count": 4,
   "metadata": {},
   "outputs": [
    {
     "name": "stdout",
     "output_type": "stream",
     "text": [
      "欢迎使用判断星期几的程序。请输入第一个字母，要大家写哈>>>:T\n",
      "有点复杂，目前我还不知道，再告诉我第二个字母吧，小写~u\n",
      "原来是星期二！\n"
     ]
    }
   ],
   "source": [
    "week={'M':'星期一','W':'星期三','F':'星期五'}\n",
    "first = input('欢迎使用判断星期几的程序。请输入第一个字母，要大家写哈>>>:')\n",
    "if first in ['M','W','F']:\n",
    "    print('是'+week[first]+'哦！')\n",
    "else:\n",
    "    if first=='T':\n",
    "        second=input('有点复杂，目前我还不知道，再告诉我第二个字母吧，小写~')\n",
    "        if second=='u':\n",
    "            print('原来是星期二！')\n",
    "        else:\n",
    "            print('原来是星期四！')\n",
    "    else:\n",
    "        second=input('有点复杂，目前我还不知道，再告诉我第二个字母吧，小写~')\n",
    "        if second=='a':\n",
    "            print('原来是星期六！')\n",
    "        else:\n",
    "            print('原来是星期天')\n",
    "            "
   ]
  },
  {
   "cell_type": "code",
   "execution_count": 5,
   "metadata": {},
   "outputs": [
    {
     "name": "stdout",
     "output_type": "stream",
     "text": [
      "|---欢迎进入通讯录程序---|\n",
      "|---1:查询联系人资料  ---|\n",
      "|---2：插入新的联系人 ---|\n",
      "|---3：删除已有联系人 ---|\n",
      "|---4：退出通讯录程序 ---|\n",
      "请输入相关的指令代码：2\n",
      "请输入联系人姓名:张飞\n",
      "请输入用户联系人电话:17681321515\n",
      "{'小甲鱼': '020-88974651', '张飞': '17681321515'}\n",
      "请输入相关的指令代码：3\n",
      "请输入删除联系人姓名:小甲鱼\n",
      "{'张飞': '17681321515'}\n",
      "请输入相关的指令代码：1\n",
      "请输入联系人姓名:张飞\n",
      "张飞 : 17681321515\n",
      "请输入相关的指令代码：4\n",
      "|---感谢使用通讯录---|\n"
     ]
    }
   ],
   "source": [
    "print(\"|---欢迎进入通讯录程序---|\")\n",
    "\n",
    "print(\"|---1:查询联系人资料  ---|\")\n",
    "\n",
    "print(\"|---2：插入新的联系人 ---|\")\n",
    "\n",
    "print(\"|---3：删除已有联系人 ---|\")\n",
    "\n",
    "print(\"|---4：退出通讯录程序 ---|\")\n",
    "\n",
    "d={\"小甲鱼\":\"020-88974651\"}\n",
    "\n",
    "Q=1\n",
    "\n",
    "while (Q):\n",
    "\n",
    "    a=input(\"请输入相关的指令代码：\")\n",
    "\n",
    "    if a==\"1\":\n",
    "\n",
    "        b=input(\"请输入联系人姓名:\")\n",
    "\n",
    "        print(b,\":\",d[b])\n",
    "\n",
    "    elif a==\"2\":\n",
    "\n",
    "        b=input(\"请输入联系人姓名:\")\n",
    "\n",
    "        if b in d:\n",
    "\n",
    "            print(\"您输入的姓名已在通讯录中存在-->>\",b,\":\",d[b])\n",
    "\n",
    "            x=input(\"是否需要修改用户资料（YES/NO）：\")\n",
    "\n",
    "            if x==\"YES\":\n",
    "\n",
    "                y=input(\"请输入用户联系电话：\")\n",
    "\n",
    "                W={b:y}\n",
    "\n",
    "                d.update(W)\n",
    "\n",
    "                print(d)\n",
    "\n",
    "            else:\n",
    "\n",
    "                print(\"返回程序\")\n",
    "\n",
    "        else:\n",
    "\n",
    "            c=input(\"请输入用户联系人电话:\")\n",
    "\n",
    "            d[b]=c\n",
    "\n",
    "            print(d)\n",
    "\n",
    "    elif a==\"3\":\n",
    "\n",
    "        b=input(\"请输入删除联系人姓名:\")\n",
    "\n",
    "        d.pop(b)\n",
    "\n",
    "        print(d)\n",
    "\n",
    "    else:\n",
    "\n",
    "        print(\"|---感谢使用通讯录---|\")\n",
    "\n",
    "        Q=0"
   ]
  },
  {
   "cell_type": "code",
   "execution_count": 14,
   "metadata": {},
   "outputs": [
    {
     "name": "stdout",
     "output_type": "stream",
     "text": [
      "k1\n",
      "k2\n",
      "k3\n",
      "---------------------------\n",
      "v1\n",
      "v2\n",
      "[11, 22, 33]\n",
      "('k1', 'v1')\n",
      "('k2', 'v2')\n",
      "('k3', [11, 22, 33])\n",
      "----------------------\n",
      "{'k1': 'v1', 'k2': 'v2', 'k3': [11, 22, 33], 'k4': 'v4'}\n",
      "{'k1': 'kidd', 'k2': 'v2', 'k3': [11, 22, 33], 'k4': 'v4'}\n",
      "{'k1': 'kidd', 'k2': 'v2', 'k3': [11, 22, 33, 44], 'k4': 'v4'}\n",
      "{'k1': 'kidd', 'k2': 'v2', 'k3': [18, 11, 22, 33, 44], 'k4': 'v4'}\n"
     ]
    }
   ],
   "source": [
    "dic={'k1':'v1','k2':'v2','k3':[11,22,33]}\n",
    "for i in dic.keys():\n",
    "    print(i)\n",
    "print('---------------------------')\n",
    "for j in dic.values():\n",
    "    print(j)\n",
    "for k in dic.items():\n",
    "    print(k)\n",
    "print('----------------------')\n",
    "dic['k4']='v4'\n",
    "print(dic)\n",
    "dic['k1']='kidd'\n",
    "print(dic)\n",
    "dic['k3'].append(44)\n",
    "print(dic)\n",
    "dic['k3'].insert(0,18)\n",
    "print(dic)"
   ]
  },
  {
   "cell_type": "code",
   "execution_count": 18,
   "metadata": {},
   "outputs": [
    {
     "name": "stdout",
     "output_type": "stream",
     "text": [
      "1 手机\n",
      "2 电脑\n",
      "3 平板\n",
      "4 数据线\n",
      "5 充电宝\n",
      "输入你相要的产品[输入q则退出]1\n",
      "手机\n",
      "1 手机\n",
      "2 电脑\n",
      "3 平板\n",
      "4 数据线\n",
      "5 充电宝\n",
      "输入你相要的产品[输入q则退出]2\n",
      "电脑\n",
      "1 手机\n",
      "2 电脑\n",
      "3 平板\n",
      "4 数据线\n",
      "5 充电宝\n",
      "输入你相要的产品[输入q则退出]3\n",
      "平板\n",
      "1 手机\n",
      "2 电脑\n",
      "3 平板\n",
      "4 数据线\n",
      "5 充电宝\n",
      "输入你相要的产品[输入q则退出]4\n",
      "数据线\n",
      "1 手机\n",
      "2 电脑\n",
      "3 平板\n",
      "4 数据线\n",
      "5 充电宝\n",
      "输入你相要的产品[输入q则退出]5\n",
      "充电宝\n",
      "1 手机\n",
      "2 电脑\n",
      "3 平板\n",
      "4 数据线\n",
      "5 充电宝\n",
      "输入你相要的产品[输入q则退出]q\n",
      "['手机', '电脑', '平板', '数据线', '充电宝']\n",
      "1 手机\n",
      "2 电脑\n",
      "3 平板\n",
      "4 数据线\n",
      "5 充电宝\n",
      "输入你相要的产品[输入q则退出]q\n",
      "['手机', '电脑', '平板', '数据线', '充电宝']\n",
      "1 手机\n",
      "2 电脑\n",
      "3 平板\n",
      "4 数据线\n",
      "5 充电宝\n"
     ]
    },
    {
     "ename": "KeyboardInterrupt",
     "evalue": "Interrupted by user",
     "output_type": "error",
     "traceback": [
      "\u001b[1;31m---------------------------------------------------------------------------\u001b[0m",
      "\u001b[1;31mKeyboardInterrupt\u001b[0m                         Traceback (most recent call last)",
      "\u001b[1;32m<ipython-input-18-3e1747acde7a>\u001b[0m in \u001b[0;36m<module>\u001b[1;34m\u001b[0m\n\u001b[0;32m      4\u001b[0m        \u001b[1;32mfor\u001b[0m \u001b[0mi\u001b[0m\u001b[1;33m,\u001b[0m\u001b[0mv\u001b[0m \u001b[1;32min\u001b[0m \u001b[0mgoods\u001b[0m\u001b[1;33m.\u001b[0m\u001b[0mitems\u001b[0m\u001b[1;33m(\u001b[0m\u001b[1;33m)\u001b[0m\u001b[1;33m:\u001b[0m\u001b[1;33m\u001b[0m\u001b[1;33m\u001b[0m\u001b[0m\n\u001b[0;32m      5\u001b[0m            \u001b[0mprint\u001b[0m\u001b[1;33m(\u001b[0m\u001b[0mi\u001b[0m\u001b[1;33m,\u001b[0m\u001b[0mv\u001b[0m\u001b[1;33m)\u001b[0m\u001b[1;33m\u001b[0m\u001b[1;33m\u001b[0m\u001b[0m\n\u001b[1;32m----> 6\u001b[1;33m        \u001b[0ma\u001b[0m \u001b[1;33m=\u001b[0m\u001b[0minput\u001b[0m\u001b[1;33m(\u001b[0m\u001b[1;34m'输入你相要的产品[输入q则退出]'\u001b[0m\u001b[1;33m)\u001b[0m\u001b[1;33m\u001b[0m\u001b[1;33m\u001b[0m\u001b[0m\n\u001b[0m\u001b[0;32m      7\u001b[0m        \u001b[1;32mif\u001b[0m \u001b[0ma\u001b[0m\u001b[1;33m.\u001b[0m\u001b[0misdigit\u001b[0m\u001b[1;33m(\u001b[0m\u001b[1;33m)\u001b[0m\u001b[1;33m:\u001b[0m\u001b[1;33m\u001b[0m\u001b[1;33m\u001b[0m\u001b[0m\n\u001b[0;32m      8\u001b[0m            \u001b[1;32mif\u001b[0m \u001b[0ma\u001b[0m \u001b[1;33m>\u001b[0m \u001b[0mi\u001b[0m\u001b[1;33m:\u001b[0m\u001b[1;33m\u001b[0m\u001b[1;33m\u001b[0m\u001b[0m\n",
      "\u001b[1;32mc:\\users\\star\\appdata\\local\\programs\\python\\python38\\lib\\site-packages\\ipykernel\\kernelbase.py\u001b[0m in \u001b[0;36mraw_input\u001b[1;34m(self, prompt)\u001b[0m\n\u001b[0;32m    858\u001b[0m                 \u001b[1;34m\"raw_input was called, but this frontend does not support input requests.\"\u001b[0m\u001b[1;33m\u001b[0m\u001b[1;33m\u001b[0m\u001b[0m\n\u001b[0;32m    859\u001b[0m             )\n\u001b[1;32m--> 860\u001b[1;33m         return self._input_request(str(prompt),\n\u001b[0m\u001b[0;32m    861\u001b[0m             \u001b[0mself\u001b[0m\u001b[1;33m.\u001b[0m\u001b[0m_parent_ident\u001b[0m\u001b[1;33m,\u001b[0m\u001b[1;33m\u001b[0m\u001b[1;33m\u001b[0m\u001b[0m\n\u001b[0;32m    862\u001b[0m             \u001b[0mself\u001b[0m\u001b[1;33m.\u001b[0m\u001b[0m_parent_header\u001b[0m\u001b[1;33m,\u001b[0m\u001b[1;33m\u001b[0m\u001b[1;33m\u001b[0m\u001b[0m\n",
      "\u001b[1;32mc:\\users\\star\\appdata\\local\\programs\\python\\python38\\lib\\site-packages\\ipykernel\\kernelbase.py\u001b[0m in \u001b[0;36m_input_request\u001b[1;34m(self, prompt, ident, parent, password)\u001b[0m\n\u001b[0;32m    902\u001b[0m             \u001b[1;32mexcept\u001b[0m \u001b[0mKeyboardInterrupt\u001b[0m\u001b[1;33m:\u001b[0m\u001b[1;33m\u001b[0m\u001b[1;33m\u001b[0m\u001b[0m\n\u001b[0;32m    903\u001b[0m                 \u001b[1;31m# re-raise KeyboardInterrupt, to truncate traceback\u001b[0m\u001b[1;33m\u001b[0m\u001b[1;33m\u001b[0m\u001b[1;33m\u001b[0m\u001b[0m\n\u001b[1;32m--> 904\u001b[1;33m                 \u001b[1;32mraise\u001b[0m \u001b[0mKeyboardInterrupt\u001b[0m\u001b[1;33m(\u001b[0m\u001b[1;34m\"Interrupted by user\"\u001b[0m\u001b[1;33m)\u001b[0m \u001b[1;32mfrom\u001b[0m \u001b[1;32mNone\u001b[0m\u001b[1;33m\u001b[0m\u001b[1;33m\u001b[0m\u001b[0m\n\u001b[0m\u001b[0;32m    905\u001b[0m             \u001b[1;32mexcept\u001b[0m \u001b[0mException\u001b[0m \u001b[1;32mas\u001b[0m \u001b[0me\u001b[0m\u001b[1;33m:\u001b[0m\u001b[1;33m\u001b[0m\u001b[1;33m\u001b[0m\u001b[0m\n\u001b[0;32m    906\u001b[0m                 \u001b[0mself\u001b[0m\u001b[1;33m.\u001b[0m\u001b[0mlog\u001b[0m\u001b[1;33m.\u001b[0m\u001b[0mwarning\u001b[0m\u001b[1;33m(\u001b[0m\u001b[1;34m\"Invalid Message:\"\u001b[0m\u001b[1;33m,\u001b[0m \u001b[0mexc_info\u001b[0m\u001b[1;33m=\u001b[0m\u001b[1;32mTrue\u001b[0m\u001b[1;33m)\u001b[0m\u001b[1;33m\u001b[0m\u001b[1;33m\u001b[0m\u001b[0m\n",
      "\u001b[1;31mKeyboardInterrupt\u001b[0m: Interrupted by user"
     ]
    }
   ],
   "source": [
    "goods={'1':'手机','2':'电脑','3':'平板','4':'数据线','5':'充电宝'}\n",
    "num=[]\n",
    "while 1:\n",
    "       for i,v in goods.items():\n",
    "           print(i,v)\n",
    "       a =input('输入你相要的产品[输入q则退出]')\n",
    "       if a.isdigit():\n",
    "           if a > i:\n",
    "               print('输入的内容有误')\n",
    "           else:\n",
    "               print(goods[a])\n",
    "               num.append(goods[a])\n",
    "       elif a.upper()=='Q':\n",
    "           print(num)\n",
    "           exit('退出')\n",
    "       else:\n",
    "           print('输入的格式错误')\n",
    "       \n",
    "       "
   ]
  },
  {
   "cell_type": "code",
   "execution_count": null,
   "metadata": {},
   "outputs": [
    {
     "name": "stdout",
     "output_type": "stream",
     "text": [
      "1 手机\n",
      "2 电脑\n",
      "3 平板\n",
      "4 数据线\n",
      "5 充电宝\n",
      "输入你想要的产品(输入q则退出)1\n",
      "手机\n",
      "1 手机\n",
      "2 电脑\n",
      "3 平板\n",
      "4 数据线\n",
      "5 充电宝\n",
      "输入你想要的产品(输入q则退出)2\n",
      "电脑\n",
      "1 手机\n",
      "2 电脑\n",
      "3 平板\n",
      "4 数据线\n",
      "5 充电宝\n",
      "输入你想要的产品(输入q则退出)3\n",
      "平板\n",
      "1 手机\n",
      "2 电脑\n",
      "3 平板\n",
      "4 数据线\n",
      "5 充电宝\n",
      "输入你想要的产品(输入q则退出)6\n",
      "输入错误\n",
      "1 手机\n",
      "2 电脑\n",
      "3 平板\n",
      "4 数据线\n",
      "5 充电宝\n",
      "输入你想要的产品(输入q则退出)4\n",
      "数据线\n",
      "1 手机\n",
      "2 电脑\n",
      "3 平板\n",
      "4 数据线\n",
      "5 充电宝\n",
      "输入你想要的产品(输入q则退出)5\n",
      "充电宝\n",
      "1 手机\n",
      "2 电脑\n",
      "3 平板\n",
      "4 数据线\n",
      "5 充电宝\n",
      "输入你想要的产品(输入q则退出)Q\n",
      "['手机', '电脑', '平板', '数据线', '充电宝']\n",
      "1 手机\n",
      "2 电脑\n",
      "3 平板\n",
      "4 数据线\n",
      "5 充电宝\n"
     ]
    }
   ],
   "source": [
    "goods={'1':'手机','2':'电脑','3':'平板','4':'数据线','5':'充电宝'}\n",
    "num=[]\n",
    "while 1:\n",
    "    for i,v in goods.items():\n",
    "        print(i,v)\n",
    "    a = input('输入你想要的产品(输入q则退出)')\n",
    "    if a.isdigit():\n",
    "        if a > i :\n",
    "            print('输入错误')\n",
    "        else:\n",
    "            print(goods[a])\n",
    "            num.append(goods[a])\n",
    "    elif a.upper()=='Q':\n",
    "        print(num)\n",
    "        exit('退出')\n",
    "    else:\n",
    "        print('输入有误')\n",
    "        "
   ]
  },
  {
   "cell_type": "code",
   "execution_count": 8,
   "metadata": {},
   "outputs": [
    {
     "name": "stdout",
     "output_type": "stream",
     "text": [
      "1*1=1\t\n",
      "1*2=2\t2*2=4\t\n",
      "1*3=3\t2*3=6\t3*3=9\t\n",
      "1*4=4\t2*4=8\t3*4=12\t4*4=16\t\n",
      "1*5=5\t2*5=10\t3*5=15\t4*5=20\t5*5=25\t\n",
      "1*6=6\t2*6=12\t3*6=18\t4*6=24\t5*6=30\t6*6=36\t\n",
      "1*7=7\t2*7=14\t3*7=21\t4*7=28\t5*7=35\t6*7=42\t7*7=49\t\n",
      "1*8=8\t2*8=16\t3*8=24\t4*8=32\t5*8=40\t6*8=48\t7*8=56\t8*8=64\t\n",
      "1*9=9\t2*9=18\t3*9=27\t4*9=36\t5*9=45\t6*9=54\t7*9=63\t8*9=72\t9*9=81\t\n"
     ]
    }
   ],
   "source": [
    "for i in range(1,10):\n",
    "    for j in range(1,i+1):\n",
    "        print('{}*{}={}'.format(j,i,i*j),end='\\t')\n",
    "    print()"
   ]
  },
  {
   "cell_type": "code",
   "execution_count": 11,
   "metadata": {},
   "outputs": [
    {
     "name": "stdout",
     "output_type": "stream",
     "text": [
      "1 2 3,1 2 4,1 3 2,1 3 4,1 4 2,1 4 3,2 1 3,2 1 4,2 3 1,2 3 4,2 4 1,2 4 3,3 1 2,3 1 4,3 2 1,3 2 4,3 4 1,3 4 2,4 1 2,4 1 3,4 2 1,4 2 3,4 3 1,4 3 2,\n",
      "共计24个\n"
     ]
    }
   ],
   "source": [
    "total=0\n",
    "for i in range(1,5):\n",
    "    for j in range(1,5):\n",
    "        for k in range(1,5):\n",
    "            if i!=j and j!=k and i!=k:\n",
    "                print(i,j,k,end=',')\n",
    "                total+=1\n",
    "                \n",
    "print('\\n共计%d个'%total)"
   ]
  },
  {
   "cell_type": "code",
   "execution_count": null,
   "metadata": {},
   "outputs": [],
   "source": []
  }
 ],
 "metadata": {
  "kernelspec": {
   "display_name": "Python 3",
   "language": "python",
   "name": "python3"
  },
  "language_info": {
   "codemirror_mode": {
    "name": "ipython",
    "version": 3
   },
   "file_extension": ".py",
   "mimetype": "text/x-python",
   "name": "python",
   "nbconvert_exporter": "python",
   "pygments_lexer": "ipython3",
   "version": "3.8.5"
  },
  "toc": {
   "base_numbering": 1,
   "nav_menu": {},
   "number_sections": true,
   "sideBar": true,
   "skip_h1_title": false,
   "title_cell": "Table of Contents",
   "title_sidebar": "Contents",
   "toc_cell": false,
   "toc_position": {},
   "toc_section_display": true,
   "toc_window_display": false
  }
 },
 "nbformat": 4,
 "nbformat_minor": 4
}
