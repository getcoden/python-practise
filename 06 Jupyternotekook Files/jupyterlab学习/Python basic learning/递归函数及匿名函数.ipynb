{
 "cells": [
  {
   "cell_type": "code",
   "execution_count": 2,
   "metadata": {},
   "outputs": [
    {
     "data": {
      "text/plain": [
       "100"
      ]
     },
     "execution_count": 2,
     "metadata": {},
     "output_type": "execute_result"
    }
   ],
   "source": [
    "p1=lambda :100\n",
    "p1()"
   ]
  },
  {
   "cell_type": "code",
   "execution_count": 4,
   "metadata": {},
   "outputs": [
    {
     "data": {
      "text/plain": [
       "3"
      ]
     },
     "execution_count": 4,
     "metadata": {},
     "output_type": "execute_result"
    }
   ],
   "source": [
    "p2 = lambda a,b:a+b\n",
    "p2(1,2)"
   ]
  },
  {
   "cell_type": "code",
   "execution_count": 6,
   "metadata": {},
   "outputs": [
    {
     "data": {
      "text/plain": [
       "230"
      ]
     },
     "execution_count": 6,
     "metadata": {},
     "output_type": "execute_result"
    }
   ],
   "source": [
    "p3 = lambda a,b,c=100:a+b+c\n",
    "p3(10,20,200)"
   ]
  },
  {
   "cell_type": "code",
   "execution_count": 7,
   "metadata": {},
   "outputs": [
    {
     "data": {
      "text/plain": [
       "(100, 200, 300)"
      ]
     },
     "execution_count": 7,
     "metadata": {},
     "output_type": "execute_result"
    }
   ],
   "source": [
    "p4=lambda *args:args\n",
    "p4(100,200,300)"
   ]
  },
  {
   "cell_type": "code",
   "execution_count": 8,
   "metadata": {},
   "outputs": [
    {
     "data": {
      "text/plain": [
       "{'a': 100, 'b': 200}"
      ]
     },
     "execution_count": 8,
     "metadata": {},
     "output_type": "execute_result"
    }
   ],
   "source": [
    "p5 = lambda **kwargs:kwargs\n",
    "p5(a=100,b=200)"
   ]
  },
  {
   "cell_type": "code",
   "execution_count": 18,
   "metadata": {
    "scrolled": true
   },
   "outputs": [
    {
     "data": {
      "text/plain": [
       "[{'name': 'tom', 'age': 16},\n",
       " {'name': 'rom', 'age': 19},\n",
       " {'name': 'jom', 'age': 32}]"
      ]
     },
     "execution_count": 18,
     "metadata": {},
     "output_type": "execute_result"
    }
   ],
   "source": [
    "l = [{'name':'tom', 'age':16},\n",
    "     {'name':'rom', 'age':19},\n",
    "     {'name':'jom','age':32}]\n",
    "l"
   ]
  },
  {
   "cell_type": "code",
   "execution_count": 19,
   "metadata": {},
   "outputs": [
    {
     "data": {
      "text/plain": [
       "[{'name': 'jom', 'age': 32},\n",
       " {'name': 'rom', 'age': 19},\n",
       " {'name': 'tom', 'age': 16}]"
      ]
     },
     "execution_count": 19,
     "metadata": {},
     "output_type": "execute_result"
    }
   ],
   "source": [
    "l.sort(key=lambda x:x['name'])\n",
    "l"
   ]
  },
  {
   "cell_type": "code",
   "execution_count": 20,
   "metadata": {},
   "outputs": [
    {
     "data": {
      "text/plain": [
       "[{'name': 'tom', 'age': 16},\n",
       " {'name': 'rom', 'age': 19},\n",
       " {'name': 'jom', 'age': 32}]"
      ]
     },
     "execution_count": 20,
     "metadata": {},
     "output_type": "execute_result"
    }
   ],
   "source": [
    "l.sort(key=lambda x:x['age'])\n",
    "l"
   ]
  },
  {
   "cell_type": "code",
   "execution_count": 21,
   "metadata": {},
   "outputs": [],
   "source": [
    "l.sort(key=lambda x:x['name'],reverse=True)"
   ]
  },
  {
   "cell_type": "code",
   "execution_count": 22,
   "metadata": {},
   "outputs": [
    {
     "data": {
      "text/plain": [
       "[{'name': 'tom', 'age': 16},\n",
       " {'name': 'rom', 'age': 19},\n",
       " {'name': 'jom', 'age': 32}]"
      ]
     },
     "execution_count": 22,
     "metadata": {},
     "output_type": "execute_result"
    }
   ],
   "source": [
    "l"
   ]
  },
  {
   "cell_type": "code",
   "execution_count": 23,
   "metadata": {},
   "outputs": [],
   "source": [
    "l.sort(key=lambda x:x['age'],reverse=True)"
   ]
  },
  {
   "cell_type": "code",
   "execution_count": 24,
   "metadata": {},
   "outputs": [
    {
     "data": {
      "text/plain": [
       "[{'name': 'jom', 'age': 32},\n",
       " {'name': 'rom', 'age': 19},\n",
       " {'name': 'tom', 'age': 16}]"
      ]
     },
     "execution_count": 24,
     "metadata": {},
     "output_type": "execute_result"
    }
   ],
   "source": [
    "l"
   ]
  },
  {
   "cell_type": "code",
   "execution_count": 37,
   "metadata": {},
   "outputs": [
    {
     "data": {
      "text/plain": [
       "[{'name': 'jom', 'age': 32},\n",
       " {'name': 'rom', 'age': 19},\n",
       " {'name': 'tom', 'age': 16}]"
      ]
     },
     "execution_count": 37,
     "metadata": {},
     "output_type": "execute_result"
    }
   ],
   "source": [
    "sorted(l,key=lambda x:x['age'],reverse=True)\n"
   ]
  },
  {
   "cell_type": "code",
   "execution_count": 30,
   "metadata": {},
   "outputs": [
    {
     "name": "stdout",
     "output_type": "stream",
     "text": [
      "[('a', 4), ('b', 2), ('c', 5), ('d', 3), ('e', 1)]\n",
      "[('e', 1), ('b', 2), ('d', 3), ('a', 4), ('c', 5)]\n"
     ]
    }
   ],
   "source": [
    "list = [('a', 4), ('b', 2), ('c', 5), ('d', 3), ('e', 1)]\n",
    "print(sorted(list, key=lambda x: x[0])) #对第一个元素排序\n",
    "print(sorted(list, key=lambda y: y[1])) #对第二个元素排序"
   ]
  },
  {
   "cell_type": "code",
   "execution_count": 32,
   "metadata": {},
   "outputs": [
    {
     "data": {
      "text/plain": [
       "[1, 2, 3, 4]"
      ]
     },
     "execution_count": 32,
     "metadata": {},
     "output_type": "execute_result"
    }
   ],
   "source": [
    "a=[3,2,4,1]\n",
    "sorted(a)"
   ]
  },
  {
   "cell_type": "code",
   "execution_count": 15,
   "metadata": {},
   "outputs": [
    {
     "data": {
      "text/plain": [
       "0      五1\n",
       "1      五1\n",
       "2      五1\n",
       "3      五1\n",
       "4      五1\n",
       "       ..\n",
       "155    五4\n",
       "156    五4\n",
       "157    五4\n",
       "158    五4\n",
       "159    五4\n",
       "Length: 160, dtype: object"
      ]
     },
     "execution_count": 15,
     "metadata": {},
     "output_type": "execute_result"
    }
   ],
   "source": [
    "import pandas as pd \n",
    "\n",
    "\n",
    "def banji():\n",
    "    count=0\n",
    "    banbei=[]\n",
    "    Class = ['五1','五2','五3','五4']\n",
    "    for i in  Class:\n",
    "        for j in range(40):\n",
    "            count+=1\n",
    "            banbei.append(i)\n",
    "    \n",
    "    return banbei\n",
    "# print(banji())\n",
    "\n",
    "pt=pd.Series(banji())\n",
    "pt\n",
    "\n",
    "# df=pd.Series(list(set1))"
   ]
  },
  {
   "cell_type": "code",
   "execution_count": 16,
   "metadata": {},
   "outputs": [
    {
     "data": {
      "text/plain": [
       "['五1',\n",
       " '五2',\n",
       " '五3',\n",
       " '五4',\n",
       " '五1',\n",
       " '五2',\n",
       " '五3',\n",
       " '五4',\n",
       " '五1',\n",
       " '五2',\n",
       " '五3',\n",
       " '五4',\n",
       " '五1',\n",
       " '五2',\n",
       " '五3',\n",
       " '五4',\n",
       " '五1',\n",
       " '五2',\n",
       " '五3',\n",
       " '五4']"
      ]
     },
     "execution_count": 16,
     "metadata": {},
     "output_type": "execute_result"
    }
   ],
   "source": [
    "Class = ['五1','五2','五3','五4']*5\n",
    "Class"
   ]
  },
  {
   "cell_type": "code",
   "execution_count": 18,
   "metadata": {},
   "outputs": [
    {
     "name": "stdout",
     "output_type": "stream",
     "text": [
      "   0  1  2  3  4\n",
      "0  0  1  2  3  4\n",
      "1  5  6  7  8  9\n"
     ]
    }
   ],
   "source": [
    "import numpy as np\n",
    "a = pd.DataFrame(np.arange(10).reshape(2,5))\n",
    "print(a)"
   ]
  },
  {
   "cell_type": "code",
   "execution_count": 19,
   "metadata": {},
   "outputs": [
    {
     "name": "stdout",
     "output_type": "stream",
     "text": [
      "   q  w  x  y  z\n",
      "a  0  1  2  3  4\n",
      "b  5  6  7  8  9\n"
     ]
    }
   ],
   "source": [
    "a = pd.DataFrame(np.arange(10).reshape(2,5),index=list(\"ab\"),columns=list(\"qwxyz\"))\n",
    "print(a)"
   ]
  },
  {
   "cell_type": "code",
   "execution_count": 20,
   "metadata": {},
   "outputs": [
    {
     "name": "stdout",
     "output_type": "stream",
     "text": [
      "     name  age    tel\n",
      "0  yangwj   28  10080\n",
      "1     ywj   29  10010\n"
     ]
    }
   ],
   "source": [
    "temp_dict = {\"name\":[\"yangwj\",\"ywj\"],\"age\":[28,29],\"tel\":[\"10080\",\"10010\"]}\n",
    "a = pd.DataFrame(temp_dict)\n",
    "print(a)"
   ]
  },
  {
   "cell_type": "code",
   "execution_count": 22,
   "metadata": {},
   "outputs": [
    {
     "data": {
      "text/plain": [
       "name    yangwj\n",
       "age         28\n",
       "tel      10080\n",
       "dtype: object"
      ]
     },
     "execution_count": 22,
     "metadata": {},
     "output_type": "execute_result"
    }
   ],
   "source": [
    "temp_dict = {\"name\":\"yangwj\",\"age\":28,\"tel\":\"10080\"}\n",
    "a = pd.Series(temp_dict)\n",
    "a"
   ]
  },
  {
   "cell_type": "code",
   "execution_count": 32,
   "metadata": {},
   "outputs": [],
   "source": [
    "t= pd.Series(range(4))"
   ]
  },
  {
   "cell_type": "code",
   "execution_count": 33,
   "metadata": {},
   "outputs": [
    {
     "data": {
      "text/plain": [
       "0    0\n",
       "1    1\n",
       "2    2\n",
       "3    3\n",
       "dtype: int64"
      ]
     },
     "execution_count": 33,
     "metadata": {},
     "output_type": "execute_result"
    }
   ],
   "source": [
    "t"
   ]
  },
  {
   "cell_type": "code",
   "execution_count": 31,
   "metadata": {},
   "outputs": [],
   "source": [
    "new = pd.DataFrame({'name':'','age':'','sex':''},index=['0'])"
   ]
  },
  {
   "cell_type": "code",
   "execution_count": null,
   "metadata": {},
   "outputs": [],
   "source": []
  }
 ],
 "metadata": {
  "kernelspec": {
   "display_name": "Python 3",
   "language": "python",
   "name": "python3"
  },
  "language_info": {
   "codemirror_mode": {
    "name": "ipython",
    "version": 3
   },
   "file_extension": ".py",
   "mimetype": "text/x-python",
   "name": "python",
   "nbconvert_exporter": "python",
   "pygments_lexer": "ipython3",
   "version": "3.8.5"
  },
  "toc": {
   "base_numbering": 1,
   "nav_menu": {},
   "number_sections": true,
   "sideBar": true,
   "skip_h1_title": false,
   "title_cell": "Table of Contents",
   "title_sidebar": "Contents",
   "toc_cell": false,
   "toc_position": {},
   "toc_section_display": true,
   "toc_window_display": false
  }
 },
 "nbformat": 4,
 "nbformat_minor": 4
}
