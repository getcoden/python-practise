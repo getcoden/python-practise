{
 "cells": [
  {
   "cell_type": "code",
   "execution_count": 1,
   "metadata": {},
   "outputs": [
    {
     "name": "stdout",
     "output_type": "stream",
     "text": [
      "xiaoming\n",
      "hello,1\n",
      "hello,2\n"
     ]
    }
   ],
   "source": [
    "def say_hello():\n",
    "    print('hello,1')\n",
    "    print('hello,2')\n",
    "\n",
    "print('xiaoming')\n",
    "say_hello()"
   ]
  },
  {
   "cell_type": "code",
   "execution_count": 6,
   "metadata": {
    "scrolled": true
   },
   "outputs": [
    {
     "name": "stdout",
     "output_type": "stream",
     "text": [
      "请输入你要计算的次数:3\n",
      "Enter first number:1\n",
      "Enter second number:2\n",
      "3\n",
      "Enter first number:3\n",
      "Enter second number:4\n",
      "7\n",
      "Enter first number:5\n",
      "Enter second number:6\n",
      "11\n"
     ]
    }
   ],
   "source": [
    "def da():   \n",
    "    def sum_2_num(num1,num2):\n",
    "        '''动态计算两个数相加'''\n",
    "        result = num1+num2\n",
    "        return result\n",
    "\n",
    "    num=int(input('请输入你要计算的次数:'))\n",
    "    tol=1\n",
    "    while tol<=num:\n",
    "        num1=int(input('Enter first number:'))\n",
    "        num2=int(input('Enter second number:'))\n",
    "        rs=sum_2_num(num1,num2)\n",
    "        print('{}'.format(rs))\n",
    "        tol+=1\n",
    "\n",
    "\n",
    "da()   "
   ]
  },
  {
   "cell_type": "code",
   "execution_count": 14,
   "metadata": {},
   "outputs": [
    {
     "name": "stdout",
     "output_type": "stream",
     "text": [
      "Eenter the first number:2\n",
      "Eenter the second number:6\n",
      "8\n",
      "是否再来一次(yes/no?)y\n",
      "Eenter the first number:5\n",
      "Eenter the second number:6\n",
      "11\n",
      "是否再来一次(yes/no?)n\n"
     ]
    }
   ],
   "source": [
    "def fun(a,b):\n",
    "    c=a+b\n",
    "    print(c)\n",
    "\n",
    "while 1:\n",
    "    num1=int(input('Eenter the first number:'))\n",
    "    num2=int(input('Eenter the second number:'))\n",
    "    fun(num1,num2)\n",
    "    is_continue=input('是否再来一次(yes/no?)')\n",
    "    if is_continue!='y':\n",
    "        break\n",
    "    else:\n",
    "        continue\n",
    "        \n",
    "\n",
    "        \n"
   ]
  },
  {
   "cell_type": "code",
   "execution_count": 11,
   "metadata": {
    "collapsed": true
   },
   "outputs": [
    {
     "name": "stdout",
     "output_type": "stream",
     "text": [
      "请输入数字:25\n",
      "猜小了\n",
      "请输入数字:46\n",
      "猜大了\n",
      "请输入数字:45\n",
      "猜大了\n",
      "请输入数字:30\n",
      "猜小了\n",
      "请输入数字:31\n",
      "猜小了\n",
      "请输入数字:32\n",
      "猜小了\n",
      "请输入数字:33\n",
      "猜小了\n",
      "请输入数字:34\n",
      "猜小了\n",
      "请输入数字:35\n",
      "猜小了\n",
      "请输入数字:36\n",
      "猜小了\n",
      "请输入数字:37\n",
      "你真棒！\n",
      "是否再来一盘(yes/no?)y\n",
      "请输入数字:56\n",
      "猜大了\n",
      "请输入数字:43\n",
      "猜大了\n",
      "请输入数字:40\n",
      "猜大了\n",
      "请输入数字:30\n",
      "猜大了\n",
      "请输入数字:23\n",
      "猜大了\n",
      "请输入数字:22\n",
      "猜大了\n",
      "请输入数字:21\n",
      "猜大了\n",
      "请输入数字:20\n",
      "猜大了\n",
      "请输入数字:19\n",
      "猜大了\n",
      "请输入数字:18\n",
      "猜大了\n",
      "请输入数字:17\n",
      "猜大了\n",
      "请输入数字:16\n",
      "猜大了\n",
      "请输入数字:15\n",
      "猜大了\n",
      "请输入数字:14\n",
      "你真棒！\n",
      "是否再来一盘(yes/no?)n\n"
     ]
    }
   ],
   "source": [
    "import random\n",
    "rand_num=random.randint(1,100)\n",
    "while 1:\n",
    "#     print('随机数是%d' %rand_num)\n",
    "    num = int(input('请输入数字:'))\n",
    "    if num==rand_num:\n",
    "        print('你真棒！')\n",
    "        is_continue=input('是否再来一盘(yes/no?)')\n",
    "        if is_continue !='y':\n",
    "            break\n",
    "        else:\n",
    "            rand_num = random.randint(1,100)\n",
    "    elif num<rand_num:\n",
    "        print('猜小了')\n",
    "    else:\n",
    "        print('猜大了')\n",
    "        "
   ]
  },
  {
   "cell_type": "code",
   "execution_count": 16,
   "metadata": {},
   "outputs": [
    {
     "name": "stdout",
     "output_type": "stream",
     "text": [
      "参数个数: 3\n",
      "name ->> midu\n",
      "age ->> 15\n",
      "sex ->> male\n",
      "{'name': 'midu', 'age': 15, 'sex': 'male'}\n"
     ]
    }
   ],
   "source": [
    "def myfun(**kwargs):\n",
    "    print('参数个数:',len(kwargs))\n",
    "    for k,v in kwargs.items():\n",
    "        print(k,'->>',v)\n",
    "    print(kwargs)\n",
    "myfun(name='midu',age=15,sex='male')"
   ]
  },
  {
   "cell_type": "code",
   "execution_count": 39,
   "metadata": {},
   "outputs": [
    {
     "name": "stdout",
     "output_type": "stream",
     "text": [
      ">>>:1 2 3\n",
      "参数个数: 3\n",
      "第0个参数1:\n",
      "第1个参数2:\n",
      "第2个参数3:\n",
      "[1, 2, 3]\n"
     ]
    }
   ],
   "source": [
    "def flist(args):\n",
    "    print('参数个数:',len(args))\n",
    "    for i,k in enumerate(args):\n",
    "        print(\"第{}个参数{}:\".format(i,k))\n",
    "    print(args)\n",
    "b=[]\n",
    "a = input('>>>:').split()\n",
    "for j in a:\n",
    "    b.append(int(j))\n",
    "flist(b)"
   ]
  },
  {
   "cell_type": "code",
   "execution_count": 45,
   "metadata": {},
   "outputs": [
    {
     "name": "stdout",
     "output_type": "stream",
     "text": [
      "1\n",
      "3\n",
      "5\n",
      "[]\n"
     ]
    }
   ],
   "source": [
    "li = [1,2,3,4,5]\n",
    "lin=[]\n",
    "for i in li:\n",
    "    print(i)\n",
    "    li.remove(i)\n",
    "    lin.append(i)\n",
    "print(lin)"
   ]
  },
  {
   "cell_type": "code",
   "execution_count": 9,
   "metadata": {},
   "outputs": [
    {
     "name": "stdout",
     "output_type": "stream",
     "text": [
      "请选择功能------------------\n",
      "1、添加学员\n",
      "2、删除学员\n",
      "3、修改学员\n",
      "4、查询学员\n",
      "5、显示所有学员\n",
      "6、退出系统\n",
      "--------------------\n",
      "请输入功能序号:6\n"
     ]
    }
   ],
   "source": [
    "def info_print():\n",
    "    print('请选择功能------------------')\n",
    "    print('1、添加学员')\n",
    "    print('2、删除学员')\n",
    "    print('3、修改学员')\n",
    "    print('4、查询学员')\n",
    "    print('5、显示所有学员')\n",
    "    print('6、退出系统')\n",
    "    print('-'*20)\n",
    "    \n",
    "info=[]  \n",
    "# 添加学员信息的函数\n",
    "def add_info():\n",
    "    new_id = input('请输入学号:')\n",
    "    new_name = input('请输入姓名:')\n",
    "    new_tel = input('请输入手机号:')\n",
    "    global info\n",
    "    for i in info:\n",
    "        if new_name == i['name']:\n",
    "            print('此用户已经存在')\n",
    "            return       \n",
    "    info_dict ={}\n",
    "    info_dict['id']=new_id\n",
    "    info_dict['name']=new_name\n",
    "    info_dict['tel']=new_tel\n",
    "    \n",
    "    info.append(info_dict)\n",
    "    print(info)\n",
    "    \n",
    "def del_info():\n",
    "    global info\n",
    "    del_name = input('请输入要删除的学员的姓名:')\n",
    "    for i in info:\n",
    "        if del_name == i['name']:\n",
    "            info.remove(i)\n",
    "            break\n",
    "    else:\n",
    "        print('该学员不存在')\n",
    "    print(info)\n",
    "def modify_info():\n",
    "    modify_name = input('请输入要修改的学员的姓名:')\n",
    "    global info\n",
    "    for i in info:\n",
    "        if modify_name == i['name']:\n",
    "            i['tel'] = input('请输入手机号:')\n",
    "            break\n",
    "    else:\n",
    "        print('该学员不存在')\n",
    "    print(info)\n",
    "def search_info():\n",
    "    search_name = input('请输入要查询找学生的姓名:')\n",
    "    global info\n",
    "    for i in info:\n",
    "        if search_name == i['name']:\n",
    "            print('查的到的学员信息如下:-------------')\n",
    "            print(f\"该学员的学号是{i['id']},名是{i['name']},机号是{i['tel']}\")\n",
    "            break\n",
    "    else:\n",
    "        print('该学员不存在')\n",
    "    print(info)\n",
    "def print_all():\n",
    "    print('学号\\t姓名\\ty手机号')\n",
    "    for i in info:\n",
    "        print(f\"{i['id']}\\t{i['name']}\\t{i['tel']}\")\n",
    "    \n",
    "while 1:\n",
    "    info_print()\n",
    "    user_num=int(input('请输入功能序号:'))\n",
    "    if user_num == 1:\n",
    "        add_info()\n",
    "    elif user_num ==2:\n",
    "        del_info()\n",
    "    elif user_num ==3:\n",
    "        modify_info()\n",
    "    elif user_num ==4:\n",
    "        search_info()\n",
    "    elif user_num ==5:\n",
    "        print_all()\n",
    "    elif user_num ==6:\n",
    "#         exit_flag = input('确定要退出吗? yes or no')\n",
    "#         if exit_flag == 'yes':\n",
    "            break\n",
    "    else:\n",
    "        print('输入的功能序号有误')"
   ]
  },
  {
   "cell_type": "code",
   "execution_count": 3,
   "metadata": {},
   "outputs": [
    {
     "data": {
      "text/plain": [
       "6"
      ]
     },
     "execution_count": 3,
     "metadata": {},
     "output_type": "execute_result"
    }
   ],
   "source": [
    "def sum_numbers(num):\n",
    "    if num == 1:\n",
    "        return 1\n",
    "    return num+sum_numbers(num-1)\n",
    "re = sum_numbers(3)\n",
    "re"
   ]
  },
  {
   "cell_type": "code",
   "execution_count": null,
   "metadata": {},
   "outputs": [],
   "source": []
  }
 ],
 "metadata": {
  "kernelspec": {
   "display_name": "Python 3",
   "language": "python",
   "name": "python3"
  },
  "language_info": {
   "codemirror_mode": {
    "name": "ipython",
    "version": 3
   },
   "file_extension": ".py",
   "mimetype": "text/x-python",
   "name": "python",
   "nbconvert_exporter": "python",
   "pygments_lexer": "ipython3",
   "version": "3.8.5"
  },
  "toc": {
   "base_numbering": 1,
   "nav_menu": {},
   "number_sections": true,
   "sideBar": true,
   "skip_h1_title": false,
   "title_cell": "Table of Contents",
   "title_sidebar": "Contents",
   "toc_cell": false,
   "toc_position": {},
   "toc_section_display": true,
   "toc_window_display": false
  }
 },
 "nbformat": 4,
 "nbformat_minor": 4
}
