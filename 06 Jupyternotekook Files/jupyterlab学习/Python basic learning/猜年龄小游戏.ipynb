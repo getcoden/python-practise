{
 "cells": [
  {
   "cell_type": "code",
   "execution_count": 1,
   "metadata": {
    "collapsed": true
   },
   "outputs": [
    {
     "name": "stdout",
     "output_type": "stream",
     "text": [
      "猜猜我今年几岁了？24\n",
      "对不起，猜大了哦\n",
      "猜猜我今年几岁了？12\n",
      "对不起，猜大了哦\n",
      "猜猜我今年几岁了？10\n",
      "对不起，猜大了哦\n",
      "您已经答错3次了，请问您是否愿意继续？y\n",
      "请您继续\n",
      "猜猜我今年几岁了？6\n",
      "对不起，猜大了哦\n",
      "猜猜我今年几岁了？5\n",
      "对不起，猜大了哦\n",
      "猜猜我今年几岁了？5\n",
      "对不起，猜大了哦\n",
      "您已经答错3次了，请问您是否愿意继续？y\n",
      "请您继续\n",
      "猜猜我今年几岁了？1\n",
      "对不起，猜小了喔\n",
      "猜猜我今年几岁了？2\n",
      "对不起，猜小了喔\n",
      "猜猜我今年几岁了？3\n",
      "恭喜你，答对了\n"
     ]
    }
   ],
   "source": [
    "import random  #产生随机模块random\n",
    "age=int(random.randint(1,30))\n",
    "GameOver=0\n",
    "for a in range(999):\n",
    "    for i in range(3):\n",
    "        try:\n",
    "            ages = int(input('猜猜我今年几岁了？'))\n",
    "            if age == ages:\n",
    "                print('恭喜你，答对了')\n",
    "                break\n",
    "            elif ages > age:\n",
    "                print('对不起，猜大了哦')\n",
    "                continue\n",
    "            elif ages < age:\n",
    "                print('对不起，猜小了喔')\n",
    "                continue\n",
    "            else:\n",
    "                print('信息识别错误')\n",
    "        except ValueError:\n",
    "            print('信息识别错误,输入数字')\n",
    "    if age == ages:\n",
    "        break\n",
    "    else:\n",
    "      for b in range(999):\n",
    "         change=input('您已经答错3次了，请问您是否愿意继续？')\n",
    "         if change=='Y' or change=='y':\n",
    "                print('请您继续')\n",
    "                break\n",
    "         elif change=='N' or change=='n':\n",
    "             GameOver=1\n",
    "             break\n",
    "         else:\n",
    "            print('输入信息错误，，请重新输入')\n",
    "            continue\n",
    "    if GameOver==1:\n",
    "          print('游戏结束')\n",
    "          break"
   ]
  },
  {
   "cell_type": "code",
   "execution_count": 2,
   "metadata": {
    "collapsed": true
   },
   "outputs": [
    {
     "name": "stdout",
     "output_type": "stream",
     "text": [
      "猜猜我今年几岁了？3\n",
      "对不起，猜小了喔\n",
      "猜猜我今年几岁了？6\n",
      "对不起，猜小了喔\n",
      "猜猜我今年几岁了？9\n",
      "对不起，猜小了喔\n",
      "您已经答错3次了，请问您是否愿意继续？12\n",
      "输入信息错误，，请重新输入\n",
      "您已经答错3次了，请问您是否愿意继续？y\n",
      "请您继续\n",
      "猜猜我今年几岁了？25\n",
      "对不起，猜大了哦\n",
      "猜猜我今年几岁了？22\n",
      "对不起，猜大了哦\n",
      "猜猜我今年几岁了？20\n",
      "对不起，猜大了哦\n",
      "您已经答错3次了，请问您是否愿意继续？y\n",
      "请您继续\n",
      "猜猜我今年几岁了？3\n",
      "对不起，猜小了喔\n",
      "猜猜我今年几岁了？8\n",
      "对不起，猜小了喔\n",
      "猜猜我今年几岁了？9\n",
      "对不起，猜小了喔\n",
      "您已经答错3次了，请问您是否愿意继续？y\n",
      "请您继续\n",
      "猜猜我今年几岁了？kk\n"
     ]
    },
    {
     "ename": "ValueError",
     "evalue": "invalid literal for int() with base 10: 'kk'",
     "output_type": "error",
     "traceback": [
      "\u001b[1;31m---------------------------------------------------------------------------\u001b[0m",
      "\u001b[1;31mValueError\u001b[0m                                Traceback (most recent call last)",
      "\u001b[1;32m<ipython-input-2-37404c8e387d>\u001b[0m in \u001b[0;36m<module>\u001b[1;34m\u001b[0m\n\u001b[0;32m      4\u001b[0m \u001b[1;32mfor\u001b[0m \u001b[0ma\u001b[0m \u001b[1;32min\u001b[0m \u001b[0mrange\u001b[0m\u001b[1;33m(\u001b[0m\u001b[1;36m999\u001b[0m\u001b[1;33m)\u001b[0m\u001b[1;33m:\u001b[0m\u001b[1;33m\u001b[0m\u001b[1;33m\u001b[0m\u001b[0m\n\u001b[0;32m      5\u001b[0m     \u001b[1;32mfor\u001b[0m \u001b[0mi\u001b[0m \u001b[1;32min\u001b[0m \u001b[0mrange\u001b[0m\u001b[1;33m(\u001b[0m\u001b[1;36m3\u001b[0m\u001b[1;33m)\u001b[0m\u001b[1;33m:\u001b[0m\u001b[1;33m\u001b[0m\u001b[1;33m\u001b[0m\u001b[0m\n\u001b[1;32m----> 6\u001b[1;33m         \u001b[0mages\u001b[0m \u001b[1;33m=\u001b[0m \u001b[0mint\u001b[0m\u001b[1;33m(\u001b[0m\u001b[0minput\u001b[0m\u001b[1;33m(\u001b[0m\u001b[1;34m'猜猜我今年几岁了？'\u001b[0m\u001b[1;33m)\u001b[0m\u001b[1;33m)\u001b[0m\u001b[1;33m\u001b[0m\u001b[1;33m\u001b[0m\u001b[0m\n\u001b[0m\u001b[0;32m      7\u001b[0m         \u001b[1;32mif\u001b[0m \u001b[0mage\u001b[0m \u001b[1;33m==\u001b[0m \u001b[0mages\u001b[0m\u001b[1;33m:\u001b[0m\u001b[1;33m\u001b[0m\u001b[1;33m\u001b[0m\u001b[0m\n\u001b[0;32m      8\u001b[0m             \u001b[0mprint\u001b[0m\u001b[1;33m(\u001b[0m\u001b[1;34m'恭喜你，答对了'\u001b[0m\u001b[1;33m)\u001b[0m\u001b[1;33m\u001b[0m\u001b[1;33m\u001b[0m\u001b[0m\n",
      "\u001b[1;31mValueError\u001b[0m: invalid literal for int() with base 10: 'kk'"
     ]
    }
   ],
   "source": [
    "import random  #产生随机模块random\n",
    "age=int(random.randint(1,30))\n",
    "GameOver=0\n",
    "for a in range(999):\n",
    "    for i in range(3):\n",
    "        ages = int(input('猜猜我今年几岁了？'))\n",
    "        if age == ages:\n",
    "            print('恭喜你，答对了')\n",
    "            break\n",
    "            pass\n",
    "        elif ages > age :\n",
    "            print('对不起，猜大了哦')\n",
    "            continue\n",
    "        elif ages < age :\n",
    "            print('对不起，猜小了喔')\n",
    "            continue\n",
    "        else:\n",
    "            print('信息识别错误')\n",
    "    if age == ages:\n",
    "        break\n",
    "    else:\n",
    "      for b in range(999):\n",
    "         change=input('您已经答错3次了，请问您是否愿意继续？')\n",
    "         if change=='Y' or change=='y':\n",
    "                print('请您继续')\n",
    "                break\n",
    "         elif change=='N' or change=='n':\n",
    "             GameOver=1\n",
    "             break\n",
    "         else:\n",
    "            print('输入信息错误，，请重新输入')\n",
    "            continue\n",
    "    if GameOver==1:\n",
    "          print('游戏结束')\n",
    "          break"
   ]
  },
  {
   "cell_type": "code",
   "execution_count": null,
   "metadata": {},
   "outputs": [],
   "source": []
  }
 ],
 "metadata": {
  "kernelspec": {
   "display_name": "Python 3",
   "language": "python",
   "name": "python3"
  },
  "language_info": {
   "codemirror_mode": {
    "name": "ipython",
    "version": 3
   },
   "file_extension": ".py",
   "mimetype": "text/x-python",
   "name": "python",
   "nbconvert_exporter": "python",
   "pygments_lexer": "ipython3",
   "version": "3.8.5"
  },
  "toc": {
   "base_numbering": 1,
   "nav_menu": {},
   "number_sections": true,
   "sideBar": true,
   "skip_h1_title": false,
   "title_cell": "Table of Contents",
   "title_sidebar": "Contents",
   "toc_cell": false,
   "toc_position": {},
   "toc_section_display": true,
   "toc_window_display": false
  }
 },
 "nbformat": 4,
 "nbformat_minor": 4
}
