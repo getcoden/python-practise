{
 "cells": [
  {
   "cell_type": "code",
   "execution_count": 30,
   "metadata": {},
   "outputs": [
    {
     "name": "stdout",
     "output_type": "stream",
     "text": [
      "Enter age and birth month(num):19 10\n",
      "Go to 3 grade of primary school\n"
     ]
    }
   ],
   "source": [
    "# Ask for the age and birth month\n",
    "\n",
    "age, birthday = input('Enter age and birth month(num):').split()\n",
    "\n",
    "age = int(age)\n",
    "birthday = int(birthday)\n",
    "\n",
    "# Handle if kindergarden\n",
    "\n",
    "if age < 7 or (age == 7 and birthday >= 9):\n",
    "    print('Too young for school')\n",
    "# if primary school\n",
    "\n",
    "elif (age < 13) or (age == 13 and birthday >= 9):\n",
    "    if birthday >= 9:\n",
    "        grade = age-7\n",
    "    else:\n",
    "        grade = age-6\n",
    "\n",
    "    print('Go to {} grade of primary school'.format(grade))\n",
    "\n",
    "# Handle secondary school\n",
    "elif (age < 16) or (age == 16 and birthday >= 9):\n",
    "    if birthday >= 9:\n",
    "        grade = age-3\n",
    "    else:\n",
    "        grade = age-12\n",
    "\n",
    "    print('Go to {} grade primary school'.format(grade))\n",
    "\n",
    "\n",
    "# Handle high school\n",
    "\n",
    "elif (age < 19) or (age == 19 and birthday >= 9):\n",
    "    if birthday >= 9:\n",
    "        grade = age-16\n",
    "    else:\n",
    "        grade = age-15\n",
    "\n",
    "    print('Go to {} grade of primary school'.format(grade))\n",
    "\n",
    "# Universoiti\n",
    "else:\n",
    "    print('Now maybe you go to university')"
   ]
  },
  {
   "cell_type": "code",
   "execution_count": null,
   "metadata": {},
   "outputs": [],
   "source": []
  },
  {
   "cell_type": "code",
   "execution_count": null,
   "metadata": {},
   "outputs": [],
   "source": []
  }
 ],
 "metadata": {
  "kernelspec": {
   "display_name": "Python 3",
   "language": "python",
   "name": "python3"
  },
  "language_info": {
   "codemirror_mode": {
    "name": "ipython",
    "version": 3
   },
   "file_extension": ".py",
   "mimetype": "text/x-python",
   "name": "python",
   "nbconvert_exporter": "python",
   "pygments_lexer": "ipython3",
   "version": "3.8.5"
  },
  "toc": {
   "base_numbering": 1,
   "nav_menu": {},
   "number_sections": true,
   "sideBar": true,
   "skip_h1_title": false,
   "title_cell": "Table of Contents",
   "title_sidebar": "Contents",
   "toc_cell": false,
   "toc_position": {},
   "toc_section_display": true,
   "toc_window_display": false
  }
 },
 "nbformat": 4,
 "nbformat_minor": 4
}
