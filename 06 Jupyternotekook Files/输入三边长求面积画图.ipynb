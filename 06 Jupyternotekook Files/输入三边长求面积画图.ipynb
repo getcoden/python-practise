{
 "cells": [
  {
   "cell_type": "code",
   "execution_count": 4,
   "metadata": {},
   "outputs": [
    {
     "name": "stdin",
     "output_type": "stream",
     "text": [
      "输入三条边长并用空格隔开: 3 4 5\n"
     ]
    },
    {
     "name": "stdout",
     "output_type": "stream",
     "text": [
      "三角形面积为:6.0000\n"
     ]
    },
    {
     "data": {
      "image/png": "[encoded data removed]",
      "text/plain": [
       "<Figure size 288x216 with 1 Axes>"
      ]
     },
     "metadata": {
      "needs_background": "light"
     },
     "output_type": "display_data"
    }
   ],
   "source": [
    "# %matplotlib inline\n",
    "# 建议在jupyterlab中运行\n",
    " \n",
    "import math\n",
    "import numpy as np\n",
    "import matplotlib.pyplot as plt\n",
    " \n",
    "def judge(lines):\n",
    "  \"\"\"判断是否能组成三角形\"\"\"\n",
    "  flag = 0\n",
    "  for i in range(3):\n",
    "    l1 = lines.copy() # 要copy，不然会对源进行修改\n",
    "    r = l1.pop(i) # r被取出，l1剩余俩\n",
    "    if (r>=sum(l1)):\n",
    "      print(\"输入的边长无法构成三角形\")\n",
    "      break\n",
    "    else:\n",
    "      flag += 1\n",
    "      continue\n",
    "  if flag==3:\n",
    "    return True\n",
    "  else:\n",
    "    return False\n",
    " \n",
    "def plot_triangle():\n",
    "  lines = input(\"输入三条边长并用空格隔开:\")\n",
    "  params = lines.split(\" \")\n",
    "  lines = list(map(lambda x:float(x),params))\n",
    "  if judge(lines):\n",
    "    p = sum(lines)/2\n",
    "    a,b,c = lines\n",
    "    area = math.sqrt(p*(p-a)*(p-b)*(p-c))\n",
    "    width = max(lines)\n",
    "    height = area/width*2\n",
    "    # 计算角度\n",
    "    lines = [a,b,c]\n",
    "    idx_A = np.argmax(lines)\n",
    "    A = lines.pop(idx_A)\n",
    "    # 最长边作为底部边长，最左侧与坐标轴原点对齐\n",
    "    B,C = lines\n",
    "    # 根据三边长求两个水平夹角角度\n",
    "    cos_C = (A**2+B**2-C**2)/(2*A*B)\n",
    "    cos_B = (A**2+C**2-B**2)/(2*A*C)\n",
    "    # 根据余弦值求得正切值\n",
    "    k_C = math.tan(math.acos(cos_C))\n",
    "    k_B = math.tan(math.acos(cos_B))\n",
    "    # 根据正切值和高，获得边长\n",
    "    w_C = height/k_C\n",
    "    w_B = height/k_B\n",
    "    # 确定三个顶点的坐标\n",
    "    loc_A = (0,height)\n",
    "    loc_B = (-w_B,0)\n",
    "    loc_C = (w_C,0)\n",
    "    plt.figure(figsize=(4,3))\n",
    "    plt.plot([0,-w_B,w_C,0],[height,0,0,height],\"gray\")\n",
    "    plt.plot([0,0],[0,height],\"r--\")\n",
    "    plt.text(1,height/2,\"h=%.1f\"%(height),color=\"blue\",fontsize=12)\n",
    "    ax = plt.gca()\n",
    "    ax.set_aspect(1) # 保证两条坐标轴scale一致\n",
    "    plt.axis('off') # 关闭显示直角坐标系\n",
    "    plt.savefig(\"./trianle.png\",dpi=300)\n",
    "    print(\"三角形面积为:%.4f\"%(area))\n",
    " \n",
    "if __name__==\"__main__\":\n",
    "  plot_triangle()"
   ]
  },
  {
   "cell_type": "code",
   "execution_count": null,
   "metadata": {},
   "outputs": [],
   "source": []
  }
 ],
 "metadata": {
  "kernelspec": {
   "display_name": "Python 3",
   "language": "python",
   "name": "python3"
  },
  "language_info": {
   "codemirror_mode": {
    "name": "ipython",
    "version": 3
   },
   "file_extension": ".py",
   "mimetype": "text/x-python",
   "name": "python",
   "nbconvert_exporter": "python",
   "pygments_lexer": "ipython3",
   "version": "3.8.5"
  }
 },
 "nbformat": 4,
 "nbformat_minor": 4
}
