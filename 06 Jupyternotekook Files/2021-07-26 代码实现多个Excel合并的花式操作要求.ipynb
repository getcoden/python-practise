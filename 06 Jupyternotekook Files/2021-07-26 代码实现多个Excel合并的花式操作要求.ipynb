{
 "cells": [
  {
   "cell_type": "code",
   "execution_count": null,
   "metadata": {},
   "outputs": [],
   "source": [
    "# 一、合并指定目录下的所有订单表\n",
    "\n",
    "import pandas as pd\n",
    "from pathlib import Path\n",
    "\n",
    "files = Path(\"orders/orders1\").glob(\"*.xlsx\")\n",
    "dfs = [pd.read_excel(f) for f in files]\n",
    "df = pd.concat(dfs)\n",
    "df.to_excel(\"result2.xlsx\",index = False)"
   ]
  },
  {
   "cell_type": "code",
   "execution_count": null,
   "metadata": {},
   "outputs": [],
   "source": [
    "# 二、合并指定目录下的指定订单表\n",
    "\n",
    "dfs = [pd.read_excel(f) for f in ('orders/orders1/order1.xlsx','orders/orders1/order2.xlsx')]\n",
    "df = pd.concat(dfs)\n",
    "df.to_excel(\"result3.xlsx\",index = False)"
   ]
  },
  {
   "cell_type": "code",
   "execution_count": null,
   "metadata": {},
   "outputs": [],
   "source": [
    "# 三、合并指定目录指定订单表的指定字段\n",
    "\n",
    "table1 = pd.read_excel(\"orders/orders1/order1.xlsx\")\n",
    "table2 = pd.read_excel('orders/orders1/order2.xlsx')\n",
    "part1 = table1.iloc[:,2]  #取order1.xlsx第3列的所有行\n",
    "part2 = table2.iloc[:,[8,9]]  #取order2.xlsx的第9、10列的所有行\n",
    "result4 = pd.concat([part1,part2],axis = 1 ) #合并  \n",
    "\n",
    "# 以上注意axis=1表示横向合并。打印一下result4，长这样"
   ]
  },
  {
   "cell_type": "code",
   "execution_count": null,
   "metadata": {},
   "outputs": [],
   "source": [
    "# 四、合并所有目录下的所有订单表\n",
    "\n",
    "import pandas as pd\n",
    "import os\n",
    "file_list = os.walk(\"./\")\n",
    "result = []\n",
    "\n",
    "for dir_path,dirs,files in file_list:\n",
    "    for f in files:\n",
    "        file_path = os.path.join(dir_path,f) #重构文件路径\n",
    "        print(file_path)\n",
    "        if 'xlsx' in f:    #只要xlsx文件\n",
    "            df = pd.read_excel(file_path) #将Excel转成DataFrame\n",
    "            result.append(df)\n",
    "print(result)\n",
    "\n",
    "df = pd.concat(result) #多个DataFrame合成一个\n",
    "df.to_excel(\"result4.xlsx\",index=False) #导入到一个新的Excel中"
   ]
  }
 ],
 "metadata": {
  "kernelspec": {
   "display_name": "Python 3",
   "language": "python",
   "name": "python3"
  },
  "language_info": {
   "codemirror_mode": {
    "name": "ipython",
    "version": 3
   },
   "file_extension": ".py",
   "mimetype": "text/x-python",
   "name": "python",
   "nbconvert_exporter": "python",
   "pygments_lexer": "ipython3",
   "version": "3.8.5"
  },
  "toc": {
   "base_numbering": 1,
   "nav_menu": {},
   "number_sections": true,
   "sideBar": true,
   "skip_h1_title": false,
   "title_cell": "Table of Contents",
   "title_sidebar": "Contents",
   "toc_cell": false,
   "toc_position": {},
   "toc_section_display": true,
   "toc_window_display": false
  }
 },
 "nbformat": 4,
 "nbformat_minor": 4
}
